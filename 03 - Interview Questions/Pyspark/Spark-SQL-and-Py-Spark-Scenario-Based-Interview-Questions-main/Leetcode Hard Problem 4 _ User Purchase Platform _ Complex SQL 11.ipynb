{
 "cells": [
  {
   "cell_type": "markdown",
   "metadata": {
    "application/vnd.databricks.v1+cell": {
     "cellMetadata": {},
     "inputWidgets": {},
     "nuid": "137b16f1-7d47-4247-b35a-c424bae6157e",
     "showTitle": false,
     "title": ""
    }
   },
   "source": [
    "###Problem Statement\n",
    "The table logs the spendings history of users that make purchases from an online shopping website which has a desktop and a mobile application.\n",
    "(user_id, spend_date, platform) is the primary key of this table.\n",
    "The platform column is an ENUM type of ('desktop', 'mobile').\n",
    "Write an SQL query to find the total number of users and the total amount spent using mobile only, desktop only and both mobile and desktop together for each date.\n"
   ]
  },
  {
   "cell_type": "markdown",
   "metadata": {
    "application/vnd.databricks.v1+cell": {
     "cellMetadata": {},
     "inputWidgets": {},
     "nuid": "122b3997-0965-4588-8309-13f1cd45f04a",
     "showTitle": false,
     "title": ""
    }
   },
   "source": [
    "###Pyspark"
   ]
  },
  {
   "cell_type": "code",
   "execution_count": 0,
   "metadata": {
    "application/vnd.databricks.v1+cell": {
     "cellMetadata": {
      "byteLimit": 2048000,
      "rowLimit": 10000
     },
     "inputWidgets": {},
     "nuid": "56402360-a710-4023-abb6-ddaf4a28b258",
     "showTitle": false,
     "title": ""
    }
   },
   "outputs": [
    {
     "output_type": "display_data",
     "data": {
      "text/html": [
       "<style scoped>\n",
       "  .table-result-container {\n",
       "    max-height: 300px;\n",
       "    overflow: auto;\n",
       "  }\n",
       "  table, th, td {\n",
       "    border: 1px solid black;\n",
       "    border-collapse: collapse;\n",
       "  }\n",
       "  th, td {\n",
       "    padding: 5px;\n",
       "  }\n",
       "  th {\n",
       "    text-align: left;\n",
       "  }\n",
       "</style><div class='table-result-container'><table class='table-result'><thead style='background-color: white'><tr><th>spend_date</th><th>new_platform</th><th>total_amount</th><th>no_of_users</th></tr></thead><tbody><tr><td>2019-07-01</td><td>both</td><td>200</td><td>1</td></tr><tr><td>2019-07-01</td><td>desktop</td><td>100</td><td>1</td></tr><tr><td>2019-07-01</td><td>mobile</td><td>100</td><td>1</td></tr><tr><td>2019-07-02</td><td>both</td><td>0</td><td>0</td></tr><tr><td>2019-07-02</td><td>desktop</td><td>100</td><td>1</td></tr><tr><td>2019-07-02</td><td>mobile</td><td>100</td><td>1</td></tr></tbody></table></div>"
      ]
     },
     "metadata": {
      "application/vnd.databricks.v1+output": {
       "addedWidgets": {},
       "aggData": [],
       "aggError": "",
       "aggOverflow": false,
       "aggSchema": [],
       "aggSeriesLimitReached": false,
       "aggType": "",
       "arguments": {},
       "columnCustomDisplayInfos": {},
       "data": [
        [
         "2019-07-01",
         "both",
         200,
         1
        ],
        [
         "2019-07-01",
         "desktop",
         100,
         1
        ],
        [
         "2019-07-01",
         "mobile",
         100,
         1
        ],
        [
         "2019-07-02",
         "both",
         0,
         0
        ],
        [
         "2019-07-02",
         "desktop",
         100,
         1
        ],
        [
         "2019-07-02",
         "mobile",
         100,
         1
        ]
       ],
       "datasetInfos": [],
       "dbfsResultPath": null,
       "isJsonSchema": true,
       "metadata": {},
       "overflow": false,
       "plotOptions": {
        "customPlotOptions": {},
        "displayType": "table",
        "pivotAggregation": null,
        "pivotColumns": null,
        "xColumns": null,
        "yColumns": null
       },
       "removedWidgets": [],
       "schema": [
        {
         "metadata": "{}",
         "name": "spend_date",
         "type": "\"date\""
        },
        {
         "metadata": "{}",
         "name": "new_platform",
         "type": "\"string\""
        },
        {
         "metadata": "{}",
         "name": "total_amount",
         "type": "\"long\""
        },
        {
         "metadata": "{}",
         "name": "no_of_users",
         "type": "\"long\""
        }
       ],
       "type": "table"
      }
     },
     "output_type": "display_data"
    }
   ],
   "source": [
    "from pyspark.sql import SparkSession\n",
    "from pyspark.sql.functions import col, when, sum, countDistinct\n",
    "\n",
    "# Fill in missing combinations with zero values\n",
    "from pyspark.sql import DataFrame\n",
    "from pyspark.sql import functions as F\n",
    "from itertools import product\n",
    "\n",
    "# Create a Spark session\n",
    "spark = SparkSession.builder.appName(\"SpendingData\").getOrCreate()\n",
    "\n",
    "# Define the schema\n",
    "schema = [\"user_id\", \"spend_date\", \"platform\", \"amount\"]\n",
    "\n",
    "# Create the data\n",
    "data = [\n",
    "    (1, \"2019-07-01\", \"mobile\", 100),\n",
    "    (1, \"2019-07-01\", \"desktop\", 100),\n",
    "    (2, \"2019-07-01\", \"mobile\", 100),\n",
    "    (2, \"2019-07-02\", \"mobile\", 100),\n",
    "    (3, \"2019-07-01\", \"desktop\", 100),\n",
    "    (3, \"2019-07-02\", \"desktop\", 100),\n",
    "]\n",
    "\n",
    "# Create a DataFrame\n",
    "df = spark.createDataFrame(data, schema)\n",
    "\n",
    "# Convert spend_date to datetime format\n",
    "df = df.withColumn(\"spend_date\", to_date(df.spend_date, \"yyyy-MM-dd\"))\n",
    "\n",
    "# Identify users using both platforms on the same day\n",
    "df_both = df.groupBy(\"user_id\", \"spend_date\").agg(\n",
    "    countDistinct(\"platform\").alias(\"platform_count\")\n",
    ")\n",
    "df_both = df_both.withColumn(\n",
    "    \"new_platform\", when(col(\"platform_count\") == 2, \"both\").otherwise(\"single\")\n",
    ")\n",
    "\n",
    "# Join the original DataFrame with the df_both DataFrame to get the new_platform column\n",
    "df = df.join(\n",
    "    df_both.select(\"user_id\", \"spend_date\", \"new_platform\"),\n",
    "    on=[\"user_id\", \"spend_date\"],\n",
    "    how=\"left\",\n",
    ")\n",
    "\n",
    "# Assign 'mobile' or 'desktop' to new_platform for single platform users\n",
    "df = df.withColumn(\n",
    "    \"new_platform\",\n",
    "    when(col(\"new_platform\") == \"single\", col(\"platform\")).otherwise(\n",
    "        col(\"new_platform\")\n",
    "    ),\n",
    ")\n",
    "\n",
    "# Aggregate the data\n",
    "result_df = df.groupBy(\"spend_date\", \"new_platform\").agg(\n",
    "    sum(\"amount\").alias(\"total_amount\"), countDistinct(\"user_id\").alias(\"no_of_users\")\n",
    ")\n",
    "\n",
    "# Create a DataFrame with all possible combinations of spend_date and new_platform\n",
    "dates = df.select(\"spend_date\").distinct().rdd.flatMap(lambda x: x).collect()\n",
    "platforms = [\"both\", \"desktop\", \"mobile\"]\n",
    "all_combinations = spark.createDataFrame(\n",
    "    [(date, platform) for date, platform in product(dates, platforms)],\n",
    "    [\"spend_date\", \"new_platform\"],\n",
    ")\n",
    "\n",
    "# Join the result with all_combinations DataFrame to fill missing combinations\n",
    "final_df = all_combinations.join(\n",
    "    result_df, on=[\"spend_date\", \"new_platform\"], how=\"left\"\n",
    ").fillna(0)\n",
    "\n",
    "# Show the final result\n",
    "final_df.orderBy(\"spend_date\", \"new_platform\").display()"
   ]
  },
  {
   "cell_type": "markdown",
   "metadata": {
    "application/vnd.databricks.v1+cell": {
     "cellMetadata": {},
     "inputWidgets": {},
     "nuid": "dfd0e55a-3b36-4d3c-8936-2e613ce02434",
     "showTitle": false,
     "title": ""
    }
   },
   "source": [
    "###Saprk SQL"
   ]
  },
  {
   "cell_type": "code",
   "execution_count": 0,
   "metadata": {
    "application/vnd.databricks.v1+cell": {
     "cellMetadata": {
      "byteLimit": 2048000,
      "rowLimit": 10000
     },
     "inputWidgets": {},
     "nuid": "cde21715-c202-4141-99f8-00d616064c5d",
     "showTitle": false,
     "title": ""
    }
   },
   "outputs": [
    {
     "output_type": "display_data",
     "data": {
      "text/html": [
       "<style scoped>\n",
       "  .table-result-container {\n",
       "    max-height: 300px;\n",
       "    overflow: auto;\n",
       "  }\n",
       "  table, th, td {\n",
       "    border: 1px solid black;\n",
       "    border-collapse: collapse;\n",
       "  }\n",
       "  th, td {\n",
       "    padding: 5px;\n",
       "  }\n",
       "  th {\n",
       "    text-align: left;\n",
       "  }\n",
       "</style><div class='table-result-container'><table class='table-result'><thead style='background-color: white'><tr><th>user_id</th><th>spend_date</th><th>platform</th><th>amount</th></tr></thead><tbody><tr><td>1</td><td>2019-07-01</td><td>mobile</td><td>100</td></tr><tr><td>1</td><td>2019-07-01</td><td>desktop</td><td>100</td></tr><tr><td>2</td><td>2019-07-01</td><td>mobile</td><td>100</td></tr><tr><td>2</td><td>2019-07-02</td><td>mobile</td><td>100</td></tr><tr><td>3</td><td>2019-07-01</td><td>desktop</td><td>100</td></tr><tr><td>3</td><td>2019-07-02</td><td>desktop</td><td>100</td></tr></tbody></table></div>"
      ]
     },
     "metadata": {
      "application/vnd.databricks.v1+output": {
       "addedWidgets": {},
       "aggData": [],
       "aggError": "",
       "aggOverflow": false,
       "aggSchema": [],
       "aggSeriesLimitReached": false,
       "aggType": "",
       "arguments": {},
       "columnCustomDisplayInfos": {},
       "data": [
        [
         1,
         "2019-07-01",
         "mobile",
         100
        ],
        [
         1,
         "2019-07-01",
         "desktop",
         100
        ],
        [
         2,
         "2019-07-01",
         "mobile",
         100
        ],
        [
         2,
         "2019-07-02",
         "mobile",
         100
        ],
        [
         3,
         "2019-07-01",
         "desktop",
         100
        ],
        [
         3,
         "2019-07-02",
         "desktop",
         100
        ]
       ],
       "datasetInfos": [],
       "dbfsResultPath": null,
       "isJsonSchema": true,
       "metadata": {},
       "overflow": false,
       "plotOptions": {
        "customPlotOptions": {},
        "displayType": "table",
        "pivotAggregation": null,
        "pivotColumns": null,
        "xColumns": null,
        "yColumns": null
       },
       "removedWidgets": [],
       "schema": [
        {
         "metadata": "{}",
         "name": "user_id",
         "type": "\"long\""
        },
        {
         "metadata": "{}",
         "name": "spend_date",
         "type": "\"date\""
        },
        {
         "metadata": "{}",
         "name": "platform",
         "type": "\"string\""
        },
        {
         "metadata": "{}",
         "name": "amount",
         "type": "\"long\""
        }
       ],
       "type": "table"
      }
     },
     "output_type": "display_data"
    }
   ],
   "source": [
    "# Create temporary view\n",
    "df.createOrReplaceTempView(\"spending\")\n",
    "\n",
    "spark.sql(\"SELECT * FROM spending\").display()\n",
    "\n",
    "# Display the content of the table"
   ]
  },
  {
   "cell_type": "code",
   "execution_count": 0,
   "metadata": {
    "application/vnd.databricks.v1+cell": {
     "cellMetadata": {
      "byteLimit": 2048000,
      "implicitDf": true,
      "rowLimit": 10000
     },
     "inputWidgets": {},
     "nuid": "298539ad-a9a1-4e3f-b246-c4c63a95a758",
     "showTitle": false,
     "title": ""
    }
   },
   "outputs": [
    {
     "output_type": "display_data",
     "data": {
      "text/html": [
       "<style scoped>\n",
       "  .table-result-container {\n",
       "    max-height: 300px;\n",
       "    overflow: auto;\n",
       "  }\n",
       "  table, th, td {\n",
       "    border: 1px solid black;\n",
       "    border-collapse: collapse;\n",
       "  }\n",
       "  th, td {\n",
       "    padding: 5px;\n",
       "  }\n",
       "  th {\n",
       "    text-align: left;\n",
       "  }\n",
       "</style><div class='table-result-container'><table class='table-result'><thead style='background-color: white'><tr><th>spend_date</th><th>platform_used</th><th>total_amount</th><th>total_users</th></tr></thead><tbody><tr><td>2019-07-01</td><td>mobile</td><td>100</td><td>1</td></tr><tr><td>2019-07-01</td><td>desktop</td><td>100</td><td>1</td></tr><tr><td>2019-07-01</td><td>both</td><td>200</td><td>1</td></tr><tr><td>2019-07-02</td><td>mobile</td><td>100</td><td>1</td></tr><tr><td>2019-07-02</td><td>desktop</td><td>100</td><td>1</td></tr><tr><td>2019-07-02</td><td>both</td><td>0</td><td>0</td></tr></tbody></table></div>"
      ]
     },
     "metadata": {
      "application/vnd.databricks.v1+output": {
       "addedWidgets": {},
       "aggData": [],
       "aggError": "",
       "aggOverflow": false,
       "aggSchema": [],
       "aggSeriesLimitReached": false,
       "aggType": "",
       "arguments": {},
       "columnCustomDisplayInfos": {},
       "data": [
        [
         "2019-07-01",
         "mobile",
         100,
         1
        ],
        [
         "2019-07-01",
         "desktop",
         100,
         1
        ],
        [
         "2019-07-01",
         "both",
         200,
         1
        ],
        [
         "2019-07-02",
         "mobile",
         100,
         1
        ],
        [
         "2019-07-02",
         "desktop",
         100,
         1
        ],
        [
         "2019-07-02",
         "both",
         0,
         0
        ]
       ],
       "datasetInfos": [],
       "dbfsResultPath": null,
       "isJsonSchema": true,
       "metadata": {},
       "overflow": false,
       "plotOptions": {
        "customPlotOptions": {},
        "displayType": "table",
        "pivotAggregation": null,
        "pivotColumns": null,
        "xColumns": null,
        "yColumns": null
       },
       "removedWidgets": [],
       "schema": [
        {
         "metadata": "{}",
         "name": "spend_date",
         "type": "\"date\""
        },
        {
         "metadata": "{}",
         "name": "platform_used",
         "type": "\"string\""
        },
        {
         "metadata": "{}",
         "name": "total_amount",
         "type": "\"long\""
        },
        {
         "metadata": "{}",
         "name": "total_users",
         "type": "\"long\""
        }
       ],
       "type": "table"
      }
     },
     "output_type": "display_data"
    }
   ],
   "source": [
    "%sql\n",
    "with platform_track as (\n",
    "  select\n",
    "    user_id,\n",
    "    spend_date,\n",
    "    count(distinct platform) as no_of_platform_used\n",
    "  from\n",
    "    spending\n",
    "  group by\n",
    "    user_id,\n",
    "    spend_date\n",
    "),\n",
    "platform_sub as (\n",
    "  select\n",
    "    sp.spend_date,\n",
    "    sp.user_id,\n",
    "    sp.platform,\n",
    "    sp.amount,case\n",
    "      when pl.no_of_platform_used > 1 then 'both'\n",
    "      else sp.platform\n",
    "    end as platform_used\n",
    "  from\n",
    "    spending sp\n",
    "    left join platform_track pl on pl.user_id = sp.user_id\n",
    "    and pl.spend_date = sp.spend_date\n",
    "  union all\n",
    "  select\n",
    "    distinct spend_date,\n",
    "    null as user_id,\n",
    "    null as platform,\n",
    "    0 as amount,\n",
    "    'both' as platform_used\n",
    "  from\n",
    "    spending\n",
    ")\n",
    "select\n",
    "  spend_date,\n",
    "  platform_used,\n",
    "  sum(amount) as total_amount,\n",
    "  count(distinct user_id) as total_users\n",
    "from\n",
    "  platform_sub\n",
    "group by\n",
    "  platform_used,\n",
    "  spend_date\n",
    "order by\n",
    "  spend_date,\n",
    "  platform_used desc"
   ]
  }
 ],
 "metadata": {
  "application/vnd.databricks.v1+notebook": {
   "dashboards": [],
   "environmentMetadata": null,
   "language": "python",
   "notebookMetadata": {
    "mostRecentlyExecutedCommandWithImplicitDF": {
     "commandId": 1919979654895774,
     "dataframes": [
      "_sqldf"
     ]
    },
    "pythonIndentUnit": 4
   },
   "notebookName": "Leetcode Hard Problem 4 | User Purchase Platform | Complex SQL 11",
   "widgets": {}
  }
 },
 "nbformat": 4,
 "nbformat_minor": 0
}
