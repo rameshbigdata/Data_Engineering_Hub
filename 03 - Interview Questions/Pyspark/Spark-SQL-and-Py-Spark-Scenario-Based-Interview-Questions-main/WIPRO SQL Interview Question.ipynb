{
 "cells": [
  {
   "cell_type": "markdown",
   "metadata": {
    "application/vnd.databricks.v1+cell": {
     "cellMetadata": {},
     "inputWidgets": {},
     "nuid": "af4aafe9-cf72-475f-aaf3-1bd11aadfcf3",
     "showTitle": false,
     "title": ""
    }
   },
   "source": [
    "###Problem Statement: \n",
    "Find Employees with Minimum and Maximum Salaries in Each Department\n",
    "Given a dataset containing employee names, department IDs, and their corresponding salaries, the goal is to determine the following for each department:\n",
    "\n",
    "The name of the employee with the minimum salary.\n",
    "The name of the employee with the maximum salary.\n",
    "Input:\n",
    "A table or dataset containing the following columns:\n",
    "\n",
    "emp_name (String): Name of the employee.\n",
    "\n",
    "dept_id (Integer): ID of the department the employee belongs to.\n",
    "\n",
    "salary (Integer): Salary of the employee."
   ]
  },
  {
   "cell_type": "code",
   "execution_count": 0,
   "metadata": {
    "application/vnd.databricks.v1+cell": {
     "cellMetadata": {
      "byteLimit": 2048000,
      "rowLimit": 10000
     },
     "inputWidgets": {},
     "nuid": "3726eef1-9bba-435a-89cf-2a00e99ef7a0",
     "showTitle": false,
     "title": ""
    }
   },
   "outputs": [
    {
     "output_type": "display_data",
     "data": {
      "text/html": [
       "<style scoped>\n",
       "  .table-result-container {\n",
       "    max-height: 300px;\n",
       "    overflow: auto;\n",
       "  }\n",
       "  table, th, td {\n",
       "    border: 1px solid black;\n",
       "    border-collapse: collapse;\n",
       "  }\n",
       "  th, td {\n",
       "    padding: 5px;\n",
       "  }\n",
       "  th {\n",
       "    text-align: left;\n",
       "  }\n",
       "</style><div class='table-result-container'><table class='table-result'><thead style='background-color: white'><tr><th>emp_name</th><th>dept_id</th><th>salary</th></tr></thead><tbody><tr><td>Siva</td><td>1</td><td>30000</td></tr><tr><td>Ravi</td><td>2</td><td>40000</td></tr><tr><td>Prasad</td><td>1</td><td>50000</td></tr><tr><td>Sai</td><td>2</td><td>20000</td></tr><tr><td>Anna</td><td>2</td><td>10000</td></tr></tbody></table></div>"
      ]
     },
     "metadata": {
      "application/vnd.databricks.v1+output": {
       "addedWidgets": {},
       "aggData": [],
       "aggError": "",
       "aggOverflow": false,
       "aggSchema": [],
       "aggSeriesLimitReached": false,
       "aggType": "",
       "arguments": {},
       "columnCustomDisplayInfos": {},
       "data": [
        [
         "Siva",
         1,
         30000
        ],
        [
         "Ravi",
         2,
         40000
        ],
        [
         "Prasad",
         1,
         50000
        ],
        [
         "Sai",
         2,
         20000
        ],
        [
         "Anna",
         2,
         10000
        ]
       ],
       "datasetInfos": [],
       "dbfsResultPath": null,
       "isJsonSchema": true,
       "metadata": {},
       "overflow": false,
       "plotOptions": {
        "customPlotOptions": {},
        "displayType": "table",
        "pivotAggregation": null,
        "pivotColumns": null,
        "xColumns": null,
        "yColumns": null
       },
       "removedWidgets": [],
       "schema": [
        {
         "metadata": "{}",
         "name": "emp_name",
         "type": "\"string\""
        },
        {
         "metadata": "{}",
         "name": "dept_id",
         "type": "\"integer\""
        },
        {
         "metadata": "{}",
         "name": "salary",
         "type": "\"integer\""
        }
       ],
       "type": "table"
      }
     },
     "output_type": "display_data"
    }
   ],
   "source": [
    "from pyspark.sql import SparkSession\n",
    "from pyspark.sql.types import StructType, StructField, StringType, IntegerType\n",
    "from pyspark.sql import functions as F\n",
    "from pyspark.sql import Window\n",
    "\n",
    "# Create Spark session\n",
    "spark = SparkSession.builder.appName(\"CreateTableExample\").getOrCreate()\n",
    "\n",
    "# Define schema\n",
    "schema = StructType([\n",
    "    StructField(\"emp_name\", StringType(), True),\n",
    "    StructField(\"dept_id\", IntegerType(), True),\n",
    "    StructField(\"salary\", IntegerType(), True)\n",
    "])\n",
    "\n",
    "# Create DataFrame with data\n",
    "data = [\n",
    "    (\"Siva\", 1, 30000),\n",
    "    (\"Ravi\", 2, 40000),\n",
    "    (\"Prasad\", 1, 50000),\n",
    "    (\"Sai\", 2, 20000),\n",
    "    (\"Anna\", 2, 10000)\n",
    "]\n",
    "\n",
    "emps_df = spark.createDataFrame(data, schema)\n",
    "\n",
    "# Show the DataFrame content\n",
    "emps_df.display()\n",
    "\n"
   ]
  },
  {
   "cell_type": "code",
   "execution_count": 0,
   "metadata": {
    "application/vnd.databricks.v1+cell": {
     "cellMetadata": {
      "byteLimit": 2048000,
      "rowLimit": 10000
     },
     "inputWidgets": {},
     "nuid": "0da13407-974c-47c8-8806-7c8d3889a99d",
     "showTitle": false,
     "title": ""
    }
   },
   "outputs": [],
   "source": [
    "emps_df.createOrReplaceTempView('emps_wipro')"
   ]
  },
  {
   "cell_type": "markdown",
   "metadata": {
    "application/vnd.databricks.v1+cell": {
     "cellMetadata": {},
     "inputWidgets": {},
     "nuid": "99b1a20a-ea57-403f-9add-97dcf0ea1a62",
     "showTitle": false,
     "title": ""
    }
   },
   "source": [
    "#Spark SQL"
   ]
  },
  {
   "cell_type": "code",
   "execution_count": 0,
   "metadata": {
    "application/vnd.databricks.v1+cell": {
     "cellMetadata": {
      "byteLimit": 2048000,
      "implicitDf": true,
      "rowLimit": 10000
     },
     "inputWidgets": {},
     "nuid": "0bf4ed58-f3e6-4d0c-a3a8-fbd97cc85d2d",
     "showTitle": false,
     "title": ""
    }
   },
   "outputs": [
    {
     "output_type": "display_data",
     "data": {
      "text/html": [
       "<style scoped>\n",
       "  .table-result-container {\n",
       "    max-height: 300px;\n",
       "    overflow: auto;\n",
       "  }\n",
       "  table, th, td {\n",
       "    border: 1px solid black;\n",
       "    border-collapse: collapse;\n",
       "  }\n",
       "  th, td {\n",
       "    padding: 5px;\n",
       "  }\n",
       "  th {\n",
       "    text-align: left;\n",
       "  }\n",
       "</style><div class='table-result-container'><table class='table-result'><thead style='background-color: white'><tr><th>dept_id</th><th>min_sal_empname</th><th>max_sal_empname</th></tr></thead><tbody><tr><td>1</td><td>Siva</td><td>Prasad</td></tr><tr><td>2</td><td>Anna</td><td>Ravi</td></tr></tbody></table></div>"
      ]
     },
     "metadata": {
      "application/vnd.databricks.v1+output": {
       "addedWidgets": {},
       "aggData": [],
       "aggError": "",
       "aggOverflow": false,
       "aggSchema": [],
       "aggSeriesLimitReached": false,
       "aggType": "",
       "arguments": {},
       "columnCustomDisplayInfos": {},
       "data": [
        [
         1,
         "Siva",
         "Prasad"
        ],
        [
         2,
         "Anna",
         "Ravi"
        ]
       ],
       "datasetInfos": [],
       "dbfsResultPath": null,
       "isJsonSchema": true,
       "metadata": {},
       "overflow": false,
       "plotOptions": {
        "customPlotOptions": {},
        "displayType": "table",
        "pivotAggregation": null,
        "pivotColumns": null,
        "xColumns": null,
        "yColumns": null
       },
       "removedWidgets": [],
       "schema": [
        {
         "metadata": "{}",
         "name": "dept_id",
         "type": "\"integer\""
        },
        {
         "metadata": "{}",
         "name": "min_sal_empname",
         "type": "\"string\""
        },
        {
         "metadata": "{}",
         "name": "max_sal_empname",
         "type": "\"string\""
        }
       ],
       "type": "table"
      }
     },
     "output_type": "display_data"
    }
   ],
   "source": [
    "%sql\n",
    "with t as (\n",
    "  select\n",
    "    dept_id,\n",
    "    first_value(emp_name) over(\n",
    "      partition by dept_id\n",
    "      order by\n",
    "        salary\n",
    "    ) as min_sal_empname,\n",
    "    last_value(emp_name) over(\n",
    "      partition by dept_id\n",
    "      order by\n",
    "        salary rows between unbounded preceding\n",
    "        and unbounded following\n",
    "    ) as max_sal_empname\n",
    "  from\n",
    "    emps_wipro\n",
    ")\n",
    "select\n",
    "  distinct dept_id,\n",
    "  min_sal_empname,\n",
    "  max_sal_empname\n",
    "from\n",
    "  t;"
   ]
  },
  {
   "cell_type": "markdown",
   "metadata": {
    "application/vnd.databricks.v1+cell": {
     "cellMetadata": {},
     "inputWidgets": {},
     "nuid": "28f568fd-18be-43f0-ba6e-cb9290682473",
     "showTitle": false,
     "title": ""
    }
   },
   "source": [
    "#Pyspark"
   ]
  },
  {
   "cell_type": "code",
   "execution_count": 0,
   "metadata": {
    "application/vnd.databricks.v1+cell": {
     "cellMetadata": {
      "byteLimit": 2048000,
      "rowLimit": 10000
     },
     "inputWidgets": {},
     "nuid": "3ae0449e-7b54-4ea9-b80c-9ad8ac0b0dfa",
     "showTitle": false,
     "title": ""
    }
   },
   "outputs": [
    {
     "output_type": "display_data",
     "data": {
      "text/html": [
       "<style scoped>\n",
       "  .table-result-container {\n",
       "    max-height: 300px;\n",
       "    overflow: auto;\n",
       "  }\n",
       "  table, th, td {\n",
       "    border: 1px solid black;\n",
       "    border-collapse: collapse;\n",
       "  }\n",
       "  th, td {\n",
       "    padding: 5px;\n",
       "  }\n",
       "  th {\n",
       "    text-align: left;\n",
       "  }\n",
       "</style><div class='table-result-container'><table class='table-result'><thead style='background-color: white'><tr><th>dept_id</th><th>min_sal_empname</th><th>max_sal_empname</th></tr></thead><tbody><tr><td>1</td><td>Siva</td><td>Prasad</td></tr><tr><td>2</td><td>Anna</td><td>Ravi</td></tr></tbody></table></div>"
      ]
     },
     "metadata": {
      "application/vnd.databricks.v1+output": {
       "addedWidgets": {},
       "aggData": [],
       "aggError": "",
       "aggOverflow": false,
       "aggSchema": [],
       "aggSeriesLimitReached": false,
       "aggType": "",
       "arguments": {},
       "columnCustomDisplayInfos": {},
       "data": [
        [
         1,
         "Siva",
         "Prasad"
        ],
        [
         2,
         "Anna",
         "Ravi"
        ]
       ],
       "datasetInfos": [],
       "dbfsResultPath": null,
       "isJsonSchema": true,
       "metadata": {},
       "overflow": false,
       "plotOptions": {
        "customPlotOptions": {},
        "displayType": "table",
        "pivotAggregation": null,
        "pivotColumns": null,
        "xColumns": null,
        "yColumns": null
       },
       "removedWidgets": [],
       "schema": [
        {
         "metadata": "{}",
         "name": "dept_id",
         "type": "\"integer\""
        },
        {
         "metadata": "{}",
         "name": "min_sal_empname",
         "type": "\"string\""
        },
        {
         "metadata": "{}",
         "name": "max_sal_empname",
         "type": "\"string\""
        }
       ],
       "type": "table"
      }
     },
     "output_type": "display_data"
    }
   ],
   "source": [
    "# Create window specification partitioned by dept_id\n",
    "window_spec = Window.partitionBy(\"dept_id\").orderBy(\"salary\")\n",
    "\n",
    "# Get employee with minimum salary in each department\n",
    "min_sal_df = emps_df.withColumn(\"rank\", F.row_number().over(window_spec)) \\\n",
    "                    .filter(F.col(\"rank\") == 1) \\\n",
    "                    .select(\"dept_id\", F.col(\"emp_name\").alias(\"min_sal_empname\"))\n",
    "\n",
    "# Get employee with maximum salary in each department\n",
    "max_sal_df = emps_df.withColumn(\"rank\", F.row_number().over(window_spec.orderBy(F.col(\"salary\").desc()))) \\\n",
    "                    .filter(F.col(\"rank\") == 1) \\\n",
    "                    .select(\"dept_id\", F.col(\"emp_name\").alias(\"max_sal_empname\"))\n",
    "\n",
    "# Join the two DataFrames on dept_id\n",
    "result_df = min_sal_df.join(max_sal_df, on=\"dept_id\", how=\"inner\")\n",
    "\n",
    "# Show the result\n",
    "result_df.display()"
   ]
  }
 ],
 "metadata": {
  "application/vnd.databricks.v1+notebook": {
   "dashboards": [],
   "environmentMetadata": null,
   "language": "python",
   "notebookMetadata": {
    "mostRecentlyExecutedCommandWithImplicitDF": {
     "commandId": 1151431237307641,
     "dataframes": [
      "_sqldf"
     ]
    },
    "pythonIndentUnit": 4
   },
   "notebookName": "WIPRO SQL Interview Question",
   "widgets": {}
  }
 },
 "nbformat": 4,
 "nbformat_minor": 0
}
