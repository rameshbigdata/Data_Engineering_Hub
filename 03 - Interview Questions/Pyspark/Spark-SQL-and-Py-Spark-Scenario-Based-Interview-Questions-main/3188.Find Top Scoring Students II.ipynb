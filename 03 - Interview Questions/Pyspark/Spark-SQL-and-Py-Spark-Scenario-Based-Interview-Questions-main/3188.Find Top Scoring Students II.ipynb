{
 "cells": [
  {
   "cell_type": "markdown",
   "metadata": {
    "application/vnd.databricks.v1+cell": {
     "cellMetadata": {},
     "inputWidgets": {},
     "nuid": "19d66b03-e4ea-448b-a572-bc8ffe518a71",
     "showTitle": false,
     "title": ""
    }
   },
   "source": [
    "#Problem Statement\n",
    "Write a solution to find the students who meet the following criteria:\n",
    "\n",
    "Have taken all mandatory courses and at least two elective courses offered in their major.\n",
    "Achieved a grade of A in all mandatory courses and at least B in elective courses.\n",
    "Maintained an average GPA of at least 2.5 across all their courses (including those outside their major).\n",
    "Return the result table ordered by student_id in ascending order."
   ]
  },
  {
   "cell_type": "markdown",
   "metadata": {
    "application/vnd.databricks.v1+cell": {
     "cellMetadata": {},
     "inputWidgets": {},
     "nuid": "da963951-72ed-41f6-885e-32dfcc3a02dd",
     "showTitle": false,
     "title": ""
    }
   },
   "source": [
    "###PySpark"
   ]
  },
  {
   "cell_type": "code",
   "execution_count": 0,
   "metadata": {
    "application/vnd.databricks.v1+cell": {
     "cellMetadata": {
      "byteLimit": 2048000,
      "rowLimit": 10000
     },
     "inputWidgets": {},
     "nuid": "5de8120d-0fc2-42b6-920e-c8513e3cd157",
     "showTitle": false,
     "title": ""
    }
   },
   "outputs": [],
   "source": [
    "from pyspark.sql import SparkSession\n",
    "from pyspark.sql.functions import col, avg, sum, when\n",
    "\n",
    "# Initialize Spark session\n",
    "spark = SparkSession.builder \\\n",
    "    .appName(\"University Data Analysis\") \\\n",
    "    .getOrCreate()\n",
    "\n",
    "# Sample data for students table\n",
    "students_data = [\n",
    "    (1, 'Alice', 'Computer Science'),\n",
    "    (2, 'Bob', 'Computer Science'),\n",
    "    (3, 'Charlie', 'Mathematics'),\n",
    "    (4, 'David', 'Mathematics')\n",
    "]\n",
    "\n",
    "# Sample data for courses table\n",
    "courses_data = [\n",
    "    (101, 'Algorithms', 3, 'Computer Science', 'yes'),\n",
    "    (102, 'Data Structures', 3, 'Computer Science', 'yes'),\n",
    "    (103, 'Calculus', 4, 'Mathematics', 'yes'),\n",
    "    (104, 'Linear Algebra', 4, 'Mathematics', 'yes'),\n",
    "    (105, 'Machine Learning', 3, 'Computer Science', 'no'),\n",
    "    (106, 'Probability', 3, 'Mathematics', 'no'),\n",
    "    (107, 'Operating Systems', 3, 'Computer Science', 'no'),\n",
    "    (108, 'Statistics', 3, 'Mathematics', 'no')\n",
    "]\n",
    "\n",
    "# Sample data for enrollments table\n",
    "enrollments_data = [\n",
    "    (1, 101, 'Fall 2023', 'A', 4.0),\n",
    "    (1, 102, 'Spring 2023', 'A', 4.0),\n",
    "    (1, 105, 'Spring 2023', 'A', 4.0),\n",
    "    (1, 107, 'Fall 2023', 'B', 3.5),\n",
    "    (2, 101, 'Fall 2023', 'A', 4.0),\n",
    "    (2, 102, 'Spring 2023', 'B', 3.0),\n",
    "    (3, 103, 'Fall 2023', 'A', 4.0),\n",
    "    (3, 104, 'Spring 2023', 'A', 4.0),\n",
    "    (3, 106, 'Spring 2023', 'A', 4.0),\n",
    "    (3, 108, 'Fall 2023', 'B', 3.5),\n",
    "    (4, 103, 'Fall 2023', 'B', 3.0),\n",
    "    (4, 104, 'Spring 2023', 'B', 3.0)\n",
    "]\n",
    "\n",
    "# Create DataFrames\n",
    "students_df = spark.createDataFrame(students_data, [\"student_id\", \"name\", \"major\"])\n",
    "courses_df = spark.createDataFrame(courses_data, [\"course_id\", \"name\", \"credits\", \"major\", \"mandatory\"])\n",
    "enrollments_df = spark.createDataFrame(enrollments_data, [\"student_id\", \"course_id\", \"semester\", \"grade\", \"GPA\"])"
   ]
  },
  {
   "cell_type": "code",
   "execution_count": 0,
   "metadata": {
    "application/vnd.databricks.v1+cell": {
     "cellMetadata": {
      "byteLimit": 2048000,
      "rowLimit": 10000
     },
     "inputWidgets": {},
     "nuid": "600d6f19-b854-4e67-937a-a713e8683433",
     "showTitle": false,
     "title": ""
    }
   },
   "outputs": [
    {
     "output_type": "display_data",
     "data": {
      "text/html": [
       "<style scoped>\n",
       "  .table-result-container {\n",
       "    max-height: 300px;\n",
       "    overflow: auto;\n",
       "  }\n",
       "  table, th, td {\n",
       "    border: 1px solid black;\n",
       "    border-collapse: collapse;\n",
       "  }\n",
       "  th, td {\n",
       "    padding: 5px;\n",
       "  }\n",
       "  th {\n",
       "    text-align: left;\n",
       "  }\n",
       "</style><div class='table-result-container'><table class='table-result'><thead style='background-color: white'><tr><th>student_id</th><th>name</th><th>major</th></tr></thead><tbody><tr><td>1</td><td>Alice</td><td>Computer Science</td></tr><tr><td>2</td><td>Bob</td><td>Computer Science</td></tr><tr><td>3</td><td>Charlie</td><td>Mathematics</td></tr><tr><td>4</td><td>David</td><td>Mathematics</td></tr></tbody></table></div>"
      ]
     },
     "metadata": {
      "application/vnd.databricks.v1+output": {
       "addedWidgets": {},
       "aggData": [],
       "aggError": "",
       "aggOverflow": false,
       "aggSchema": [],
       "aggSeriesLimitReached": false,
       "aggType": "",
       "arguments": {},
       "columnCustomDisplayInfos": {},
       "data": [
        [
         1,
         "Alice",
         "Computer Science"
        ],
        [
         2,
         "Bob",
         "Computer Science"
        ],
        [
         3,
         "Charlie",
         "Mathematics"
        ],
        [
         4,
         "David",
         "Mathematics"
        ]
       ],
       "datasetInfos": [],
       "dbfsResultPath": null,
       "isJsonSchema": true,
       "metadata": {},
       "overflow": false,
       "plotOptions": {
        "customPlotOptions": {},
        "displayType": "table",
        "pivotAggregation": null,
        "pivotColumns": null,
        "xColumns": null,
        "yColumns": null
       },
       "removedWidgets": [],
       "schema": [
        {
         "metadata": "{}",
         "name": "student_id",
         "type": "\"long\""
        },
        {
         "metadata": "{}",
         "name": "name",
         "type": "\"string\""
        },
        {
         "metadata": "{}",
         "name": "major",
         "type": "\"string\""
        }
       ],
       "type": "table"
      }
     },
     "output_type": "display_data"
    },
    {
     "output_type": "display_data",
     "data": {
      "text/html": [
       "<style scoped>\n",
       "  .table-result-container {\n",
       "    max-height: 300px;\n",
       "    overflow: auto;\n",
       "  }\n",
       "  table, th, td {\n",
       "    border: 1px solid black;\n",
       "    border-collapse: collapse;\n",
       "  }\n",
       "  th, td {\n",
       "    padding: 5px;\n",
       "  }\n",
       "  th {\n",
       "    text-align: left;\n",
       "  }\n",
       "</style><div class='table-result-container'><table class='table-result'><thead style='background-color: white'><tr><th>course_id</th><th>name</th><th>credits</th><th>major</th><th>mandatory</th></tr></thead><tbody><tr><td>101</td><td>Algorithms</td><td>3</td><td>Computer Science</td><td>yes</td></tr><tr><td>102</td><td>Data Structures</td><td>3</td><td>Computer Science</td><td>yes</td></tr><tr><td>103</td><td>Calculus</td><td>4</td><td>Mathematics</td><td>yes</td></tr><tr><td>104</td><td>Linear Algebra</td><td>4</td><td>Mathematics</td><td>yes</td></tr><tr><td>105</td><td>Machine Learning</td><td>3</td><td>Computer Science</td><td>no</td></tr><tr><td>106</td><td>Probability</td><td>3</td><td>Mathematics</td><td>no</td></tr><tr><td>107</td><td>Operating Systems</td><td>3</td><td>Computer Science</td><td>no</td></tr><tr><td>108</td><td>Statistics</td><td>3</td><td>Mathematics</td><td>no</td></tr></tbody></table></div>"
      ]
     },
     "metadata": {
      "application/vnd.databricks.v1+output": {
       "addedWidgets": {},
       "aggData": [],
       "aggError": "",
       "aggOverflow": false,
       "aggSchema": [],
       "aggSeriesLimitReached": false,
       "aggType": "",
       "arguments": {},
       "columnCustomDisplayInfos": {},
       "data": [
        [
         101,
         "Algorithms",
         3,
         "Computer Science",
         "yes"
        ],
        [
         102,
         "Data Structures",
         3,
         "Computer Science",
         "yes"
        ],
        [
         103,
         "Calculus",
         4,
         "Mathematics",
         "yes"
        ],
        [
         104,
         "Linear Algebra",
         4,
         "Mathematics",
         "yes"
        ],
        [
         105,
         "Machine Learning",
         3,
         "Computer Science",
         "no"
        ],
        [
         106,
         "Probability",
         3,
         "Mathematics",
         "no"
        ],
        [
         107,
         "Operating Systems",
         3,
         "Computer Science",
         "no"
        ],
        [
         108,
         "Statistics",
         3,
         "Mathematics",
         "no"
        ]
       ],
       "datasetInfos": [],
       "dbfsResultPath": null,
       "isJsonSchema": true,
       "metadata": {},
       "overflow": false,
       "plotOptions": {
        "customPlotOptions": {},
        "displayType": "table",
        "pivotAggregation": null,
        "pivotColumns": null,
        "xColumns": null,
        "yColumns": null
       },
       "removedWidgets": [],
       "schema": [
        {
         "metadata": "{}",
         "name": "course_id",
         "type": "\"long\""
        },
        {
         "metadata": "{}",
         "name": "name",
         "type": "\"string\""
        },
        {
         "metadata": "{}",
         "name": "credits",
         "type": "\"long\""
        },
        {
         "metadata": "{}",
         "name": "major",
         "type": "\"string\""
        },
        {
         "metadata": "{}",
         "name": "mandatory",
         "type": "\"string\""
        }
       ],
       "type": "table"
      }
     },
     "output_type": "display_data"
    },
    {
     "output_type": "display_data",
     "data": {
      "text/html": [
       "<style scoped>\n",
       "  .table-result-container {\n",
       "    max-height: 300px;\n",
       "    overflow: auto;\n",
       "  }\n",
       "  table, th, td {\n",
       "    border: 1px solid black;\n",
       "    border-collapse: collapse;\n",
       "  }\n",
       "  th, td {\n",
       "    padding: 5px;\n",
       "  }\n",
       "  th {\n",
       "    text-align: left;\n",
       "  }\n",
       "</style><div class='table-result-container'><table class='table-result'><thead style='background-color: white'><tr><th>student_id</th><th>course_id</th><th>semester</th><th>grade</th><th>GPA</th></tr></thead><tbody><tr><td>1</td><td>101</td><td>Fall 2023</td><td>A</td><td>4.0</td></tr><tr><td>1</td><td>102</td><td>Spring 2023</td><td>A</td><td>4.0</td></tr><tr><td>1</td><td>105</td><td>Spring 2023</td><td>A</td><td>4.0</td></tr><tr><td>1</td><td>107</td><td>Fall 2023</td><td>B</td><td>3.5</td></tr><tr><td>2</td><td>101</td><td>Fall 2023</td><td>A</td><td>4.0</td></tr><tr><td>2</td><td>102</td><td>Spring 2023</td><td>B</td><td>3.0</td></tr><tr><td>3</td><td>103</td><td>Fall 2023</td><td>A</td><td>4.0</td></tr><tr><td>3</td><td>104</td><td>Spring 2023</td><td>A</td><td>4.0</td></tr><tr><td>3</td><td>106</td><td>Spring 2023</td><td>A</td><td>4.0</td></tr><tr><td>3</td><td>108</td><td>Fall 2023</td><td>B</td><td>3.5</td></tr><tr><td>4</td><td>103</td><td>Fall 2023</td><td>B</td><td>3.0</td></tr><tr><td>4</td><td>104</td><td>Spring 2023</td><td>B</td><td>3.0</td></tr></tbody></table></div>"
      ]
     },
     "metadata": {
      "application/vnd.databricks.v1+output": {
       "addedWidgets": {},
       "aggData": [],
       "aggError": "",
       "aggOverflow": false,
       "aggSchema": [],
       "aggSeriesLimitReached": false,
       "aggType": "",
       "arguments": {},
       "columnCustomDisplayInfos": {},
       "data": [
        [
         1,
         101,
         "Fall 2023",
         "A",
         4.0
        ],
        [
         1,
         102,
         "Spring 2023",
         "A",
         4.0
        ],
        [
         1,
         105,
         "Spring 2023",
         "A",
         4.0
        ],
        [
         1,
         107,
         "Fall 2023",
         "B",
         3.5
        ],
        [
         2,
         101,
         "Fall 2023",
         "A",
         4.0
        ],
        [
         2,
         102,
         "Spring 2023",
         "B",
         3.0
        ],
        [
         3,
         103,
         "Fall 2023",
         "A",
         4.0
        ],
        [
         3,
         104,
         "Spring 2023",
         "A",
         4.0
        ],
        [
         3,
         106,
         "Spring 2023",
         "A",
         4.0
        ],
        [
         3,
         108,
         "Fall 2023",
         "B",
         3.5
        ],
        [
         4,
         103,
         "Fall 2023",
         "B",
         3.0
        ],
        [
         4,
         104,
         "Spring 2023",
         "B",
         3.0
        ]
       ],
       "datasetInfos": [],
       "dbfsResultPath": null,
       "isJsonSchema": true,
       "metadata": {},
       "overflow": false,
       "plotOptions": {
        "customPlotOptions": {},
        "displayType": "table",
        "pivotAggregation": null,
        "pivotColumns": null,
        "xColumns": null,
        "yColumns": null
       },
       "removedWidgets": [],
       "schema": [
        {
         "metadata": "{}",
         "name": "student_id",
         "type": "\"long\""
        },
        {
         "metadata": "{}",
         "name": "course_id",
         "type": "\"long\""
        },
        {
         "metadata": "{}",
         "name": "semester",
         "type": "\"string\""
        },
        {
         "metadata": "{}",
         "name": "grade",
         "type": "\"string\""
        },
        {
         "metadata": "{}",
         "name": "GPA",
         "type": "\"double\""
        }
       ],
       "type": "table"
      }
     },
     "output_type": "display_data"
    }
   ],
   "source": [
    "students_df.display()\n",
    "courses_df.display()\n",
    "enrollments_df.display()\n"
   ]
  },
  {
   "cell_type": "code",
   "execution_count": 0,
   "metadata": {
    "application/vnd.databricks.v1+cell": {
     "cellMetadata": {
      "byteLimit": 2048000,
      "rowLimit": 10000
     },
     "inputWidgets": {},
     "nuid": "6c8804f2-3929-4543-a515-29aa68c0f2fb",
     "showTitle": false,
     "title": ""
    }
   },
   "outputs": [
    {
     "output_type": "display_data",
     "data": {
      "text/html": [
       "<style scoped>\n",
       "  .table-result-container {\n",
       "    max-height: 300px;\n",
       "    overflow: auto;\n",
       "  }\n",
       "  table, th, td {\n",
       "    border: 1px solid black;\n",
       "    border-collapse: collapse;\n",
       "  }\n",
       "  th, td {\n",
       "    padding: 5px;\n",
       "  }\n",
       "  th {\n",
       "    text-align: left;\n",
       "  }\n",
       "</style><div class='table-result-container'><table class='table-result'><thead style='background-color: white'><tr><th>student_id</th></tr></thead><tbody><tr><td>1</td></tr><tr><td>3</td></tr></tbody></table></div>"
      ]
     },
     "metadata": {
      "application/vnd.databricks.v1+output": {
       "addedWidgets": {},
       "aggData": [],
       "aggError": "",
       "aggOverflow": false,
       "aggSchema": [],
       "aggSeriesLimitReached": false,
       "aggType": "",
       "arguments": {},
       "columnCustomDisplayInfos": {},
       "data": [
        [
         1
        ],
        [
         3
        ]
       ],
       "datasetInfos": [],
       "dbfsResultPath": null,
       "isJsonSchema": true,
       "metadata": {},
       "overflow": false,
       "plotOptions": {
        "customPlotOptions": {},
        "displayType": "table",
        "pivotAggregation": null,
        "pivotColumns": null,
        "xColumns": null,
        "yColumns": null
       },
       "removedWidgets": [],
       "schema": [
        {
         "metadata": "{}",
         "name": "student_id",
         "type": "\"long\""
        }
       ],
       "type": "table"
      }
     },
     "output_type": "display_data"
    }
   ],
   "source": [
    "\n",
    "# Filter students with AVG GPA >= 2.5\n",
    "filtered_students = enrollments_df.groupBy(\"student_id\").agg(avg(\"GPA\").alias(\"avg_GPA\")).filter(col(\"avg_GPA\") >= 2.5)\n",
    "# Join DataFrames\n",
    "student_courses = students_df.join(courses_df, students_df.major == courses_df.major) \\\n",
    "                             .join(filtered_students, \"student_id\") \\\n",
    "                             .join(enrollments_df, [\"student_id\", \"course_id\"], \"left\")\n",
    "\n",
    "# Apply conditions\n",
    "result_df = student_courses.groupBy(\"student_id\").agg(\n",
    "    sum(when((col(\"mandatory\") == 'yes') & (col(\"grade\") == 'A'), 1).otherwise(0)).alias(\"mandatory_A_count\"),\n",
    "    sum(when(col(\"mandatory\") == 'yes', 1).otherwise(0)).alias(\"mandatory_count\"),\n",
    "    sum(when((col(\"mandatory\") == 'no') & (col(\"grade\").isNotNull()), 1).otherwise(0)).alias(\"non_mandatory_count\"),\n",
    "    sum(when((col(\"mandatory\") == 'no') & (col(\"grade\").isin(\"A\", \"B\")), 1).otherwise(0)).alias(\"non_mandatory_AB_count\")\n",
    ").filter(\n",
    "    (col(\"mandatory_A_count\") == col(\"mandatory_count\")) &\n",
    "    (col(\"non_mandatory_count\") >= 2) &\n",
    "    (col(\"non_mandatory_count\") == col(\"non_mandatory_AB_count\"))\n",
    ").select(\"student_id\").orderBy(\"student_id\")\n",
    "result_df.display()\n"
   ]
  },
  {
   "cell_type": "code",
   "execution_count": 0,
   "metadata": {
    "application/vnd.databricks.v1+cell": {
     "cellMetadata": {
      "byteLimit": 2048000,
      "rowLimit": 10000
     },
     "inputWidgets": {},
     "nuid": "292c1720-7331-41b8-bbd5-ed4a35d1ed40",
     "showTitle": false,
     "title": ""
    }
   },
   "outputs": [],
   "source": [
    "students_df.createOrReplaceTempView(\"students\")\n",
    "courses_df.createOrReplaceTempView(\"courses\")\n",
    "enrollments_df.createOrReplaceTempView(\"enrollments\")"
   ]
  },
  {
   "cell_type": "markdown",
   "metadata": {
    "application/vnd.databricks.v1+cell": {
     "cellMetadata": {},
     "inputWidgets": {},
     "nuid": "586d7dfa-85fc-49b3-8559-3fec59fd8048",
     "showTitle": false,
     "title": ""
    }
   },
   "source": [
    "###Spark SQL"
   ]
  },
  {
   "cell_type": "code",
   "execution_count": 0,
   "metadata": {
    "application/vnd.databricks.v1+cell": {
     "cellMetadata": {
      "byteLimit": 2048000,
      "implicitDf": true,
      "rowLimit": 10000
     },
     "inputWidgets": {},
     "nuid": "eef8d68d-cbb4-445f-a020-5ab9eb0d4265",
     "showTitle": false,
     "title": ""
    }
   },
   "outputs": [
    {
     "output_type": "display_data",
     "data": {
      "text/html": [
       "<style scoped>\n",
       "  .table-result-container {\n",
       "    max-height: 300px;\n",
       "    overflow: auto;\n",
       "  }\n",
       "  table, th, td {\n",
       "    border: 1px solid black;\n",
       "    border-collapse: collapse;\n",
       "  }\n",
       "  th, td {\n",
       "    padding: 5px;\n",
       "  }\n",
       "  th {\n",
       "    text-align: left;\n",
       "  }\n",
       "</style><div class='table-result-container'><table class='table-result'><thead style='background-color: white'><tr><th>student_id</th></tr></thead><tbody><tr><td>1</td></tr><tr><td>3</td></tr></tbody></table></div>"
      ]
     },
     "metadata": {
      "application/vnd.databricks.v1+output": {
       "addedWidgets": {},
       "aggData": [],
       "aggError": "",
       "aggOverflow": false,
       "aggSchema": [],
       "aggSeriesLimitReached": false,
       "aggType": "",
       "arguments": {},
       "columnCustomDisplayInfos": {},
       "data": [
        [
         1
        ],
        [
         3
        ]
       ],
       "datasetInfos": [],
       "dbfsResultPath": null,
       "isJsonSchema": true,
       "metadata": {},
       "overflow": false,
       "plotOptions": {
        "customPlotOptions": {},
        "displayType": "table",
        "pivotAggregation": null,
        "pivotColumns": null,
        "xColumns": null,
        "yColumns": null
       },
       "removedWidgets": [],
       "schema": [
        {
         "metadata": "{}",
         "name": "student_id",
         "type": "\"long\""
        }
       ],
       "type": "table"
      }
     },
     "output_type": "display_data"
    }
   ],
   "source": [
    "%sql\n",
    "WITH T AS (\n",
    "    SELECT e.student_id\n",
    "    FROM enrollments e\n",
    "    GROUP BY e.student_id\n",
    "    HAVING AVG(e.GPA) >= 2.5\n",
    ")\n",
    "SELECT t.student_id\n",
    "FROM T t\n",
    "JOIN students s ON t.student_id = s.student_id\n",
    "JOIN courses c ON s.major = c.major\n",
    "LEFT JOIN enrollments e ON t.student_id = e.student_id AND c.course_id = e.course_id\n",
    "GROUP BY t.student_id\n",
    "HAVING\n",
    "    SUM(CASE WHEN c.mandatory = 'yes' THEN (CASE WHEN e.grade = 'A' THEN 1 ELSE 0 END) ELSE 0 END) = \n",
    "    SUM(CASE WHEN c.mandatory = 'yes' THEN 1 ELSE 0 END)\n",
    "    AND SUM(CASE WHEN c.mandatory = 'no' AND e.grade IS NOT NULL THEN 1 ELSE 0 END) = \n",
    "    SUM(CASE WHEN c.mandatory = 'no' THEN (CASE WHEN e.grade IN ('A', 'B') THEN 1 ELSE 0 END) ELSE 0 END)\n",
    "    AND SUM(CASE WHEN c.mandatory = 'no' AND e.grade IS NOT NULL THEN 1 ELSE 0 END) >= 2\n",
    "ORDER BY t.student_id;\n"
   ]
  }
 ],
 "metadata": {
  "application/vnd.databricks.v1+notebook": {
   "dashboards": [],
   "environmentMetadata": null,
   "language": "python",
   "notebookMetadata": {
    "mostRecentlyExecutedCommandWithImplicitDF": {
     "commandId": 3462095675736967,
     "dataframes": [
      "_sqldf"
     ]
    },
    "pythonIndentUnit": 4
   },
   "notebookName": "3188.Find Top Scoring Students II",
   "widgets": {}
  }
 },
 "nbformat": 4,
 "nbformat_minor": 0
}
