{
 "cells": [
  {
   "cell_type": "code",
   "execution_count": 0,
   "metadata": {
    "application/vnd.databricks.v1+cell": {
     "cellMetadata": {
      "byteLimit": 2048000,
      "rowLimit": 10000
     },
     "inputWidgets": {},
     "nuid": "88acd0ed-f02c-4bfe-b5da-cdec63dd6290",
     "showTitle": false,
     "title": ""
    }
   },
   "outputs": [
    {
     "output_type": "display_data",
     "data": {
      "text/html": [
       "<style scoped>\n",
       "  .table-result-container {\n",
       "    max-height: 300px;\n",
       "    overflow: auto;\n",
       "  }\n",
       "  table, th, td {\n",
       "    border: 1px solid black;\n",
       "    border-collapse: collapse;\n",
       "  }\n",
       "  th, td {\n",
       "    padding: 5px;\n",
       "  }\n",
       "  th {\n",
       "    text-align: left;\n",
       "  }\n",
       "</style><div class='table-result-container'><table class='table-result'><thead style='background-color: white'><tr><th>state</th><th>city</th><th>population</th></tr></thead><tbody><tr><td>haryana</td><td>ambala</td><td>100</td></tr><tr><td>haryana</td><td>panipat</td><td>200</td></tr><tr><td>haryana</td><td>gurgaon</td><td>300</td></tr><tr><td>punjab</td><td>amritsar</td><td>150</td></tr><tr><td>punjab</td><td>ludhiana</td><td>400</td></tr><tr><td>punjab</td><td>jalandhar</td><td>250</td></tr><tr><td>maharashtra</td><td>mumbai</td><td>1000</td></tr><tr><td>maharashtra</td><td>pune</td><td>600</td></tr><tr><td>maharashtra</td><td>nagpur</td><td>300</td></tr><tr><td>karnataka</td><td>bangalore</td><td>900</td></tr><tr><td>karnataka</td><td>mysore</td><td>400</td></tr><tr><td>karnataka</td><td>mangalore</td><td>200</td></tr></tbody></table></div>"
      ]
     },
     "metadata": {
      "application/vnd.databricks.v1+output": {
       "addedWidgets": {},
       "aggData": [],
       "aggError": "",
       "aggOverflow": false,
       "aggSchema": [],
       "aggSeriesLimitReached": false,
       "aggType": "",
       "arguments": {},
       "columnCustomDisplayInfos": {},
       "data": [
        [
         "haryana",
         "ambala",
         100
        ],
        [
         "haryana",
         "panipat",
         200
        ],
        [
         "haryana",
         "gurgaon",
         300
        ],
        [
         "punjab",
         "amritsar",
         150
        ],
        [
         "punjab",
         "ludhiana",
         400
        ],
        [
         "punjab",
         "jalandhar",
         250
        ],
        [
         "maharashtra",
         "mumbai",
         1000
        ],
        [
         "maharashtra",
         "pune",
         600
        ],
        [
         "maharashtra",
         "nagpur",
         300
        ],
        [
         "karnataka",
         "bangalore",
         900
        ],
        [
         "karnataka",
         "mysore",
         400
        ],
        [
         "karnataka",
         "mangalore",
         200
        ]
       ],
       "datasetInfos": [],
       "dbfsResultPath": null,
       "isJsonSchema": true,
       "metadata": {},
       "overflow": false,
       "plotOptions": {
        "customPlotOptions": {},
        "displayType": "table",
        "pivotAggregation": null,
        "pivotColumns": null,
        "xColumns": null,
        "yColumns": null
       },
       "removedWidgets": [],
       "schema": [
        {
         "metadata": "{}",
         "name": "state",
         "type": "\"string\""
        },
        {
         "metadata": "{}",
         "name": "city",
         "type": "\"string\""
        },
        {
         "metadata": "{}",
         "name": "population",
         "type": "\"integer\""
        }
       ],
       "type": "table"
      }
     },
     "output_type": "display_data"
    }
   ],
   "source": [
    "from pyspark.sql import SparkSession\n",
    "from pyspark.sql.types import StructType, StructField, StringType, IntegerType\n",
    "from pyspark.sql import Window\n",
    "from pyspark.sql.functions import col, rank, max as spark_max, min as spark_min, when\n",
    "\n",
    "# Initialize Spark session\n",
    "spark = SparkSession.builder.appName(\"CityPopulation\").getOrCreate()\n",
    "\n",
    "# Define the schema\n",
    "schema = StructType([\n",
    "    StructField(\"state\", StringType(), True),\n",
    "    StructField(\"city\", StringType(), True),\n",
    "    StructField(\"population\", IntegerType(), True)\n",
    "])\n",
    "\n",
    "# Create a list of data\n",
    "data = [\n",
    "    (\"haryana\", \"ambala\", 100),\n",
    "    (\"haryana\", \"panipat\", 200),\n",
    "    (\"haryana\", \"gurgaon\", 300),\n",
    "    (\"punjab\", \"amritsar\", 150),\n",
    "    (\"punjab\", \"ludhiana\", 400),\n",
    "    (\"punjab\", \"jalandhar\", 250),\n",
    "    (\"maharashtra\", \"mumbai\", 1000),\n",
    "    (\"maharashtra\", \"pune\", 600),\n",
    "    (\"maharashtra\", \"nagpur\", 300),\n",
    "    (\"karnataka\", \"bangalore\", 900),\n",
    "    (\"karnataka\", \"mysore\", 400),\n",
    "    (\"karnataka\", \"mangalore\", 200)\n",
    "]\n",
    "\n",
    "# Create DataFrame\n",
    "df = spark.createDataFrame(data, schema)\n",
    "\n",
    "# Show the DataFrame\n",
    "df.display()\n"
   ]
  },
  {
   "cell_type": "code",
   "execution_count": 0,
   "metadata": {
    "application/vnd.databricks.v1+cell": {
     "cellMetadata": {
      "byteLimit": 2048000,
      "rowLimit": 10000
     },
     "inputWidgets": {},
     "nuid": "b46e13a1-94cb-4e55-ba9a-9b374d73257e",
     "showTitle": false,
     "title": ""
    }
   },
   "outputs": [
    {
     "output_type": "display_data",
     "data": {
      "text/html": [
       "<style scoped>\n",
       "  .table-result-container {\n",
       "    max-height: 300px;\n",
       "    overflow: auto;\n",
       "  }\n",
       "  table, th, td {\n",
       "    border: 1px solid black;\n",
       "    border-collapse: collapse;\n",
       "  }\n",
       "  th, td {\n",
       "    padding: 5px;\n",
       "  }\n",
       "  th {\n",
       "    text-align: left;\n",
       "  }\n",
       "</style><div class='table-result-container'><table class='table-result'><thead style='background-color: white'><tr><th>state</th><th>max_population</th><th>min_population</th></tr></thead><tbody><tr><td>haryana</td><td>gurgaon</td><td>ambala</td></tr><tr><td>karnataka</td><td>bangalore</td><td>mangalore</td></tr><tr><td>maharashtra</td><td>mumbai</td><td>nagpur</td></tr><tr><td>punjab</td><td>ludhiana</td><td>amritsar</td></tr></tbody></table></div>"
      ]
     },
     "metadata": {
      "application/vnd.databricks.v1+output": {
       "addedWidgets": {},
       "aggData": [],
       "aggError": "",
       "aggOverflow": false,
       "aggSchema": [],
       "aggSeriesLimitReached": false,
       "aggType": "",
       "arguments": {},
       "columnCustomDisplayInfos": {},
       "data": [
        [
         "haryana",
         "gurgaon",
         "ambala"
        ],
        [
         "karnataka",
         "bangalore",
         "mangalore"
        ],
        [
         "maharashtra",
         "mumbai",
         "nagpur"
        ],
        [
         "punjab",
         "ludhiana",
         "amritsar"
        ]
       ],
       "datasetInfos": [],
       "dbfsResultPath": null,
       "isJsonSchema": true,
       "metadata": {},
       "overflow": false,
       "plotOptions": {
        "customPlotOptions": {},
        "displayType": "table",
        "pivotAggregation": null,
        "pivotColumns": null,
        "xColumns": null,
        "yColumns": null
       },
       "removedWidgets": [],
       "schema": [
        {
         "metadata": "{}",
         "name": "state",
         "type": "\"string\""
        },
        {
         "metadata": "{}",
         "name": "max_population",
         "type": "\"string\""
        },
        {
         "metadata": "{}",
         "name": "min_population",
         "type": "\"string\""
        }
       ],
       "type": "table"
      }
     },
     "output_type": "display_data"
    }
   ],
   "source": [
    "# Define the window specification for ranking by population descending and ascending within each state\n",
    "window_desc = Window.partitionBy(\"state\").orderBy(col(\"population\").desc())\n",
    "window_asc = Window.partitionBy(\"state\").orderBy(col(\"population\").asc())\n",
    "\n",
    "# Add the rank columns to the DataFrame\n",
    "df_with_ranks = df.withColumn(\"rno_desc\", rank().over(window_desc)) \\\n",
    "                  .withColumn(\"rno_asc\", rank().over(window_asc))\n",
    "\n",
    "# Select the state, city with the max and min population based on the rank columns\n",
    "result_df = df_with_ranks.filter((col(\"rno_desc\") == 1) | (col(\"rno_asc\") == 1)) \\\n",
    "    .groupBy(\"state\") \\\n",
    "    .agg(\n",
    "        spark_max(when(col(\"rno_desc\") == 1, col(\"city\"))).alias(\"max_population\"),\n",
    "        spark_min(when(col(\"rno_asc\") == 1, col(\"city\"))).alias(\"min_population\")\n",
    "    )\n",
    "\n",
    "# Show the result\n",
    "result_df.display()\n"
   ]
  },
  {
   "cell_type": "code",
   "execution_count": 0,
   "metadata": {
    "application/vnd.databricks.v1+cell": {
     "cellMetadata": {
      "byteLimit": 2048000,
      "rowLimit": 10000
     },
     "inputWidgets": {},
     "nuid": "7925f4e0-3024-4869-9534-ab3d04aadd5f",
     "showTitle": false,
     "title": ""
    }
   },
   "outputs": [],
   "source": [
    "df.createOrReplaceTempView(\"city_population\")"
   ]
  },
  {
   "cell_type": "code",
   "execution_count": 0,
   "metadata": {
    "application/vnd.databricks.v1+cell": {
     "cellMetadata": {
      "byteLimit": 2048000,
      "implicitDf": true,
      "rowLimit": 10000
     },
     "inputWidgets": {},
     "nuid": "a11aa5a0-bf48-4021-be40-9cb3088a2700",
     "showTitle": false,
     "title": ""
    }
   },
   "outputs": [
    {
     "output_type": "display_data",
     "data": {
      "text/html": [
       "<style scoped>\n",
       "  .table-result-container {\n",
       "    max-height: 300px;\n",
       "    overflow: auto;\n",
       "  }\n",
       "  table, th, td {\n",
       "    border: 1px solid black;\n",
       "    border-collapse: collapse;\n",
       "  }\n",
       "  th, td {\n",
       "    padding: 5px;\n",
       "  }\n",
       "  th {\n",
       "    text-align: left;\n",
       "  }\n",
       "</style><div class='table-result-container'><table class='table-result'><thead style='background-color: white'><tr><th>state</th><th>max_population</th><th>min_population</th></tr></thead><tbody><tr><td>haryana</td><td>gurgaon</td><td>ambala</td></tr><tr><td>karnataka</td><td>bangalore</td><td>mangalore</td></tr><tr><td>maharashtra</td><td>mumbai</td><td>nagpur</td></tr><tr><td>punjab</td><td>ludhiana</td><td>amritsar</td></tr></tbody></table></div>"
      ]
     },
     "metadata": {
      "application/vnd.databricks.v1+output": {
       "addedWidgets": {},
       "aggData": [],
       "aggError": "",
       "aggOverflow": false,
       "aggSchema": [],
       "aggSeriesLimitReached": false,
       "aggType": "",
       "arguments": {},
       "columnCustomDisplayInfos": {},
       "data": [
        [
         "haryana",
         "gurgaon",
         "ambala"
        ],
        [
         "karnataka",
         "bangalore",
         "mangalore"
        ],
        [
         "maharashtra",
         "mumbai",
         "nagpur"
        ],
        [
         "punjab",
         "ludhiana",
         "amritsar"
        ]
       ],
       "datasetInfos": [],
       "dbfsResultPath": null,
       "isJsonSchema": true,
       "metadata": {},
       "overflow": false,
       "plotOptions": {
        "customPlotOptions": {},
        "displayType": "table",
        "pivotAggregation": null,
        "pivotColumns": null,
        "xColumns": null,
        "yColumns": null
       },
       "removedWidgets": [],
       "schema": [
        {
         "metadata": "{}",
         "name": "state",
         "type": "\"string\""
        },
        {
         "metadata": "{}",
         "name": "max_population",
         "type": "\"string\""
        },
        {
         "metadata": "{}",
         "name": "min_population",
         "type": "\"string\""
        }
       ],
       "type": "table"
      }
     },
     "output_type": "display_data"
    }
   ],
   "source": [
    "%sql\n",
    "with cte as (\n",
    "select *,rank()over(partition by state order by population desc)as rno_desc,\n",
    "rank()over(partition by state order by population )as rno_asc from city_population\n",
    ")\n",
    "select state,\n",
    "max(case when rno_desc=1 then city else null end) as max_population,\n",
    "min(case when rno_asc=1 then city else null end) as min_population\n",
    "from cte\n",
    "where rno_asc=1 or rno_desc=1\n",
    "group by state"
   ]
  }
 ],
 "metadata": {
  "application/vnd.databricks.v1+notebook": {
   "dashboards": [],
   "environmentMetadata": null,
   "language": "python",
   "notebookMetadata": {
    "mostRecentlyExecutedCommandWithImplicitDF": {
     "commandId": 3542482544824676,
     "dataframes": [
      "_sqldf"
     ]
    },
    "pythonIndentUnit": 4
   },
   "notebookName": "EXL Analytics SQL Interview Question",
   "widgets": {}
  }
 },
 "nbformat": 4,
 "nbformat_minor": 0
}
