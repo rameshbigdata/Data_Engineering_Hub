{
 "cells": [
  {
   "cell_type": "markdown",
   "metadata": {
    "application/vnd.databricks.v1+cell": {
     "cellMetadata": {},
     "inputWidgets": {},
     "nuid": "f8903b0c-440e-49f3-9f10-40f2e95cf3e9",
     "showTitle": false,
     "title": ""
    }
   },
   "source": [
    "#Problem Statement: \n",
    "###Employee Department Scores:\n",
    "I am giving a dataset containing employee information across different departments. Each record includes an employee ID (eid), department name (dept), and a score (scores). The goal is to perform the following operations:\n",
    "\n",
    "###Identify Top Scorers: \n",
    "  For each department, identify the employee(s) with the highest score. If there are multiple employees with the same highest score in a department, they should all be considered top scorers.\n",
    "\n",
    "###Right Join with All Employees: \n",
    "  Combine the list of all employees (eid, dept) with the top scorers, ensuring that every employee is present in the final result, even if they are not a top scorer in their department. The scores for non-top scorers should be null.\n",
    "\n",
    "###Order the Results: \n",
    "  The final output should be sorted by the employee ID (eid)."
   ]
  },
  {
   "cell_type": "code",
   "execution_count": 0,
   "metadata": {
    "application/vnd.databricks.v1+cell": {
     "cellMetadata": {
      "byteLimit": 2048000,
      "rowLimit": 10000
     },
     "inputWidgets": {},
     "nuid": "ebc12003-bcc9-4a2c-8409-e4321c5a79e0",
     "showTitle": false,
     "title": ""
    }
   },
   "outputs": [
    {
     "output_type": "display_data",
     "data": {
      "text/html": [
       "<style scoped>\n",
       "  .table-result-container {\n",
       "    max-height: 300px;\n",
       "    overflow: auto;\n",
       "  }\n",
       "  table, th, td {\n",
       "    border: 1px solid black;\n",
       "    border-collapse: collapse;\n",
       "  }\n",
       "  th, td {\n",
       "    padding: 5px;\n",
       "  }\n",
       "  th {\n",
       "    text-align: left;\n",
       "  }\n",
       "</style><div class='table-result-container'><table class='table-result'><thead style='background-color: white'><tr><th>eid</th><th>dept</th><th>scores</th></tr></thead><tbody><tr><td>1</td><td>d1</td><td>1.0</td></tr><tr><td>2</td><td>d1</td><td>5.28</td></tr><tr><td>3</td><td>d1</td><td>4.0</td></tr><tr><td>4</td><td>d2</td><td>8.0</td></tr><tr><td>5</td><td>d1</td><td>2.5</td></tr><tr><td>6</td><td>d2</td><td>7.0</td></tr><tr><td>7</td><td>d3</td><td>9.0</td></tr><tr><td>8</td><td>d4</td><td>10.2</td></tr></tbody></table></div>"
      ]
     },
     "metadata": {
      "application/vnd.databricks.v1+output": {
       "addedWidgets": {},
       "aggData": [],
       "aggError": "",
       "aggOverflow": false,
       "aggSchema": [],
       "aggSeriesLimitReached": false,
       "aggType": "",
       "arguments": {},
       "columnCustomDisplayInfos": {},
       "data": [
        [
         1,
         "d1",
         1.0
        ],
        [
         2,
         "d1",
         5.28
        ],
        [
         3,
         "d1",
         4.0
        ],
        [
         4,
         "d2",
         8.0
        ],
        [
         5,
         "d1",
         2.5
        ],
        [
         6,
         "d2",
         7.0
        ],
        [
         7,
         "d3",
         9.0
        ],
        [
         8,
         "d4",
         10.2
        ]
       ],
       "datasetInfos": [],
       "dbfsResultPath": null,
       "isJsonSchema": true,
       "metadata": {},
       "overflow": false,
       "plotOptions": {
        "customPlotOptions": {},
        "displayType": "table",
        "pivotAggregation": null,
        "pivotColumns": null,
        "xColumns": null,
        "yColumns": null
       },
       "removedWidgets": [],
       "schema": [
        {
         "metadata": "{}",
         "name": "eid",
         "type": "\"integer\""
        },
        {
         "metadata": "{}",
         "name": "dept",
         "type": "\"string\""
        },
        {
         "metadata": "{}",
         "name": "scores",
         "type": "\"float\""
        }
       ],
       "type": "table"
      }
     },
     "output_type": "display_data"
    }
   ],
   "source": [
    "# step 1: Import necessary PySpark libraries\n",
    "from pyspark.sql import SparkSession\n",
    "from pyspark.sql.types import StructType, StructField, IntegerType, StringType, FloatType\n",
    "from pyspark.sql import functions as F\n",
    "from pyspark.sql.window import Window\n",
    "\n",
    "# step 2: Initialize Spark session\n",
    "spark = SparkSession.builder \\\n",
    "    .appName(\"Create and Insert Table\") \\\n",
    "    .getOrCreate()\n",
    "\n",
    "# step 3: Define schema for the table\n",
    "schema = StructType([\n",
    "    StructField(\"eid\", IntegerType(), True),\n",
    "    StructField(\"dept\", StringType(), True),\n",
    "    StructField(\"scores\", FloatType(), True)\n",
    "])\n",
    "\n",
    "# step 4: Create DataFrame with the specified data\n",
    "data = [\n",
    "    (1, 'd1', 1.0),\n",
    "    (2, 'd1', 5.28),\n",
    "    (3, 'd1', 4.0),\n",
    "    (4, 'd2', 8.0),\n",
    "    (5, 'd1', 2.5),\n",
    "    (6, 'd2', 7.0),\n",
    "    (7, 'd3', 9.0),\n",
    "    (8, 'd4', 10.2)\n",
    "]\n",
    "\n",
    "df = spark.createDataFrame(data, schema)\n",
    "\n",
    "# step 5: Save DataFrame as a table in the default database (or specific database)\n",
    "df.createOrReplaceTempView(\"empdept_tbl\")\n",
    "\n",
    "# step 6: Display the DataFrame content (optional)\n",
    "df.display()\n"
   ]
  },
  {
   "cell_type": "markdown",
   "metadata": {
    "application/vnd.databricks.v1+cell": {
     "cellMetadata": {},
     "inputWidgets": {},
     "nuid": "d772ba22-bc52-4298-ae61-190209fdd7ff",
     "showTitle": false,
     "title": ""
    }
   },
   "source": [
    "#Spark SQL"
   ]
  },
  {
   "cell_type": "code",
   "execution_count": 0,
   "metadata": {
    "application/vnd.databricks.v1+cell": {
     "cellMetadata": {
      "byteLimit": 2048000,
      "implicitDf": true,
      "rowLimit": 10000
     },
     "inputWidgets": {},
     "nuid": "6488c3b6-0ea5-49c0-9365-d2f297ef23a9",
     "showTitle": false,
     "title": ""
    }
   },
   "outputs": [
    {
     "output_type": "display_data",
     "data": {
      "text/html": [
       "<style scoped>\n",
       "  .table-result-container {\n",
       "    max-height: 300px;\n",
       "    overflow: auto;\n",
       "  }\n",
       "  table, th, td {\n",
       "    border: 1px solid black;\n",
       "    border-collapse: collapse;\n",
       "  }\n",
       "  th, td {\n",
       "    padding: 5px;\n",
       "  }\n",
       "  th {\n",
       "    text-align: left;\n",
       "  }\n",
       "</style><div class='table-result-container'><table class='table-result'><thead style='background-color: white'><tr><th>eid</th><th>dept</th><th>scores</th></tr></thead><tbody><tr><td>1</td><td>d1</td><td>5.28</td></tr><tr><td>2</td><td>d1</td><td>5.28</td></tr><tr><td>3</td><td>d1</td><td>5.28</td></tr><tr><td>4</td><td>d2</td><td>8.0</td></tr><tr><td>5</td><td>d1</td><td>5.28</td></tr><tr><td>6</td><td>d2</td><td>8.0</td></tr><tr><td>7</td><td>d3</td><td>9.0</td></tr><tr><td>8</td><td>d4</td><td>10.2</td></tr></tbody></table></div>"
      ]
     },
     "metadata": {
      "application/vnd.databricks.v1+output": {
       "addedWidgets": {},
       "aggData": [],
       "aggError": "",
       "aggOverflow": false,
       "aggSchema": [],
       "aggSeriesLimitReached": false,
       "aggType": "",
       "arguments": {},
       "columnCustomDisplayInfos": {},
       "data": [
        [
         1,
         "d1",
         5.28
        ],
        [
         2,
         "d1",
         5.28
        ],
        [
         3,
         "d1",
         5.28
        ],
        [
         4,
         "d2",
         8.0
        ],
        [
         5,
         "d1",
         5.28
        ],
        [
         6,
         "d2",
         8.0
        ],
        [
         7,
         "d3",
         9.0
        ],
        [
         8,
         "d4",
         10.2
        ]
       ],
       "datasetInfos": [],
       "dbfsResultPath": null,
       "isJsonSchema": true,
       "metadata": {},
       "overflow": false,
       "plotOptions": {
        "customPlotOptions": {},
        "displayType": "table",
        "pivotAggregation": null,
        "pivotColumns": null,
        "xColumns": null,
        "yColumns": null
       },
       "removedWidgets": [],
       "schema": [
        {
         "metadata": "{}",
         "name": "eid",
         "type": "\"integer\""
        },
        {
         "metadata": "{}",
         "name": "dept",
         "type": "\"string\""
        },
        {
         "metadata": "{}",
         "name": "scores",
         "type": "\"float\""
        }
       ],
       "type": "table"
      }
     },
     "output_type": "display_data"
    }
   ],
   "source": [
    "%sql\n",
    "with t1 as(\n",
    "  select\n",
    "    *,\n",
    "    dense_rank() over(\n",
    "      partition by dept\n",
    "      order by\n",
    "        scores desc\n",
    "    ) dn\n",
    "  from\n",
    "    empdept_tbl qualify dn = 1\n",
    "),\n",
    "t2 as(\n",
    "  select\n",
    "    eid,\n",
    "    dept\n",
    "  from\n",
    "    empdept_tbl\n",
    ")\n",
    "select\n",
    "  t2.eid,\n",
    "  t2.dept,\n",
    "  round(t1.scores, 2) as scores\n",
    "from\n",
    "  t1\n",
    "  right join t2 on t1.dept = t2.dept\n",
    "order by\n",
    "  1;"
   ]
  },
  {
   "cell_type": "markdown",
   "metadata": {
    "application/vnd.databricks.v1+cell": {
     "cellMetadata": {},
     "inputWidgets": {},
     "nuid": "29efe2bd-20cb-4a63-93a1-30209d22ec98",
     "showTitle": false,
     "title": ""
    }
   },
   "source": [
    "#PySpark"
   ]
  },
  {
   "cell_type": "code",
   "execution_count": 0,
   "metadata": {
    "application/vnd.databricks.v1+cell": {
     "cellMetadata": {
      "byteLimit": 2048000,
      "rowLimit": 10000
     },
     "inputWidgets": {},
     "nuid": "b76bebe4-58ff-4f0b-afaa-c67ea3307a84",
     "showTitle": false,
     "title": ""
    }
   },
   "outputs": [
    {
     "output_type": "display_data",
     "data": {
      "text/html": [
       "<style scoped>\n",
       "  .table-result-container {\n",
       "    max-height: 300px;\n",
       "    overflow: auto;\n",
       "  }\n",
       "  table, th, td {\n",
       "    border: 1px solid black;\n",
       "    border-collapse: collapse;\n",
       "  }\n",
       "  th, td {\n",
       "    padding: 5px;\n",
       "  }\n",
       "  th {\n",
       "    text-align: left;\n",
       "  }\n",
       "</style><div class='table-result-container'><table class='table-result'><thead style='background-color: white'><tr><th>dept</th><th>eid</th><th>scores</th></tr></thead><tbody><tr><td>d1</td><td>1</td><td>5.3</td></tr><tr><td>d1</td><td>2</td><td>5.3</td></tr><tr><td>d1</td><td>3</td><td>5.3</td></tr><tr><td>d2</td><td>4</td><td>8.0</td></tr><tr><td>d1</td><td>5</td><td>5.3</td></tr><tr><td>d2</td><td>6</td><td>8.0</td></tr><tr><td>d3</td><td>7</td><td>9.0</td></tr><tr><td>d4</td><td>8</td><td>10.2</td></tr></tbody></table></div>"
      ]
     },
     "metadata": {
      "application/vnd.databricks.v1+output": {
       "addedWidgets": {},
       "aggData": [],
       "aggError": "",
       "aggOverflow": false,
       "aggSchema": [],
       "aggSeriesLimitReached": false,
       "aggType": "",
       "arguments": {},
       "columnCustomDisplayInfos": {},
       "data": [
        [
         "d1",
         1,
         5.3
        ],
        [
         "d1",
         2,
         5.3
        ],
        [
         "d1",
         3,
         5.3
        ],
        [
         "d2",
         4,
         8.0
        ],
        [
         "d1",
         5,
         5.3
        ],
        [
         "d2",
         6,
         8.0
        ],
        [
         "d3",
         7,
         9.0
        ],
        [
         "d4",
         8,
         10.2
        ]
       ],
       "datasetInfos": [],
       "dbfsResultPath": null,
       "isJsonSchema": true,
       "metadata": {},
       "overflow": false,
       "plotOptions": {
        "customPlotOptions": {},
        "displayType": "table",
        "pivotAggregation": null,
        "pivotColumns": null,
        "xColumns": null,
        "yColumns": null
       },
       "removedWidgets": [],
       "schema": [
        {
         "metadata": "{}",
         "name": "dept",
         "type": "\"string\""
        },
        {
         "metadata": "{}",
         "name": "eid",
         "type": "\"integer\""
        },
        {
         "metadata": "{}",
         "name": "scores",
         "type": "\"float\""
        }
       ],
       "type": "table"
      }
     },
     "output_type": "display_data"
    }
   ],
   "source": [
    "# Step 1: Create window specification for dense_rank\n",
    "window_spec = Window.partitionBy(\"dept\").orderBy(F.desc(\"scores\"))\n",
    "\n",
    "# Step 2: Apply dense_rank and filter for rank = 1 (simulate QUALIFY clause)\n",
    "df_with_rank = df.withColumn(\"dn\", F.dense_rank().over(window_spec)).filter(F.col(\"dn\") == 1)\n",
    "\n",
    "# Step 3: Round the scores to the nearest integer\n",
    "df_with_rank = df_with_rank.withColumn(\"scores\", F.round(F.col(\"scores\"), 1))\n",
    "\n",
    "# Step 4: Create t1 as the result of the above operation\n",
    "t1 = df_with_rank.select(\"dept\", \"scores\")\n",
    "\n",
    "# Step 5: Create t2 as a selection of eid and dept\n",
    "t2 = df.select(\"eid\", \"dept\")\n",
    "\n",
    "# Step 6: Perform right join between t1 and t2\n",
    "result_df = t2.join(t1, on=\"dept\", how=\"right\")\n",
    "\n",
    "# Step 7: Order by eid\n",
    "result_df = result_df.orderBy(\"eid\")\n",
    "# display the final result\n",
    "result_df.display()"
   ]
  },
  {
   "cell_type": "markdown",
   "metadata": {
    "application/vnd.databricks.v1+cell": {
     "cellMetadata": {},
     "inputWidgets": {},
     "nuid": "eb6c15f6-2e7a-4a9b-b504-6f4622e6b826",
     "showTitle": false,
     "title": ""
    }
   },
   "source": [
    "#Explanation:\n",
    "###Window Function: \n",
    "  We use Window.partitionBy(\"dept\").orderBy(F.desc(\"scores\")) to define the partitioning and ordering for the DENSE_RANK window function.\n",
    "\n",
    "###Filtering: \n",
    "  Since PySpark doesn't support the QUALIFY clause, we filter the result after calculating the rank using .filter(F.col(\"dn\") == 1).\n",
    "\n",
    "###Join Operation: \n",
    "  We then perform a right join between the t1 and t2 DataFrames based on the dept column.\n",
    "\n",
    "###Ordering: \n",
    "  Finally, the result is ordered by eid.\n",
    "\n",
    "This approach should give you the desired output from your original SQL query but implemented in PySpark."
   ]
  }
 ],
 "metadata": {
  "application/vnd.databricks.v1+notebook": {
   "dashboards": [],
   "environmentMetadata": null,
   "language": "python",
   "notebookMetadata": {
    "mostRecentlyExecutedCommandWithImplicitDF": {
     "commandId": 1765384860139066,
     "dataframes": [
      "_sqldf"
     ]
    },
    "pythonIndentUnit": 4
   },
   "notebookName": "Mphasis SQL Interview question",
   "widgets": {}
  }
 },
 "nbformat": 4,
 "nbformat_minor": 0
}
