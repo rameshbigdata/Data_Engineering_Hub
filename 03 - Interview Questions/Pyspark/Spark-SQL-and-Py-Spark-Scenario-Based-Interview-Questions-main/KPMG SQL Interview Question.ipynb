{
 "cells": [
  {
   "cell_type": "code",
   "execution_count": 0,
   "metadata": {
    "application/vnd.databricks.v1+cell": {
     "cellMetadata": {
      "byteLimit": 2048000,
      "rowLimit": 10000
     },
     "inputWidgets": {},
     "nuid": "9998f8de-48c4-422b-844a-a849d15200f1",
     "showTitle": false,
     "title": ""
    }
   },
   "outputs": [
    {
     "output_type": "display_data",
     "data": {
      "text/html": [
       "<style scoped>\n",
       "  .table-result-container {\n",
       "    max-height: 300px;\n",
       "    overflow: auto;\n",
       "  }\n",
       "  table, th, td {\n",
       "    border: 1px solid black;\n",
       "    border-collapse: collapse;\n",
       "  }\n",
       "  th, td {\n",
       "    padding: 5px;\n",
       "  }\n",
       "  th {\n",
       "    text-align: left;\n",
       "  }\n",
       "</style><div class='table-result-container'><table class='table-result'><thead style='background-color: white'><tr><th>sname</th><th>sid</th><th>marks</th></tr></thead><tbody><tr><td>A</td><td>X</td><td>75</td></tr><tr><td>A</td><td>Y</td><td>75</td></tr><tr><td>A</td><td>Z</td><td>80</td></tr><tr><td>B</td><td>X</td><td>90</td></tr><tr><td>B</td><td>Y</td><td>91</td></tr><tr><td>B</td><td>Z</td><td>75</td></tr></tbody></table></div>"
      ]
     },
     "metadata": {
      "application/vnd.databricks.v1+output": {
       "addedWidgets": {},
       "aggData": [],
       "aggError": "",
       "aggOverflow": false,
       "aggSchema": [],
       "aggSeriesLimitReached": false,
       "aggType": "",
       "arguments": {},
       "columnCustomDisplayInfos": {},
       "data": [
        [
         "A",
         "X",
         75
        ],
        [
         "A",
         "Y",
         75
        ],
        [
         "A",
         "Z",
         80
        ],
        [
         "B",
         "X",
         90
        ],
        [
         "B",
         "Y",
         91
        ],
        [
         "B",
         "Z",
         75
        ]
       ],
       "datasetInfos": [],
       "dbfsResultPath": null,
       "isJsonSchema": true,
       "metadata": {},
       "overflow": false,
       "plotOptions": {
        "customPlotOptions": {},
        "displayType": "table",
        "pivotAggregation": null,
        "pivotColumns": null,
        "xColumns": null,
        "yColumns": null
       },
       "removedWidgets": [],
       "schema": [
        {
         "metadata": "{}",
         "name": "sname",
         "type": "\"string\""
        },
        {
         "metadata": "{}",
         "name": "sid",
         "type": "\"string\""
        },
        {
         "metadata": "{}",
         "name": "marks",
         "type": "\"integer\""
        }
       ],
       "type": "table"
      }
     },
     "output_type": "display_data"
    }
   ],
   "source": [
    "from pyspark.sql import SparkSession\n",
    "from pyspark.sql.types import StructType, StructField, StringType, IntegerType\n",
    "from pyspark.sql import Window\n",
    "from pyspark.sql.functions import col, row_number, sum as spark_sum\n",
    "\n",
    "# Initialize Spark session\n",
    "spark = SparkSession.builder.appName(\"students_example\").getOrCreate()\n",
    "\n",
    "# Define schema for students table\n",
    "schema = StructType([\n",
    "    StructField(\"sname\", StringType(), True),\n",
    "    StructField(\"sid\", StringType(), True),\n",
    "    StructField(\"marks\", IntegerType(), True)\n",
    "])\n",
    "\n",
    "# Create data for students table\n",
    "data = [\n",
    "    ('A', 'X', 75),\n",
    "    ('A', 'Y', 75),\n",
    "    ('A', 'Z', 80),\n",
    "    ('B', 'X', 90),\n",
    "    ('B', 'Y', 91),\n",
    "    ('B', 'Z', 75)\n",
    "]\n",
    "\n",
    "# Create DataFrame for students\n",
    "df_students = spark.createDataFrame(data, schema)\n",
    "\n",
    "# Show the data\n",
    "df_students.display()\n"
   ]
  },
  {
   "cell_type": "code",
   "execution_count": 0,
   "metadata": {
    "application/vnd.databricks.v1+cell": {
     "cellMetadata": {
      "byteLimit": 2048000,
      "rowLimit": 10000
     },
     "inputWidgets": {},
     "nuid": "ede2da64-3ebd-4a5b-b270-7fa94b8c9766",
     "showTitle": false,
     "title": ""
    }
   },
   "outputs": [
    {
     "output_type": "display_data",
     "data": {
      "text/html": [
       "<style scoped>\n",
       "  .table-result-container {\n",
       "    max-height: 300px;\n",
       "    overflow: auto;\n",
       "  }\n",
       "  table, th, td {\n",
       "    border: 1px solid black;\n",
       "    border-collapse: collapse;\n",
       "  }\n",
       "  th, td {\n",
       "    padding: 5px;\n",
       "  }\n",
       "  th {\n",
       "    text-align: left;\n",
       "  }\n",
       "</style><div class='table-result-container'><table class='table-result'><thead style='background-color: white'><tr><th>sname</th><th>TotalMarks</th></tr></thead><tbody><tr><td>A</td><td>155</td></tr><tr><td>B</td><td>181</td></tr></tbody></table></div>"
      ]
     },
     "metadata": {
      "application/vnd.databricks.v1+output": {
       "addedWidgets": {},
       "aggData": [],
       "aggError": "",
       "aggOverflow": false,
       "aggSchema": [],
       "aggSeriesLimitReached": false,
       "aggType": "",
       "arguments": {},
       "columnCustomDisplayInfos": {},
       "data": [
        [
         "A",
         155
        ],
        [
         "B",
         181
        ]
       ],
       "datasetInfos": [],
       "dbfsResultPath": null,
       "isJsonSchema": true,
       "metadata": {},
       "overflow": false,
       "plotOptions": {
        "customPlotOptions": {},
        "displayType": "table",
        "pivotAggregation": null,
        "pivotColumns": null,
        "xColumns": null,
        "yColumns": null
       },
       "removedWidgets": [],
       "schema": [
        {
         "metadata": "{}",
         "name": "sname",
         "type": "\"string\""
        },
        {
         "metadata": "{}",
         "name": "TotalMarks",
         "type": "\"long\""
        }
       ],
       "type": "table"
      }
     },
     "output_type": "display_data"
    }
   ],
   "source": [
    "# Define a window specification to partition by 'sname' and order by 'marks' descending\n",
    "window_spec = Window.partitionBy(\"sname\").orderBy(col(\"marks\").desc())\n",
    "\n",
    "# Add the row number for each student partitioned by 'sname'\n",
    "students_with_row_number = df_students.withColumn(\"marks_rn\", row_number().over(window_spec))\n",
    "\n",
    "# Filter the rows where 'marks_rn' is less than 3\n",
    "filtered_df = students_with_row_number.filter(col(\"marks_rn\") < 3)\n",
    "\n",
    "# Group by 'sname' and calculate the total marks\n",
    "result_df = filtered_df.groupBy(\"sname\").agg(spark_sum(\"marks\").alias(\"TotalMarks\"))\n",
    "\n",
    "# Show the result\n",
    "result_df.display()\n"
   ]
  },
  {
   "cell_type": "code",
   "execution_count": 0,
   "metadata": {
    "application/vnd.databricks.v1+cell": {
     "cellMetadata": {
      "byteLimit": 2048000,
      "rowLimit": 10000
     },
     "inputWidgets": {},
     "nuid": "a9522e23-3f17-4a75-a126-0419f3deec41",
     "showTitle": false,
     "title": ""
    }
   },
   "outputs": [],
   "source": [
    "df_students.createOrReplaceTempView('students')"
   ]
  },
  {
   "cell_type": "code",
   "execution_count": 0,
   "metadata": {
    "application/vnd.databricks.v1+cell": {
     "cellMetadata": {
      "byteLimit": 2048000,
      "rowLimit": 10000
     },
     "inputWidgets": {},
     "nuid": "6d1594a5-b4d9-4103-bbd7-08e4c01dcaf0",
     "showTitle": false,
     "title": ""
    }
   },
   "outputs": [
    {
     "output_type": "display_data",
     "data": {
      "text/html": [
       "<style scoped>\n",
       "  .table-result-container {\n",
       "    max-height: 300px;\n",
       "    overflow: auto;\n",
       "  }\n",
       "  table, th, td {\n",
       "    border: 1px solid black;\n",
       "    border-collapse: collapse;\n",
       "  }\n",
       "  th, td {\n",
       "    padding: 5px;\n",
       "  }\n",
       "  th {\n",
       "    text-align: left;\n",
       "  }\n",
       "</style><div class='table-result-container'><table class='table-result'><thead style='background-color: white'><tr><th>sname</th><th>TotalMarks</th></tr></thead><tbody><tr><td>A</td><td>155</td></tr><tr><td>B</td><td>181</td></tr></tbody></table></div>"
      ]
     },
     "metadata": {
      "application/vnd.databricks.v1+output": {
       "addedWidgets": {},
       "aggData": [],
       "aggError": "",
       "aggOverflow": false,
       "aggSchema": [],
       "aggSeriesLimitReached": false,
       "aggType": "",
       "arguments": {},
       "columnCustomDisplayInfos": {},
       "data": [
        [
         "A",
         155
        ],
        [
         "B",
         181
        ]
       ],
       "datasetInfos": [],
       "dbfsResultPath": null,
       "isJsonSchema": true,
       "metadata": {},
       "overflow": false,
       "plotOptions": {
        "customPlotOptions": {},
        "displayType": "table",
        "pivotAggregation": null,
        "pivotColumns": null,
        "xColumns": null,
        "yColumns": null
       },
       "removedWidgets": [],
       "schema": [
        {
         "metadata": "{}",
         "name": "sname",
         "type": "\"string\""
        },
        {
         "metadata": "{}",
         "name": "TotalMarks",
         "type": "\"long\""
        }
       ],
       "type": "table"
      }
     },
     "output_type": "display_data"
    }
   ],
   "source": [
    "result_df = spark.sql(\"\"\"\n",
    "WITH student_agg AS (\n",
    "    SELECT sname, marks, ROW_NUMBER() OVER (PARTITION BY sname ORDER BY marks DESC) AS marks_rn\n",
    "    FROM Students\n",
    ")\n",
    "SELECT sname, SUM(marks) AS TotalMarks\n",
    "FROM student_agg\n",
    "WHERE marks_rn < 3\n",
    "GROUP BY sname\n",
    "\"\"\")\n",
    "\n",
    "# Show the result\n",
    "result_df.display()"
   ]
  }
 ],
 "metadata": {
  "application/vnd.databricks.v1+notebook": {
   "dashboards": [],
   "environmentMetadata": null,
   "language": "python",
   "notebookMetadata": {
    "mostRecentlyExecutedCommandWithImplicitDF": {
     "commandId": 290822405005574,
     "dataframes": [
      "_sqldf"
     ]
    },
    "pythonIndentUnit": 4
   },
   "notebookName": "KPMG SQL Interview Question",
   "widgets": {}
  }
 },
 "nbformat": 4,
 "nbformat_minor": 0
}
