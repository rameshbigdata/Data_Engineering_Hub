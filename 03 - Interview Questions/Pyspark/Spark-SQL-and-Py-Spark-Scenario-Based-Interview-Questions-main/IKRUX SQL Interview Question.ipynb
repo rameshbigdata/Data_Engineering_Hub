{
 "cells": [
  {
   "cell_type": "code",
   "execution_count": 0,
   "metadata": {
    "application/vnd.databricks.v1+cell": {
     "cellMetadata": {
      "byteLimit": 2048000,
      "rowLimit": 10000
     },
     "inputWidgets": {},
     "nuid": "e7af7a0e-fdf3-4376-a0a0-7ae30132cdd8",
     "showTitle": false,
     "title": ""
    }
   },
   "outputs": [
    {
     "output_type": "display_data",
     "data": {
      "text/html": [
       "<style scoped>\n",
       "  .table-result-container {\n",
       "    max-height: 300px;\n",
       "    overflow: auto;\n",
       "  }\n",
       "  table, th, td {\n",
       "    border: 1px solid black;\n",
       "    border-collapse: collapse;\n",
       "  }\n",
       "  th, td {\n",
       "    padding: 5px;\n",
       "  }\n",
       "  th {\n",
       "    text-align: left;\n",
       "  }\n",
       "</style><div class='table-result-container'><table class='table-result'><thead style='background-color: white'><tr><th>empid</th><th>empname</th><th>salary</th><th>deptid</th></tr></thead><tbody><tr><td>1</td><td>Nikitha</td><td>45000</td><td>206</td></tr><tr><td>2</td><td>Ashish</td><td>42000</td><td>207</td></tr><tr><td>3</td><td>David</td><td>40000</td><td>206</td></tr><tr><td>4</td><td>Ram</td><td>50000</td><td>207</td></tr><tr><td>5</td><td>John</td><td>35000</td><td>208</td></tr><tr><td>6</td><td>Mark</td><td>50000</td><td>207</td></tr><tr><td>7</td><td>Aravind</td><td>39000</td><td>208</td></tr></tbody></table></div>"
      ]
     },
     "metadata": {
      "application/vnd.databricks.v1+output": {
       "addedWidgets": {},
       "aggData": [],
       "aggError": "",
       "aggOverflow": false,
       "aggSchema": [],
       "aggSeriesLimitReached": false,
       "aggType": "",
       "arguments": {},
       "columnCustomDisplayInfos": {},
       "data": [
        [
         1,
         "Nikitha",
         45000,
         206
        ],
        [
         2,
         "Ashish",
         42000,
         207
        ],
        [
         3,
         "David",
         40000,
         206
        ],
        [
         4,
         "Ram",
         50000,
         207
        ],
        [
         5,
         "John",
         35000,
         208
        ],
        [
         6,
         "Mark",
         50000,
         207
        ],
        [
         7,
         "Aravind",
         39000,
         208
        ]
       ],
       "datasetInfos": [],
       "dbfsResultPath": null,
       "isJsonSchema": true,
       "metadata": {},
       "overflow": false,
       "plotOptions": {
        "customPlotOptions": {},
        "displayType": "table",
        "pivotAggregation": null,
        "pivotColumns": null,
        "xColumns": null,
        "yColumns": null
       },
       "removedWidgets": [],
       "schema": [
        {
         "metadata": "{}",
         "name": "empid",
         "type": "\"integer\""
        },
        {
         "metadata": "{}",
         "name": "empname",
         "type": "\"string\""
        },
        {
         "metadata": "{}",
         "name": "salary",
         "type": "\"integer\""
        },
        {
         "metadata": "{}",
         "name": "deptid",
         "type": "\"integer\""
        }
       ],
       "type": "table"
      }
     },
     "output_type": "display_data"
    },
    {
     "output_type": "display_data",
     "data": {
      "text/html": [
       "<style scoped>\n",
       "  .table-result-container {\n",
       "    max-height: 300px;\n",
       "    overflow: auto;\n",
       "  }\n",
       "  table, th, td {\n",
       "    border: 1px solid black;\n",
       "    border-collapse: collapse;\n",
       "  }\n",
       "  th, td {\n",
       "    padding: 5px;\n",
       "  }\n",
       "  th {\n",
       "    text-align: left;\n",
       "  }\n",
       "</style><div class='table-result-container'><table class='table-result'><thead style='background-color: white'><tr><th>deptid</th><th>deptname</th></tr></thead><tbody><tr><td>206</td><td>HR</td></tr><tr><td>207</td><td>IT</td></tr><tr><td>208</td><td>Finance</td></tr></tbody></table></div>"
      ]
     },
     "metadata": {
      "application/vnd.databricks.v1+output": {
       "addedWidgets": {},
       "aggData": [],
       "aggError": "",
       "aggOverflow": false,
       "aggSchema": [],
       "aggSeriesLimitReached": false,
       "aggType": "",
       "arguments": {},
       "columnCustomDisplayInfos": {},
       "data": [
        [
         206,
         "HR"
        ],
        [
         207,
         "IT"
        ],
        [
         208,
         "Finance"
        ]
       ],
       "datasetInfos": [],
       "dbfsResultPath": null,
       "isJsonSchema": true,
       "metadata": {},
       "overflow": false,
       "plotOptions": {
        "customPlotOptions": {},
        "displayType": "table",
        "pivotAggregation": null,
        "pivotColumns": null,
        "xColumns": null,
        "yColumns": null
       },
       "removedWidgets": [],
       "schema": [
        {
         "metadata": "{}",
         "name": "deptid",
         "type": "\"integer\""
        },
        {
         "metadata": "{}",
         "name": "deptname",
         "type": "\"string\""
        }
       ],
       "type": "table"
      }
     },
     "output_type": "display_data"
    }
   ],
   "source": [
    "from pyspark.sql import SparkSession\n",
    "from pyspark.sql.types import StructType, StructField, IntegerType, StringType\n",
    "from pyspark.sql import functions as F\n",
    "from pyspark.sql.window import Window\n",
    "\n",
    "# Initialize SparkSession\n",
    "spark = SparkSession.builder.appName(\"example\").getOrCreate()\n",
    "\n",
    "# Define schema for emp table\n",
    "emp_schema = StructType([\n",
    "    StructField(\"empid\", IntegerType(), False),\n",
    "    StructField(\"empname\", StringType(), False),\n",
    "    StructField(\"salary\", IntegerType(), False),\n",
    "    StructField(\"deptid\", IntegerType(), False)\n",
    "])\n",
    "\n",
    "# Define schema for dept table\n",
    "dept_schema = StructType([\n",
    "    StructField(\"deptid\", IntegerType(), False),\n",
    "    StructField(\"deptname\", StringType(), False)\n",
    "])\n",
    "\n",
    "# Create DataFrame for emp table\n",
    "emp_data = [\n",
    "    (1, 'Nikitha', 45000, 206),\n",
    "    (2, 'Ashish', 42000, 207),\n",
    "    (3, 'David', 40000, 206),\n",
    "    (4, 'Ram', 50000, 207),\n",
    "    (5, 'John', 35000, 208),\n",
    "    (6, 'Mark', 50000, 207),\n",
    "    (7, 'Aravind', 39000, 208)\n",
    "]\n",
    "emp_df = spark.createDataFrame(emp_data, schema=emp_schema)\n",
    "\n",
    "# Create DataFrame for dept table\n",
    "dept_data = [\n",
    "    (206, 'HR'),\n",
    "    (207, 'IT'),\n",
    "    (208, 'Finance')\n",
    "]\n",
    "dept_df = spark.createDataFrame(dept_data, schema=dept_schema)\n",
    "\n",
    "# Show the DataFrames\n",
    "emp_df.display()\n",
    "dept_df.display()\n"
   ]
  },
  {
   "cell_type": "code",
   "execution_count": 0,
   "metadata": {
    "application/vnd.databricks.v1+cell": {
     "cellMetadata": {
      "byteLimit": 2048000,
      "rowLimit": 10000
     },
     "inputWidgets": {},
     "nuid": "2e09b44e-2318-4720-bc67-b705efe2be2b",
     "showTitle": false,
     "title": ""
    }
   },
   "outputs": [],
   "source": [
    "dept_df.createOrReplaceTempView('emp')\n",
    "emp_df.createOrReplaceTempView('dept')"
   ]
  },
  {
   "cell_type": "code",
   "execution_count": 0,
   "metadata": {
    "application/vnd.databricks.v1+cell": {
     "cellMetadata": {
      "byteLimit": 2048000,
      "implicitDf": true,
      "rowLimit": 10000
     },
     "inputWidgets": {},
     "nuid": "0fe108fe-87cf-4095-a5cb-6e3606de22a1",
     "showTitle": false,
     "title": ""
    }
   },
   "outputs": [
    {
     "output_type": "display_data",
     "data": {
      "text/html": [
       "<style scoped>\n",
       "  .table-result-container {\n",
       "    max-height: 300px;\n",
       "    overflow: auto;\n",
       "  }\n",
       "  table, th, td {\n",
       "    border: 1px solid black;\n",
       "    border-collapse: collapse;\n",
       "  }\n",
       "  th, td {\n",
       "    padding: 5px;\n",
       "  }\n",
       "  th {\n",
       "    text-align: left;\n",
       "  }\n",
       "</style><div class='table-result-container'><table class='table-result'><thead style='background-color: white'><tr><th>deptname</th><th>name</th></tr></thead><tbody><tr><td>Finance</td><td>Aravind</td></tr><tr><td>HR</td><td>Nikitha</td></tr><tr><td>IT</td><td>Ram,Mark</td></tr></tbody></table></div>"
      ]
     },
     "metadata": {
      "application/vnd.databricks.v1+output": {
       "addedWidgets": {},
       "aggData": [],
       "aggError": "",
       "aggOverflow": false,
       "aggSchema": [],
       "aggSeriesLimitReached": false,
       "aggType": "",
       "arguments": {},
       "columnCustomDisplayInfos": {},
       "data": [
        [
         "Finance",
         "Aravind"
        ],
        [
         "HR",
         "Nikitha"
        ],
        [
         "IT",
         "Ram,Mark"
        ]
       ],
       "datasetInfos": [],
       "dbfsResultPath": null,
       "isJsonSchema": true,
       "metadata": {},
       "overflow": false,
       "plotOptions": {
        "customPlotOptions": {},
        "displayType": "table",
        "pivotAggregation": null,
        "pivotColumns": null,
        "xColumns": null,
        "yColumns": null
       },
       "removedWidgets": [],
       "schema": [
        {
         "metadata": "{}",
         "name": "deptname",
         "type": "\"string\""
        },
        {
         "metadata": "{}",
         "name": "name",
         "type": "\"string\""
        }
       ],
       "type": "table"
      }
     },
     "output_type": "display_data"
    }
   ],
   "source": [
    "sql_query = \"\"\"\n",
    "WITH cte AS (\n",
    "    SELECT empname, deptname, \n",
    "           RANK() OVER (PARTITION BY deptname ORDER BY salary DESC) AS rnk\n",
    "    FROM emp\n",
    "    INNER JOIN dept\n",
    "    USING (deptid)\n",
    ")\n",
    "SELECT deptname, \n",
    "       CONCAT_WS(',', COLLECT_LIST(empname)) AS name\n",
    "FROM cte\n",
    "WHERE rnk = 1\n",
    "GROUP BY deptname\n",
    "\"\"\"\n",
    "\n",
    "# Execute the SQL query\n",
    "result_df = spark.sql(sql_query)\n",
    "\n",
    "# Show the result\n",
    "result_df.display()"
   ]
  },
  {
   "cell_type": "code",
   "execution_count": 0,
   "metadata": {
    "application/vnd.databricks.v1+cell": {
     "cellMetadata": {
      "byteLimit": 2048000,
      "rowLimit": 10000
     },
     "inputWidgets": {},
     "nuid": "5e7cf21a-d87b-4021-bcb1-6a4c60b3417b",
     "showTitle": false,
     "title": ""
    }
   },
   "outputs": [
    {
     "output_type": "display_data",
     "data": {
      "text/html": [
       "<style scoped>\n",
       "  .table-result-container {\n",
       "    max-height: 300px;\n",
       "    overflow: auto;\n",
       "  }\n",
       "  table, th, td {\n",
       "    border: 1px solid black;\n",
       "    border-collapse: collapse;\n",
       "  }\n",
       "  th, td {\n",
       "    padding: 5px;\n",
       "  }\n",
       "  th {\n",
       "    text-align: left;\n",
       "  }\n",
       "</style><div class='table-result-container'><table class='table-result'><thead style='background-color: white'><tr><th>deptname</th><th>name</th></tr></thead><tbody><tr><td>Finance</td><td>Aravind</td></tr><tr><td>HR</td><td>Nikitha</td></tr><tr><td>IT</td><td>Ram,Mark</td></tr></tbody></table></div>"
      ]
     },
     "metadata": {
      "application/vnd.databricks.v1+output": {
       "addedWidgets": {},
       "aggData": [],
       "aggError": "",
       "aggOverflow": false,
       "aggSchema": [],
       "aggSeriesLimitReached": false,
       "aggType": "",
       "arguments": {},
       "columnCustomDisplayInfos": {},
       "data": [
        [
         "Finance",
         "Aravind"
        ],
        [
         "HR",
         "Nikitha"
        ],
        [
         "IT",
         "Ram,Mark"
        ]
       ],
       "datasetInfos": [],
       "dbfsResultPath": null,
       "isJsonSchema": true,
       "metadata": {},
       "overflow": false,
       "plotOptions": {
        "customPlotOptions": {},
        "displayType": "table",
        "pivotAggregation": null,
        "pivotColumns": null,
        "xColumns": null,
        "yColumns": null
       },
       "removedWidgets": [],
       "schema": [
        {
         "metadata": "{}",
         "name": "deptname",
         "type": "\"string\""
        },
        {
         "metadata": "{}",
         "name": "name",
         "type": "\"string\""
        }
       ],
       "type": "table"
      }
     },
     "output_type": "display_data"
    }
   ],
   "source": [
    "# Join the DataFrames\n",
    "joined_df = emp_df.join(dept_df, on=\"deptid\")\n",
    "\n",
    "# Define the Window specification for ranking\n",
    "window_spec = Window.partitionBy(\"deptname\").orderBy(F.desc(\"salary\"))\n",
    "\n",
    "# Add rank column using the Window specification\n",
    "ranked_df = joined_df.withColumn(\"rnk\", F.rank().over(window_spec))\n",
    "\n",
    "# Filter rows where rank is 1 (highest salary)\n",
    "top_salaries_df = ranked_df.filter(F.col(\"rnk\") == 1)\n",
    "\n",
    "# Group by department and aggregate employee names\n",
    "result_df = top_salaries_df.groupBy(\"deptname\").agg(\n",
    "    F.concat_ws(\",\", F.collect_list(\"empname\")).alias(\"name\")\n",
    ")\n",
    "\n",
    "# Show the result\n",
    "result_df.display()"
   ]
  }
 ],
 "metadata": {
  "application/vnd.databricks.v1+notebook": {
   "dashboards": [],
   "environmentMetadata": null,
   "language": "python",
   "notebookMetadata": {
    "mostRecentlyExecutedCommandWithImplicitDF": {
     "commandId": -1,
     "dataframes": [
      "_sqldf"
     ]
    },
    "pythonIndentUnit": 4
   },
   "notebookName": "IKRUX SQL Interview Question",
   "widgets": {}
  }
 },
 "nbformat": 4,
 "nbformat_minor": 0
}
