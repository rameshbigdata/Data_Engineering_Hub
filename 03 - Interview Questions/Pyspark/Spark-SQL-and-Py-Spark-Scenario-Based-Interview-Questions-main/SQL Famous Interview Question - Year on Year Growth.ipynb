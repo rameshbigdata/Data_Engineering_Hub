{
 "cells": [
  {
   "cell_type": "code",
   "execution_count": 0,
   "metadata": {
    "application/vnd.databricks.v1+cell": {
     "cellMetadata": {
      "byteLimit": 2048000,
      "rowLimit": 10000
     },
     "inputWidgets": {},
     "nuid": "bea49b23-12fd-4949-afbd-b676f0b332a6",
     "showTitle": false,
     "title": ""
    }
   },
   "outputs": [
    {
     "output_type": "display_data",
     "data": {
      "text/html": [
       "<style scoped>\n",
       "  .table-result-container {\n",
       "    max-height: 300px;\n",
       "    overflow: auto;\n",
       "  }\n",
       "  table, th, td {\n",
       "    border: 1px solid black;\n",
       "    border-collapse: collapse;\n",
       "  }\n",
       "  th, td {\n",
       "    padding: 5px;\n",
       "  }\n",
       "  th {\n",
       "    text-align: left;\n",
       "  }\n",
       "</style><div class='table-result-container'><table class='table-result'><thead style='background-color: white'><tr><th>Tenant</th><th>Year</th><th>sales</th></tr></thead><tbody><tr><td>tenant 1</td><td>2014</td><td>2000.0</td></tr><tr><td>tenant 1</td><td>2015</td><td>5000.0</td></tr><tr><td>tenant 2</td><td>2013</td><td>1000.0</td></tr><tr><td>tenant 2</td><td>2014</td><td>1500.0</td></tr><tr><td>tenant 2</td><td>2015</td><td>800.0</td></tr></tbody></table></div>"
      ]
     },
     "metadata": {
      "application/vnd.databricks.v1+output": {
       "addedWidgets": {},
       "aggData": [],
       "aggError": "",
       "aggOverflow": false,
       "aggSchema": [],
       "aggSeriesLimitReached": false,
       "aggType": "",
       "arguments": {},
       "columnCustomDisplayInfos": {},
       "data": [
        [
         "tenant 1",
         2014,
         2000.0
        ],
        [
         "tenant 1",
         2015,
         5000.0
        ],
        [
         "tenant 2",
         2013,
         1000.0
        ],
        [
         "tenant 2",
         2014,
         1500.0
        ],
        [
         "tenant 2",
         2015,
         800.0
        ]
       ],
       "datasetInfos": [],
       "dbfsResultPath": null,
       "isJsonSchema": true,
       "metadata": {},
       "overflow": false,
       "plotOptions": {
        "customPlotOptions": {},
        "displayType": "table",
        "pivotAggregation": null,
        "pivotColumns": null,
        "xColumns": null,
        "yColumns": null
       },
       "removedWidgets": [],
       "schema": [
        {
         "metadata": "{}",
         "name": "Tenant",
         "type": "\"string\""
        },
        {
         "metadata": "{}",
         "name": "Year",
         "type": "\"integer\""
        },
        {
         "metadata": "{}",
         "name": "sales",
         "type": "\"float\""
        }
       ],
       "type": "table"
      }
     },
     "output_type": "display_data"
    }
   ],
   "source": [
    "from pyspark.sql import SparkSession\n",
    "from pyspark.sql.types import StructType, StructField, StringType, IntegerType, FloatType\n",
    "from pyspark.sql.window import Window\n",
    "from pyspark.sql.functions import lag, col, expr\n",
    "\n",
    "# Initialize Spark session\n",
    "spark = SparkSession.builder \\\n",
    "    .appName(\"Create and Insert Data into Table\") \\\n",
    "    .getOrCreate()\n",
    "\n",
    "# Define the schema for tableA\n",
    "schema = StructType([\n",
    "    StructField(\"Tenant\", StringType(), True),\n",
    "    StructField(\"Year\", IntegerType(), True),\n",
    "    StructField(\"sales\", FloatType(), True)\n",
    "])\n",
    "\n",
    "# Sample data\n",
    "data = [\n",
    "    ('tenant 1', 2014, 2000.00),\n",
    "    ('tenant 1', 2015, 5000.00),\n",
    "    ('tenant 2', 2013, 1000.00),\n",
    "    ('tenant 2', 2014, 1500.00),\n",
    "    ('tenant 2', 2015, 800.00)\n",
    "]\n",
    "\n",
    "# Create a DataFrame from the data and schema\n",
    "df = spark.createDataFrame(data, schema)\n",
    "\n",
    "# Create tableA in Spark SQL\n",
    "df.createOrReplaceTempView(\"tableA\")\n",
    "\n",
    "# Display the contents of tableA\n",
    "df.display()"
   ]
  },
  {
   "cell_type": "code",
   "execution_count": 0,
   "metadata": {
    "application/vnd.databricks.v1+cell": {
     "cellMetadata": {
      "byteLimit": 2048000,
      "rowLimit": 10000
     },
     "inputWidgets": {},
     "nuid": "acd11a1a-bc81-46e0-afa6-7bf3cf27f8ba",
     "showTitle": false,
     "title": ""
    }
   },
   "outputs": [
    {
     "output_type": "display_data",
     "data": {
      "text/html": [
       "<style scoped>\n",
       "  .table-result-container {\n",
       "    max-height: 300px;\n",
       "    overflow: auto;\n",
       "  }\n",
       "  table, th, td {\n",
       "    border: 1px solid black;\n",
       "    border-collapse: collapse;\n",
       "  }\n",
       "  th, td {\n",
       "    padding: 5px;\n",
       "  }\n",
       "  th {\n",
       "    text-align: left;\n",
       "  }\n",
       "</style><div class='table-result-container'><table class='table-result'><thead style='background-color: white'><tr><th>Tenant</th><th>Year</th><th>sales</th><th>last_year_sales</th><th>YoY</th></tr></thead><tbody><tr><td>tenant 1</td><td>2014</td><td>2000.0</td><td>null</td><td>null</td></tr><tr><td>tenant 1</td><td>2015</td><td>5000.0</td><td>2000.0</td><td>150.0</td></tr><tr><td>tenant 2</td><td>2013</td><td>1000.0</td><td>null</td><td>null</td></tr><tr><td>tenant 2</td><td>2014</td><td>1500.0</td><td>1000.0</td><td>50.0</td></tr><tr><td>tenant 2</td><td>2015</td><td>800.0</td><td>1500.0</td><td>-46.666666666666664</td></tr></tbody></table></div>"
      ]
     },
     "metadata": {
      "application/vnd.databricks.v1+output": {
       "addedWidgets": {},
       "aggData": [],
       "aggError": "",
       "aggOverflow": false,
       "aggSchema": [],
       "aggSeriesLimitReached": false,
       "aggType": "",
       "arguments": {},
       "columnCustomDisplayInfos": {},
       "data": [
        [
         "tenant 1",
         2014,
         2000.0,
         null,
         null
        ],
        [
         "tenant 1",
         2015,
         5000.0,
         2000.0,
         150.0
        ],
        [
         "tenant 2",
         2013,
         1000.0,
         null,
         null
        ],
        [
         "tenant 2",
         2014,
         1500.0,
         1000.0,
         50.0
        ],
        [
         "tenant 2",
         2015,
         800.0,
         1500.0,
         -46.666666666666664
        ]
       ],
       "datasetInfos": [],
       "dbfsResultPath": null,
       "isJsonSchema": true,
       "metadata": {},
       "overflow": false,
       "plotOptions": {
        "customPlotOptions": {},
        "displayType": "table",
        "pivotAggregation": null,
        "pivotColumns": null,
        "xColumns": null,
        "yColumns": null
       },
       "removedWidgets": [],
       "schema": [
        {
         "metadata": "{}",
         "name": "Tenant",
         "type": "\"string\""
        },
        {
         "metadata": "{}",
         "name": "Year",
         "type": "\"integer\""
        },
        {
         "metadata": "{}",
         "name": "sales",
         "type": "\"float\""
        },
        {
         "metadata": "{}",
         "name": "last_year_sales",
         "type": "\"float\""
        },
        {
         "metadata": "{}",
         "name": "YoY",
         "type": "\"double\""
        }
       ],
       "type": "table"
      }
     },
     "output_type": "display_data"
    }
   ],
   "source": [
    "# Define the window specification for the LAG function\n",
    "window_spec = Window.partitionBy(\"Tenant\").orderBy(\"Year\")\n",
    "\n",
    "# Add the last year's sales using the LAG function\n",
    "df_with_lag = df.withColumn(\"last_year_sales\", lag(\"sales\", 1).over(window_spec))\n",
    "\n",
    "# Calculate the YoY percentage\n",
    "df_with_yoy = df_with_lag.withColumn(\"YoY\", \n",
    "    expr(\"((sales - last_year_sales) / last_year_sales) * 100\"))\n",
    "\n",
    "# Display the final DataFrame with YoY\n",
    "df_with_yoy.display()"
   ]
  },
  {
   "cell_type": "code",
   "execution_count": 0,
   "metadata": {
    "application/vnd.databricks.v1+cell": {
     "cellMetadata": {
      "byteLimit": 2048000,
      "implicitDf": true,
      "rowLimit": 10000
     },
     "inputWidgets": {},
     "nuid": "ac94373c-23dc-41ce-896c-486d9b97f19e",
     "showTitle": false,
     "title": ""
    }
   },
   "outputs": [
    {
     "output_type": "display_data",
     "data": {
      "text/html": [
       "<style scoped>\n",
       "  .table-result-container {\n",
       "    max-height: 300px;\n",
       "    overflow: auto;\n",
       "  }\n",
       "  table, th, td {\n",
       "    border: 1px solid black;\n",
       "    border-collapse: collapse;\n",
       "  }\n",
       "  th, td {\n",
       "    padding: 5px;\n",
       "  }\n",
       "  th {\n",
       "    text-align: left;\n",
       "  }\n",
       "</style><div class='table-result-container'><table class='table-result'><thead style='background-color: white'><tr><th>Tenant</th><th>Year</th><th>Sales</th><th>last_year_sales</th><th>YoY</th></tr></thead><tbody><tr><td>tenant 1</td><td>2014</td><td>2000.0</td><td>null</td><td>null</td></tr><tr><td>tenant 1</td><td>2015</td><td>5000.0</td><td>2000.0</td><td>150.0</td></tr><tr><td>tenant 2</td><td>2013</td><td>1000.0</td><td>null</td><td>null</td></tr><tr><td>tenant 2</td><td>2014</td><td>1500.0</td><td>1000.0</td><td>50.0</td></tr><tr><td>tenant 2</td><td>2015</td><td>800.0</td><td>1500.0</td><td>-46.67</td></tr></tbody></table></div>"
      ]
     },
     "metadata": {
      "application/vnd.databricks.v1+output": {
       "addedWidgets": {},
       "aggData": [],
       "aggError": "",
       "aggOverflow": false,
       "aggSchema": [],
       "aggSeriesLimitReached": false,
       "aggType": "",
       "arguments": {},
       "columnCustomDisplayInfos": {},
       "data": [
        [
         "tenant 1",
         2014,
         2000.0,
         null,
         null
        ],
        [
         "tenant 1",
         2015,
         5000.0,
         2000.0,
         150.0
        ],
        [
         "tenant 2",
         2013,
         1000.0,
         null,
         null
        ],
        [
         "tenant 2",
         2014,
         1500.0,
         1000.0,
         50.0
        ],
        [
         "tenant 2",
         2015,
         800.0,
         1500.0,
         -46.67
        ]
       ],
       "datasetInfos": [],
       "dbfsResultPath": null,
       "isJsonSchema": true,
       "metadata": {},
       "overflow": false,
       "plotOptions": {
        "customPlotOptions": {},
        "displayType": "table",
        "pivotAggregation": null,
        "pivotColumns": null,
        "xColumns": null,
        "yColumns": null
       },
       "removedWidgets": [],
       "schema": [
        {
         "metadata": "{}",
         "name": "Tenant",
         "type": "\"string\""
        },
        {
         "metadata": "{}",
         "name": "Year",
         "type": "\"integer\""
        },
        {
         "metadata": "{}",
         "name": "Sales",
         "type": "\"float\""
        },
        {
         "metadata": "{}",
         "name": "last_year_sales",
         "type": "\"float\""
        },
        {
         "metadata": "{}",
         "name": "YoY",
         "type": "\"double\""
        }
       ],
       "type": "table"
      }
     },
     "output_type": "display_data"
    }
   ],
   "source": [
    "%sql\n",
    "WITH CTE AS (\n",
    "    SELECT \n",
    "        Tenant,\n",
    "        Year,\n",
    "        Sales,\n",
    "        LAG(Sales, 1) OVER (PARTITION BY Tenant ORDER BY Year) AS last_year_sales\n",
    "    FROM \n",
    "        tableA\n",
    ")\n",
    "SELECT \n",
    "    Tenant,\n",
    "    Year,\n",
    "    Sales,\n",
    "    last_year_sales,\n",
    "    round(((Sales - last_year_sales) / last_year_sales),4) * 100 AS YoY\n",
    "FROM \n",
    "    CTE;\n"
   ]
  }
 ],
 "metadata": {
  "application/vnd.databricks.v1+notebook": {
   "dashboards": [],
   "environmentMetadata": null,
   "language": "python",
   "notebookMetadata": {
    "mostRecentlyExecutedCommandWithImplicitDF": {
     "commandId": 1037221166651528,
     "dataframes": [
      "_sqldf"
     ]
    },
    "pythonIndentUnit": 4
   },
   "notebookName": "SQL Famous Interview Question - Year on Year Growth",
   "widgets": {}
  }
 },
 "nbformat": 4,
 "nbformat_minor": 0
}
