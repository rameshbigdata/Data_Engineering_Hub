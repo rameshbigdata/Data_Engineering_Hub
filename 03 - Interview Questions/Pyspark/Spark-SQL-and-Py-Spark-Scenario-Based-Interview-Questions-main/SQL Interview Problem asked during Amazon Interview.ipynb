{
 "cells": [
  {
   "cell_type": "markdown",
   "metadata": {
    "application/vnd.databricks.v1+cell": {
     "cellMetadata": {},
     "inputWidgets": {},
     "nuid": "932e4faa-6fbf-4723-9041-3d455da0da58",
     "showTitle": false,
     "title": ""
    }
   },
   "source": [
    "Problem Statement\n",
    "Generate a report to showcase the period of presence and absence of each employee as shown in expected output."
   ]
  },
  {
   "cell_type": "code",
   "execution_count": 0,
   "metadata": {
    "application/vnd.databricks.v1+cell": {
     "cellMetadata": {
      "byteLimit": 2048000,
      "rowLimit": 10000
     },
     "inputWidgets": {},
     "nuid": "09653426-71d9-42ef-a875-55ac0dcc429d",
     "showTitle": false,
     "title": ""
    }
   },
   "outputs": [
    {
     "output_type": "display_data",
     "data": {
      "text/html": [
       "<style scoped>\n",
       "  .table-result-container {\n",
       "    max-height: 300px;\n",
       "    overflow: auto;\n",
       "  }\n",
       "  table, th, td {\n",
       "    border: 1px solid black;\n",
       "    border-collapse: collapse;\n",
       "  }\n",
       "  th, td {\n",
       "    padding: 5px;\n",
       "  }\n",
       "  th {\n",
       "    text-align: left;\n",
       "  }\n",
       "</style><div class='table-result-container'><table class='table-result'><thead style='background-color: white'><tr><th>employee</th><th>dates</th><th>status</th></tr></thead><tbody><tr><td>a1</td><td>2024-01-01</td><td>present</td></tr><tr><td>a1</td><td>2024-01-02</td><td>present</td></tr><tr><td>a1</td><td>2024-01-03</td><td>present</td></tr><tr><td>a1</td><td>2024-01-04</td><td>Absent</td></tr><tr><td>a1</td><td>2024-01-05</td><td>present</td></tr><tr><td>a1</td><td>2024-01-06</td><td>present</td></tr><tr><td>a1</td><td>2024-01-07</td><td>present</td></tr><tr><td>a1</td><td>2024-01-08</td><td>Absent</td></tr><tr><td>a1</td><td>2024-01-09</td><td>Absent</td></tr><tr><td>a1</td><td>2024-01-10</td><td>present</td></tr><tr><td>a2</td><td>2024-01-06</td><td>present</td></tr><tr><td>a2</td><td>2024-01-07</td><td>present</td></tr><tr><td>a2</td><td>2024-01-08</td><td>Absent</td></tr><tr><td>a2</td><td>2024-01-09</td><td>present</td></tr><tr><td>a2</td><td>2024-01-10</td><td>Absent</td></tr></tbody></table></div>"
      ]
     },
     "metadata": {
      "application/vnd.databricks.v1+output": {
       "addedWidgets": {},
       "aggData": [],
       "aggError": "",
       "aggOverflow": false,
       "aggSchema": [],
       "aggSeriesLimitReached": false,
       "aggType": "",
       "arguments": {},
       "columnCustomDisplayInfos": {},
       "data": [
        [
         "a1",
         "2024-01-01",
         "present"
        ],
        [
         "a1",
         "2024-01-02",
         "present"
        ],
        [
         "a1",
         "2024-01-03",
         "present"
        ],
        [
         "a1",
         "2024-01-04",
         "Absent"
        ],
        [
         "a1",
         "2024-01-05",
         "present"
        ],
        [
         "a1",
         "2024-01-06",
         "present"
        ],
        [
         "a1",
         "2024-01-07",
         "present"
        ],
        [
         "a1",
         "2024-01-08",
         "Absent"
        ],
        [
         "a1",
         "2024-01-09",
         "Absent"
        ],
        [
         "a1",
         "2024-01-10",
         "present"
        ],
        [
         "a2",
         "2024-01-06",
         "present"
        ],
        [
         "a2",
         "2024-01-07",
         "present"
        ],
        [
         "a2",
         "2024-01-08",
         "Absent"
        ],
        [
         "a2",
         "2024-01-09",
         "present"
        ],
        [
         "a2",
         "2024-01-10",
         "Absent"
        ]
       ],
       "datasetInfos": [],
       "dbfsResultPath": null,
       "isJsonSchema": true,
       "metadata": {},
       "overflow": false,
       "plotOptions": {
        "customPlotOptions": {},
        "displayType": "table",
        "pivotAggregation": null,
        "pivotColumns": null,
        "xColumns": null,
        "yColumns": null
       },
       "removedWidgets": [],
       "schema": [
        {
         "metadata": "{}",
         "name": "employee",
         "type": "\"string\""
        },
        {
         "metadata": "{}",
         "name": "dates",
         "type": "\"date\""
        },
        {
         "metadata": "{}",
         "name": "status",
         "type": "\"string\""
        }
       ],
       "type": "table"
      }
     },
     "output_type": "display_data"
    }
   ],
   "source": [
    "from pyspark.sql import SparkSession\n",
    "from pyspark.sql.functions import to_date, col\n",
    "from pyspark.sql.functions import col, lag, sum, min, max\n",
    "from pyspark.sql.window import Window\n",
    "\n",
    "# Step 1: Initialize Spark Session\n",
    "spark = SparkSession.builder \\\n",
    "    .appName(\"EmployeeStatus\") \\\n",
    "    .getOrCreate()\n",
    "\n",
    "# Sample Data\n",
    "data = [\n",
    "    (\"a1\", \"2024-01-01\", \"present\"),\n",
    "    (\"a1\", \"2024-01-02\", \"present\"),\n",
    "    (\"a1\", \"2024-01-03\", \"present\"),\n",
    "    (\"a1\", \"2024-01-04\", \"Absent\"),\n",
    "    (\"a1\", \"2024-01-05\", \"present\"),\n",
    "    (\"a1\", \"2024-01-06\", \"present\"),\n",
    "    (\"a1\", \"2024-01-07\", \"present\"),\n",
    "    (\"a1\", \"2024-01-08\", \"Absent\"),\n",
    "    (\"a1\", \"2024-01-09\", \"Absent\"),\n",
    "    (\"a1\", \"2024-01-10\", \"present\"),\n",
    "    (\"a2\", \"2024-01-06\", \"present\"),\n",
    "    (\"a2\", \"2024-01-07\", \"present\"),\n",
    "    (\"a2\", \"2024-01-08\", \"Absent\"),\n",
    "    (\"a2\", \"2024-01-09\", \"present\"),\n",
    "    (\"a2\", \"2024-01-10\", \"Absent\")\n",
    "]\n",
    "\n",
    "# Define schema for the DataFrame\n",
    "schema = [\"employee\", \"dates\", \"status\"]\n",
    "\n",
    "# Step 2: Create the DataFrame\n",
    "df = spark.createDataFrame(data, schema)\n",
    "\n",
    "# Step 3: Convert the string column to a date column\n",
    "df = df.withColumn(\"dates\", to_date(col(\"dates\"), \"yyyy-MM-dd\"))\n",
    "\n",
    "# Show the DataFrame with the date column\n",
    "df.display()\n"
   ]
  },
  {
   "cell_type": "markdown",
   "metadata": {
    "application/vnd.databricks.v1+cell": {
     "cellMetadata": {},
     "inputWidgets": {},
     "nuid": "1ead12f5-c1e6-49ec-83e3-0701f5baa88f",
     "showTitle": false,
     "title": ""
    }
   },
   "source": [
    "Pyspark"
   ]
  },
  {
   "cell_type": "code",
   "execution_count": 0,
   "metadata": {
    "application/vnd.databricks.v1+cell": {
     "cellMetadata": {
      "byteLimit": 2048000,
      "rowLimit": 10000
     },
     "inputWidgets": {},
     "nuid": "cc10b44d-86d9-46b2-8512-d9b2b730f59f",
     "showTitle": false,
     "title": ""
    }
   },
   "outputs": [
    {
     "output_type": "display_data",
     "data": {
      "text/html": [
       "<style scoped>\n",
       "  .table-result-container {\n",
       "    max-height: 300px;\n",
       "    overflow: auto;\n",
       "  }\n",
       "  table, th, td {\n",
       "    border: 1px solid black;\n",
       "    border-collapse: collapse;\n",
       "  }\n",
       "  th, td {\n",
       "    padding: 5px;\n",
       "  }\n",
       "  th {\n",
       "    text-align: left;\n",
       "  }\n",
       "</style><div class='table-result-container'><table class='table-result'><thead style='background-color: white'><tr><th>employee</th><th>FROM_DATE</th><th>TO_DATE</th><th>status</th></tr></thead><tbody><tr><td>a1</td><td>2024-01-01</td><td>2024-01-03</td><td>present</td></tr><tr><td>a1</td><td>2024-01-04</td><td>2024-01-04</td><td>Absent</td></tr><tr><td>a1</td><td>2024-01-05</td><td>2024-01-07</td><td>present</td></tr><tr><td>a1</td><td>2024-01-08</td><td>2024-01-09</td><td>Absent</td></tr><tr><td>a1</td><td>2024-01-10</td><td>2024-01-10</td><td>present</td></tr><tr><td>a2</td><td>2024-01-06</td><td>2024-01-07</td><td>present</td></tr><tr><td>a2</td><td>2024-01-08</td><td>2024-01-08</td><td>Absent</td></tr><tr><td>a2</td><td>2024-01-09</td><td>2024-01-09</td><td>present</td></tr><tr><td>a2</td><td>2024-01-10</td><td>2024-01-10</td><td>Absent</td></tr></tbody></table></div>"
      ]
     },
     "metadata": {
      "application/vnd.databricks.v1+output": {
       "addedWidgets": {},
       "aggData": [],
       "aggError": "",
       "aggOverflow": false,
       "aggSchema": [],
       "aggSeriesLimitReached": false,
       "aggType": "",
       "arguments": {},
       "columnCustomDisplayInfos": {},
       "data": [
        [
         "a1",
         "2024-01-01",
         "2024-01-03",
         "present"
        ],
        [
         "a1",
         "2024-01-04",
         "2024-01-04",
         "Absent"
        ],
        [
         "a1",
         "2024-01-05",
         "2024-01-07",
         "present"
        ],
        [
         "a1",
         "2024-01-08",
         "2024-01-09",
         "Absent"
        ],
        [
         "a1",
         "2024-01-10",
         "2024-01-10",
         "present"
        ],
        [
         "a2",
         "2024-01-06",
         "2024-01-07",
         "present"
        ],
        [
         "a2",
         "2024-01-08",
         "2024-01-08",
         "Absent"
        ],
        [
         "a2",
         "2024-01-09",
         "2024-01-09",
         "present"
        ],
        [
         "a2",
         "2024-01-10",
         "2024-01-10",
         "Absent"
        ]
       ],
       "datasetInfos": [],
       "dbfsResultPath": null,
       "isJsonSchema": true,
       "metadata": {},
       "overflow": false,
       "plotOptions": {
        "customPlotOptions": {},
        "displayType": "table",
        "pivotAggregation": null,
        "pivotColumns": null,
        "xColumns": null,
        "yColumns": null
       },
       "removedWidgets": [],
       "schema": [
        {
         "metadata": "{}",
         "name": "employee",
         "type": "\"string\""
        },
        {
         "metadata": "{}",
         "name": "FROM_DATE",
         "type": "\"date\""
        },
        {
         "metadata": "{}",
         "name": "TO_DATE",
         "type": "\"date\""
        },
        {
         "metadata": "{}",
         "name": "status",
         "type": "\"string\""
        }
       ],
       "type": "table"
      }
     },
     "output_type": "display_data"
    }
   ],
   "source": [
    "from pyspark.sql.functions import col, to_date, lag, when, sum, min, max\n",
    "from pyspark.sql.window import Window\n",
    "\n",
    "# Step 4: Group consecutive records with the same status\n",
    "window_spec = Window.partitionBy(\"employee\").orderBy(\"dates\")\n",
    "df = df.withColumn(\"prev_status\", lag(\"status\").over(window_spec))\n",
    "df = df.withColumn(\"group\", when(col(\"status\") != col(\"prev_status\"), 1).otherwise(0))\n",
    "df = df.withColumn(\"group\", sum(\"group\").over(window_spec))\n",
    "\n",
    "# Find the start and end dates for each group\n",
    "result_df = df.groupBy(\"employee\", \"group\", \"status\").agg(\n",
    "    min(\"dates\").alias(\"FROM_DATE\"),\n",
    "    max(\"dates\").alias(\"TO_DATE\")\n",
    ").orderBy(\"employee\", \"FROM_DATE\")\n",
    "final_df = result_df.select(\"employee\", \"FROM_DATE\", \"TO_DATE\", \"status\")\n",
    "\n",
    "final_df.display()\n"
   ]
  },
  {
   "cell_type": "markdown",
   "metadata": {
    "application/vnd.databricks.v1+cell": {
     "cellMetadata": {},
     "inputWidgets": {},
     "nuid": "ed9f17b5-b5d4-4529-abe8-b75286fef631",
     "showTitle": false,
     "title": ""
    }
   },
   "source": [
    "Saprk SQL"
   ]
  },
  {
   "cell_type": "code",
   "execution_count": 0,
   "metadata": {
    "application/vnd.databricks.v1+cell": {
     "cellMetadata": {
      "byteLimit": 2048000,
      "rowLimit": 10000
     },
     "inputWidgets": {},
     "nuid": "3b6362ea-d2d4-452f-8d9a-8ca9c3bc9f6e",
     "showTitle": false,
     "title": ""
    }
   },
   "outputs": [],
   "source": [
    "df.createOrReplaceTempView(\"emp_attendance\")"
   ]
  },
  {
   "cell_type": "code",
   "execution_count": 0,
   "metadata": {
    "application/vnd.databricks.v1+cell": {
     "cellMetadata": {
      "byteLimit": 2048000,
      "implicitDf": true,
      "rowLimit": 10000
     },
     "inputWidgets": {},
     "nuid": "86846eb8-5872-45c6-803e-58b1f1c8f2b0",
     "showTitle": false,
     "title": ""
    }
   },
   "outputs": [
    {
     "output_type": "display_data",
     "data": {
      "text/html": [
       "<style scoped>\n",
       "  .table-result-container {\n",
       "    max-height: 300px;\n",
       "    overflow: auto;\n",
       "  }\n",
       "  table, th, td {\n",
       "    border: 1px solid black;\n",
       "    border-collapse: collapse;\n",
       "  }\n",
       "  th, td {\n",
       "    padding: 5px;\n",
       "  }\n",
       "  th {\n",
       "    text-align: left;\n",
       "  }\n",
       "</style><div class='table-result-container'><table class='table-result'><thead style='background-color: white'><tr><th>EMPLOYEE</th><th>FROM_DATE</th><th>TO_DATE</th><th>STATUS</th></tr></thead><tbody><tr><td>a1</td><td>2024-01-01</td><td>2024-01-03</td><td>present</td></tr><tr><td>a1</td><td>2024-01-04</td><td>2024-01-04</td><td>Absent</td></tr><tr><td>a1</td><td>2024-01-05</td><td>2024-01-07</td><td>present</td></tr><tr><td>a1</td><td>2024-01-08</td><td>2024-01-09</td><td>Absent</td></tr><tr><td>a1</td><td>2024-01-10</td><td>2024-01-10</td><td>present</td></tr><tr><td>a2</td><td>2024-01-06</td><td>2024-01-07</td><td>present</td></tr><tr><td>a2</td><td>2024-01-08</td><td>2024-01-08</td><td>Absent</td></tr><tr><td>a2</td><td>2024-01-09</td><td>2024-01-09</td><td>present</td></tr><tr><td>a2</td><td>2024-01-10</td><td>2024-01-10</td><td>Absent</td></tr></tbody></table></div>"
      ]
     },
     "metadata": {
      "application/vnd.databricks.v1+output": {
       "addedWidgets": {},
       "aggData": [],
       "aggError": "",
       "aggOverflow": false,
       "aggSchema": [],
       "aggSeriesLimitReached": false,
       "aggType": "",
       "arguments": {},
       "columnCustomDisplayInfos": {},
       "data": [
        [
         "a1",
         "2024-01-01",
         "2024-01-03",
         "present"
        ],
        [
         "a1",
         "2024-01-04",
         "2024-01-04",
         "Absent"
        ],
        [
         "a1",
         "2024-01-05",
         "2024-01-07",
         "present"
        ],
        [
         "a1",
         "2024-01-08",
         "2024-01-09",
         "Absent"
        ],
        [
         "a1",
         "2024-01-10",
         "2024-01-10",
         "present"
        ],
        [
         "a2",
         "2024-01-06",
         "2024-01-07",
         "present"
        ],
        [
         "a2",
         "2024-01-08",
         "2024-01-08",
         "Absent"
        ],
        [
         "a2",
         "2024-01-09",
         "2024-01-09",
         "present"
        ],
        [
         "a2",
         "2024-01-10",
         "2024-01-10",
         "Absent"
        ]
       ],
       "datasetInfos": [],
       "dbfsResultPath": null,
       "isJsonSchema": true,
       "metadata": {},
       "overflow": false,
       "plotOptions": {
        "customPlotOptions": {},
        "displayType": "table",
        "pivotAggregation": null,
        "pivotColumns": null,
        "xColumns": null,
        "yColumns": null
       },
       "removedWidgets": [],
       "schema": [
        {
         "metadata": "{}",
         "name": "EMPLOYEE",
         "type": "\"string\""
        },
        {
         "metadata": "{}",
         "name": "FROM_DATE",
         "type": "\"date\""
        },
        {
         "metadata": "{}",
         "name": "TO_DATE",
         "type": "\"date\""
        },
        {
         "metadata": "{}",
         "name": "STATUS",
         "type": "\"string\""
        }
       ],
       "type": "table"
      }
     },
     "output_type": "display_data"
    }
   ],
   "source": [
    "%sql\n",
    "WITH cte AS (\n",
    "SELECT *, CASE WHEN STATUS <> LAG(STATUS,1,'OPOUI')OVER(PARTITION BY EMPLOYEE ORDER BY DATES)THEN 1 ELSE 0  END\n",
    "AS FLAG\n",
    "FROM EMP_ATTENDANCE\n",
    "), \n",
    "cte1 AS (\n",
    "SELECT * , SUM(FLAG)OVER(PARTITION BY EMPLOYEE ORDER BY DATES)AS GRP\n",
    "FROM cte\n",
    ")\n",
    "SELECT EMPLOYEE, MIN(DATES)AS FROM_DATE, MAX(DATES)AS TO_DATE, STATUS\n",
    "FROM cte1 \n",
    "GROUP BY EMPLOYEE, STATUS,GRP\n",
    "ORDER BY EMPLOYEE, FROM_DATE"
   ]
  }
 ],
 "metadata": {
  "application/vnd.databricks.v1+notebook": {
   "dashboards": [],
   "environmentMetadata": null,
   "language": "python",
   "notebookMetadata": {
    "mostRecentlyExecutedCommandWithImplicitDF": {
     "commandId": 2446657425584803,
     "dataframes": [
      "_sqldf"
     ]
    },
    "pythonIndentUnit": 4
   },
   "notebookName": "SQL Interview Problem asked during Amazon Interview",
   "widgets": {}
  }
 },
 "nbformat": 4,
 "nbformat_minor": 0
}
