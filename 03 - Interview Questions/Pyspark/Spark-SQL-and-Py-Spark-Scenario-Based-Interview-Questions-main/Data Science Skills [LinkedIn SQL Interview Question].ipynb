{
 "cells": [
  {
   "cell_type": "markdown",
   "metadata": {
    "application/vnd.databricks.v1+cell": {
     "cellMetadata": {},
     "inputWidgets": {},
     "nuid": "193d113d-3dcf-4b0f-b440-a1865a5fe157",
     "showTitle": false,
     "title": ""
    }
   },
   "source": [
    "Given a table of candidates and their skills, you're tasked with finding the candidates best suited for an open Data Science job. You want to find candidates who are proficient in Python, Tableau, and PostgreSQL.\n",
    "\n",
    "Write a query to list the candidates who possess all of the required skills for the job. Sort the output by candidate ID in ascending order."
   ]
  },
  {
   "cell_type": "markdown",
   "metadata": {
    "application/vnd.databricks.v1+cell": {
     "cellMetadata": {},
     "inputWidgets": {},
     "nuid": "5d5378c2-14ad-4d31-a063-96f0c53c5ad7",
     "showTitle": false,
     "title": ""
    }
   },
   "source": [
    "Assumption:\n",
    "\n",
    "There are no duplicates in the candidates table.\n",
    "candidates Table:\n",
    "Column Name\tType\n",
    "candidate_id\tinteger\n",
    "skill\tvarchar\n",
    "candidates \n",
    "\n",
    "Example Input:\n",
    "\n",
    "candidate_id\tskill\n",
    "\n",
    "123\tPython\n",
    "\n",
    "123\tTableau\n",
    "\n",
    "123\tPostgreSQL\n",
    "\n",
    "234\tR\n",
    "\n",
    "234\tPowerBI\n",
    "\n",
    "234\tSQL Server\n",
    "\n",
    "345\tPython\n",
    "\n",
    "345\tTableau\n",
    "\n",
    "Example Output:\n",
    "\n",
    "candidate_id\n",
    "\n",
    "123\n",
    "\n",
    "Explanation\n",
    "Candidate 123 is displayed because they have Python, Tableau, and PostgreSQL skills. 345 isn't included in the output because they're missing one of the required skills: PostgreSQL.\n",
    "\n",
    "The dataset you are querying against may have different input & output - this is just an example!\n",
    "\n",
    "p.s. give the hints below a try if you're stuck and don't know where to start!"
   ]
  },
  {
   "cell_type": "code",
   "execution_count": 0,
   "metadata": {
    "application/vnd.databricks.v1+cell": {
     "cellMetadata": {
      "byteLimit": 2048000,
      "rowLimit": 10000
     },
     "inputWidgets": {},
     "nuid": "457f15d8-f30c-461b-953a-d54617f363f9",
     "showTitle": false,
     "title": ""
    }
   },
   "outputs": [
    {
     "output_type": "display_data",
     "data": {
      "text/html": [
       "<style scoped>\n",
       "  .table-result-container {\n",
       "    max-height: 300px;\n",
       "    overflow: auto;\n",
       "  }\n",
       "  table, th, td {\n",
       "    border: 1px solid black;\n",
       "    border-collapse: collapse;\n",
       "  }\n",
       "  th, td {\n",
       "    padding: 5px;\n",
       "  }\n",
       "  th {\n",
       "    text-align: left;\n",
       "  }\n",
       "</style><div class='table-result-container'><table class='table-result'><thead style='background-color: white'><tr><th>candidate_id</th><th>skill</th></tr></thead><tbody><tr><td>123</td><td>Python</td></tr><tr><td>123</td><td>Tableau</td></tr><tr><td>123</td><td>PostgreSQL</td></tr><tr><td>234</td><td>R</td></tr><tr><td>234</td><td>PowerBI</td></tr><tr><td>234</td><td>SQL Server</td></tr><tr><td>345</td><td>Python</td></tr><tr><td>345</td><td>Tableau</td></tr></tbody></table></div>"
      ]
     },
     "metadata": {
      "application/vnd.databricks.v1+output": {
       "addedWidgets": {},
       "aggData": [],
       "aggError": "",
       "aggOverflow": false,
       "aggSchema": [],
       "aggSeriesLimitReached": false,
       "aggType": "",
       "arguments": {},
       "columnCustomDisplayInfos": {},
       "data": [
        [
         123,
         "Python"
        ],
        [
         123,
         "Tableau"
        ],
        [
         123,
         "PostgreSQL"
        ],
        [
         234,
         "R"
        ],
        [
         234,
         "PowerBI"
        ],
        [
         234,
         "SQL Server"
        ],
        [
         345,
         "Python"
        ],
        [
         345,
         "Tableau"
        ]
       ],
       "datasetInfos": [],
       "dbfsResultPath": null,
       "isJsonSchema": true,
       "metadata": {},
       "overflow": false,
       "plotOptions": {
        "customPlotOptions": {},
        "displayType": "table",
        "pivotAggregation": null,
        "pivotColumns": null,
        "xColumns": null,
        "yColumns": null
       },
       "removedWidgets": [],
       "schema": [
        {
         "metadata": "{}",
         "name": "candidate_id",
         "type": "\"long\""
        },
        {
         "metadata": "{}",
         "name": "skill",
         "type": "\"string\""
        }
       ],
       "type": "table"
      }
     },
     "output_type": "display_data"
    }
   ],
   "source": [
    "from pyspark.sql import SparkSession\n",
    "from pyspark.sql.functions import col, countDistinct\n",
    "\n",
    "# Initialize Spark session\n",
    "spark = SparkSession.builder.appName(\"CandidatesSkills\").getOrCreate()\n",
    "\n",
    "# Sample data\n",
    "data = [\n",
    "    (123, 'Python'),\n",
    "    (123, 'Tableau'),\n",
    "    (123, 'PostgreSQL'),\n",
    "    (234, 'R'),\n",
    "    (234, 'PowerBI'),\n",
    "    (234, 'SQL Server'),\n",
    "    (345, 'Python'),\n",
    "    (345, 'Tableau')\n",
    "]\n",
    "\n",
    "# Create DataFrame\n",
    "candidates_df = spark.createDataFrame(data, [\"candidate_id\", \"skill\"])\n",
    "\n",
    "\n",
    "candidates_df.display()\n"
   ]
  },
  {
   "cell_type": "code",
   "execution_count": 0,
   "metadata": {
    "application/vnd.databricks.v1+cell": {
     "cellMetadata": {
      "byteLimit": 2048000,
      "rowLimit": 10000
     },
     "inputWidgets": {},
     "nuid": "4ee8c62c-715e-4b0a-888f-15219445445a",
     "showTitle": false,
     "title": ""
    }
   },
   "outputs": [
    {
     "output_type": "stream",
     "name": "stdout",
     "output_type": "stream",
     "text": [
      "+------------+-----------+\n|candidate_id|skill_count|\n+------------+-----------+\n|         123|          3|\n+------------+-----------+\n\n"
     ]
    }
   ],
   "source": [
    "# Define the required skills\n",
    "required_skills = {'Python', 'Tableau', 'PostgreSQL'}\n",
    "\n",
    "# Filter for the required skills\n",
    "filtered_df = candidates_df.filter(col(\"skill\").isin(required_skills))\n",
    "\n",
    "# Group by candidate_id and count distinct skills\n",
    "grouped_df = filtered_df.groupBy(\"candidate_id\").agg(countDistinct(\"skill\").alias(\"skill_count\"))\n",
    "\n",
    "# Filter candidates with all required skills (3 distinct skills)\n",
    "result_df = grouped_df.filter(col(\"skill_count\") == len(required_skills))\n",
    "\n",
    "# Sort the result by candidate_id in ascending order\n",
    "result_df = result_df.orderBy(\"candidate_id\")\n",
    "result_df.show()\n",
    "# Show the results"
   ]
  },
  {
   "cell_type": "code",
   "execution_count": 0,
   "metadata": {
    "application/vnd.databricks.v1+cell": {
     "cellMetadata": {
      "byteLimit": 2048000,
      "rowLimit": 10000
     },
     "inputWidgets": {},
     "nuid": "b1b5192b-2805-4ccc-b41a-4623fdaf2ea1",
     "showTitle": false,
     "title": ""
    }
   },
   "outputs": [],
   "source": [
    "candidates_df.createOrReplaceTempView('candidates')"
   ]
  },
  {
   "cell_type": "code",
   "execution_count": 0,
   "metadata": {
    "application/vnd.databricks.v1+cell": {
     "cellMetadata": {
      "byteLimit": 2048000,
      "implicitDf": true,
      "rowLimit": 10000
     },
     "inputWidgets": {},
     "nuid": "32ea3f6e-204b-4996-9414-7d5bd3856cba",
     "showTitle": false,
     "title": ""
    }
   },
   "outputs": [
    {
     "output_type": "display_data",
     "data": {
      "text/html": [
       "<style scoped>\n",
       "  .table-result-container {\n",
       "    max-height: 300px;\n",
       "    overflow: auto;\n",
       "  }\n",
       "  table, th, td {\n",
       "    border: 1px solid black;\n",
       "    border-collapse: collapse;\n",
       "  }\n",
       "  th, td {\n",
       "    padding: 5px;\n",
       "  }\n",
       "  th {\n",
       "    text-align: left;\n",
       "  }\n",
       "</style><div class='table-result-container'><table class='table-result'><thead style='background-color: white'><tr><th>candidate_id</th></tr></thead><tbody><tr><td>123</td></tr></tbody></table></div>"
      ]
     },
     "metadata": {
      "application/vnd.databricks.v1+output": {
       "addedWidgets": {},
       "aggData": [],
       "aggError": "",
       "aggOverflow": false,
       "aggSchema": [],
       "aggSeriesLimitReached": false,
       "aggType": "",
       "arguments": {},
       "columnCustomDisplayInfos": {},
       "data": [
        [
         123
        ]
       ],
       "datasetInfos": [],
       "dbfsResultPath": null,
       "isJsonSchema": true,
       "metadata": {},
       "overflow": false,
       "plotOptions": {
        "customPlotOptions": {},
        "displayType": "table",
        "pivotAggregation": null,
        "pivotColumns": null,
        "xColumns": null,
        "yColumns": null
       },
       "removedWidgets": [],
       "schema": [
        {
         "metadata": "{}",
         "name": "candidate_id",
         "type": "\"long\""
        }
       ],
       "type": "table"
      }
     },
     "output_type": "display_data"
    }
   ],
   "source": [
    "%sql\n",
    "SELECT candidate_id\n",
    "FROM candidates\n",
    "WHERE skill IN ('Python', 'Tableau', 'PostgreSQL')\n",
    "GROUP BY candidate_id\n",
    "HAVING COUNT(DISTINCT skill) = 3\n",
    "ORDER BY candidate_id ASC;\n"
   ]
  }
 ],
 "metadata": {
  "application/vnd.databricks.v1+notebook": {
   "dashboards": [],
   "environmentMetadata": null,
   "language": "python",
   "notebookMetadata": {
    "mostRecentlyExecutedCommandWithImplicitDF": {
     "commandId": 1346488306336613,
     "dataframes": [
      "_sqldf"
     ]
    },
    "pythonIndentUnit": 4
   },
   "notebookName": "Data Science Skills [LinkedIn SQL Interview Question]",
   "widgets": {}
  }
 },
 "nbformat": 4,
 "nbformat_minor": 0
}
