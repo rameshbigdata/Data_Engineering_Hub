{
 "cells": [
  {
   "cell_type": "markdown",
   "metadata": {
    "application/vnd.databricks.v1+cell": {
     "cellMetadata": {},
     "inputWidgets": {},
     "nuid": "7a61a7e3-2fa1-4224-bf2c-5e1b92833279",
     "showTitle": false,
     "title": ""
    }
   },
   "source": [
    "Assume you're given two tables containing data about Facebook Pages and their respective likes (as in \"Like a Facebook Page\").\n",
    "\n",
    "Write a query to return the IDs of the Facebook pages that have zero likes. The output should be sorted in ascending order based on the page IDs.\n",
    "\n",
    "pages Table:\n",
    "\n",
    "#Column Name\tType\n",
    "\n",
    "page_id\tinteger\n",
    "\n",
    "page_name\tvarchar\n",
    "\n",
    "#pages Example Input:\n",
    "\n",
    "page_id\tpage_name\n",
    "\n",
    "20001\tSQL Solutions\n",
    "\n",
    "20045\tBrain Exercises\n",
    "\n",
    "20701\tTips for Data Analysts\n",
    "\n",
    "#page_likes Table:\n",
    "\n",
    "Column Name\tType\n",
    "\n",
    "user_id\tinteger\n",
    "\n",
    "page_id\tinteger\n",
    "\n",
    "liked_date\tdatetime\n",
    "\n",
    "#page_likes Example Input:\n",
    "\n",
    "user_id\tpage_id\tliked_date\n",
    "\n",
    "111\t20001\t04/08/2022 00:00:00\n",
    "\n",
    "121\t20045\t03/12/2022 00:00:00\n",
    "\n",
    "156\t20001\t07/25/2022 00:00:00\n",
    "\n",
    "#Example Output:\n",
    "\n",
    "page_id\n",
    "\n",
    "20701\n",
    "\n",
    "The dataset you are querying against may have different input & output - this is just an example!"
   ]
  },
  {
   "cell_type": "code",
   "execution_count": 0,
   "metadata": {
    "application/vnd.databricks.v1+cell": {
     "cellMetadata": {
      "byteLimit": 2048000,
      "rowLimit": 10000
     },
     "inputWidgets": {},
     "nuid": "d1ce5dc4-3075-442f-8965-5921db8bf0e1",
     "showTitle": false,
     "title": ""
    }
   },
   "outputs": [
    {
     "output_type": "display_data",
     "data": {
      "text/html": [
       "<style scoped>\n",
       "  .table-result-container {\n",
       "    max-height: 300px;\n",
       "    overflow: auto;\n",
       "  }\n",
       "  table, th, td {\n",
       "    border: 1px solid black;\n",
       "    border-collapse: collapse;\n",
       "  }\n",
       "  th, td {\n",
       "    padding: 5px;\n",
       "  }\n",
       "  th {\n",
       "    text-align: left;\n",
       "  }\n",
       "</style><div class='table-result-container'><table class='table-result'><thead style='background-color: white'><tr><th>page_id</th><th>likes_count</th></tr></thead><tbody><tr><td>20701</td><td>0</td></tr></tbody></table></div>"
      ]
     },
     "metadata": {
      "application/vnd.databricks.v1+output": {
       "addedWidgets": {},
       "aggData": [],
       "aggError": "",
       "aggOverflow": false,
       "aggSchema": [],
       "aggSeriesLimitReached": false,
       "aggType": "",
       "arguments": {},
       "columnCustomDisplayInfos": {},
       "data": [
        [
         20701,
         0
        ]
       ],
       "datasetInfos": [],
       "dbfsResultPath": null,
       "isJsonSchema": true,
       "metadata": {},
       "overflow": false,
       "plotOptions": {
        "customPlotOptions": {},
        "displayType": "table",
        "pivotAggregation": null,
        "pivotColumns": null,
        "xColumns": null,
        "yColumns": null
       },
       "removedWidgets": [],
       "schema": [
        {
         "metadata": "{}",
         "name": "page_id",
         "type": "\"long\""
        },
        {
         "metadata": "{}",
         "name": "likes_count",
         "type": "\"long\""
        }
       ],
       "type": "table"
      }
     },
     "output_type": "display_data"
    }
   ],
   "source": [
    "from pyspark.sql import SparkSession\n",
    "from pyspark.sql.functions import col, count\n",
    "\n",
    "# Initialize Spark session\n",
    "spark = SparkSession.builder.appName(\"FacebookPages\").getOrCreate()\n",
    "\n",
    "# Sample data\n",
    "pages_data = [\n",
    "    (20001, 'SQL Solutions'),\n",
    "    (20045, 'Brain Exercises'),\n",
    "    (20701, 'Tips for Data Analysts')\n",
    "]\n",
    "\n",
    "page_likes_data = [\n",
    "    (111, 20001, '2022-04-08 00:00:00'),\n",
    "    (121, 20045, '2022-03-12 00:00:00'),\n",
    "    (156, 20001, '2022-07-25 00:00:00')\n",
    "]\n",
    "\n",
    "# Create DataFrames\n",
    "pages_df = spark.createDataFrame(pages_data, [\"page_id\", \"page_name\"])\n",
    "page_likes_df = spark.createDataFrame(page_likes_data, [\"user_id\", \"page_id\", \"liked_date\"])\n",
    "\n",
    "# Perform left join between pages and page_likes\n",
    "joined_df = pages_df.join(page_likes_df, on=\"page_id\", how=\"left\")\n",
    "\n",
    "# Filter pages with zero likes\n",
    "zero_likes_df = joined_df.groupBy(\"page_id\").agg(count(\"user_id\").alias(\"likes_count\")).filter(col(\"likes_count\") == 0)\n",
    "\n",
    "# Sort the result by page_id in ascending order\n",
    "result_df = zero_likes_df.orderBy(\"page_id\")\n",
    "\n",
    "# Show the results\n",
    "result_df.display()\n"
   ]
  },
  {
   "cell_type": "code",
   "execution_count": 0,
   "metadata": {
    "application/vnd.databricks.v1+cell": {
     "cellMetadata": {
      "byteLimit": 2048000,
      "rowLimit": 10000
     },
     "inputWidgets": {},
     "nuid": "3c2193a0-dc2b-41b1-834f-a3d21254b99e",
     "showTitle": false,
     "title": ""
    }
   },
   "outputs": [],
   "source": [
    "pages_df.createOrReplaceTempView('pages')\n",
    "page_likes_df.createOrReplaceTempView('page_likes')"
   ]
  },
  {
   "cell_type": "code",
   "execution_count": 0,
   "metadata": {
    "application/vnd.databricks.v1+cell": {
     "cellMetadata": {
      "byteLimit": 2048000,
      "implicitDf": true,
      "rowLimit": 10000
     },
     "inputWidgets": {},
     "nuid": "7ef4646f-da62-499b-bdd4-8c1f7d1e583a",
     "showTitle": false,
     "title": ""
    }
   },
   "outputs": [
    {
     "output_type": "display_data",
     "data": {
      "text/html": [
       "<style scoped>\n",
       "  .table-result-container {\n",
       "    max-height: 300px;\n",
       "    overflow: auto;\n",
       "  }\n",
       "  table, th, td {\n",
       "    border: 1px solid black;\n",
       "    border-collapse: collapse;\n",
       "  }\n",
       "  th, td {\n",
       "    padding: 5px;\n",
       "  }\n",
       "  th {\n",
       "    text-align: left;\n",
       "  }\n",
       "</style><div class='table-result-container'><table class='table-result'><thead style='background-color: white'><tr><th>page_id</th></tr></thead><tbody><tr><td>20701</td></tr></tbody></table></div>"
      ]
     },
     "metadata": {
      "application/vnd.databricks.v1+output": {
       "addedWidgets": {},
       "aggData": [],
       "aggError": "",
       "aggOverflow": false,
       "aggSchema": [],
       "aggSeriesLimitReached": false,
       "aggType": "",
       "arguments": {},
       "columnCustomDisplayInfos": {},
       "data": [
        [
         20701
        ]
       ],
       "datasetInfos": [],
       "dbfsResultPath": null,
       "isJsonSchema": true,
       "metadata": {},
       "overflow": false,
       "plotOptions": {
        "customPlotOptions": {},
        "displayType": "table",
        "pivotAggregation": null,
        "pivotColumns": null,
        "xColumns": null,
        "yColumns": null
       },
       "removedWidgets": [],
       "schema": [
        {
         "metadata": "{}",
         "name": "page_id",
         "type": "\"long\""
        }
       ],
       "type": "table"
      }
     },
     "output_type": "display_data"
    }
   ],
   "source": [
    "%sql\n",
    "SELECT p.page_id\n",
    "FROM pages p\n",
    "LEFT JOIN page_likes pl ON p.page_id = pl.page_id\n",
    "WHERE pl.page_id IS NULL\n",
    "ORDER BY p.page_id ASC;\n"
   ]
  }
 ],
 "metadata": {
  "application/vnd.databricks.v1+notebook": {
   "dashboards": [],
   "environmentMetadata": null,
   "language": "python",
   "notebookMetadata": {
    "mostRecentlyExecutedCommandWithImplicitDF": {
     "commandId": 1346488306336621,
     "dataframes": [
      "_sqldf"
     ]
    },
    "pythonIndentUnit": 4
   },
   "notebookName": "Page With No Likes [Facebook SQL Interview Question]",
   "widgets": {}
  }
 },
 "nbformat": 4,
 "nbformat_minor": 0
}
