{
 "cells": [
  {
   "cell_type": "code",
   "execution_count": 0,
   "metadata": {
    "application/vnd.databricks.v1+cell": {
     "cellMetadata": {
      "byteLimit": 2048000,
      "rowLimit": 10000
     },
     "inputWidgets": {},
     "nuid": "5d6db541-6d4e-4343-9c63-e8e67bdad82a",
     "showTitle": false,
     "title": ""
    }
   },
   "outputs": [
    {
     "output_type": "stream",
     "name": "stdout",
     "output_type": "stream",
     "text": [
      "+----------------+\n|     card_number|\n+----------------+\n|1234567812345678|\n|2345678923456789|\n|3456789034567890|\n+----------------+\n\n+-----------+-----+------+\n|employee_id|ename|salary|\n+-----------+-----+------+\n|          3|  Bob| 60000|\n|          4|Diana| 70000|\n|          5|  Eve| 60000|\n|          6|Frank| 80000|\n|          7|Grace| 70000|\n|          8|Henry| 90000|\n+-----------+-----+------+\n\n"
     ]
    }
   ],
   "source": [
    "from pyspark.sql import SparkSession\n",
    "from pyspark.sql.types import StructType, StructField, LongType, IntegerType, StringType\n",
    "\n",
    "# Initialize Spark session\n",
    "spark = SparkSession.builder.appName(\"PySparkExample\").getOrCreate()\n",
    "\n",
    "# Schema for 'cards' table\n",
    "cards_schema = StructType([\n",
    "    StructField(\"card_number\", LongType(), True)\n",
    "])\n",
    "\n",
    "# Data for 'cards' table\n",
    "cards_data = [\n",
    "    (1234567812345678,),\n",
    "    (2345678923456789,),\n",
    "    (3456789034567890,)\n",
    "]\n",
    "\n",
    "# Create DataFrame for 'cards' table\n",
    "cards_df = spark.createDataFrame(cards_data, schema=cards_schema)\n",
    "cards_df.show()\n",
    "\n",
    "# Schema for 'Employee' table\n",
    "employee_schema = StructType([\n",
    "    StructField(\"employee_id\", IntegerType(), True),\n",
    "    StructField(\"ename\", StringType(), True),\n",
    "    StructField(\"salary\", IntegerType(), True)\n",
    "])\n",
    "\n",
    "# Data for 'Employee' table\n",
    "employee_data = [\n",
    "    (3, 'Bob', 60000),\n",
    "    (4, 'Diana', 70000),\n",
    "    (5, 'Eve', 60000),\n",
    "    (6, 'Frank', 80000),\n",
    "    (7, 'Grace', 70000),\n",
    "    (8, 'Henry', 90000)\n",
    "]\n",
    "\n",
    "# Create DataFrame for 'Employee' table\n",
    "employee_df = spark.createDataFrame(employee_data, schema=employee_schema)\n",
    "employee_df.show()\n"
   ]
  },
  {
   "cell_type": "code",
   "execution_count": 0,
   "metadata": {
    "application/vnd.databricks.v1+cell": {
     "cellMetadata": {
      "byteLimit": 2048000,
      "rowLimit": 10000
     },
     "inputWidgets": {},
     "nuid": "e4205539-7975-4806-93ce-beb441bbe031",
     "showTitle": false,
     "title": ""
    }
   },
   "outputs": [
    {
     "output_type": "display_data",
     "data": {
      "text/html": [
       "<style scoped>\n",
       "  .table-result-container {\n",
       "    max-height: 300px;\n",
       "    overflow: auto;\n",
       "  }\n",
       "  table, th, td {\n",
       "    border: 1px solid black;\n",
       "    border-collapse: collapse;\n",
       "  }\n",
       "  th, td {\n",
       "    padding: 5px;\n",
       "  }\n",
       "  th {\n",
       "    text-align: left;\n",
       "  }\n",
       "</style><div class='table-result-container'><table class='table-result'><thead style='background-color: white'><tr><th>card_number</th><th>masked_card_number</th></tr></thead><tbody><tr><td>1234567812345678</td><td>************5678</td></tr><tr><td>2345678923456789</td><td>************6789</td></tr><tr><td>3456789034567890</td><td>************7890</td></tr></tbody></table></div>"
      ]
     },
     "metadata": {
      "application/vnd.databricks.v1+output": {
       "addedWidgets": {},
       "aggData": [],
       "aggError": "",
       "aggOverflow": false,
       "aggSchema": [],
       "aggSeriesLimitReached": false,
       "aggType": "",
       "arguments": {},
       "columnCustomDisplayInfos": {},
       "data": [
        [
         1234567812345678,
         "************5678"
        ],
        [
         2345678923456789,
         "************6789"
        ],
        [
         3456789034567890,
         "************7890"
        ]
       ],
       "datasetInfos": [],
       "dbfsResultPath": null,
       "isJsonSchema": true,
       "metadata": {},
       "overflow": false,
       "plotOptions": {
        "customPlotOptions": {},
        "displayType": "table",
        "pivotAggregation": null,
        "pivotColumns": null,
        "xColumns": null,
        "yColumns": null
       },
       "removedWidgets": [],
       "schema": [
        {
         "metadata": "{}",
         "name": "card_number",
         "type": "\"long\""
        },
        {
         "metadata": "{}",
         "name": "masked_card_number",
         "type": "\"string\""
        }
       ],
       "type": "table"
      }
     },
     "output_type": "display_data"
    }
   ],
   "source": [
    "from pyspark.sql.functions import col, expr\n",
    "\n",
    "# Convert card_number to a string and mask the first 12 digits\n",
    "masked_cards_df = cards_df.withColumn(\n",
    "    \"masked_card_number\",\n",
    "    expr(\"concat('************', substring(card_number, 13, 4))\")\n",
    ")\n",
    "\n",
    "masked_cards_df.display()\n"
   ]
  },
  {
   "cell_type": "code",
   "execution_count": 0,
   "metadata": {
    "application/vnd.databricks.v1+cell": {
     "cellMetadata": {
      "byteLimit": 2048000,
      "rowLimit": 10000
     },
     "inputWidgets": {},
     "nuid": "ae1107e2-92fe-4cd4-8e42-de7e5ed1aeab",
     "showTitle": false,
     "title": ""
    }
   },
   "outputs": [
    {
     "output_type": "display_data",
     "data": {
      "text/html": [
       "<style scoped>\n",
       "  .table-result-container {\n",
       "    max-height: 300px;\n",
       "    overflow: auto;\n",
       "  }\n",
       "  table, th, td {\n",
       "    border: 1px solid black;\n",
       "    border-collapse: collapse;\n",
       "  }\n",
       "  th, td {\n",
       "    padding: 5px;\n",
       "  }\n",
       "  th {\n",
       "    text-align: left;\n",
       "  }\n",
       "</style><div class='table-result-container'><table class='table-result'><thead style='background-color: white'><tr><th>salary</th><th>employee_id</th><th>ename</th><th>count</th></tr></thead><tbody><tr><td>60000</td><td>3</td><td>Bob</td><td>2</td></tr><tr><td>70000</td><td>4</td><td>Diana</td><td>2</td></tr><tr><td>60000</td><td>5</td><td>Eve</td><td>2</td></tr><tr><td>70000</td><td>7</td><td>Grace</td><td>2</td></tr></tbody></table></div>"
      ]
     },
     "metadata": {
      "application/vnd.databricks.v1+output": {
       "addedWidgets": {},
       "aggData": [],
       "aggError": "",
       "aggOverflow": false,
       "aggSchema": [],
       "aggSeriesLimitReached": false,
       "aggType": "",
       "arguments": {},
       "columnCustomDisplayInfos": {},
       "data": [
        [
         60000,
         3,
         "Bob",
         2
        ],
        [
         70000,
         4,
         "Diana",
         2
        ],
        [
         60000,
         5,
         "Eve",
         2
        ],
        [
         70000,
         7,
         "Grace",
         2
        ]
       ],
       "datasetInfos": [],
       "dbfsResultPath": null,
       "isJsonSchema": true,
       "metadata": {},
       "overflow": false,
       "plotOptions": {
        "customPlotOptions": {},
        "displayType": "table",
        "pivotAggregation": null,
        "pivotColumns": null,
        "xColumns": null,
        "yColumns": null
       },
       "removedWidgets": [],
       "schema": [
        {
         "metadata": "{}",
         "name": "salary",
         "type": "\"integer\""
        },
        {
         "metadata": "{}",
         "name": "employee_id",
         "type": "\"integer\""
        },
        {
         "metadata": "{}",
         "name": "ename",
         "type": "\"string\""
        },
        {
         "metadata": "{}",
         "name": "count",
         "type": "\"long\""
        }
       ],
       "type": "table"
      }
     },
     "output_type": "display_data"
    }
   ],
   "source": [
    "from pyspark.sql.functions import count\n",
    "\n",
    "# Group by salary and count the number of employees for each salary\n",
    "salary_count_df = employee_df.groupBy(\"salary\").count()\n",
    "\n",
    "# Filter to find salaries that have more than one employee\n",
    "same_salary_df = salary_count_df.filter(col(\"count\") > 1)\n",
    "\n",
    "# Join the result back with the original employee DataFrame to get the employee details\n",
    "result_df = employee_df.join(same_salary_df, on=\"salary\", how=\"inner\")\n",
    "\n",
    "result_df.display()\n"
   ]
  }
 ],
 "metadata": {
  "application/vnd.databricks.v1+notebook": {
   "dashboards": [],
   "environmentMetadata": null,
   "language": "python",
   "notebookMetadata": {
    "pythonIndentUnit": 4
   },
   "notebookName": "Hero Motocorp SQL Interview Questions",
   "widgets": {}
  }
 },
 "nbformat": 4,
 "nbformat_minor": 0
}
