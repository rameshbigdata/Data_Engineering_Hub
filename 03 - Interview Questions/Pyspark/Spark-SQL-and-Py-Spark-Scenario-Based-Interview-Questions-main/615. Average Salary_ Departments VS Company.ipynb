{
 "cells": [
  {
   "cell_type": "markdown",
   "metadata": {
    "application/vnd.databricks.v1+cell": {
     "cellMetadata": {},
     "inputWidgets": {},
     "nuid": "622a4f15-b55b-4d2d-8a67-94e37d9e8966",
     "showTitle": false,
     "title": ""
    }
   },
   "source": [
    "#Problrm Statement\n",
    "You are the business owner and would like to obtain a sales report for category items and day of the week.\n",
    "\n",
    "Write an SQL query to report how many units in each category have been ordered on each day of the week.\n",
    "\n",
    "Return the result table ordered by category."
   ]
  },
  {
   "cell_type": "code",
   "execution_count": 0,
   "metadata": {
    "application/vnd.databricks.v1+cell": {
     "cellMetadata": {},
     "inputWidgets": {},
     "nuid": "4748b567-ab19-45b2-a306-55f98a3fdd43",
     "showTitle": false,
     "title": ""
    }
   },
   "outputs": [],
   "source": [
    "from pyspark.sql import SparkSession\n",
    "from pyspark.sql.functions import col, dayofweek, sum as _sum, when, coalesce, lit\n",
    "from pyspark.sql.types import StructType, StructField, IntegerType, StringType\n",
    "\n",
    "# Initialize Spark session\n",
    "spark = SparkSession.builder \\\n",
    "    .appName(\"Orders and Items DataFrame\") \\\n",
    "    .getOrCreate()\n",
    "\n",
    "# Define schema for Orders table\n",
    "orders_schema = StructType([\n",
    "    StructField(\"order_id\", IntegerType(), True),\n",
    "    StructField(\"customer_id\", IntegerType(), True),\n",
    "    StructField(\"order_date\", StringType(), True),  # Temporarily use StringType\n",
    "    StructField(\"item_id\", IntegerType(), True),\n",
    "    StructField(\"quantity\", IntegerType(), True)\n",
    "])\n",
    "\n",
    "# Define schema for Items table\n",
    "items_schema = StructType([\n",
    "    StructField(\"item_id\", IntegerType(), True),\n",
    "    StructField(\"item_name\", StringType(), True),\n",
    "    StructField(\"item_category\", StringType(), True)\n",
    "])\n",
    "\n",
    "# Sample data for Orders\n",
    "orders_data = [\n",
    "    (1, 1, \"2020-06-01\", 1, 10),\n",
    "    (2, 1, \"2020-06-08\", 2, 10),\n",
    "    (3, 2, \"2020-06-02\", 1, 5),\n",
    "    (4, 3, \"2020-06-03\", 3, 5),\n",
    "    (5, 4, \"2020-06-04\", 4, 1),\n",
    "    (6, 4, \"2020-06-05\", 5, 5),\n",
    "    (7, 5, \"2020-06-05\", 1, 10),\n",
    "    (8, 5, \"2020-06-14\", 4, 5),\n",
    "    (9, 5, \"2020-06-21\", 3, 5)\n",
    "]\n",
    "\n",
    "# Sample data for Items\n",
    "items_data = [\n",
    "    (1, \"LC Alg. Book\", \"Book\"),\n",
    "    (2, \"LC DB. Book\", \"Book\"),\n",
    "    (3, \"LC SmarthPhone\", \"Phone\"),\n",
    "    (4, \"LC Phone 2020\", \"Phone\"),\n",
    "    (5, \"LC SmartGlass\", \"Glasses\"),\n",
    "    (6, \"LC T-Shirt XL\", \"T-Shirt\")\n",
    "]\n",
    "\n",
    "# Create DataFrame for Orders\n",
    "orders_df = spark.createDataFrame(data=orders_data, schema=orders_schema)\n",
    "\n",
    "# Convert order_date from string to date type\n",
    "orders_df = orders_df.withColumn(\"order_date\", orders_df[\"order_date\"].cast(\"date\"))\n",
    "\n",
    "# Create DataFrame for Items\n",
    "items_df = spark.createDataFrame(data=items_data, schema=items_schema)\n",
    "\n",
    "# Join Orders and Items DataFrames\n",
    "joined_df = items_df.join(orders_df, items_df[\"item_id\"] == orders_df[\"item_id\"], \"left\") \\\n",
    "    .groupBy(\"item_category\") \\\n",
    "    .agg(\n",
    "        coalesce(_sum(when(dayofweek(col(\"order_date\")) == 2, col(\"quantity\"))), lit(0)).alias(\"Monday\"),\n",
    "        coalesce(_sum(when(dayofweek(col(\"order_date\")) == 3, col(\"quantity\"))), lit(0)).alias(\"Tuesday\"),\n",
    "        coalesce(_sum(when(dayofweek(col(\"order_date\")) == 4, col(\"quantity\"))), lit(0)).alias(\"Wednesday\"),\n",
    "        coalesce(_sum(when(dayofweek(col(\"order_date\")) == 5, col(\"quantity\"))), lit(0)).alias(\"Thursday\"),\n",
    "        coalesce(_sum(when(dayofweek(col(\"order_date\")) == 6, col(\"quantity\"))), lit(0)).alias(\"Friday\"),\n",
    "        coalesce(_sum(when(dayofweek(col(\"order_date\")) == 7, col(\"quantity\"))), lit(0)).alias(\"Saturday\"),\n",
    "        coalesce(_sum(when(dayofweek(col(\"order_date\")) == 1, col(\"quantity\"))), lit(0)).alias(\"Sunday\")\n",
    "    ) \\\n",
    "    .orderBy(\"item_category\")\n",
    "\n",
    "# Show the result DataFrame\n",
    "joined_df.display()"
   ]
  },
  {
   "cell_type": "code",
   "execution_count": 0,
   "metadata": {
    "application/vnd.databricks.v1+cell": {
     "cellMetadata": {
      "byteLimit": 2048000,
      "rowLimit": 10000
     },
     "inputWidgets": {},
     "nuid": "56a5e86a-271f-4c2a-a92a-8bc753009ea0",
     "showTitle": false,
     "title": ""
    }
   },
   "outputs": [
    {
     "output_type": "stream",
     "name": "stdout",
     "output_type": "stream",
     "text": [
      "root\n |-- id: integer (nullable = true)\n |-- employee_id: integer (nullable = true)\n |-- amount: integer (nullable = true)\n |-- pay_date: date (nullable = true)\n |-- pay_month: double (nullable = true)\n\nroot\n |-- employee_id: integer (nullable = true)\n |-- department_id: integer (nullable = true)\n\n"
     ]
    }
   ],
   "source": [
    "salary_df.printSchema()\n",
    "employee_df.printSchema()"
   ]
  },
  {
   "cell_type": "code",
   "execution_count": 0,
   "metadata": {
    "application/vnd.databricks.v1+cell": {
     "cellMetadata": {
      "byteLimit": 2048000,
      "rowLimit": 10000
     },
     "inputWidgets": {},
     "nuid": "2f9ccd57-9113-4351-bbe3-c713dcb0d273",
     "showTitle": false,
     "title": ""
    }
   },
   "outputs": [
    {
     "output_type": "stream",
     "name": "stdout",
     "output_type": "stream",
     "text": [
      "root\n |-- item_id: integer (nullable = true)\n |-- item_name: string (nullable = true)\n |-- item_category: string (nullable = true)\n\nroot\n |-- order_id: integer (nullable = true)\n |-- customer_id: integer (nullable = true)\n |-- order_date: date (nullable = true)\n |-- item_id: integer (nullable = true)\n |-- quantity: integer (nullable = true)\n\n"
     ]
    }
   ],
   "source": [
    "items_df.printSchema()\n",
    "orders_df.printSchema()"
   ]
  },
  {
   "cell_type": "code",
   "execution_count": 0,
   "metadata": {
    "application/vnd.databricks.v1+cell": {
     "cellMetadata": {
      "byteLimit": 2048000,
      "rowLimit": 10000
     },
     "inputWidgets": {},
     "nuid": "0f34dabf-174c-49d9-9805-2e5db9500a40",
     "showTitle": false,
     "title": ""
    }
   },
   "outputs": [],
   "source": [
    "items_df.createOrReplaceTempView(\"Items\")\n",
    "orders_df.createOrReplaceTempView(\"Orders\")\n"
   ]
  },
  {
   "cell_type": "code",
   "execution_count": 0,
   "metadata": {
    "application/vnd.databricks.v1+cell": {
     "cellMetadata": {
      "byteLimit": 2048000,
      "implicitDf": true,
      "rowLimit": 10000
     },
     "inputWidgets": {},
     "nuid": "701d6384-bc8d-4a25-9eb8-6b2e7989fdf7",
     "showTitle": false,
     "title": ""
    }
   },
   "outputs": [
    {
     "output_type": "display_data",
     "data": {
      "text/html": [
       "<style scoped>\n",
       "  .table-result-container {\n",
       "    max-height: 300px;\n",
       "    overflow: auto;\n",
       "  }\n",
       "  table, th, td {\n",
       "    border: 1px solid black;\n",
       "    border-collapse: collapse;\n",
       "  }\n",
       "  th, td {\n",
       "    padding: 5px;\n",
       "  }\n",
       "  th {\n",
       "    text-align: left;\n",
       "  }\n",
       "</style><div class='table-result-container'><table class='table-result'><thead style='background-color: white'><tr><th>Category</th><th>Monday</th><th>Tuesday</th><th>Wednesday</th><th>Thursday</th><th>Friday</th><th>Saturday</th><th>Sunday</th></tr></thead><tbody><tr><td>Book</td><td>20</td><td>5</td><td>0</td><td>0</td><td>10</td><td>0</td><td>0</td></tr><tr><td>Glasses</td><td>0</td><td>0</td><td>0</td><td>0</td><td>5</td><td>0</td><td>0</td></tr><tr><td>Phone</td><td>0</td><td>0</td><td>5</td><td>1</td><td>0</td><td>0</td><td>10</td></tr><tr><td>T-Shirt</td><td>0</td><td>0</td><td>0</td><td>0</td><td>0</td><td>0</td><td>0</td></tr></tbody></table></div>"
      ]
     },
     "metadata": {
      "application/vnd.databricks.v1+output": {
       "addedWidgets": {},
       "aggData": [],
       "aggError": "",
       "aggOverflow": false,
       "aggSchema": [],
       "aggSeriesLimitReached": false,
       "aggType": "",
       "arguments": {},
       "columnCustomDisplayInfos": {},
       "data": [
        [
         "Book",
         20,
         5,
         0,
         0,
         10,
         0,
         0
        ],
        [
         "Glasses",
         0,
         0,
         0,
         0,
         5,
         0,
         0
        ],
        [
         "Phone",
         0,
         0,
         5,
         1,
         0,
         0,
         10
        ],
        [
         "T-Shirt",
         0,
         0,
         0,
         0,
         0,
         0,
         0
        ]
       ],
       "datasetInfos": [],
       "dbfsResultPath": null,
       "isJsonSchema": true,
       "metadata": {},
       "overflow": false,
       "plotOptions": {
        "customPlotOptions": {},
        "displayType": "table",
        "pivotAggregation": null,
        "pivotColumns": null,
        "xColumns": null,
        "yColumns": null
       },
       "removedWidgets": [],
       "schema": [
        {
         "metadata": "{}",
         "name": "Category",
         "type": "\"string\""
        },
        {
         "metadata": "{}",
         "name": "Monday",
         "type": "\"long\""
        },
        {
         "metadata": "{}",
         "name": "Tuesday",
         "type": "\"long\""
        },
        {
         "metadata": "{}",
         "name": "Wednesday",
         "type": "\"long\""
        },
        {
         "metadata": "{}",
         "name": "Thursday",
         "type": "\"long\""
        },
        {
         "metadata": "{}",
         "name": "Friday",
         "type": "\"long\""
        },
        {
         "metadata": "{}",
         "name": "Saturday",
         "type": "\"long\""
        },
        {
         "metadata": "{}",
         "name": "Sunday",
         "type": "\"long\""
        }
       ],
       "type": "table"
      }
     },
     "output_type": "display_data"
    }
   ],
   "source": [
    "%sql\n",
    "select i.item_category as Category,\n",
    "       coalesce(sum(case when dayofweek(o.order_date) = 2 then o.quantity end), 0) as Monday,\n",
    "coalesce(sum(case when dayofweek(o.order_date) = 3 then o.quantity end), 0) as Tuesday,\n",
    "coalesce(sum(case when dayofweek(o.order_date) = 4 then o.quantity end), 0) as Wednesday,\n",
    "coalesce(sum(case when dayofweek(o.order_date) = 5 then o.quantity end), 0) as Thursday,\n",
    "coalesce(sum(case when dayofweek(o.order_date) = 6 then o.quantity end), 0) as Friday,\n",
    "coalesce(sum(case when dayofweek(o.order_date) = 7 then o.quantity end), 0) as Saturday,\n",
    "coalesce(sum(case when dayofweek(o.order_date) = 1 then o.quantity end), 0) as Sunday\n",
    "from Items i\n",
    "left join\n",
    "Orders o\n",
    "on i.item_id = o.item_id\n",
    "group by 1\n",
    "order by 1\n",
    ";"
   ]
  }
 ],
 "metadata": {
  "application/vnd.databricks.v1+notebook": {
   "dashboards": [],
   "environmentMetadata": null,
   "language": "python",
   "notebookMetadata": {
    "mostRecentlyExecutedCommandWithImplicitDF": {
     "commandId": 3971813411475160,
     "dataframes": [
      "_sqldf"
     ]
    },
    "pythonIndentUnit": 4
   },
   "notebookName": "615. Average Salary: Departments VS Company",
   "widgets": {}
  }
 },
 "nbformat": 4,
 "nbformat_minor": 0
}
