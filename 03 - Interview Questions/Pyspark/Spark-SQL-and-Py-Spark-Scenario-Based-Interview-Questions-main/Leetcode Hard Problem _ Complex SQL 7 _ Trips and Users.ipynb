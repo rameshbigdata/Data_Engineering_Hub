{
 "cells": [
  {
   "cell_type": "markdown",
   "metadata": {
    "application/vnd.databricks.v1+cell": {
     "cellMetadata": {},
     "inputWidgets": {},
     "nuid": "aa26c253-f2ba-47a8-86a2-e13c481bfd1d",
     "showTitle": false,
     "title": ""
    }
   },
   "source": [
    "#Problem Statement\n",
    "Write a SQL query to find the cancellation rate of requests made by unbanned users (both client and driver must be unbanned) between Oct 1, 2013 and Oct 3, 2013. The cancellation rate is computed by dividing the number of canceled (by client or driver) requests made by unbanned users by the total number of requests made by unbanned users.\n",
    "\n",
    "For the above tables, your SQL query should return the following rows with the cancellation rate being rounded to two decimal places."
   ]
  },
  {
   "cell_type": "code",
   "execution_count": 0,
   "metadata": {
    "application/vnd.databricks.v1+cell": {
     "cellMetadata": {
      "byteLimit": 2048000,
      "rowLimit": 10000
     },
     "inputWidgets": {},
     "nuid": "92824deb-4ce6-40a3-9e4b-7280c14be9ac",
     "showTitle": false,
     "title": ""
    }
   },
   "outputs": [
    {
     "output_type": "display_data",
     "data": {
      "text/html": [
       "<style scoped>\n",
       "  .table-result-container {\n",
       "    max-height: 300px;\n",
       "    overflow: auto;\n",
       "  }\n",
       "  table, th, td {\n",
       "    border: 1px solid black;\n",
       "    border-collapse: collapse;\n",
       "  }\n",
       "  th, td {\n",
       "    padding: 5px;\n",
       "  }\n",
       "  th {\n",
       "    text-align: left;\n",
       "  }\n",
       "</style><div class='table-result-container'><table class='table-result'><thead style='background-color: white'><tr><th>users_id</th><th>banned</th><th>role</th></tr></thead><tbody><tr><td>1</td><td>No</td><td>client</td></tr><tr><td>2</td><td>Yes</td><td>client</td></tr><tr><td>3</td><td>No</td><td>client</td></tr><tr><td>4</td><td>No</td><td>client</td></tr><tr><td>10</td><td>No</td><td>driver</td></tr><tr><td>11</td><td>No</td><td>driver</td></tr><tr><td>12</td><td>No</td><td>driver</td></tr><tr><td>13</td><td>No</td><td>driver</td></tr></tbody></table></div>"
      ]
     },
     "metadata": {
      "application/vnd.databricks.v1+output": {
       "addedWidgets": {},
       "aggData": [],
       "aggError": "",
       "aggOverflow": false,
       "aggSchema": [],
       "aggSeriesLimitReached": false,
       "aggType": "",
       "arguments": {},
       "columnCustomDisplayInfos": {},
       "data": [
        [
         1,
         "No",
         "client"
        ],
        [
         2,
         "Yes",
         "client"
        ],
        [
         3,
         "No",
         "client"
        ],
        [
         4,
         "No",
         "client"
        ],
        [
         10,
         "No",
         "driver"
        ],
        [
         11,
         "No",
         "driver"
        ],
        [
         12,
         "No",
         "driver"
        ],
        [
         13,
         "No",
         "driver"
        ]
       ],
       "datasetInfos": [],
       "dbfsResultPath": null,
       "isJsonSchema": true,
       "metadata": {},
       "overflow": false,
       "plotOptions": {
        "customPlotOptions": {},
        "displayType": "table",
        "pivotAggregation": null,
        "pivotColumns": null,
        "xColumns": null,
        "yColumns": null
       },
       "removedWidgets": [],
       "schema": [
        {
         "metadata": "{}",
         "name": "users_id",
         "type": "\"integer\""
        },
        {
         "metadata": "{}",
         "name": "banned",
         "type": "\"string\""
        },
        {
         "metadata": "{}",
         "name": "role",
         "type": "\"string\""
        }
       ],
       "type": "table"
      }
     },
     "output_type": "display_data"
    },
    {
     "output_type": "display_data",
     "data": {
      "text/html": [
       "<style scoped>\n",
       "  .table-result-container {\n",
       "    max-height: 300px;\n",
       "    overflow: auto;\n",
       "  }\n",
       "  table, th, td {\n",
       "    border: 1px solid black;\n",
       "    border-collapse: collapse;\n",
       "  }\n",
       "  th, td {\n",
       "    padding: 5px;\n",
       "  }\n",
       "  th {\n",
       "    text-align: left;\n",
       "  }\n",
       "</style><div class='table-result-container'><table class='table-result'><thead style='background-color: white'><tr><th>id</th><th>client_id</th><th>driver_id</th><th>city_id</th><th>status</th><th>request_at</th></tr></thead><tbody><tr><td>1</td><td>1</td><td>10</td><td>1</td><td>completed</td><td>2013-10-01</td></tr><tr><td>2</td><td>2</td><td>11</td><td>1</td><td>cancelled_by_driver</td><td>2013-10-01</td></tr><tr><td>3</td><td>3</td><td>12</td><td>6</td><td>completed</td><td>2013-10-01</td></tr><tr><td>4</td><td>4</td><td>13</td><td>6</td><td>cancelled_by_client</td><td>2013-10-01</td></tr><tr><td>5</td><td>1</td><td>10</td><td>1</td><td>completed</td><td>2013-10-02</td></tr><tr><td>6</td><td>2</td><td>11</td><td>6</td><td>completed</td><td>2013-10-02</td></tr><tr><td>7</td><td>3</td><td>12</td><td>6</td><td>completed</td><td>2013-10-02</td></tr><tr><td>8</td><td>2</td><td>12</td><td>12</td><td>completed</td><td>2013-10-03</td></tr><tr><td>9</td><td>3</td><td>10</td><td>12</td><td>completed</td><td>2013-10-03</td></tr><tr><td>10</td><td>4</td><td>13</td><td>12</td><td>cancelled_by_driver</td><td>2013-10-03</td></tr></tbody></table></div>"
      ]
     },
     "metadata": {
      "application/vnd.databricks.v1+output": {
       "addedWidgets": {},
       "aggData": [],
       "aggError": "",
       "aggOverflow": false,
       "aggSchema": [],
       "aggSeriesLimitReached": false,
       "aggType": "",
       "arguments": {},
       "columnCustomDisplayInfos": {},
       "data": [
        [
         1,
         1,
         10,
         1,
         "completed",
         "2013-10-01"
        ],
        [
         2,
         2,
         11,
         1,
         "cancelled_by_driver",
         "2013-10-01"
        ],
        [
         3,
         3,
         12,
         6,
         "completed",
         "2013-10-01"
        ],
        [
         4,
         4,
         13,
         6,
         "cancelled_by_client",
         "2013-10-01"
        ],
        [
         5,
         1,
         10,
         1,
         "completed",
         "2013-10-02"
        ],
        [
         6,
         2,
         11,
         6,
         "completed",
         "2013-10-02"
        ],
        [
         7,
         3,
         12,
         6,
         "completed",
         "2013-10-02"
        ],
        [
         8,
         2,
         12,
         12,
         "completed",
         "2013-10-03"
        ],
        [
         9,
         3,
         10,
         12,
         "completed",
         "2013-10-03"
        ],
        [
         10,
         4,
         13,
         12,
         "cancelled_by_driver",
         "2013-10-03"
        ]
       ],
       "datasetInfos": [],
       "dbfsResultPath": null,
       "isJsonSchema": true,
       "metadata": {},
       "overflow": false,
       "plotOptions": {
        "customPlotOptions": {},
        "displayType": "table",
        "pivotAggregation": null,
        "pivotColumns": null,
        "xColumns": null,
        "yColumns": null
       },
       "removedWidgets": [],
       "schema": [
        {
         "metadata": "{}",
         "name": "id",
         "type": "\"integer\""
        },
        {
         "metadata": "{}",
         "name": "client_id",
         "type": "\"integer\""
        },
        {
         "metadata": "{}",
         "name": "driver_id",
         "type": "\"integer\""
        },
        {
         "metadata": "{}",
         "name": "city_id",
         "type": "\"integer\""
        },
        {
         "metadata": "{}",
         "name": "status",
         "type": "\"string\""
        },
        {
         "metadata": "{}",
         "name": "request_at",
         "type": "\"string\""
        }
       ],
       "type": "table"
      }
     },
     "output_type": "display_data"
    }
   ],
   "source": [
    "from pyspark.sql import SparkSession\n",
    "spark = SparkSession.builder \\\n",
    "    .appName(\"example\") \\\n",
    "    .getOrCreate()\n",
    "from pyspark.sql.types import StructType, StructField, IntegerType, StringType\n",
    "# Define schema for Trips table\n",
    "trips_schema = StructType([\n",
    "    StructField(\"id\", IntegerType(), True),\n",
    "    StructField(\"client_id\", IntegerType(), True),\n",
    "    StructField(\"driver_id\", IntegerType(), True),\n",
    "    StructField(\"city_id\", IntegerType(), True),\n",
    "    StructField(\"status\", StringType(), True),\n",
    "    StructField(\"request_at\", StringType(), True)\n",
    "])\n",
    "\n",
    "trips_data = [\n",
    "    (1, 1, 10, 1, 'completed', '2013-10-01'),\n",
    "    (2, 2, 11, 1, 'cancelled_by_driver', '2013-10-01'),\n",
    "    (3, 3, 12, 6, 'completed', '2013-10-01'),\n",
    "    (4, 4, 13, 6, 'cancelled_by_client', '2013-10-01'),\n",
    "    (5, 1, 10, 1, 'completed', '2013-10-02'),\n",
    "    (6, 2, 11, 6, 'completed', '2013-10-02'),\n",
    "    (7, 3, 12, 6, 'completed', '2013-10-02'),\n",
    "    (8, 2, 12, 12, 'completed', '2013-10-03'),\n",
    "    (9, 3, 10, 12, 'completed', '2013-10-03'),\n",
    "    (10, 4, 13, 12, 'cancelled_by_driver', '2013-10-03')\n",
    "]\n",
    "\n",
    "trips_df = spark.createDataFrame(trips_data, schema=trips_schema)\n",
    "\n",
    "# Define schema for Users table\n",
    "users_schema = StructType([\n",
    "    StructField(\"users_id\", IntegerType(), True),\n",
    "    StructField(\"banned\", StringType(), True),\n",
    "    StructField(\"role\", StringType(), True)\n",
    "])\n",
    "\n",
    "users_data = [\n",
    "    (1, 'No', 'client'),\n",
    "    (2, 'Yes', 'client'),\n",
    "    (3, 'No', 'client'),\n",
    "    (4, 'No', 'client'),\n",
    "    (10, 'No', 'driver'),\n",
    "    (11, 'No', 'driver'),\n",
    "    (12, 'No', 'driver'),\n",
    "    (13, 'No', 'driver')\n",
    "]\n",
    "\n",
    "users_df = spark.createDataFrame(users_data, schema=users_schema)\n",
    "\n",
    "users_df.display()\n",
    "trips_df.display()"
   ]
  },
  {
   "cell_type": "markdown",
   "metadata": {
    "application/vnd.databricks.v1+cell": {
     "cellMetadata": {},
     "inputWidgets": {},
     "nuid": "363391c4-7f9d-4afc-995c-751b904954e4",
     "showTitle": false,
     "title": ""
    }
   },
   "source": [
    "###Pyspark "
   ]
  },
  {
   "cell_type": "code",
   "execution_count": 0,
   "metadata": {
    "application/vnd.databricks.v1+cell": {
     "cellMetadata": {
      "byteLimit": 2048000,
      "rowLimit": 10000
     },
     "inputWidgets": {},
     "nuid": "486769a6-097d-4213-b844-739abc6f4a3f",
     "showTitle": false,
     "title": ""
    }
   },
   "outputs": [
    {
     "output_type": "display_data",
     "data": {
      "text/html": [
       "<style scoped>\n",
       "  .table-result-container {\n",
       "    max-height: 300px;\n",
       "    overflow: auto;\n",
       "  }\n",
       "  table, th, td {\n",
       "    border: 1px solid black;\n",
       "    border-collapse: collapse;\n",
       "  }\n",
       "  th, td {\n",
       "    padding: 5px;\n",
       "  }\n",
       "  th {\n",
       "    text-align: left;\n",
       "  }\n",
       "</style><div class='table-result-container'><table class='table-result'><thead style='background-color: white'><tr><th>request_at</th><th>cancellationpercentage</th></tr></thead><tbody><tr><td>2013-10-03</td><td>50.0</td></tr><tr><td>2013-10-01</td><td>33.33</td></tr><tr><td>2013-10-02</td><td>0.0</td></tr></tbody></table></div>"
      ]
     },
     "metadata": {
      "application/vnd.databricks.v1+output": {
       "addedWidgets": {},
       "aggData": [],
       "aggError": "",
       "aggOverflow": false,
       "aggSchema": [],
       "aggSeriesLimitReached": false,
       "aggType": "",
       "arguments": {},
       "columnCustomDisplayInfos": {},
       "data": [
        [
         "2013-10-03",
         50.0
        ],
        [
         "2013-10-01",
         33.33
        ],
        [
         "2013-10-02",
         0.0
        ]
       ],
       "datasetInfos": [],
       "dbfsResultPath": null,
       "isJsonSchema": true,
       "metadata": {},
       "overflow": false,
       "plotOptions": {
        "customPlotOptions": {},
        "displayType": "table",
        "pivotAggregation": null,
        "pivotColumns": null,
        "xColumns": null,
        "yColumns": null
       },
       "removedWidgets": [],
       "schema": [
        {
         "metadata": "{}",
         "name": "request_at",
         "type": "\"string\""
        },
        {
         "metadata": "{}",
         "name": "cancellationpercentage",
         "type": "\"double\""
        }
       ],
       "type": "table"
      }
     },
     "output_type": "display_data"
    }
   ],
   "source": [
    "from pyspark.sql.functions import col, count, sum, when, round\n",
    "# Filter users who are not banned\n",
    "non_banned_users_df = users_df.filter(col(\"banned\") == \"No\")\n",
    "\n",
    "# Join filtered users with trips\n",
    "joined_df = non_banned_users_df.alias(\"c\") \\\n",
    "    .join(trips_df.alias(\"t\"), col(\"c.users_id\") == col(\"t.client_id\"))\n",
    "\n",
    "# Group by request_at and calculate metrics\n",
    "metrics_df = joined_df.groupBy(\"t.request_at\") \\\n",
    "    .agg(\n",
    "        count(\"c.users_id\").alias(\"countofusers\"),\n",
    "        sum(when(col(\"t.status\").isin(\"cancelled_by_driver\", \"cancelled_by_client\"), 1).otherwise(0)).alias(\"cancelled\")\n",
    "    )\n",
    "\n",
    "# Calculate cancellation percentage\n",
    "cancellation_percentage_df = metrics_df.select(\n",
    "    col(\"request_at\"),\n",
    "    round((col(\"cancelled\") * 1.0 / col(\"countofusers\")) * 100, 2).alias(\"cancellationpercentage\")\n",
    ")\n",
    "\n",
    "# Show the result\n",
    "cancellation_percentage_df.display()"
   ]
  },
  {
   "cell_type": "markdown",
   "metadata": {
    "application/vnd.databricks.v1+cell": {
     "cellMetadata": {},
     "inputWidgets": {},
     "nuid": "409d7b6d-6b32-4665-a96a-20864dfb222c",
     "showTitle": false,
     "title": ""
    }
   },
   "source": [
    "###Spark SQL"
   ]
  },
  {
   "cell_type": "code",
   "execution_count": 0,
   "metadata": {
    "application/vnd.databricks.v1+cell": {
     "cellMetadata": {
      "byteLimit": 2048000,
      "rowLimit": 10000
     },
     "inputWidgets": {},
     "nuid": "78db5c99-626c-4d13-8ebd-5e5a85f22ed6",
     "showTitle": false,
     "title": ""
    }
   },
   "outputs": [],
   "source": [
    "trips_df.createOrReplaceTempView(\"Trips\")\n",
    "users_df.createOrReplaceTempView(\"Users\")\n"
   ]
  },
  {
   "cell_type": "code",
   "execution_count": 0,
   "metadata": {
    "application/vnd.databricks.v1+cell": {
     "cellMetadata": {
      "byteLimit": 2048000,
      "implicitDf": true,
      "rowLimit": 10000
     },
     "inputWidgets": {},
     "nuid": "6f5f8f77-b09c-452e-bee7-388605a7fd7d",
     "showTitle": false,
     "title": ""
    }
   },
   "outputs": [
    {
     "output_type": "display_data",
     "data": {
      "text/html": [
       "<style scoped>\n",
       "  .table-result-container {\n",
       "    max-height: 300px;\n",
       "    overflow: auto;\n",
       "  }\n",
       "  table, th, td {\n",
       "    border: 1px solid black;\n",
       "    border-collapse: collapse;\n",
       "  }\n",
       "  th, td {\n",
       "    padding: 5px;\n",
       "  }\n",
       "  th {\n",
       "    text-align: left;\n",
       "  }\n",
       "</style><div class='table-result-container'><table class='table-result'><thead style='background-color: white'><tr><th>request_at</th><th>cancellationpercentage</th></tr></thead><tbody><tr><td>2013-10-03</td><td>50.00</td></tr><tr><td>2013-10-01</td><td>33.33</td></tr><tr><td>2013-10-02</td><td>0.00</td></tr></tbody></table></div>"
      ]
     },
     "metadata": {
      "application/vnd.databricks.v1+output": {
       "addedWidgets": {},
       "aggData": [],
       "aggError": "",
       "aggOverflow": false,
       "aggSchema": [],
       "aggSeriesLimitReached": false,
       "aggType": "",
       "arguments": {},
       "columnCustomDisplayInfos": {},
       "data": [
        [
         "2013-10-03",
         "50.00"
        ],
        [
         "2013-10-01",
         "33.33"
        ],
        [
         "2013-10-02",
         "0.00"
        ]
       ],
       "datasetInfos": [],
       "dbfsResultPath": null,
       "isJsonSchema": true,
       "metadata": {},
       "overflow": false,
       "plotOptions": {
        "customPlotOptions": {},
        "displayType": "table",
        "pivotAggregation": null,
        "pivotColumns": null,
        "xColumns": null,
        "yColumns": null
       },
       "removedWidgets": [],
       "schema": [
        {
         "metadata": "{}",
         "name": "request_at",
         "type": "\"string\""
        },
        {
         "metadata": "{}",
         "name": "cancellationpercentage",
         "type": "\"decimal(29,2)\""
        }
       ],
       "type": "table"
      }
     },
     "output_type": "display_data"
    }
   ],
   "source": [
    "%sql\n",
    "WITH cte AS (\n",
    "    SELECT users_id \n",
    "    FROM users \n",
    "    WHERE banned = 'No'\n",
    "),\n",
    "cte1 AS (\n",
    "    SELECT \n",
    "        COUNT(users_id) AS countofusers, \n",
    "        request_at,\n",
    "        SUM(CASE WHEN status IN ('cancelled_by_driver', 'cancelled_by_client') THEN 1 ELSE 0 END) AS cancelled\n",
    "    FROM cte c \n",
    "    JOIN trips t ON c.users_id = t.client_id \n",
    "    GROUP BY request_at\n",
    ")\n",
    "SELECT \n",
    "    request_at, \n",
    "    ROUND((cancelled * 1.0) / countofusers * 100, 2) AS cancellationpercentage\n",
    "FROM cte1;\n"
   ]
  }
 ],
 "metadata": {
  "application/vnd.databricks.v1+notebook": {
   "dashboards": [],
   "environmentMetadata": null,
   "language": "python",
   "notebookMetadata": {
    "mostRecentlyExecutedCommandWithImplicitDF": {
     "commandId": 728579024173599,
     "dataframes": [
      "_sqldf"
     ]
    },
    "pythonIndentUnit": 4
   },
   "notebookName": "Leetcode Hard Problem | Complex SQL 7 | Trips and Users",
   "widgets": {}
  }
 },
 "nbformat": 4,
 "nbformat_minor": 0
}
