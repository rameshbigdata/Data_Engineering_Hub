{
 "cells": [
  {
   "cell_type": "markdown",
   "metadata": {
    "application/vnd.databricks.v1+cell": {
     "cellMetadata": {},
     "inputWidgets": {},
     "nuid": "aa26c253-f2ba-47a8-86a2-e13c481bfd1d",
     "showTitle": false,
     "title": ""
    }
   },
   "source": [
    "#Problem Statement\n",
    "Product recommendation. Just the basic type (“customers who bought this also bought…”). That, in its simplest form, is an outcome of basket analysis. In this solution, i will learn how to find products which are most frequently bought together using simple SQL. Based on the history ecommerce website can recommend products to new user."
   ]
  },
  {
   "cell_type": "code",
   "execution_count": 0,
   "metadata": {
    "application/vnd.databricks.v1+cell": {
     "cellMetadata": {
      "byteLimit": 2048000,
      "rowLimit": 10000
     },
     "inputWidgets": {},
     "nuid": "92824deb-4ce6-40a3-9e4b-7280c14be9ac",
     "showTitle": false,
     "title": ""
    }
   },
   "outputs": [
    {
     "output_type": "display_data",
     "data": {
      "text/html": [
       "<style scoped>\n",
       "  .table-result-container {\n",
       "    max-height: 300px;\n",
       "    overflow: auto;\n",
       "  }\n",
       "  table, th, td {\n",
       "    border: 1px solid black;\n",
       "    border-collapse: collapse;\n",
       "  }\n",
       "  th, td {\n",
       "    padding: 5px;\n",
       "  }\n",
       "  th {\n",
       "    text-align: left;\n",
       "  }\n",
       "</style><div class='table-result-container'><table class='table-result'><thead style='background-color: white'><tr><th>order_id</th><th>customer_id</th><th>product_id</th></tr></thead><tbody><tr><td>1</td><td>1</td><td>1</td></tr><tr><td>1</td><td>1</td><td>2</td></tr><tr><td>1</td><td>1</td><td>3</td></tr><tr><td>2</td><td>2</td><td>1</td></tr><tr><td>2</td><td>2</td><td>2</td></tr><tr><td>2</td><td>2</td><td>4</td></tr><tr><td>3</td><td>1</td><td>5</td></tr></tbody></table></div>"
      ]
     },
     "metadata": {
      "application/vnd.databricks.v1+output": {
       "addedWidgets": {},
       "aggData": [],
       "aggError": "",
       "aggOverflow": false,
       "aggSchema": [],
       "aggSeriesLimitReached": false,
       "aggType": "",
       "arguments": {},
       "columnCustomDisplayInfos": {},
       "data": [
        [
         1,
         1,
         1
        ],
        [
         1,
         1,
         2
        ],
        [
         1,
         1,
         3
        ],
        [
         2,
         2,
         1
        ],
        [
         2,
         2,
         2
        ],
        [
         2,
         2,
         4
        ],
        [
         3,
         1,
         5
        ]
       ],
       "datasetInfos": [],
       "dbfsResultPath": null,
       "isJsonSchema": true,
       "metadata": {},
       "overflow": false,
       "plotOptions": {
        "customPlotOptions": {},
        "displayType": "table",
        "pivotAggregation": null,
        "pivotColumns": null,
        "xColumns": null,
        "yColumns": null
       },
       "removedWidgets": [],
       "schema": [
        {
         "metadata": "{}",
         "name": "order_id",
         "type": "\"integer\""
        },
        {
         "metadata": "{}",
         "name": "customer_id",
         "type": "\"integer\""
        },
        {
         "metadata": "{}",
         "name": "product_id",
         "type": "\"integer\""
        }
       ],
       "type": "table"
      }
     },
     "output_type": "display_data"
    },
    {
     "output_type": "display_data",
     "data": {
      "text/html": [
       "<style scoped>\n",
       "  .table-result-container {\n",
       "    max-height: 300px;\n",
       "    overflow: auto;\n",
       "  }\n",
       "  table, th, td {\n",
       "    border: 1px solid black;\n",
       "    border-collapse: collapse;\n",
       "  }\n",
       "  th, td {\n",
       "    padding: 5px;\n",
       "  }\n",
       "  th {\n",
       "    text-align: left;\n",
       "  }\n",
       "</style><div class='table-result-container'><table class='table-result'><thead style='background-color: white'><tr><th>id</th><th>name</th></tr></thead><tbody><tr><td>1</td><td>A</td></tr><tr><td>2</td><td>B</td></tr><tr><td>3</td><td>C</td></tr><tr><td>4</td><td>D</td></tr><tr><td>5</td><td>E</td></tr></tbody></table></div>"
      ]
     },
     "metadata": {
      "application/vnd.databricks.v1+output": {
       "addedWidgets": {},
       "aggData": [],
       "aggError": "",
       "aggOverflow": false,
       "aggSchema": [],
       "aggSeriesLimitReached": false,
       "aggType": "",
       "arguments": {},
       "columnCustomDisplayInfos": {},
       "data": [
        [
         1,
         "A"
        ],
        [
         2,
         "B"
        ],
        [
         3,
         "C"
        ],
        [
         4,
         "D"
        ],
        [
         5,
         "E"
        ]
       ],
       "datasetInfos": [],
       "dbfsResultPath": null,
       "isJsonSchema": true,
       "metadata": {},
       "overflow": false,
       "plotOptions": {
        "customPlotOptions": {},
        "displayType": "table",
        "pivotAggregation": null,
        "pivotColumns": null,
        "xColumns": null,
        "yColumns": null
       },
       "removedWidgets": [],
       "schema": [
        {
         "metadata": "{}",
         "name": "id",
         "type": "\"integer\""
        },
        {
         "metadata": "{}",
         "name": "name",
         "type": "\"string\""
        }
       ],
       "type": "table"
      }
     },
     "output_type": "display_data"
    }
   ],
   "source": [
    "from pyspark.sql import SparkSession\n",
    "from pyspark.sql.types import StructType, StructField, IntegerType, StringType\n",
    "\n",
    "# Initialize Spark session\n",
    "spark = SparkSession.builder \\\n",
    "    .appName(\"OrdersProducts\") \\\n",
    "    .getOrCreate()\n",
    "\n",
    "# Define schema for orders\n",
    "orders_schema = StructType([\n",
    "    StructField(\"order_id\", IntegerType(), True),\n",
    "    StructField(\"customer_id\", IntegerType(), True),\n",
    "    StructField(\"product_id\", IntegerType(), True)\n",
    "])\n",
    "\n",
    "# Define schema for products\n",
    "products_schema = StructType([\n",
    "    StructField(\"id\", IntegerType(), True),\n",
    "    StructField(\"name\", StringType(), True)\n",
    "])\n",
    "\n",
    "# Create data for orders\n",
    "orders_data = [\n",
    "    (1, 1, 1),\n",
    "    (1, 1, 2),\n",
    "    (1, 1, 3),\n",
    "    (2, 2, 1),\n",
    "    (2, 2, 2),\n",
    "    (2, 2, 4),\n",
    "    (3, 1, 5)\n",
    "]\n",
    "\n",
    "# Create data for products\n",
    "products_data = [\n",
    "    (1, 'A'),\n",
    "    (2, 'B'),\n",
    "    (3, 'C'),\n",
    "    (4, 'D'),\n",
    "    (5, 'E')\n",
    "]\n",
    "\n",
    "# Create DataFrame for orders\n",
    "orders_df = spark.createDataFrame(orders_data, schema=orders_schema)\n",
    "\n",
    "# Create DataFrame for products\n",
    "products_df = spark.createDataFrame(products_data, schema=products_schema)\n",
    "\n",
    "# Show the result\n",
    "orders_df.display()\n",
    "products_df.display()"
   ]
  },
  {
   "cell_type": "code",
   "execution_count": 0,
   "metadata": {
    "application/vnd.databricks.v1+cell": {
     "cellMetadata": {
      "byteLimit": 2048000,
      "rowLimit": 10000
     },
     "inputWidgets": {},
     "nuid": "9adf504f-83b5-4aa0-8c0e-a93b3cdd5981",
     "showTitle": false,
     "title": ""
    }
   },
   "outputs": [],
   "source": [
    "# Create temporary views for SQL queries\n",
    "orders_df.createOrReplaceTempView(\"orders\")\n",
    "products_df.createOrReplaceTempView(\"products\")"
   ]
  },
  {
   "cell_type": "markdown",
   "metadata": {
    "application/vnd.databricks.v1+cell": {
     "cellMetadata": {},
     "inputWidgets": {},
     "nuid": "363391c4-7f9d-4afc-995c-751b904954e4",
     "showTitle": false,
     "title": ""
    }
   },
   "source": [
    "###Pyspark "
   ]
  },
  {
   "cell_type": "code",
   "execution_count": 0,
   "metadata": {
    "application/vnd.databricks.v1+cell": {
     "cellMetadata": {
      "byteLimit": 2048000,
      "rowLimit": 10000
     },
     "inputWidgets": {},
     "nuid": "5ebe2c33-d344-4a8a-82ff-9c82653eb0b5",
     "showTitle": false,
     "title": ""
    }
   },
   "outputs": [
    {
     "output_type": "display_data",
     "data": {
      "text/html": [
       "<style scoped>\n",
       "  .table-result-container {\n",
       "    max-height: 300px;\n",
       "    overflow: auto;\n",
       "  }\n",
       "  table, th, td {\n",
       "    border: 1px solid black;\n",
       "    border-collapse: collapse;\n",
       "  }\n",
       "  th, td {\n",
       "    padding: 5px;\n",
       "  }\n",
       "  th {\n",
       "    text-align: left;\n",
       "  }\n",
       "</style><div class='table-result-container'><table class='table-result'><thead style='background-color: white'><tr><th>pair</th><th>frequency</th></tr></thead><tbody><tr><td>AB</td><td>2</td></tr><tr><td>AD</td><td>1</td></tr><tr><td>BC</td><td>1</td></tr><tr><td>BD</td><td>1</td></tr><tr><td>AC</td><td>1</td></tr></tbody></table></div>"
      ]
     },
     "metadata": {
      "application/vnd.databricks.v1+output": {
       "addedWidgets": {},
       "aggData": [],
       "aggError": "",
       "aggOverflow": false,
       "aggSchema": [],
       "aggSeriesLimitReached": false,
       "aggType": "",
       "arguments": {},
       "columnCustomDisplayInfos": {},
       "data": [
        [
         "AB",
         2
        ],
        [
         "AD",
         1
        ],
        [
         "BC",
         1
        ],
        [
         "BD",
         1
        ],
        [
         "AC",
         1
        ]
       ],
       "datasetInfos": [],
       "dbfsResultPath": null,
       "isJsonSchema": true,
       "metadata": {},
       "overflow": false,
       "plotOptions": {
        "customPlotOptions": {},
        "displayType": "table",
        "pivotAggregation": null,
        "pivotColumns": null,
        "xColumns": null,
        "yColumns": null
       },
       "removedWidgets": [],
       "schema": [
        {
         "metadata": "{}",
         "name": "pair",
         "type": "\"string\""
        },
        {
         "metadata": "{}",
         "name": "frequency",
         "type": "\"long\""
        }
       ],
       "type": "table"
      }
     },
     "output_type": "display_data"
    }
   ],
   "source": [
    "\n",
    "from pyspark.sql.functions import col, concat, monotonically_increasing_id, row_number, countDistinct\n",
    "from pyspark.sql.window import Window\n",
    "\n",
    "# Initialize Spark session\n",
    "spark = SparkSession.builder \\\n",
    "    .appName(\"OrdersProductsAnalysis\") \\\n",
    "    .getOrCreate()\n",
    "\n",
    "# Define schema and data for orders\n",
    "orders_data = [\n",
    "    (1, 1, 1),\n",
    "    (1, 1, 2),\n",
    "    (1, 1, 3),\n",
    "    (2, 2, 1),\n",
    "    (2, 2, 2),\n",
    "    (2, 2, 4),\n",
    "    (3, 1, 5)\n",
    "]\n",
    "\n",
    "orders_schema = [\"order_id\", \"customer_id\", \"product_id\"]\n",
    "orders_df = spark.createDataFrame(orders_data, orders_schema)\n",
    "\n",
    "# Define schema and data for products\n",
    "products_data = [\n",
    "    (1, 'A'),\n",
    "    (2, 'B'),\n",
    "    (3, 'C'),\n",
    "    (4, 'D'),\n",
    "    (5, 'E')\n",
    "]\n",
    "\n",
    "products_schema = [\"id\", \"name\"]\n",
    "products_df = spark.createDataFrame(products_data, products_schema)\n",
    "\n",
    "# Alias the orders DataFrame for joining\n",
    "a = orders_df.alias(\"a\")\n",
    "b = orders_df.alias(\"b\")\n",
    "\n",
    "# Perform the join and necessary transformations\n",
    "t1 = a.join(b, (a.order_id == b.order_id) & (a.product_id != b.product_id)) \\\n",
    "    .join(products_df.alias(\"p1\"), col(\"a.product_id\") == col(\"p1.id\"), \"left\") \\\n",
    "    .join(products_df.alias(\"p2\"), col(\"b.product_id\") == col(\"p2.id\"), \"left\") \\\n",
    "    .select(\n",
    "        col(\"a.order_id\").alias(\"order_id\"),\n",
    "        col(\"a.customer_id\").alias(\"customer_id\"),\n",
    "        col(\"p1.name\").alias(\"name1\"),\n",
    "        col(\"p2.name\").alias(\"name2\"),\n",
    "        (col(\"p1.id\") + col(\"p2.id\")).alias(\"pair_sum\"),\n",
    "        monotonically_increasing_id().alias(\"idf\")\n",
    "    )\n",
    "\n",
    "# Define window specification for row_number\n",
    "window_spec = Window.partitionBy(\"order_id\", \"pair_sum\").orderBy(\"idf\")\n",
    "\n",
    "# Apply row_number function to filter duplicates\n",
    "t2 = t1.withColumn(\"rnk\", row_number().over(window_spec))\n",
    "\n",
    "# Filter rows to keep only the first occurrence of each pair_sum within each order\n",
    "t3 = t2.filter(col(\"rnk\") == 1) \\\n",
    "    .withColumn(\"pair\", concat(col(\"name1\"), col(\"name2\")))\n",
    "\n",
    "# Perform final aggregation\n",
    "result_df = t3.groupBy(\"pair\") \\\n",
    "    .agg(countDistinct(\"order_id\").alias(\"frequency\")) \\\n",
    "    .orderBy(col(\"frequency\").desc())\n",
    "\n",
    "# Show the result\n",
    "result_df.display()"
   ]
  },
  {
   "cell_type": "markdown",
   "metadata": {
    "application/vnd.databricks.v1+cell": {
     "cellMetadata": {},
     "inputWidgets": {},
     "nuid": "409d7b6d-6b32-4665-a96a-20864dfb222c",
     "showTitle": false,
     "title": ""
    }
   },
   "source": [
    "###Spark SQL"
   ]
  },
  {
   "cell_type": "code",
   "execution_count": 0,
   "metadata": {
    "application/vnd.databricks.v1+cell": {
     "cellMetadata": {
      "byteLimit": 2048000,
      "implicitDf": true,
      "rowLimit": 10000
     },
     "inputWidgets": {},
     "nuid": "6f5f8f77-b09c-452e-bee7-388605a7fd7d",
     "showTitle": false,
     "title": ""
    }
   },
   "outputs": [
    {
     "output_type": "display_data",
     "data": {
      "text/html": [
       "<style scoped>\n",
       "  .table-result-container {\n",
       "    max-height: 300px;\n",
       "    overflow: auto;\n",
       "  }\n",
       "  table, th, td {\n",
       "    border: 1px solid black;\n",
       "    border-collapse: collapse;\n",
       "  }\n",
       "  th, td {\n",
       "    padding: 5px;\n",
       "  }\n",
       "  th {\n",
       "    text-align: left;\n",
       "  }\n",
       "</style><div class='table-result-container'><table class='table-result'><thead style='background-color: white'><tr><th>pair</th><th>frequency</th></tr></thead><tbody><tr><td>A B</td><td>2</td></tr><tr><td>B C</td><td>1</td></tr><tr><td>A D</td><td>1</td></tr><tr><td>A C</td><td>1</td></tr><tr><td>B D</td><td>1</td></tr></tbody></table></div>"
      ]
     },
     "metadata": {
      "application/vnd.databricks.v1+output": {
       "addedWidgets": {},
       "aggData": [],
       "aggError": "",
       "aggOverflow": false,
       "aggSchema": [],
       "aggSeriesLimitReached": false,
       "aggType": "",
       "arguments": {},
       "columnCustomDisplayInfos": {},
       "data": [
        [
         "A B",
         2
        ],
        [
         "B C",
         1
        ],
        [
         "A D",
         1
        ],
        [
         "A C",
         1
        ],
        [
         "B D",
         1
        ]
       ],
       "datasetInfos": [],
       "dbfsResultPath": null,
       "isJsonSchema": true,
       "metadata": {},
       "overflow": false,
       "plotOptions": {
        "customPlotOptions": {},
        "displayType": "table",
        "pivotAggregation": null,
        "pivotColumns": null,
        "xColumns": null,
        "yColumns": null
       },
       "removedWidgets": [],
       "schema": [
        {
         "metadata": "{}",
         "name": "pair",
         "type": "\"string\""
        },
        {
         "metadata": "{}",
         "name": "frequency",
         "type": "\"long\""
        }
       ],
       "type": "table"
      }
     },
     "output_type": "display_data"
    }
   ],
   "source": [
    "%sql\n",
    "with t1 as (\n",
    "Select a.order_id,a.customer_id,p1.name as name1,p2.name as name2,(p1.id+p2.id) as pair_sum,monotonically_increasing_id() as idf\n",
    "from orders a\n",
    "inner join orders b on a.order_id = b.order_id and a.product_id<>b.product_id\n",
    "left join products p1 on a.product_id = p1.id\n",
    "left join products p2 on b.product_id = p2.id\n",
    ")\n",
    ", t2 as (\n",
    "Select order_id,customer_id,name1,name2,pair_sum, row_number() over(partition by order_id,pair_sum order by idf asc ) as rnk\n",
    "from t1\n",
    "), t3 as (\n",
    "Select *,\n",
    "concat(name1, ' ',name2) as pair\n",
    "from t2 where rnk=1\n",
    ")\n",
    "\n",
    "Select\n",
    "pair,count(distinct order_id) as frequency\n",
    "from t3\n",
    "group by pair\n",
    "order by 2 desc\n"
   ]
  }
 ],
 "metadata": {
  "application/vnd.databricks.v1+notebook": {
   "dashboards": [],
   "environmentMetadata": null,
   "language": "python",
   "notebookMetadata": {
    "mostRecentlyExecutedCommandWithImplicitDF": {
     "commandId": 728579024173599,
     "dataframes": [
      "_sqldf"
     ]
    },
    "pythonIndentUnit": 4
   },
   "notebookName": "Data Science SQL Interview Question | Recommendation System",
   "widgets": {}
  }
 },
 "nbformat": 4,
 "nbformat_minor": 0
}
