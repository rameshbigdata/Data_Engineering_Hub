{
 "cells": [
  {
   "cell_type": "code",
   "execution_count": 0,
   "metadata": {
    "application/vnd.databricks.v1+cell": {
     "cellMetadata": {
      "byteLimit": 2048000,
      "rowLimit": 10000
     },
     "inputWidgets": {},
     "nuid": "9adc0d96-78fc-4a54-9bb5-158fdf87f7c6",
     "showTitle": false,
     "title": ""
    }
   },
   "outputs": [
    {
     "output_type": "display_data",
     "data": {
      "text/html": [
       "<style scoped>\n",
       "  .table-result-container {\n",
       "    max-height: 300px;\n",
       "    overflow: auto;\n",
       "  }\n",
       "  table, th, td {\n",
       "    border: 1px solid black;\n",
       "    border-collapse: collapse;\n",
       "  }\n",
       "  th, td {\n",
       "    padding: 5px;\n",
       "  }\n",
       "  th {\n",
       "    text-align: left;\n",
       "  }\n",
       "</style><div class='table-result-container'><table class='table-result'><thead style='background-color: white'><tr><th>EmployeeID</th><th>EmployeeName</th><th>Age</th><th>JobTitle</th><th>DepartmentName</th><th>Salary</th></tr></thead><tbody><tr><td>1</td><td>John Smith</td><td>30</td><td>Manager</td><td>Sales</td><td>75000</td></tr><tr><td>5</td><td>James Brown</td><td>31</td><td>Analyst</td><td>Sales</td><td>65000</td></tr><tr><td>9</td><td>Sarah Lee</td><td>26</td><td>Analyst</td><td>Sales</td><td>60000</td></tr><tr><td>10</td><td>James Brown</td><td>34</td><td>Manager</td><td>Sales</td><td>80000</td></tr><tr><td>2</td><td>Jane Doe</td><td>25</td><td>Sales Associate</td><td>Marketing</td><td>45000</td></tr><tr><td>4</td><td>Sarah Lee</td><td>28</td><td>Marketing</td><td>Marketing</td><td>50000</td></tr><tr><td>6</td><td>John Smith</td><td>28</td><td>Sales Associate</td><td>Marketing</td><td>40000</td></tr><tr><td>8</td><td>Mark Johnson</td><td>29</td><td>Marketing</td><td>Marketing</td><td>55000</td></tr><tr><td>3</td><td>Mark Johnson</td><td>35</td><td>Developer</td><td>IT</td><td>90000</td></tr><tr><td>7</td><td>Jane Doe</td><td>32</td><td>Developer</td><td>IT</td><td>85000</td></tr></tbody></table></div>"
      ]
     },
     "metadata": {
      "application/vnd.databricks.v1+output": {
       "addedWidgets": {},
       "aggData": [],
       "aggError": "",
       "aggOverflow": false,
       "aggSchema": [],
       "aggSeriesLimitReached": false,
       "aggType": "",
       "arguments": {},
       "columnCustomDisplayInfos": {},
       "data": [
        [
         1,
         "John Smith",
         30,
         "Manager",
         "Sales",
         75000
        ],
        [
         5,
         "James Brown",
         31,
         "Analyst",
         "Sales",
         65000
        ],
        [
         9,
         "Sarah Lee",
         26,
         "Analyst",
         "Sales",
         60000
        ],
        [
         10,
         "James Brown",
         34,
         "Manager",
         "Sales",
         80000
        ],
        [
         2,
         "Jane Doe",
         25,
         "Sales Associate",
         "Marketing",
         45000
        ],
        [
         4,
         "Sarah Lee",
         28,
         "Marketing",
         "Marketing",
         50000
        ],
        [
         6,
         "John Smith",
         28,
         "Sales Associate",
         "Marketing",
         40000
        ],
        [
         8,
         "Mark Johnson",
         29,
         "Marketing",
         "Marketing",
         55000
        ],
        [
         3,
         "Mark Johnson",
         35,
         "Developer",
         "IT",
         90000
        ],
        [
         7,
         "Jane Doe",
         32,
         "Developer",
         "IT",
         85000
        ]
       ],
       "datasetInfos": [],
       "dbfsResultPath": null,
       "isJsonSchema": true,
       "metadata": {},
       "overflow": false,
       "plotOptions": {
        "customPlotOptions": {},
        "displayType": "table",
        "pivotAggregation": null,
        "pivotColumns": null,
        "xColumns": null,
        "yColumns": null
       },
       "removedWidgets": [],
       "schema": [
        {
         "metadata": "{}",
         "name": "EmployeeID",
         "type": "\"integer\""
        },
        {
         "metadata": "{}",
         "name": "EmployeeName",
         "type": "\"string\""
        },
        {
         "metadata": "{}",
         "name": "Age",
         "type": "\"integer\""
        },
        {
         "metadata": "{}",
         "name": "JobTitle",
         "type": "\"string\""
        },
        {
         "metadata": "{}",
         "name": "DepartmentName",
         "type": "\"string\""
        },
        {
         "metadata": "{}",
         "name": "Salary",
         "type": "\"integer\""
        }
       ],
       "type": "table"
      }
     },
     "output_type": "display_data"
    }
   ],
   "source": [
    "from pyspark.sql import SparkSession\n",
    "from pyspark.sql.types import *\n",
    "\n",
    "# Initialize Spark session\n",
    "spark = SparkSession.builder \\\n",
    "    .appName(\"EmployeeDepartmentAnalysis\") \\\n",
    "    .getOrCreate()\n",
    "\n",
    "# Define schemas for Employee and Department tables\n",
    "employee_schema = StructType([\n",
    "    StructField(\"EmployeeID\", IntegerType(), True),\n",
    "    StructField(\"EmployeeName\", StringType(), True),\n",
    "    StructField(\"Age\", IntegerType(), True),\n",
    "    StructField(\"JobTitle\", StringType(), True),\n",
    "    StructField(\"DepartmentID\", IntegerType(), True),\n",
    "    StructField(\"Salary\", IntegerType(), True)\n",
    "])\n",
    "\n",
    "department_schema = StructType([\n",
    "    StructField(\"DepartmentID\", IntegerType(), True),\n",
    "    StructField(\"DepartmentName\", StringType(), True),\n",
    "    StructField(\"JobTitle\", StringType(), True)\n",
    "])\n",
    "\n",
    "# Sample data for Employee and Department tables\n",
    "employee_data = [\n",
    "    (1, 'John Smith', 30, 'Manager', 1, 75000),\n",
    "    (2, 'Jane Doe', 25, 'Sales Associate', 2, 45000),\n",
    "    (3, 'Mark Johnson', 35, 'Developer', 3, 90000),\n",
    "    (4, 'Sarah Lee', 28, 'Marketing', 2, 50000),\n",
    "    (5, 'James Brown', 31, 'Analyst', 1, 65000),\n",
    "    (6, 'John Smith', 28, 'Sales Associate', 2, 40000),\n",
    "    (7, 'Jane Doe', 32, 'Developer', 3, 85000),\n",
    "    (8, 'Mark Johnson', 29, 'Marketing', 2, 55000),\n",
    "    (9, 'Sarah Lee', 26, 'Analyst', 1, 60000),\n",
    "    (10, 'James Brown', 34, 'Manager', 1, 80000)\n",
    "]\n",
    "\n",
    "department_data = [\n",
    "    (1, 'Sales', 'Sales Associate'),\n",
    "    (2, 'Marketing', 'Marketing Manager'),\n",
    "    (3, 'IT', 'Developer'),\n",
    "    (4, 'Operations', 'Operations Manager'),\n",
    "    (5, 'HR', 'HR Manager'),\n",
    "    (6, 'Finance', 'Finance Manager'),\n",
    "    (7, 'Administration', 'Administrator'),\n",
    "    (8, 'Customer Support', 'Customer Support Agent'),\n",
    "    (9, 'Quality Assurance', 'QA Tester'),\n",
    "    (10, 'Production', 'Production Manager'),\n",
    "    (11, 'Logistics', 'Logistics Coordinator'),\n",
    "    (12, 'R&D', 'Research Scientist'),\n",
    "    (13, 'Legal', 'Legal Counsel'),\n",
    "    (14, 'Public Relations', 'PR Manager'),\n",
    "    (15, 'Procurement', 'Procurement Manager'),\n",
    "    (16, 'Engineering', 'Engineer')\n",
    "]\n",
    "\n",
    "# Create DataFrames\n",
    "employee_df = spark.createDataFrame(employee_data, schema=employee_schema)\n",
    "department_df = spark.createDataFrame(department_data, schema=department_schema)\n",
    "\n",
    "# Register DataFrames as temporary views\n",
    "employee_df.createOrReplaceTempView(\"employee\")\n",
    "department_df.createOrReplaceTempView(\"department\")\n",
    "\n",
    "# Example query: Joining Employee with Department\n",
    "joined_df = spark.sql(\"\"\"\n",
    "    SELECT e.EmployeeID, e.EmployeeName, e.Age, e.JobTitle, d.DepartmentName, e.Salary\n",
    "    FROM employee e\n",
    "    JOIN department d ON e.DepartmentID = d.DepartmentID\n",
    "\"\"\")\n",
    "\n",
    "# Show the result\n",
    "joined_df.display()\n"
   ]
  }
 ],
 "metadata": {
  "application/vnd.databricks.v1+notebook": {
   "dashboards": [],
   "environmentMetadata": null,
   "language": "python",
   "notebookMetadata": {
    "pythonIndentUnit": 4
   },
   "notebookName": "TechMahindra",
   "widgets": {}
  }
 },
 "nbformat": 4,
 "nbformat_minor": 0
}
