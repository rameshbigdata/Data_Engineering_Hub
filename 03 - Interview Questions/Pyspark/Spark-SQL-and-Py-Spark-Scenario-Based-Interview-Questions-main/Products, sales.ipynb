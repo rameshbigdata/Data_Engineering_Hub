{
 "cells": [
  {
   "cell_type": "code",
   "execution_count": 0,
   "metadata": {
    "application/vnd.databricks.v1+cell": {
     "cellMetadata": {
      "byteLimit": 2048000,
      "rowLimit": 10000
     },
     "inputWidgets": {},
     "nuid": "394df2c8-8b65-45a9-bc28-0058f9612937",
     "showTitle": false,
     "title": ""
    }
   },
   "outputs": [
    {
     "output_type": "display_data",
     "data": {
      "text/html": [
       "<style scoped>\n",
       "  .table-result-container {\n",
       "    max-height: 300px;\n",
       "    overflow: auto;\n",
       "  }\n",
       "  table, th, td {\n",
       "    border: 1px solid black;\n",
       "    border-collapse: collapse;\n",
       "  }\n",
       "  th, td {\n",
       "    padding: 5px;\n",
       "  }\n",
       "  th {\n",
       "    text-align: left;\n",
       "  }\n",
       "</style><div class='table-result-container'><table class='table-result'><thead style='background-color: white'><tr><th>product_id</th><th>product_name</th><th>category</th></tr></thead><tbody><tr><td>1</td><td>Laptops</td><td>Electronics</td></tr><tr><td>2</td><td>Jeans</td><td>Clothing</td></tr><tr><td>3</td><td>Chairs</td><td>Home Appliances</td></tr></tbody></table></div>"
      ]
     },
     "metadata": {
      "application/vnd.databricks.v1+output": {
       "addedWidgets": {},
       "aggData": [],
       "aggError": "",
       "aggOverflow": false,
       "aggSchema": [],
       "aggSeriesLimitReached": false,
       "aggType": "",
       "arguments": {},
       "columnCustomDisplayInfos": {},
       "data": [
        [
         1,
         "Laptops",
         "Electronics"
        ],
        [
         2,
         "Jeans",
         "Clothing"
        ],
        [
         3,
         "Chairs",
         "Home Appliances"
        ]
       ],
       "datasetInfos": [],
       "dbfsResultPath": null,
       "isJsonSchema": true,
       "metadata": {},
       "overflow": false,
       "plotOptions": {
        "customPlotOptions": {},
        "displayType": "table",
        "pivotAggregation": null,
        "pivotColumns": null,
        "xColumns": null,
        "yColumns": null
       },
       "removedWidgets": [],
       "schema": [
        {
         "metadata": "{}",
         "name": "product_id",
         "type": "\"long\""
        },
        {
         "metadata": "{}",
         "name": "product_name",
         "type": "\"string\""
        },
        {
         "metadata": "{}",
         "name": "category",
         "type": "\"string\""
        }
       ],
       "type": "table"
      }
     },
     "output_type": "display_data"
    },
    {
     "output_type": "display_data",
     "data": {
      "text/html": [
       "<style scoped>\n",
       "  .table-result-container {\n",
       "    max-height: 300px;\n",
       "    overflow: auto;\n",
       "  }\n",
       "  table, th, td {\n",
       "    border: 1px solid black;\n",
       "    border-collapse: collapse;\n",
       "  }\n",
       "  th, td {\n",
       "    padding: 5px;\n",
       "  }\n",
       "  th {\n",
       "    text-align: left;\n",
       "  }\n",
       "</style><div class='table-result-container'><table class='table-result'><thead style='background-color: white'><tr><th>product_id</th><th>year</th><th>total_sales_revenue</th></tr></thead><tbody><tr><td>1</td><td>2019</td><td>1000.0</td></tr><tr><td>1</td><td>2020</td><td>1200.0</td></tr><tr><td>1</td><td>2021</td><td>1100.0</td></tr><tr><td>2</td><td>2019</td><td>500.0</td></tr><tr><td>2</td><td>2020</td><td>600.0</td></tr><tr><td>2</td><td>2021</td><td>900.0</td></tr><tr><td>3</td><td>2019</td><td>300.0</td></tr><tr><td>3</td><td>2020</td><td>450.0</td></tr><tr><td>3</td><td>2021</td><td>400.0</td></tr></tbody></table></div>"
      ]
     },
     "metadata": {
      "application/vnd.databricks.v1+output": {
       "addedWidgets": {},
       "aggData": [],
       "aggError": "",
       "aggOverflow": false,
       "aggSchema": [],
       "aggSeriesLimitReached": false,
       "aggType": "",
       "arguments": {},
       "columnCustomDisplayInfos": {},
       "data": [
        [
         1,
         2019,
         1000.0
        ],
        [
         1,
         2020,
         1200.0
        ],
        [
         1,
         2021,
         1100.0
        ],
        [
         2,
         2019,
         500.0
        ],
        [
         2,
         2020,
         600.0
        ],
        [
         2,
         2021,
         900.0
        ],
        [
         3,
         2019,
         300.0
        ],
        [
         3,
         2020,
         450.0
        ],
        [
         3,
         2021,
         400.0
        ]
       ],
       "datasetInfos": [],
       "dbfsResultPath": null,
       "isJsonSchema": true,
       "metadata": {},
       "overflow": false,
       "plotOptions": {
        "customPlotOptions": {},
        "displayType": "table",
        "pivotAggregation": null,
        "pivotColumns": null,
        "xColumns": null,
        "yColumns": null
       },
       "removedWidgets": [],
       "schema": [
        {
         "metadata": "{}",
         "name": "product_id",
         "type": "\"long\""
        },
        {
         "metadata": "{}",
         "name": "year",
         "type": "\"long\""
        },
        {
         "metadata": "{}",
         "name": "total_sales_revenue",
         "type": "\"double\""
        }
       ],
       "type": "table"
      }
     },
     "output_type": "display_data"
    }
   ],
   "source": [
    "product_data = [\n",
    "     (1, 'Laptops', 'Electronics'),\n",
    "     (2, 'Jeans', 'Clothing'),\n",
    "     (3, 'Chairs', 'Home Appliances')\n",
    "     ]\n",
    "\n",
    "product_schema = ['product_id', 'product_name', 'category']\n",
    "\n",
    "product_df = spark.createDataFrame(data = product_data , schema = product_schema)\n",
    "product_df.display()\n",
    "\n",
    "sales_data = [(1, 2019, 1000.00),\n",
    "     (1, 2020, 1200.00),\n",
    "     (1, 2021, 1100.00),\n",
    "     (2, 2019, 500.00),\n",
    "     (2, 2020, 600.00),\n",
    "     (2, 2021, 900.00),\n",
    "     (3, 2019, 300.00),\n",
    "     (3, 2020, 450.00),\n",
    "     (3, 2021, 400.00)     ]\n",
    "\n",
    "sales_schema = ['product_id', 'year', 'total_sales_revenue']\n",
    "\n",
    "sales_df = spark.createDataFrame(data = sales_data , schema = sales_schema)\n",
    "sales_df.display()"
   ]
  }
 ],
 "metadata": {
  "application/vnd.databricks.v1+notebook": {
   "dashboards": [],
   "environmentMetadata": null,
   "language": "python",
   "notebookMetadata": {
    "pythonIndentUnit": 4
   },
   "notebookName": "Products, sales",
   "widgets": {}
  }
 },
 "nbformat": 4,
 "nbformat_minor": 0
}
