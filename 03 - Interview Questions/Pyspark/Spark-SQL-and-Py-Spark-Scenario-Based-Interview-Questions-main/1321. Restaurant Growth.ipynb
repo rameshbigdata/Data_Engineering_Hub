{
 "cells": [
  {
   "cell_type": "markdown",
   "metadata": {
    "application/vnd.databricks.v1+cell": {
     "cellMetadata": {},
     "inputWidgets": {},
     "nuid": "c8fd11a2-d3b3-4c87-871d-04942f7c240e",
     "showTitle": false,
     "title": ""
    }
   },
   "source": [
    "#Problem Statement\n",
    "You are the restaurant owner and you want to analyze a possible expansion (there will be at least one customer every day).\n",
    "\n",
    "Compute the moving average of how much the customer paid in a seven days window (i.e., current day + 6 days before). average_amount should be rounded to two decimal places.\n",
    "\n",
    "Return the result table ordered by visited_on in ascending order."
   ]
  },
  {
   "cell_type": "code",
   "execution_count": 0,
   "metadata": {
    "application/vnd.databricks.v1+cell": {
     "cellMetadata": {
      "byteLimit": 2048000,
      "rowLimit": 10000
     },
     "inputWidgets": {},
     "nuid": "10b310bc-850b-4d27-8805-561d0ec4ee32",
     "showTitle": false,
     "title": ""
    }
   },
   "outputs": [
    {
     "output_type": "display_data",
     "data": {
      "text/html": [
       "<style scoped>\n",
       "  .table-result-container {\n",
       "    max-height: 300px;\n",
       "    overflow: auto;\n",
       "  }\n",
       "  table, th, td {\n",
       "    border: 1px solid black;\n",
       "    border-collapse: collapse;\n",
       "  }\n",
       "  th, td {\n",
       "    padding: 5px;\n",
       "  }\n",
       "  th {\n",
       "    text-align: left;\n",
       "  }\n",
       "</style><div class='table-result-container'><table class='table-result'><thead style='background-color: white'><tr><th>customer_id</th><th>name</th><th>visited_on</th><th>amount</th></tr></thead><tbody><tr><td>1</td><td>Jhon</td><td>2019-01-01</td><td>100</td></tr><tr><td>2</td><td>Daniel</td><td>2019-01-02</td><td>110</td></tr><tr><td>3</td><td>Jade</td><td>2019-01-03</td><td>120</td></tr><tr><td>4</td><td>Khaled</td><td>2019-01-04</td><td>130</td></tr><tr><td>5</td><td>Winston</td><td>2019-01-05</td><td>110</td></tr><tr><td>6</td><td>Elvis</td><td>2019-01-06</td><td>140</td></tr><tr><td>7</td><td>Anna</td><td>2019-01-07</td><td>150</td></tr><tr><td>8</td><td>Maria</td><td>2019-01-08</td><td>80</td></tr><tr><td>9</td><td>Jaze</td><td>2019-01-09</td><td>110</td></tr><tr><td>1</td><td>Jhon</td><td>2019-01-10</td><td>130</td></tr><tr><td>3</td><td>Jade</td><td>2019-01-10</td><td>150</td></tr></tbody></table></div>"
      ]
     },
     "metadata": {
      "application/vnd.databricks.v1+output": {
       "addedWidgets": {},
       "aggData": [],
       "aggError": "",
       "aggOverflow": false,
       "aggSchema": [],
       "aggSeriesLimitReached": false,
       "aggType": "",
       "arguments": {},
       "columnCustomDisplayInfos": {},
       "data": [
        [
         1,
         "Jhon",
         "2019-01-01",
         100
        ],
        [
         2,
         "Daniel",
         "2019-01-02",
         110
        ],
        [
         3,
         "Jade",
         "2019-01-03",
         120
        ],
        [
         4,
         "Khaled",
         "2019-01-04",
         130
        ],
        [
         5,
         "Winston",
         "2019-01-05",
         110
        ],
        [
         6,
         "Elvis",
         "2019-01-06",
         140
        ],
        [
         7,
         "Anna",
         "2019-01-07",
         150
        ],
        [
         8,
         "Maria",
         "2019-01-08",
         80
        ],
        [
         9,
         "Jaze",
         "2019-01-09",
         110
        ],
        [
         1,
         "Jhon",
         "2019-01-10",
         130
        ],
        [
         3,
         "Jade",
         "2019-01-10",
         150
        ]
       ],
       "datasetInfos": [],
       "dbfsResultPath": null,
       "isJsonSchema": true,
       "metadata": {},
       "overflow": false,
       "plotOptions": {
        "customPlotOptions": {},
        "displayType": "table",
        "pivotAggregation": null,
        "pivotColumns": null,
        "xColumns": null,
        "yColumns": null
       },
       "removedWidgets": [],
       "schema": [
        {
         "metadata": "{}",
         "name": "customer_id",
         "type": "\"long\""
        },
        {
         "metadata": "{}",
         "name": "name",
         "type": "\"string\""
        },
        {
         "metadata": "{}",
         "name": "visited_on",
         "type": "\"string\""
        },
        {
         "metadata": "{}",
         "name": "amount",
         "type": "\"long\""
        }
       ],
       "type": "table"
      }
     },
     "output_type": "display_data"
    },
    {
     "output_type": "stream",
     "name": "stdout",
     "output_type": "stream",
     "text": [
      "root\n |-- customer_id: long (nullable = true)\n |-- name: string (nullable = true)\n |-- visited_on: string (nullable = true)\n |-- amount: long (nullable = true)\n\n"
     ]
    }
   ],
   "source": [
    "from pyspark.sql import SparkSession\n",
    "from pyspark.sql import functions as F\n",
    "from pyspark.sql.functions import col, sum, round, window\n",
    "from pyspark.sql.types import DateType\n",
    "\n",
    "# Initialize Spark session\n",
    "spark = SparkSession.builder.appName(\"MovingAverage\").getOrCreate()\n",
    "\n",
    "# Sample data\n",
    "data = [\n",
    "    (1, \"Jhon\", \"2019-01-01\", 100),\n",
    "    (2, \"Daniel\", \"2019-01-02\", 110),\n",
    "    (3, \"Jade\", \"2019-01-03\", 120),\n",
    "    (4, \"Khaled\", \"2019-01-04\", 130),\n",
    "    (5, \"Winston\", \"2019-01-05\", 110),\n",
    "    (6, \"Elvis\", \"2019-01-06\", 140),\n",
    "    (7, \"Anna\", \"2019-01-07\", 150),\n",
    "    (8, \"Maria\", \"2019-01-08\", 80),\n",
    "    (9, \"Jaze\", \"2019-01-09\", 110),\n",
    "    (1, \"Jhon\", \"2019-01-10\", 130),\n",
    "    (3, \"Jade\", \"2019-01-10\", 150),\n",
    "]\n",
    "\n",
    "# Create DataFrame\n",
    "columns = [\"customer_id\", \"name\", \"visited_on\", \"amount\"]\n",
    "df = spark.createDataFrame(data, schema=columns)\n",
    "\n",
    "df.display()\n",
    "df.printSchema()"
   ]
  },
  {
   "cell_type": "code",
   "execution_count": 0,
   "metadata": {
    "application/vnd.databricks.v1+cell": {
     "cellMetadata": {
      "byteLimit": 2048000,
      "rowLimit": 10000
     },
     "inputWidgets": {},
     "nuid": "e2f68cdc-879b-4991-b4eb-469a8ee39354",
     "showTitle": false,
     "title": ""
    }
   },
   "outputs": [
    {
     "output_type": "display_data",
     "data": {
      "text/html": [
       "<style scoped>\n",
       "  .table-result-container {\n",
       "    max-height: 300px;\n",
       "    overflow: auto;\n",
       "  }\n",
       "  table, th, td {\n",
       "    border: 1px solid black;\n",
       "    border-collapse: collapse;\n",
       "  }\n",
       "  th, td {\n",
       "    padding: 5px;\n",
       "  }\n",
       "  th {\n",
       "    text-align: left;\n",
       "  }\n",
       "</style><div class='table-result-container'><table class='table-result'><thead style='background-color: white'><tr><th>visited_on</th><th>amount</th><th>average_amount</th></tr></thead><tbody><tr><td>2019-01-07</td><td>860</td><td>122.86</td></tr><tr><td>2019-01-08</td><td>840</td><td>120.0</td></tr><tr><td>2019-01-09</td><td>840</td><td>120.0</td></tr><tr><td>2019-01-10</td><td>1000</td><td>142.86</td></tr></tbody></table></div>"
      ]
     },
     "metadata": {
      "application/vnd.databricks.v1+output": {
       "addedWidgets": {},
       "aggData": [],
       "aggError": "",
       "aggOverflow": false,
       "aggSchema": [],
       "aggSeriesLimitReached": false,
       "aggType": "",
       "arguments": {},
       "columnCustomDisplayInfos": {},
       "data": [
        [
         "2019-01-07",
         860,
         122.86
        ],
        [
         "2019-01-08",
         840,
         120.0
        ],
        [
         "2019-01-09",
         840,
         120.0
        ],
        [
         "2019-01-10",
         1000,
         142.86
        ]
       ],
       "datasetInfos": [],
       "dbfsResultPath": null,
       "isJsonSchema": true,
       "metadata": {},
       "overflow": false,
       "plotOptions": {
        "customPlotOptions": {},
        "displayType": "table",
        "pivotAggregation": null,
        "pivotColumns": null,
        "xColumns": null,
        "yColumns": null
       },
       "removedWidgets": [],
       "schema": [
        {
         "metadata": "{}",
         "name": "visited_on",
         "type": "\"string\""
        },
        {
         "metadata": "{}",
         "name": "amount",
         "type": "\"long\""
        },
        {
         "metadata": "{}",
         "name": "average_amount",
         "type": "\"double\""
        }
       ],
       "type": "table"
      }
     },
     "output_type": "display_data"
    }
   ],
   "source": [
    "# Define a window specification\n",
    "window_spec = Window.orderBy(\"visited_on\").rowsBetween(-6, 0)\n",
    "\n",
    "# Calculate the rolling sum and average\n",
    "result_df = (\n",
    "    df.groupBy(\"visited_on\")\n",
    "    .agg(sum(\"amount\").alias(\"daily_amount\"))\n",
    "    .withColumn(\"amount\", sum(\"daily_amount\").over(window_spec))\n",
    "    .withColumn(\"average_amount\", round(avg(\"daily_amount\").over(window_spec), 2))\n",
    ")\n",
    "\n",
    "# Filter to include only rows where row_number >= 7\n",
    "result_df = (\n",
    "    result_df.withColumn(\"row_number\", row_number().over(Window.orderBy(\"visited_on\")))\n",
    "    .filter(col(\"row_number\") >= 7)\n",
    "    .select(\"visited_on\", \"amount\", \"average_amount\")\n",
    ")\n",
    "\n",
    "# Show the result\n",
    "result_df.display()"
   ]
  },
  {
   "cell_type": "code",
   "execution_count": 0,
   "metadata": {
    "application/vnd.databricks.v1+cell": {
     "cellMetadata": {
      "byteLimit": 2048000,
      "rowLimit": 10000
     },
     "inputWidgets": {},
     "nuid": "b517698a-93f4-48b0-af67-9b894ec43265",
     "showTitle": false,
     "title": ""
    }
   },
   "outputs": [],
   "source": [
    "df.createOrReplaceTempView(\"Customer\")"
   ]
  },
  {
   "cell_type": "code",
   "execution_count": 0,
   "metadata": {
    "application/vnd.databricks.v1+cell": {
     "cellMetadata": {
      "byteLimit": 2048000,
      "implicitDf": true,
      "rowLimit": 10000
     },
     "inputWidgets": {},
     "nuid": "a01ecb5d-725f-4a2d-b882-c931857cbe6f",
     "showTitle": false,
     "title": ""
    }
   },
   "outputs": [
    {
     "output_type": "display_data",
     "data": {
      "text/html": [
       "<style scoped>\n",
       "  .table-result-container {\n",
       "    max-height: 300px;\n",
       "    overflow: auto;\n",
       "  }\n",
       "  table, th, td {\n",
       "    border: 1px solid black;\n",
       "    border-collapse: collapse;\n",
       "  }\n",
       "  th, td {\n",
       "    padding: 5px;\n",
       "  }\n",
       "  th {\n",
       "    text-align: left;\n",
       "  }\n",
       "</style><div class='table-result-container'><table class='table-result'><thead style='background-color: white'><tr><th>visited_on</th><th>amount</th><th>average_amount</th></tr></thead><tbody><tr><td>2019-01-07</td><td>860</td><td>122.86</td></tr><tr><td>2019-01-08</td><td>840</td><td>120.0</td></tr><tr><td>2019-01-09</td><td>840</td><td>120.0</td></tr><tr><td>2019-01-10</td><td>1000</td><td>142.86</td></tr></tbody></table></div>"
      ]
     },
     "metadata": {
      "application/vnd.databricks.v1+output": {
       "addedWidgets": {},
       "aggData": [],
       "aggError": "",
       "aggOverflow": false,
       "aggSchema": [],
       "aggSeriesLimitReached": false,
       "aggType": "",
       "arguments": {},
       "columnCustomDisplayInfos": {},
       "data": [
        [
         "2019-01-07",
         860,
         122.86
        ],
        [
         "2019-01-08",
         840,
         120.0
        ],
        [
         "2019-01-09",
         840,
         120.0
        ],
        [
         "2019-01-10",
         1000,
         142.86
        ]
       ],
       "datasetInfos": [],
       "dbfsResultPath": null,
       "isJsonSchema": true,
       "metadata": {},
       "overflow": false,
       "plotOptions": {
        "customPlotOptions": {},
        "displayType": "table",
        "pivotAggregation": null,
        "pivotColumns": null,
        "xColumns": null,
        "yColumns": null
       },
       "removedWidgets": [],
       "schema": [
        {
         "metadata": "{}",
         "name": "visited_on",
         "type": "\"string\""
        },
        {
         "metadata": "{}",
         "name": "amount",
         "type": "\"long\""
        },
        {
         "metadata": "{}",
         "name": "average_amount",
         "type": "\"double\""
        }
       ],
       "type": "table"
      }
     },
     "output_type": "display_data"
    }
   ],
   "source": [
    "%sql\n",
    "WITH CustomerGrouped AS (\n",
    "  SELECT\n",
    "    visited_on,\n",
    "    SUM(amount) AS total_amount\n",
    "  FROM\n",
    "    Customer\n",
    "  GROUP BY\n",
    "    visited_on\n",
    "),\n",
    "MovingAverage AS (\n",
    "  SELECT\n",
    "    visited_on,\n",
    "    total_amount,\n",
    "    SUM(total_amount) OVER (\n",
    "      ORDER BY\n",
    "        visited_on ROWS BETWEEN 6 PRECEDING\n",
    "        AND CURRENT ROW\n",
    "    ) AS sum_amount_7d\n",
    "  FROM\n",
    "    CustomerGrouped\n",
    ")\n",
    "SELECT\n",
    "  visited_on,\n",
    "  sum_amount_7d AS amount,\n",
    "  ROUND(sum_amount_7d / 7, 2) AS average_amount\n",
    "FROM\n",
    "  MovingAverage\n",
    "WHERE\n",
    "  DATEDIFF(\n",
    "    visited_on,\n",
    "    (\n",
    "      SELECT\n",
    "        MIN(visited_on)\n",
    "      FROM\n",
    "        CustomerGrouped\n",
    "    )\n",
    "  ) >= 6\n",
    "ORDER BY\n",
    "  visited_on;"
   ]
  }
 ],
 "metadata": {
  "application/vnd.databricks.v1+notebook": {
   "dashboards": [],
   "environmentMetadata": null,
   "language": "python",
   "notebookMetadata": {
    "mostRecentlyExecutedCommandWithImplicitDF": {
     "commandId": 3568262813914624,
     "dataframes": [
      "_sqldf"
     ]
    },
    "pythonIndentUnit": 4
   },
   "notebookName": "1321. Restaurant Growth",
   "widgets": {}
  }
 },
 "nbformat": 4,
 "nbformat_minor": 0
}
