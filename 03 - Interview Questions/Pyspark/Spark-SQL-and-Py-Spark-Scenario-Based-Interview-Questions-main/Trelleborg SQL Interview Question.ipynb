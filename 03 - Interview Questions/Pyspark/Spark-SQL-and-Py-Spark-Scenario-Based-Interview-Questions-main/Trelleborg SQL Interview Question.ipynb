{
 "cells": [
  {
   "cell_type": "markdown",
   "metadata": {
    "application/vnd.databricks.v1+cell": {
     "cellMetadata": {},
     "inputWidgets": {},
     "nuid": "2a82171a-d37a-407e-9223-4c77100eb711",
     "showTitle": false,
     "title": ""
    }
   },
   "source": [
    "One of the SQL questions recently asked in Trelleborg interview.\n",
    "Given us sales table, find out the periodic sales.\n",
    "\n",
    "In order to solve this questions, we used LAG Function. \n"
   ]
  },
  {
   "cell_type": "code",
   "execution_count": 0,
   "metadata": {
    "application/vnd.databricks.v1+cell": {
     "cellMetadata": {
      "byteLimit": 2048000,
      "rowLimit": 10000
     },
     "inputWidgets": {},
     "nuid": "35c945f3-854a-4423-a19f-073b1f5c8fe7",
     "showTitle": false,
     "title": ""
    }
   },
   "outputs": [
    {
     "output_type": "display_data",
     "data": {
      "text/html": [
       "<style scoped>\n",
       "  .table-result-container {\n",
       "    max-height: 300px;\n",
       "    overflow: auto;\n",
       "  }\n",
       "  table, th, td {\n",
       "    border: 1px solid black;\n",
       "    border-collapse: collapse;\n",
       "  }\n",
       "  th, td {\n",
       "    padding: 5px;\n",
       "  }\n",
       "  th {\n",
       "    text-align: left;\n",
       "  }\n",
       "</style><div class='table-result-container'><table class='table-result'><thead style='background-color: white'><tr><th>month</th><th>ytd_sales</th><th>monthnum</th></tr></thead><tbody><tr><td>jan</td><td>15</td><td>1</td></tr><tr><td>feb</td><td>22</td><td>2</td></tr><tr><td>mar</td><td>35</td><td>3</td></tr><tr><td>apr</td><td>45</td><td>4</td></tr><tr><td>may</td><td>60</td><td>5</td></tr></tbody></table></div>"
      ]
     },
     "metadata": {
      "application/vnd.databricks.v1+output": {
       "addedWidgets": {},
       "aggData": [],
       "aggError": "",
       "aggOverflow": false,
       "aggSchema": [],
       "aggSeriesLimitReached": false,
       "aggType": "",
       "arguments": {},
       "columnCustomDisplayInfos": {},
       "data": [
        [
         "jan",
         15,
         1
        ],
        [
         "feb",
         22,
         2
        ],
        [
         "mar",
         35,
         3
        ],
        [
         "apr",
         45,
         4
        ],
        [
         "may",
         60,
         5
        ]
       ],
       "datasetInfos": [],
       "dbfsResultPath": null,
       "isJsonSchema": true,
       "metadata": {},
       "overflow": false,
       "plotOptions": {
        "customPlotOptions": {},
        "displayType": "table",
        "pivotAggregation": null,
        "pivotColumns": null,
        "xColumns": null,
        "yColumns": null
       },
       "removedWidgets": [],
       "schema": [
        {
         "metadata": "{}",
         "name": "month",
         "type": "\"string\""
        },
        {
         "metadata": "{}",
         "name": "ytd_sales",
         "type": "\"integer\""
        },
        {
         "metadata": "{}",
         "name": "monthnum",
         "type": "\"integer\""
        }
       ],
       "type": "table"
      }
     },
     "output_type": "display_data"
    }
   ],
   "source": [
    "from pyspark.sql import SparkSession\n",
    "from pyspark.sql.types import StructType, StructField, IntegerType, StringType\n",
    "from pyspark.sql.window import Window\n",
    "from pyspark.sql.functions import lag, col, when\n",
    "\n",
    "# Create a Spark session\n",
    "spark = SparkSession.builder.appName(\"Sales Data\").getOrCreate()\n",
    "\n",
    "# Define the schema for the sales table\n",
    "schema = StructType([\n",
    "    StructField(\"month\", StringType(), True),\n",
    "    StructField(\"ytd_sales\", IntegerType(), True),\n",
    "    StructField(\"monthnum\", IntegerType(), True)\n",
    "])\n",
    "\n",
    "# Data for the sales table\n",
    "data_sales = [\n",
    "    ('jan', 15, 1),\n",
    "    ('feb', 22, 2),\n",
    "    ('mar', 35, 3),\n",
    "    ('apr', 45, 4),\n",
    "    ('may', 60, 5)\n",
    "]\n",
    "\n",
    "# Create a DataFrame for the sales table\n",
    "df_sales = spark.createDataFrame(data_sales, schema)\n",
    "\n",
    "# Show the DataFrame\n",
    "df_sales.display()\n"
   ]
  },
  {
   "cell_type": "code",
   "execution_count": 0,
   "metadata": {
    "application/vnd.databricks.v1+cell": {
     "cellMetadata": {
      "byteLimit": 2048000,
      "rowLimit": 10000
     },
     "inputWidgets": {},
     "nuid": "bbdfaea3-1cc9-4c49-9ee0-9460e0e51b02",
     "showTitle": false,
     "title": ""
    }
   },
   "outputs": [],
   "source": [
    "df_sales.createOrReplaceTempView('sales')"
   ]
  },
  {
   "cell_type": "code",
   "execution_count": 0,
   "metadata": {
    "application/vnd.databricks.v1+cell": {
     "cellMetadata": {
      "byteLimit": 2048000,
      "implicitDf": true,
      "rowLimit": 10000
     },
     "inputWidgets": {},
     "nuid": "21eba614-cb2c-477a-b1ee-52d01a2b98f2",
     "showTitle": false,
     "title": ""
    }
   },
   "outputs": [
    {
     "output_type": "display_data",
     "data": {
      "text/html": [
       "<style scoped>\n",
       "  .table-result-container {\n",
       "    max-height: 300px;\n",
       "    overflow: auto;\n",
       "  }\n",
       "  table, th, td {\n",
       "    border: 1px solid black;\n",
       "    border-collapse: collapse;\n",
       "  }\n",
       "  th, td {\n",
       "    padding: 5px;\n",
       "  }\n",
       "  th {\n",
       "    text-align: left;\n",
       "  }\n",
       "</style><div class='table-result-container'><table class='table-result'><thead style='background-color: white'><tr><th>ytd_sales</th><th>CASE WHEN (lg IS NULL) THEN ytd_sales ELSE lg END</th></tr></thead><tbody><tr><td>15</td><td>15</td></tr><tr><td>22</td><td>7</td></tr><tr><td>35</td><td>13</td></tr><tr><td>45</td><td>10</td></tr><tr><td>60</td><td>15</td></tr></tbody></table></div>"
      ]
     },
     "metadata": {
      "application/vnd.databricks.v1+output": {
       "addedWidgets": {},
       "aggData": [],
       "aggError": "",
       "aggOverflow": false,
       "aggSchema": [],
       "aggSeriesLimitReached": false,
       "aggType": "",
       "arguments": {},
       "columnCustomDisplayInfos": {},
       "data": [
        [
         15,
         15
        ],
        [
         22,
         7
        ],
        [
         35,
         13
        ],
        [
         45,
         10
        ],
        [
         60,
         15
        ]
       ],
       "datasetInfos": [],
       "dbfsResultPath": null,
       "isJsonSchema": true,
       "metadata": {},
       "overflow": false,
       "plotOptions": {
        "customPlotOptions": {},
        "displayType": "table",
        "pivotAggregation": null,
        "pivotColumns": null,
        "xColumns": null,
        "yColumns": null
       },
       "removedWidgets": [],
       "schema": [
        {
         "metadata": "{}",
         "name": "ytd_sales",
         "type": "\"integer\""
        },
        {
         "metadata": "{\"__autoGeneratedAlias\":\"true\"}",
         "name": "CASE WHEN (lg IS NULL) THEN ytd_sales ELSE lg END",
         "type": "\"integer\""
        }
       ],
       "type": "table"
      }
     },
     "output_type": "display_data"
    }
   ],
   "source": [
    "%sql\n",
    "with cte as(\n",
    "  Select\n",
    "    ytd_sales,\n",
    "    ytd_sales - lag(ytd_sales) over (\n",
    "      order by\n",
    "        monthnum\n",
    "    ) as lg\n",
    "  from\n",
    "    sales\n",
    ")\n",
    "select\n",
    "  ytd_sales,case\n",
    "    when lg is null then ytd_sales\n",
    "    else lg\n",
    "  end\n",
    "from\n",
    "  cte"
   ]
  },
  {
   "cell_type": "code",
   "execution_count": 0,
   "metadata": {
    "application/vnd.databricks.v1+cell": {
     "cellMetadata": {
      "byteLimit": 2048000,
      "rowLimit": 10000
     },
     "inputWidgets": {},
     "nuid": "268391bd-5742-442c-b967-d8709b3a848f",
     "showTitle": false,
     "title": ""
    }
   },
   "outputs": [
    {
     "output_type": "display_data",
     "data": {
      "text/html": [
       "<style scoped>\n",
       "  .table-result-container {\n",
       "    max-height: 300px;\n",
       "    overflow: auto;\n",
       "  }\n",
       "  table, th, td {\n",
       "    border: 1px solid black;\n",
       "    border-collapse: collapse;\n",
       "  }\n",
       "  th, td {\n",
       "    padding: 5px;\n",
       "  }\n",
       "  th {\n",
       "    text-align: left;\n",
       "  }\n",
       "</style><div class='table-result-container'><table class='table-result'><thead style='background-color: white'><tr><th>ytd_sales</th><th>final_sales</th></tr></thead><tbody><tr><td>15</td><td>15</td></tr><tr><td>22</td><td>7</td></tr><tr><td>35</td><td>13</td></tr><tr><td>45</td><td>10</td></tr><tr><td>60</td><td>15</td></tr></tbody></table></div>"
      ]
     },
     "metadata": {
      "application/vnd.databricks.v1+output": {
       "addedWidgets": {},
       "aggData": [],
       "aggError": "",
       "aggOverflow": false,
       "aggSchema": [],
       "aggSeriesLimitReached": false,
       "aggType": "",
       "arguments": {},
       "columnCustomDisplayInfos": {},
       "data": [
        [
         15,
         15
        ],
        [
         22,
         7
        ],
        [
         35,
         13
        ],
        [
         45,
         10
        ],
        [
         60,
         15
        ]
       ],
       "datasetInfos": [],
       "dbfsResultPath": null,
       "isJsonSchema": true,
       "metadata": {},
       "overflow": false,
       "plotOptions": {
        "customPlotOptions": {},
        "displayType": "table",
        "pivotAggregation": null,
        "pivotColumns": null,
        "xColumns": null,
        "yColumns": null
       },
       "removedWidgets": [],
       "schema": [
        {
         "metadata": "{}",
         "name": "ytd_sales",
         "type": "\"integer\""
        },
        {
         "metadata": "{}",
         "name": "final_sales",
         "type": "\"integer\""
        }
       ],
       "type": "table"
      }
     },
     "output_type": "display_data"
    }
   ],
   "source": [
    "window_spec = Window.orderBy(\"monthnum\")\n",
    "\n",
    "# Add a column 'lg' that calculates the lag of ytd_sales\n",
    "df_with_lag = df_sales.withColumn(\"lg\", lag(\"ytd_sales\").over(window_spec))\n",
    "\n",
    "# Calculate the difference and handle the null case for the first row\n",
    "df_final = df_with_lag.withColumn(\n",
    "    \"final_sales\",\n",
    "    when(col(\"lg\").isNull(), col(\"ytd_sales\")).otherwise(col(\"ytd_sales\") - col(\"lg\"))\n",
    ")\n",
    "\n",
    "# Select and show the required columns\n",
    "df_final.select(\"ytd_sales\", \"final_sales\").display()"
   ]
  }
 ],
 "metadata": {
  "application/vnd.databricks.v1+notebook": {
   "dashboards": [],
   "environmentMetadata": null,
   "language": "python",
   "notebookMetadata": {
    "mostRecentlyExecutedCommandWithImplicitDF": {
     "commandId": 2152062625539476,
     "dataframes": [
      "_sqldf"
     ]
    },
    "pythonIndentUnit": 4
   },
   "notebookName": "Trelleborg SQL Interview Question",
   "widgets": {}
  }
 },
 "nbformat": 4,
 "nbformat_minor": 0
}
