{
 "cells": [
  {
   "cell_type": "markdown",
   "metadata": {
    "application/vnd.databricks.v1+cell": {
     "cellMetadata": {},
     "inputWidgets": {},
     "nuid": "ff5a89c0-78d6-49e4-aa93-ec69139d4645",
     "showTitle": false,
     "title": ""
    }
   },
   "source": [
    "#PROBLEM STATEMENT\n",
    "Write a query to calculate the year-on-year growth rate for the total spend of each product.\n"
   ]
  },
  {
   "cell_type": "code",
   "execution_count": 0,
   "metadata": {
    "application/vnd.databricks.v1+cell": {
     "cellMetadata": {
      "byteLimit": 2048000,
      "rowLimit": 10000
     },
     "inputWidgets": {},
     "nuid": "c92852a7-1ef5-4ced-a67e-7db3d488772d",
     "showTitle": false,
     "title": ""
    }
   },
   "outputs": [
    {
     "output_type": "display_data",
     "data": {
      "text/html": [
       "<style scoped>\n",
       "  .table-result-container {\n",
       "    max-height: 300px;\n",
       "    overflow: auto;\n",
       "  }\n",
       "  table, th, td {\n",
       "    border: 1px solid black;\n",
       "    border-collapse: collapse;\n",
       "  }\n",
       "  th, td {\n",
       "    padding: 5px;\n",
       "  }\n",
       "  th {\n",
       "    text-align: left;\n",
       "  }\n",
       "</style><div class='table-result-container'><table class='table-result'><thead style='background-color: white'><tr><th>transaction_id</th><th>product_id</th><th>spend</th><th>transaction_date</th></tr></thead><tbody><tr><td>1341</td><td>123424</td><td>1500.6</td><td>2019-12-31</td></tr><tr><td>1423</td><td>123424</td><td>1000.2</td><td>2020-11-30</td></tr><tr><td>1623</td><td>123424</td><td>1246.44</td><td>2021-10-31</td></tr><tr><td>1322</td><td>123424</td><td>2145.32</td><td>2022-09-30</td></tr></tbody></table></div>"
      ]
     },
     "metadata": {
      "application/vnd.databricks.v1+output": {
       "addedWidgets": {},
       "aggData": [],
       "aggError": "",
       "aggOverflow": false,
       "aggSchema": [],
       "aggSeriesLimitReached": false,
       "aggType": "",
       "arguments": {},
       "columnCustomDisplayInfos": {},
       "data": [
        [
         1341,
         123424,
         1500.6,
         "2019-12-31"
        ],
        [
         1423,
         123424,
         1000.2,
         "2020-11-30"
        ],
        [
         1623,
         123424,
         1246.44,
         "2021-10-31"
        ],
        [
         1322,
         123424,
         2145.32,
         "2022-09-30"
        ]
       ],
       "datasetInfos": [],
       "dbfsResultPath": null,
       "isJsonSchema": true,
       "metadata": {},
       "overflow": false,
       "plotOptions": {
        "customPlotOptions": {},
        "displayType": "table",
        "pivotAggregation": null,
        "pivotColumns": null,
        "xColumns": null,
        "yColumns": null
       },
       "removedWidgets": [],
       "schema": [
        {
         "metadata": "{}",
         "name": "transaction_id",
         "type": "\"integer\""
        },
        {
         "metadata": "{}",
         "name": "product_id",
         "type": "\"integer\""
        },
        {
         "metadata": "{}",
         "name": "spend",
         "type": "\"double\""
        },
        {
         "metadata": "{}",
         "name": "transaction_date",
         "type": "\"date\""
        }
       ],
       "type": "table"
      }
     },
     "output_type": "display_data"
    }
   ],
   "source": [
    "from pyspark.sql import SparkSession, Window\n",
    "from pyspark.sql.types import StructType, StructField, IntegerType, DateType\n",
    "from pyspark.sql.functions import year, sum, lag, col, when, round, month\n",
    "from pyspark.sql.functions import concat_ws\n",
    "from datetime import datetime\n",
    "\n",
    "\n",
    "# Initialize a Spark session\n",
    "spark = SparkSession.builder.appName(\"user_transactions\").getOrCreate()\n",
    "\n",
    "# Define the schema\n",
    "schema = \"transaction_id INT, product_id INT, spend DOUBLE, transaction_date DATE\"\n",
    "\n",
    "# Create a DataFrame with the sample data\n",
    "data = [\n",
    "    (1341, 123424, 1500.60, datetime.strptime(\"2019-12-31\", \"%Y-%m-%d\").date()),\n",
    "    (1423, 123424, 1000.20, datetime.strptime(\"2020-11-30\", \"%Y-%m-%d\").date()),\n",
    "    (1623, 123424, 1246.44, datetime.strptime(\"2021-10-31\", \"%Y-%m-%d\").date()),\n",
    "    (1322, 123424, 2145.32, datetime.strptime(\"2022-09-30\", \"%Y-%m-%d\").date()),\n",
    "]\n",
    "\n",
    "# Create the DataFrame\n",
    "df = spark.createDataFrame(data, schema=schema)\n",
    "\n",
    "# Show the DataFrame\n",
    "df.display()"
   ]
  },
  {
   "cell_type": "markdown",
   "metadata": {
    "application/vnd.databricks.v1+cell": {
     "cellMetadata": {},
     "inputWidgets": {},
     "nuid": "03f8916a-659c-4d6f-8c5b-cc96c60fad83",
     "showTitle": false,
     "title": ""
    }
   },
   "source": [
    "###Year-wise-Year Growth"
   ]
  },
  {
   "cell_type": "code",
   "execution_count": 0,
   "metadata": {
    "application/vnd.databricks.v1+cell": {
     "cellMetadata": {
      "byteLimit": 2048000,
      "rowLimit": 10000
     },
     "inputWidgets": {},
     "nuid": "0dad3f16-d7b8-487d-92d0-dd00271bdc77",
     "showTitle": false,
     "title": ""
    }
   },
   "outputs": [
    {
     "output_type": "display_data",
     "data": {
      "text/html": [
       "<style scoped>\n",
       "  .table-result-container {\n",
       "    max-height: 300px;\n",
       "    overflow: auto;\n",
       "  }\n",
       "  table, th, td {\n",
       "    border: 1px solid black;\n",
       "    border-collapse: collapse;\n",
       "  }\n",
       "  th, td {\n",
       "    padding: 5px;\n",
       "  }\n",
       "  th {\n",
       "    text-align: left;\n",
       "  }\n",
       "</style><div class='table-result-container'><table class='table-result'><thead style='background-color: white'><tr><th>transaction_year</th><th>total_spend</th><th>previous_year_spend</th><th>yoy_growth</th></tr></thead><tbody><tr><td>2019</td><td>1500.6</td><td>null</td><td>null</td></tr><tr><td>2020</td><td>1000.2</td><td>1500.6</td><td>-33.35</td></tr><tr><td>2021</td><td>1246.44</td><td>1000.2</td><td>24.62</td></tr><tr><td>2022</td><td>2145.32</td><td>1246.44</td><td>72.12</td></tr></tbody></table></div>"
      ]
     },
     "metadata": {
      "application/vnd.databricks.v1+output": {
       "addedWidgets": {},
       "aggData": [],
       "aggError": "",
       "aggOverflow": false,
       "aggSchema": [],
       "aggSeriesLimitReached": false,
       "aggType": "",
       "arguments": {},
       "columnCustomDisplayInfos": {},
       "data": [
        [
         2019,
         1500.6,
         null,
         null
        ],
        [
         2020,
         1000.2,
         1500.6,
         -33.35
        ],
        [
         2021,
         1246.44,
         1000.2,
         24.62
        ],
        [
         2022,
         2145.32,
         1246.44,
         72.12
        ]
       ],
       "datasetInfos": [],
       "dbfsResultPath": null,
       "isJsonSchema": true,
       "metadata": {},
       "overflow": false,
       "plotOptions": {
        "customPlotOptions": {},
        "displayType": "table",
        "pivotAggregation": null,
        "pivotColumns": null,
        "xColumns": null,
        "yColumns": null
       },
       "removedWidgets": [],
       "schema": [
        {
         "metadata": "{}",
         "name": "transaction_year",
         "type": "\"integer\""
        },
        {
         "metadata": "{}",
         "name": "total_spend",
         "type": "\"double\""
        },
        {
         "metadata": "{}",
         "name": "previous_year_spend",
         "type": "\"double\""
        },
        {
         "metadata": "{}",
         "name": "yoy_growth",
         "type": "\"double\""
        }
       ],
       "type": "table"
      }
     },
     "output_type": "display_data"
    }
   ],
   "source": [
    "df = df.withColumn(\"transaction_year\", year(\"transaction_date\"))\n",
    "\n",
    "# Calculate total spend per year\n",
    "total_spend_per_year = df.groupBy(\"transaction_year\").agg(\n",
    "    sum(\"spend\").alias(\"total_spend\")\n",
    ")\n",
    "\n",
    "# Define a window specification for calculating the lag\n",
    "windowSpec = Window.orderBy(\"transaction_year\")\n",
    "\n",
    "# Calculate the previous year's spend using the lag function\n",
    "total_spend_per_year = total_spend_per_year.withColumn(\n",
    "    \"previous_year_spend\", lag(\"total_spend\").over(windowSpec)\n",
    ")\n",
    "\n",
    "# Calculate YoY growth percentage and round to two decimal places\n",
    "total_spend_per_year = total_spend_per_year.withColumn(\n",
    "    \"yoy_growth\",\n",
    "    round(\n",
    "        (col(\"total_spend\") - col(\"previous_year_spend\"))\n",
    "        / col(\"previous_year_spend\")\n",
    "        * 100,\n",
    "        2\n",
    "    )\n",
    ")\n",
    "\n",
    "# Display the results\n",
    "total_spend_per_year.orderBy(\"transaction_year\").display()"
   ]
  },
  {
   "cell_type": "markdown",
   "metadata": {
    "application/vnd.databricks.v1+cell": {
     "cellMetadata": {},
     "inputWidgets": {},
     "nuid": "bc30ea57-ab45-45ce-b98b-de02dfc76dd3",
     "showTitle": false,
     "title": ""
    }
   },
   "source": [
    "###Month-wise-Month Growth"
   ]
  },
  {
   "cell_type": "code",
   "execution_count": 0,
   "metadata": {
    "application/vnd.databricks.v1+cell": {
     "cellMetadata": {
      "byteLimit": 2048000,
      "rowLimit": 10000
     },
     "inputWidgets": {},
     "nuid": "3568870c-7575-4cc4-b756-412e4a9b13fe",
     "showTitle": false,
     "title": ""
    }
   },
   "outputs": [
    {
     "output_type": "display_data",
     "data": {
      "text/html": [
       "<style scoped>\n",
       "  .table-result-container {\n",
       "    max-height: 300px;\n",
       "    overflow: auto;\n",
       "  }\n",
       "  table, th, td {\n",
       "    border: 1px solid black;\n",
       "    border-collapse: collapse;\n",
       "  }\n",
       "  th, td {\n",
       "    padding: 5px;\n",
       "  }\n",
       "  th {\n",
       "    text-align: left;\n",
       "  }\n",
       "</style><div class='table-result-container'><table class='table-result'><thead style='background-color: white'><tr><th>year_month</th><th>total_spend</th><th>prev_month_spend</th><th>mom_growth</th></tr></thead><tbody><tr><td>2019-12</td><td>1500.6</td><td>null</td><td>null</td></tr><tr><td>2020-11</td><td>1000.2</td><td>1500.6</td><td>-33.35</td></tr><tr><td>2021-10</td><td>1246.44</td><td>1000.2</td><td>24.62</td></tr><tr><td>2022-9</td><td>2145.32</td><td>1246.44</td><td>72.12</td></tr></tbody></table></div>"
      ]
     },
     "metadata": {
      "application/vnd.databricks.v1+output": {
       "addedWidgets": {},
       "aggData": [],
       "aggError": "",
       "aggOverflow": false,
       "aggSchema": [],
       "aggSeriesLimitReached": false,
       "aggType": "",
       "arguments": {},
       "columnCustomDisplayInfos": {},
       "data": [
        [
         "2019-12",
         1500.6,
         null,
         null
        ],
        [
         "2020-11",
         1000.2,
         1500.6,
         -33.35
        ],
        [
         "2021-10",
         1246.44,
         1000.2,
         24.62
        ],
        [
         "2022-9",
         2145.32,
         1246.44,
         72.12
        ]
       ],
       "datasetInfos": [],
       "dbfsResultPath": null,
       "isJsonSchema": true,
       "metadata": {},
       "overflow": false,
       "plotOptions": {
        "customPlotOptions": {},
        "displayType": "table",
        "pivotAggregation": null,
        "pivotColumns": null,
        "xColumns": null,
        "yColumns": null
       },
       "removedWidgets": [],
       "schema": [
        {
         "metadata": "{}",
         "name": "year_month",
         "type": "\"string\""
        },
        {
         "metadata": "{}",
         "name": "total_spend",
         "type": "\"double\""
        },
        {
         "metadata": "{}",
         "name": "prev_month_spend",
         "type": "\"double\""
        },
        {
         "metadata": "{}",
         "name": "mom_growth",
         "type": "\"double\""
        }
       ],
       "type": "table"
      }
     },
     "output_type": "display_data"
    }
   ],
   "source": [
    "# Assuming df is already defined and has a column \"transaction_date\" and \"spend\"\n",
    "# Extract year and month from the transaction_date\n",
    "df = df.withColumn(\n",
    "    \"year_month\",\n",
    "    concat_ws(\"-\", year(col(\"transaction_date\")), month(col(\"transaction_date\")))\n",
    ")\n",
    "\n",
    "# Aggregate the data to calculate total spend for each month\n",
    "monthly_spend = df.groupBy(\"year_month\").agg(sum(\"spend\").alias(\"total_spend\"))\n",
    "\n",
    "# Define a window specification to calculate the lagged spend (previous month's spend)\n",
    "window_spec = Window.orderBy(\"year_month\")\n",
    "\n",
    "# Calculate the previous month's spend\n",
    "monthly_spend = monthly_spend.withColumn(\n",
    "    \"prev_month_spend\", lag(\"total_spend\").over(window_spec)\n",
    ")\n",
    "\n",
    "# Calculate the MoM growth rate and round to two decimal places\n",
    "monthly_spend = monthly_spend.withColumn(\n",
    "    \"mom_growth\",\n",
    "    round(\n",
    "        (col(\"total_spend\") - col(\"prev_month_spend\")) / col(\"prev_month_spend\") * 100,\n",
    "        2\n",
    "    )\n",
    ")\n",
    "\n",
    "# Show the results\n",
    "monthly_spend.orderBy(\"year_month\").display()"
   ]
  },
  {
   "cell_type": "markdown",
   "metadata": {
    "application/vnd.databricks.v1+cell": {
     "cellMetadata": {},
     "inputWidgets": {},
     "nuid": "d9362c78-61c7-4797-b5c8-93abc695aaa9",
     "showTitle": false,
     "title": ""
    }
   },
   "source": [
    "###Week-wise-Week growth "
   ]
  },
  {
   "cell_type": "code",
   "execution_count": 0,
   "metadata": {
    "application/vnd.databricks.v1+cell": {
     "cellMetadata": {
      "byteLimit": 2048000,
      "rowLimit": 10000
     },
     "inputWidgets": {},
     "nuid": "af524702-5561-4046-974f-d1c4632c7ef0",
     "showTitle": false,
     "title": ""
    }
   },
   "outputs": [
    {
     "output_type": "display_data",
     "data": {
      "text/html": [
       "<style scoped>\n",
       "  .table-result-container {\n",
       "    max-height: 300px;\n",
       "    overflow: auto;\n",
       "  }\n",
       "  table, th, td {\n",
       "    border: 1px solid black;\n",
       "    border-collapse: collapse;\n",
       "  }\n",
       "  th, td {\n",
       "    padding: 5px;\n",
       "  }\n",
       "  th {\n",
       "    text-align: left;\n",
       "  }\n",
       "</style><div class='table-result-container'><table class='table-result'><thead style='background-color: white'><tr><th>transaction_date</th><th>spend</th><th>spend_previous_week</th><th>week_over_week_growth</th></tr></thead><tbody><tr><td>2019-12-31</td><td>1500.6</td><td>null</td><td>0.0</td></tr><tr><td>2020-11-30</td><td>1000.2</td><td>1500.6</td><td>-33.35</td></tr><tr><td>2021-10-31</td><td>1246.44</td><td>1000.2</td><td>24.62</td></tr><tr><td>2022-09-30</td><td>2145.32</td><td>1246.44</td><td>72.12</td></tr></tbody></table></div>"
      ]
     },
     "metadata": {
      "application/vnd.databricks.v1+output": {
       "addedWidgets": {},
       "aggData": [],
       "aggError": "",
       "aggOverflow": false,
       "aggSchema": [],
       "aggSeriesLimitReached": false,
       "aggType": "",
       "arguments": {},
       "columnCustomDisplayInfos": {},
       "data": [
        [
         "2019-12-31",
         1500.6,
         null,
         0.0
        ],
        [
         "2020-11-30",
         1000.2,
         1500.6,
         -33.35
        ],
        [
         "2021-10-31",
         1246.44,
         1000.2,
         24.62
        ],
        [
         "2022-09-30",
         2145.32,
         1246.44,
         72.12
        ]
       ],
       "datasetInfos": [],
       "dbfsResultPath": null,
       "isJsonSchema": true,
       "metadata": {},
       "overflow": false,
       "plotOptions": {
        "customPlotOptions": {},
        "displayType": "table",
        "pivotAggregation": null,
        "pivotColumns": null,
        "xColumns": null,
        "yColumns": null
       },
       "removedWidgets": [],
       "schema": [
        {
         "metadata": "{}",
         "name": "transaction_date",
         "type": "\"date\""
        },
        {
         "metadata": "{}",
         "name": "spend",
         "type": "\"double\""
        },
        {
         "metadata": "{}",
         "name": "spend_previous_week",
         "type": "\"double\""
        },
        {
         "metadata": "{}",
         "name": "week_over_week_growth",
         "type": "\"double\""
        }
       ],
       "type": "table"
      }
     },
     "output_type": "display_data"
    }
   ],
   "source": [
    "windowSpec = Window.orderBy(\"transaction_date\")\n",
    "\n",
    "# Add a column for the spend of the previous week using the lag function\n",
    "df = df.withColumn(\"spend_previous_week\", lag(\"spend\").over(windowSpec))\n",
    "\n",
    "# Calculate week-over-week growth percentage and round to two decimal places\n",
    "df = df.withColumn(\n",
    "    \"week_over_week_growth\",\n",
    "    when(col(\"spend_previous_week\").isNull(), 0).otherwise(\n",
    "        round(\n",
    "            (col(\"spend\") - col(\"spend_previous_week\")) / col(\"spend_previous_week\") * 100,\n",
    "            2\n",
    "        )\n",
    "    )\n",
    ")\n",
    "\n",
    "# Select relevant columns for output\n",
    "df_result = df.select(\n",
    "    \"transaction_date\", \"spend\", \"spend_previous_week\", \"week_over_week_growth\"\n",
    ")\n",
    "\n",
    "# Show the resulting DataFrame\n",
    "df_result.display()"
   ]
  },
  {
   "cell_type": "markdown",
   "metadata": {
    "application/vnd.databricks.v1+cell": {
     "cellMetadata": {},
     "inputWidgets": {},
     "nuid": "7bff3dc4-8544-481e-b77a-01e71c6d0122",
     "showTitle": false,
     "title": ""
    }
   },
   "source": [
    "#Spark SQL\n"
   ]
  },
  {
   "cell_type": "code",
   "execution_count": 0,
   "metadata": {
    "application/vnd.databricks.v1+cell": {
     "cellMetadata": {
      "byteLimit": 2048000,
      "rowLimit": 10000
     },
     "inputWidgets": {},
     "nuid": "4683d4ba-18fe-4e20-8ae6-59ecec9c5e8e",
     "showTitle": false,
     "title": ""
    }
   },
   "outputs": [],
   "source": [
    "df.createOrReplaceTempView(\"user_transactions \")"
   ]
  },
  {
   "cell_type": "markdown",
   "metadata": {
    "application/vnd.databricks.v1+cell": {
     "cellMetadata": {},
     "inputWidgets": {},
     "nuid": "a1365154-f3bb-46f2-80b7-82f2c5361014",
     "showTitle": false,
     "title": ""
    }
   },
   "source": [
    "###Year-wise-Year Growth"
   ]
  },
  {
   "cell_type": "code",
   "execution_count": 0,
   "metadata": {
    "application/vnd.databricks.v1+cell": {
     "cellMetadata": {
      "byteLimit": 2048000,
      "implicitDf": true,
      "rowLimit": 10000
     },
     "inputWidgets": {},
     "nuid": "cd1992dc-8d5b-4441-9f4f-54eb1179393b",
     "showTitle": false,
     "title": ""
    }
   },
   "outputs": [
    {
     "output_type": "display_data",
     "data": {
      "text/html": [
       "<style scoped>\n",
       "  .table-result-container {\n",
       "    max-height: 300px;\n",
       "    overflow: auto;\n",
       "  }\n",
       "  table, th, td {\n",
       "    border: 1px solid black;\n",
       "    border-collapse: collapse;\n",
       "  }\n",
       "  th, td {\n",
       "    padding: 5px;\n",
       "  }\n",
       "  th {\n",
       "    text-align: left;\n",
       "  }\n",
       "</style><div class='table-result-container'><table class='table-result'><thead style='background-color: white'><tr><th>year</th><th>total_spend</th><th>previous_year_spend</th><th>yoy_growth_percentage</th></tr></thead><tbody><tr><td>2019</td><td>1500.6</td><td>null</td><td>null</td></tr><tr><td>2020</td><td>1000.2</td><td>1500.6</td><td>-33.35</td></tr><tr><td>2021</td><td>1246.44</td><td>1000.2</td><td>24.62</td></tr><tr><td>2022</td><td>2145.32</td><td>1246.44</td><td>72.12</td></tr></tbody></table></div>"
      ]
     },
     "metadata": {
      "application/vnd.databricks.v1+output": {
       "addedWidgets": {},
       "aggData": [],
       "aggError": "",
       "aggOverflow": false,
       "aggSchema": [],
       "aggSeriesLimitReached": false,
       "aggType": "",
       "arguments": {},
       "columnCustomDisplayInfos": {},
       "data": [
        [
         2019,
         1500.6,
         null,
         null
        ],
        [
         2020,
         1000.2,
         1500.6,
         -33.35
        ],
        [
         2021,
         1246.44,
         1000.2,
         24.62
        ],
        [
         2022,
         2145.32,
         1246.44,
         72.12
        ]
       ],
       "datasetInfos": [],
       "dbfsResultPath": null,
       "isJsonSchema": true,
       "metadata": {},
       "overflow": false,
       "plotOptions": {
        "customPlotOptions": {},
        "displayType": "table",
        "pivotAggregation": null,
        "pivotColumns": null,
        "xColumns": null,
        "yColumns": null
       },
       "removedWidgets": [],
       "schema": [
        {
         "metadata": "{}",
         "name": "year",
         "type": "\"integer\""
        },
        {
         "metadata": "{}",
         "name": "total_spend",
         "type": "\"double\""
        },
        {
         "metadata": "{}",
         "name": "previous_year_spend",
         "type": "\"double\""
        },
        {
         "metadata": "{}",
         "name": "yoy_growth_percentage",
         "type": "\"double\""
        }
       ],
       "type": "table"
      }
     },
     "output_type": "display_data"
    }
   ],
   "source": [
    "%sql\n",
    "SELECT\n",
    "  YEAR(transaction_date) AS year,\n",
    "  SUM(spend) AS total_spend,\n",
    "  LAG(SUM(spend), 1) OVER (\n",
    "    ORDER BY\n",
    "      YEAR(transaction_date)\n",
    "  ) AS previous_year_spend,\n",
    "  ROUND(\n",
    "    (\n",
    "      SUM(spend) - LAG(SUM(spend), 1) OVER (\n",
    "        ORDER BY\n",
    "          YEAR(transaction_date)\n",
    "      )\n",
    "    ) / NULLIF(LAG(SUM(spend), 1) OVER (\n",
    "        ORDER BY\n",
    "          YEAR(transaction_date)\n",
    "      ), 0) * 100, 2\n",
    "  ) AS yoy_growth_percentage\n",
    "FROM\n",
    "  user_transactions\n",
    "GROUP BY\n",
    "  YEAR\n",
    "ORDER BY\n",
    "  YEAR;"
   ]
  },
  {
   "cell_type": "markdown",
   "metadata": {
    "application/vnd.databricks.v1+cell": {
     "cellMetadata": {},
     "inputWidgets": {},
     "nuid": "e8b31742-a794-480d-bede-367da85c35d1",
     "showTitle": false,
     "title": ""
    }
   },
   "source": [
    "###Month-wise-Month Growth"
   ]
  },
  {
   "cell_type": "code",
   "execution_count": 0,
   "metadata": {
    "application/vnd.databricks.v1+cell": {
     "cellMetadata": {
      "byteLimit": 2048000,
      "implicitDf": true,
      "rowLimit": 10000
     },
     "inputWidgets": {},
     "nuid": "bc319e34-25de-48c6-b221-8fe3183c5f4e",
     "showTitle": false,
     "title": ""
    }
   },
   "outputs": [
    {
     "output_type": "display_data",
     "data": {
      "text/html": [
       "<style scoped>\n",
       "  .table-result-container {\n",
       "    max-height: 300px;\n",
       "    overflow: auto;\n",
       "  }\n",
       "  table, th, td {\n",
       "    border: 1px solid black;\n",
       "    border-collapse: collapse;\n",
       "  }\n",
       "  th, td {\n",
       "    padding: 5px;\n",
       "  }\n",
       "  th {\n",
       "    text-align: left;\n",
       "  }\n",
       "</style><div class='table-result-container'><table class='table-result'><thead style='background-color: white'><tr><th>year_month</th><th>total_spend</th><th>previous_month_spend</th><th>mom_growth_percentage</th></tr></thead><tbody><tr><td>2019-12</td><td>1500.6</td><td>null</td><td>null</td></tr><tr><td>2020-11</td><td>1000.2</td><td>1500.6</td><td>-33.35</td></tr><tr><td>2021-10</td><td>1246.44</td><td>1000.2</td><td>24.62</td></tr><tr><td>2022-09</td><td>2145.32</td><td>1246.44</td><td>72.12</td></tr></tbody></table></div>"
      ]
     },
     "metadata": {
      "application/vnd.databricks.v1+output": {
       "addedWidgets": {},
       "aggData": [],
       "aggError": "",
       "aggOverflow": false,
       "aggSchema": [],
       "aggSeriesLimitReached": false,
       "aggType": "",
       "arguments": {},
       "columnCustomDisplayInfos": {},
       "data": [
        [
         "2019-12",
         1500.6,
         null,
         null
        ],
        [
         "2020-11",
         1000.2,
         1500.6,
         -33.35
        ],
        [
         "2021-10",
         1246.44,
         1000.2,
         24.62
        ],
        [
         "2022-09",
         2145.32,
         1246.44,
         72.12
        ]
       ],
       "datasetInfos": [],
       "dbfsResultPath": null,
       "isJsonSchema": true,
       "metadata": {},
       "overflow": false,
       "plotOptions": {
        "customPlotOptions": {},
        "displayType": "table",
        "pivotAggregation": null,
        "pivotColumns": null,
        "xColumns": null,
        "yColumns": null
       },
       "removedWidgets": [],
       "schema": [
        {
         "metadata": "{}",
         "name": "year_month",
         "type": "\"string\""
        },
        {
         "metadata": "{}",
         "name": "total_spend",
         "type": "\"double\""
        },
        {
         "metadata": "{}",
         "name": "previous_month_spend",
         "type": "\"double\""
        },
        {
         "metadata": "{}",
         "name": "mom_growth_percentage",
         "type": "\"double\""
        }
       ],
       "type": "table"
      }
     },
     "output_type": "display_data"
    }
   ],
   "source": [
    "%sql\n",
    "SELECT\n",
    "  DATE_FORMAT(transaction_date, 'yyyy-MM') AS year_month,\n",
    "  SUM(spend) AS total_spend,\n",
    "  LAG(SUM(spend), 1) OVER (\n",
    "    ORDER BY\n",
    "      DATE_FORMAT(transaction_date, 'yyyy-MM')\n",
    "  ) AS previous_month_spend,\n",
    "  ROUND(\n",
    "    (\n",
    "      (SUM(spend) - LAG(SUM(spend), 1) OVER (\n",
    "        ORDER BY\n",
    "          DATE_FORMAT(transaction_date, 'yyyy-MM')\n",
    "      )) / NULLIF(LAG(SUM(spend), 1) OVER (\n",
    "        ORDER BY\n",
    "          DATE_FORMAT(transaction_date, 'yyyy-MM')\n",
    "      ), 0)\n",
    "    ) * 100,\n",
    "    2\n",
    "  ) AS mom_growth_percentage\n",
    "FROM\n",
    "  user_transactions\n",
    "GROUP BY\n",
    "  DATE_FORMAT(transaction_date, 'yyyy-MM')\n",
    "ORDER BY\n",
    "  year_month;\n",
    "\n"
   ]
  },
  {
   "cell_type": "markdown",
   "metadata": {
    "application/vnd.databricks.v1+cell": {
     "cellMetadata": {},
     "inputWidgets": {},
     "nuid": "b0568407-44b2-46c6-b3f5-a219118f3033",
     "showTitle": false,
     "title": ""
    }
   },
   "source": [
    "###Week-wise-Week Growth"
   ]
  },
  {
   "cell_type": "code",
   "execution_count": 0,
   "metadata": {
    "application/vnd.databricks.v1+cell": {
     "cellMetadata": {
      "byteLimit": 2048000,
      "implicitDf": true,
      "rowLimit": 10000
     },
     "inputWidgets": {},
     "nuid": "d132cbae-a420-45b7-9fb3-de394e1f0957",
     "showTitle": false,
     "title": ""
    }
   },
   "outputs": [
    {
     "output_type": "display_data",
     "data": {
      "text/html": [
       "<style scoped>\n",
       "  .table-result-container {\n",
       "    max-height: 300px;\n",
       "    overflow: auto;\n",
       "  }\n",
       "  table, th, td {\n",
       "    border: 1px solid black;\n",
       "    border-collapse: collapse;\n",
       "  }\n",
       "  th, td {\n",
       "    padding: 5px;\n",
       "  }\n",
       "  th {\n",
       "    text-align: left;\n",
       "  }\n",
       "</style><div class='table-result-container'><table class='table-result'><thead style='background-color: white'><tr><th>transaction_date</th><th>spend</th><th>previous_week_spend</th><th>wow_growth_percentage</th></tr></thead><tbody><tr><td>2019-12-31</td><td>1500.6</td><td>null</td><td>null</td></tr><tr><td>2020-11-30</td><td>1000.2</td><td>1500.6</td><td>-33.35</td></tr><tr><td>2021-10-31</td><td>1246.44</td><td>1000.2</td><td>24.62</td></tr><tr><td>2022-09-30</td><td>2145.32</td><td>1246.44</td><td>72.12</td></tr></tbody></table></div>"
      ]
     },
     "metadata": {
      "application/vnd.databricks.v1+output": {
       "addedWidgets": {},
       "aggData": [],
       "aggError": "",
       "aggOverflow": false,
       "aggSchema": [],
       "aggSeriesLimitReached": false,
       "aggType": "",
       "arguments": {},
       "columnCustomDisplayInfos": {},
       "data": [
        [
         "2019-12-31",
         1500.6,
         null,
         null
        ],
        [
         "2020-11-30",
         1000.2,
         1500.6,
         -33.35
        ],
        [
         "2021-10-31",
         1246.44,
         1000.2,
         24.62
        ],
        [
         "2022-09-30",
         2145.32,
         1246.44,
         72.12
        ]
       ],
       "datasetInfos": [],
       "dbfsResultPath": null,
       "isJsonSchema": true,
       "metadata": {},
       "overflow": false,
       "plotOptions": {
        "customPlotOptions": {},
        "displayType": "table",
        "pivotAggregation": null,
        "pivotColumns": null,
        "xColumns": null,
        "yColumns": null
       },
       "removedWidgets": [],
       "schema": [
        {
         "metadata": "{}",
         "name": "transaction_date",
         "type": "\"date\""
        },
        {
         "metadata": "{}",
         "name": "spend",
         "type": "\"double\""
        },
        {
         "metadata": "{}",
         "name": "previous_week_spend",
         "type": "\"double\""
        },
        {
         "metadata": "{}",
         "name": "wow_growth_percentage",
         "type": "\"double\""
        }
       ],
       "type": "table"
      }
     },
     "output_type": "display_data"
    }
   ],
   "source": [
    "%sql\n",
    "SELECT \n",
    "  transaction_date,\n",
    "  spend,\n",
    "  LAG(spend, 1) OVER (ORDER BY transaction_date) AS previous_week_spend,\n",
    "  ROUND((spend - LAG(spend, 1) OVER (ORDER BY transaction_date)) / NULLIF(LAG(spend, 1) OVER (ORDER BY transaction_date), 0) * 100, 2) AS wow_growth_percentage\n",
    "FROM \n",
    "  user_transactions\n",
    "ORDER BY \n",
    "  transaction_date;"
   ]
  }
 ],
 "metadata": {
  "application/vnd.databricks.v1+notebook": {
   "dashboards": [],
   "environmentMetadata": null,
   "language": "python",
   "notebookMetadata": {
    "mostRecentlyExecutedCommandWithImplicitDF": {
     "commandId": 3483367082203484,
     "dataframes": [
      "_sqldf"
     ]
    },
    "pythonIndentUnit": 4
   },
   "notebookName": "This calculates a vital business metric: YoY or MoM or WoW growth.",
   "widgets": {}
  }
 },
 "nbformat": 4,
 "nbformat_minor": 0
}
