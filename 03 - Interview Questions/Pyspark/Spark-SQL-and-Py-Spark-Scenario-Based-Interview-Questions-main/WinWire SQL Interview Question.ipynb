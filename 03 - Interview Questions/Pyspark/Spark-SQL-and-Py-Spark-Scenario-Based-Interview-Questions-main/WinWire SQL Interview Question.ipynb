{
 "cells": [
  {
   "cell_type": "code",
   "execution_count": 0,
   "metadata": {
    "application/vnd.databricks.v1+cell": {
     "cellMetadata": {},
     "inputWidgets": {},
     "nuid": "735fb559-5e48-4c3c-bac2-d103bde7ab4a",
     "showTitle": false,
     "title": ""
    }
   },
   "outputs": [],
   "source": [
    "One of the SQL questions recently asked in WinWire interview.\n",
    "Given us happiness_tbl, we need to display a few specific Rows always at top of the query results."
   ]
  },
  {
   "cell_type": "code",
   "execution_count": 0,
   "metadata": {
    "application/vnd.databricks.v1+cell": {
     "cellMetadata": {
      "byteLimit": 2048000,
      "rowLimit": 10000
     },
     "inputWidgets": {},
     "nuid": "367150f9-3d77-4049-b12c-c0f4360fde0a",
     "showTitle": false,
     "title": ""
    }
   },
   "outputs": [
    {
     "output_type": "display_data",
     "data": {
      "text/html": [
       "<style scoped>\n",
       "  .table-result-container {\n",
       "    max-height: 300px;\n",
       "    overflow: auto;\n",
       "  }\n",
       "  table, th, td {\n",
       "    border: 1px solid black;\n",
       "    border-collapse: collapse;\n",
       "  }\n",
       "  th, td {\n",
       "    padding: 5px;\n",
       "  }\n",
       "  th {\n",
       "    text-align: left;\n",
       "  }\n",
       "</style><div class='table-result-container'><table class='table-result'><thead style='background-color: white'><tr><th>ranking</th><th>country</th></tr></thead><tbody><tr><td>1</td><td>Finland</td></tr><tr><td>2</td><td>Denmark</td></tr><tr><td>3</td><td>Iceland</td></tr><tr><td>4</td><td>Israel</td></tr><tr><td>5</td><td>Netherlands</td></tr><tr><td>6</td><td>Sweden</td></tr><tr><td>7</td><td>Norway</td></tr><tr><td>8</td><td>Switzerland</td></tr><tr><td>9</td><td>Luxembourg</td></tr><tr><td>128</td><td>Srilanka</td></tr><tr><td>126</td><td>India</td></tr></tbody></table></div>"
      ]
     },
     "metadata": {
      "application/vnd.databricks.v1+output": {
       "addedWidgets": {},
       "aggData": [],
       "aggError": "",
       "aggOverflow": false,
       "aggSchema": [],
       "aggSeriesLimitReached": false,
       "aggType": "",
       "arguments": {},
       "columnCustomDisplayInfos": {},
       "data": [
        [
         1,
         "Finland"
        ],
        [
         2,
         "Denmark"
        ],
        [
         3,
         "Iceland"
        ],
        [
         4,
         "Israel"
        ],
        [
         5,
         "Netherlands"
        ],
        [
         6,
         "Sweden"
        ],
        [
         7,
         "Norway"
        ],
        [
         8,
         "Switzerland"
        ],
        [
         9,
         "Luxembourg"
        ],
        [
         128,
         "Srilanka"
        ],
        [
         126,
         "India"
        ]
       ],
       "datasetInfos": [],
       "dbfsResultPath": null,
       "isJsonSchema": true,
       "metadata": {},
       "overflow": false,
       "plotOptions": {
        "customPlotOptions": {},
        "displayType": "table",
        "pivotAggregation": null,
        "pivotColumns": null,
        "xColumns": null,
        "yColumns": null
       },
       "removedWidgets": [],
       "schema": [
        {
         "metadata": "{}",
         "name": "ranking",
         "type": "\"integer\""
        },
        {
         "metadata": "{}",
         "name": "country",
         "type": "\"string\""
        }
       ],
       "type": "table"
      }
     },
     "output_type": "display_data"
    }
   ],
   "source": [
    "from pyspark.sql import SparkSession\n",
    "from pyspark.sql.types import StructType, StructField, IntegerType, StringType\n",
    "from pyspark.sql.functions import col, length, when\n",
    "\n",
    "# Create a Spark session\n",
    "spark = SparkSession.builder.appName(\"Happiness Table\").getOrCreate()\n",
    "\n",
    "# Define the schema for happiness_tbl\n",
    "schema = StructType([\n",
    "    StructField(\"ranking\", IntegerType(), True),\n",
    "    StructField(\"country\", StringType(), True)\n",
    "])\n",
    "\n",
    "# Data for happiness_tbl\n",
    "data_happiness = [\n",
    "    (1, 'Finland'),\n",
    "    (2, 'Denmark'),\n",
    "    (3, 'Iceland'),\n",
    "    (4, 'Israel'),\n",
    "    (5, 'Netherlands'),\n",
    "    (6, 'Sweden'),\n",
    "    (7, 'Norway'),\n",
    "    (8, 'Switzerland'),\n",
    "    (9, 'Luxembourg'),\n",
    "    (128, 'Srilanka'),\n",
    "    (126, 'India')\n",
    "]\n",
    "\n",
    "# Create a DataFrame for happiness_tbl\n",
    "df_happiness = spark.createDataFrame(data_happiness, schema)\n",
    "\n",
    "# Show the DataFrame\n",
    "df_happiness.display()\n"
   ]
  },
  {
   "cell_type": "code",
   "execution_count": 0,
   "metadata": {
    "application/vnd.databricks.v1+cell": {
     "cellMetadata": {
      "byteLimit": 2048000,
      "rowLimit": 10000
     },
     "inputWidgets": {},
     "nuid": "eb314da9-771e-4c05-af61-c56d71381dc7",
     "showTitle": false,
     "title": ""
    }
   },
   "outputs": [],
   "source": [
    "df_happiness.createOrReplaceTempView('happiness_tbl')"
   ]
  },
  {
   "cell_type": "code",
   "execution_count": 0,
   "metadata": {
    "application/vnd.databricks.v1+cell": {
     "cellMetadata": {
      "byteLimit": 2048000,
      "implicitDf": true,
      "rowLimit": 10000
     },
     "inputWidgets": {},
     "nuid": "1ab29ee0-60d7-4763-8cd8-80de42fa4888",
     "showTitle": false,
     "title": ""
    }
   },
   "outputs": [
    {
     "output_type": "display_data",
     "data": {
      "text/html": [
       "<style scoped>\n",
       "  .table-result-container {\n",
       "    max-height: 300px;\n",
       "    overflow: auto;\n",
       "  }\n",
       "  table, th, td {\n",
       "    border: 1px solid black;\n",
       "    border-collapse: collapse;\n",
       "  }\n",
       "  th, td {\n",
       "    padding: 5px;\n",
       "  }\n",
       "  th {\n",
       "    text-align: left;\n",
       "  }\n",
       "</style><div class='table-result-container'><table class='table-result'><thead style='background-color: white'><tr><th>ranking</th><th>country</th><th>length</th></tr></thead><tbody><tr><td>126</td><td>India</td><td>3</td></tr><tr><td>128</td><td>Srilanka</td><td>3</td></tr><tr><td>1</td><td>Finland</td><td>1</td></tr><tr><td>2</td><td>Denmark</td><td>1</td></tr><tr><td>3</td><td>Iceland</td><td>1</td></tr><tr><td>4</td><td>Israel</td><td>1</td></tr><tr><td>5</td><td>Netherlands</td><td>1</td></tr><tr><td>6</td><td>Sweden</td><td>1</td></tr><tr><td>7</td><td>Norway</td><td>1</td></tr><tr><td>8</td><td>Switzerland</td><td>1</td></tr><tr><td>9</td><td>Luxembourg</td><td>1</td></tr></tbody></table></div>"
      ]
     },
     "metadata": {
      "application/vnd.databricks.v1+output": {
       "addedWidgets": {},
       "aggData": [],
       "aggError": "",
       "aggOverflow": false,
       "aggSchema": [],
       "aggSeriesLimitReached": false,
       "aggType": "",
       "arguments": {},
       "columnCustomDisplayInfos": {},
       "data": [
        [
         126,
         "India",
         3
        ],
        [
         128,
         "Srilanka",
         3
        ],
        [
         1,
         "Finland",
         1
        ],
        [
         2,
         "Denmark",
         1
        ],
        [
         3,
         "Iceland",
         1
        ],
        [
         4,
         "Israel",
         1
        ],
        [
         5,
         "Netherlands",
         1
        ],
        [
         6,
         "Sweden",
         1
        ],
        [
         7,
         "Norway",
         1
        ],
        [
         8,
         "Switzerland",
         1
        ],
        [
         9,
         "Luxembourg",
         1
        ]
       ],
       "datasetInfos": [],
       "dbfsResultPath": null,
       "isJsonSchema": true,
       "metadata": {},
       "overflow": false,
       "plotOptions": {
        "customPlotOptions": {},
        "displayType": "table",
        "pivotAggregation": null,
        "pivotColumns": null,
        "xColumns": null,
        "yColumns": null
       },
       "removedWidgets": [],
       "schema": [
        {
         "metadata": "{}",
         "name": "ranking",
         "type": "\"integer\""
        },
        {
         "metadata": "{}",
         "name": "country",
         "type": "\"string\""
        },
        {
         "metadata": "{}",
         "name": "length",
         "type": "\"integer\""
        }
       ],
       "type": "table"
      }
     },
     "output_type": "display_data"
    }
   ],
   "source": [
    "%sql\n",
    "select *,\n",
    "LEN(ranking) length\n",
    "from happiness_tbl\n",
    "order by (case when LEN(ranking)>1 then 0 else 1 end), \n",
    "\t     ranking"
   ]
  },
  {
   "cell_type": "code",
   "execution_count": 0,
   "metadata": {
    "application/vnd.databricks.v1+cell": {
     "cellMetadata": {
      "byteLimit": 2048000,
      "rowLimit": 10000
     },
     "inputWidgets": {},
     "nuid": "8064df73-69e5-4349-805d-3228c4aba2cf",
     "showTitle": false,
     "title": ""
    }
   },
   "outputs": [
    {
     "output_type": "display_data",
     "data": {
      "text/html": [
       "<style scoped>\n",
       "  .table-result-container {\n",
       "    max-height: 300px;\n",
       "    overflow: auto;\n",
       "  }\n",
       "  table, th, td {\n",
       "    border: 1px solid black;\n",
       "    border-collapse: collapse;\n",
       "  }\n",
       "  th, td {\n",
       "    padding: 5px;\n",
       "  }\n",
       "  th {\n",
       "    text-align: left;\n",
       "  }\n",
       "</style><div class='table-result-container'><table class='table-result'><thead style='background-color: white'><tr><th>ranking</th><th>country</th><th>length</th></tr></thead><tbody><tr><td>126</td><td>India</td><td>3</td></tr><tr><td>128</td><td>Srilanka</td><td>3</td></tr><tr><td>1</td><td>Finland</td><td>1</td></tr><tr><td>2</td><td>Denmark</td><td>1</td></tr><tr><td>3</td><td>Iceland</td><td>1</td></tr><tr><td>4</td><td>Israel</td><td>1</td></tr><tr><td>5</td><td>Netherlands</td><td>1</td></tr><tr><td>6</td><td>Sweden</td><td>1</td></tr><tr><td>7</td><td>Norway</td><td>1</td></tr><tr><td>8</td><td>Switzerland</td><td>1</td></tr><tr><td>9</td><td>Luxembourg</td><td>1</td></tr></tbody></table></div>"
      ]
     },
     "metadata": {
      "application/vnd.databricks.v1+output": {
       "addedWidgets": {},
       "aggData": [],
       "aggError": "",
       "aggOverflow": false,
       "aggSchema": [],
       "aggSeriesLimitReached": false,
       "aggType": "",
       "arguments": {},
       "columnCustomDisplayInfos": {},
       "data": [
        [
         126,
         "India",
         3
        ],
        [
         128,
         "Srilanka",
         3
        ],
        [
         1,
         "Finland",
         1
        ],
        [
         2,
         "Denmark",
         1
        ],
        [
         3,
         "Iceland",
         1
        ],
        [
         4,
         "Israel",
         1
        ],
        [
         5,
         "Netherlands",
         1
        ],
        [
         6,
         "Sweden",
         1
        ],
        [
         7,
         "Norway",
         1
        ],
        [
         8,
         "Switzerland",
         1
        ],
        [
         9,
         "Luxembourg",
         1
        ]
       ],
       "datasetInfos": [],
       "dbfsResultPath": null,
       "isJsonSchema": true,
       "metadata": {},
       "overflow": false,
       "plotOptions": {
        "customPlotOptions": {},
        "displayType": "table",
        "pivotAggregation": null,
        "pivotColumns": null,
        "xColumns": null,
        "yColumns": null
       },
       "removedWidgets": [],
       "schema": [
        {
         "metadata": "{}",
         "name": "ranking",
         "type": "\"integer\""
        },
        {
         "metadata": "{}",
         "name": "country",
         "type": "\"string\""
        },
        {
         "metadata": "{}",
         "name": "length",
         "type": "\"integer\""
        }
       ],
       "type": "table"
      }
     },
     "output_type": "display_data"
    }
   ],
   "source": [
    "# Calculate the length of the 'ranking' column\n",
    "df_with_length = df_happiness.withColumn(\"length\", length(col(\"ranking\").cast(\"string\")))\n",
    "\n",
    "# Conditional ordering: First order by whether the length of 'ranking' > 1, then by 'ranking'\n",
    "df_final = df_with_length.orderBy(\n",
    "    when(col(\"length\") > 1, 0).otherwise(1).asc(),\n",
    "    col(\"ranking\").asc()\n",
    ")\n",
    "\n",
    "# Show the final result\n",
    "df_final.display()"
   ]
  }
 ],
 "metadata": {
  "application/vnd.databricks.v1+notebook": {
   "dashboards": [],
   "environmentMetadata": null,
   "language": "python",
   "notebookMetadata": {
    "mostRecentlyExecutedCommandWithImplicitDF": {
     "commandId": 2152062625539481,
     "dataframes": [
      "_sqldf"
     ]
    },
    "pythonIndentUnit": 4
   },
   "notebookName": "WinWire SQL Interview Question",
   "widgets": {}
  }
 },
 "nbformat": 4,
 "nbformat_minor": 0
}
