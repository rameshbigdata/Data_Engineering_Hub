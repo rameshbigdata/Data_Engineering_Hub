{
 "cells": [
  {
   "cell_type": "markdown",
   "metadata": {
    "application/vnd.databricks.v1+cell": {
     "cellMetadata": {},
     "inputWidgets": {},
     "nuid": "aeb27fcb-0b47-4d1f-84a9-0948f554c76b",
     "showTitle": false,
     "title": ""
    }
   },
   "source": [
    "#Problem Statement:\n",
    "You are given two datasets representing cricket players' statistics and their associated country information. Your task is to transform and analyze this data using PySpark.\n",
    "\n",
    "Dataset 1: Players\n",
    "\n",
    "This dataset contains information about cricket players, including their names, total runs scored, and their 50s and 100s in the format player-COUNTRY_CODE.\n",
    "Columns:\n",
    "player: The name of the player concatenated with a hyphen and the country code (e.g., Sachin-IND).\n",
    "runs: The total runs scored by the player.\n",
    "50s/100s: The number of 50s and 100s scored by the player, separated by a forward slash (e.g., 93/49).\n",
    "\n",
    "\n",
    "Dataset 2: Countries\n",
    "\n",
    "This dataset maps the country code to the full country name.\n",
    "Columns:\n",
    "SRT: The country code (e.g., IND).\n",
    "country: The full name of the country (e.g., India)."
   ]
  },
  {
   "cell_type": "markdown",
   "metadata": {
    "application/vnd.databricks.v1+cell": {
     "cellMetadata": {},
     "inputWidgets": {},
     "nuid": "d8ed31c2-aa51-48c5-b79e-ec47f81a2901",
     "showTitle": false,
     "title": ""
    }
   },
   "source": [
    "Task:\n",
    "Extract Information:\n",
    "\n",
    "Split the player column in the Players dataset into two separate fields:\n",
    "player_name: The name of the player.\n",
    "SRT: The country code.\n",
    "Split the 50s/100s column into two separate fields:\n",
    "runs_50s: The number of 50s.\n",
    "runs_100s: The number of 100s.\n",
    "Join the Datasets:\n",
    "\n",
    "Perform an inner join between the transformed Players dataset and the Countries dataset using the SRT field to map country codes to full country names.\n",
    "Calculate the Sum:\n",
    "\n",
    "Calculate the sum of 50s and 100s for each player.\n",
    "Filter:\n",
    "\n",
    "Filter the results to include only those players whose sum of 50s and 100s is greater than 90.\n",
    "Sort:\n",
    "\n",
    "Sort the filtered results by country name."
   ]
  },
  {
   "cell_type": "code",
   "execution_count": 0,
   "metadata": {
    "application/vnd.databricks.v1+cell": {
     "cellMetadata": {
      "byteLimit": 2048000,
      "rowLimit": 10000
     },
     "inputWidgets": {},
     "nuid": "0cbf3256-cac2-4aba-8c69-9ab183f3a4a9",
     "showTitle": false,
     "title": ""
    }
   },
   "outputs": [
    {
     "output_type": "display_data",
     "data": {
      "text/html": [
       "<style scoped>\n",
       "  .table-result-container {\n",
       "    max-height: 300px;\n",
       "    overflow: auto;\n",
       "  }\n",
       "  table, th, td {\n",
       "    border: 1px solid black;\n",
       "    border-collapse: collapse;\n",
       "  }\n",
       "  th, td {\n",
       "    padding: 5px;\n",
       "  }\n",
       "  th {\n",
       "    text-align: left;\n",
       "  }\n",
       "</style><div class='table-result-container'><table class='table-result'><thead style='background-color: white'><tr><th>player</th><th>runs</th><th>50s/100s</th></tr></thead><tbody><tr><td>Sachin-IND</td><td>18694</td><td>93/49</td></tr><tr><td>Ricky-AUS</td><td>11274</td><td>66/31</td></tr><tr><td>Lara-WI</td><td>10222</td><td>45/21</td></tr><tr><td>Rahul-IND</td><td>10355</td><td>95/11</td></tr><tr><td>Jhonty-SA</td><td>7051</td><td>43/5</td></tr><tr><td>Hayden-AUS</td><td>8722</td><td>67/19</td></tr></tbody></table></div>"
      ]
     },
     "metadata": {
      "application/vnd.databricks.v1+output": {
       "addedWidgets": {},
       "aggData": [],
       "aggError": "",
       "aggOverflow": false,
       "aggSchema": [],
       "aggSeriesLimitReached": false,
       "aggType": "",
       "arguments": {},
       "columnCustomDisplayInfos": {},
       "data": [
        [
         "Sachin-IND",
         18694,
         "93/49"
        ],
        [
         "Ricky-AUS",
         11274,
         "66/31"
        ],
        [
         "Lara-WI",
         10222,
         "45/21"
        ],
        [
         "Rahul-IND",
         10355,
         "95/11"
        ],
        [
         "Jhonty-SA",
         7051,
         "43/5"
        ],
        [
         "Hayden-AUS",
         8722,
         "67/19"
        ]
       ],
       "datasetInfos": [],
       "dbfsResultPath": null,
       "isJsonSchema": true,
       "metadata": {},
       "overflow": false,
       "plotOptions": {
        "customPlotOptions": {},
        "displayType": "table",
        "pivotAggregation": null,
        "pivotColumns": null,
        "xColumns": null,
        "yColumns": null
       },
       "removedWidgets": [],
       "schema": [
        {
         "metadata": "{}",
         "name": "player",
         "type": "\"string\""
        },
        {
         "metadata": "{}",
         "name": "runs",
         "type": "\"integer\""
        },
        {
         "metadata": "{}",
         "name": "50s/100s",
         "type": "\"string\""
        }
       ],
       "type": "table"
      }
     },
     "output_type": "display_data"
    },
    {
     "output_type": "display_data",
     "data": {
      "text/html": [
       "<style scoped>\n",
       "  .table-result-container {\n",
       "    max-height: 300px;\n",
       "    overflow: auto;\n",
       "  }\n",
       "  table, th, td {\n",
       "    border: 1px solid black;\n",
       "    border-collapse: collapse;\n",
       "  }\n",
       "  th, td {\n",
       "    padding: 5px;\n",
       "  }\n",
       "  th {\n",
       "    text-align: left;\n",
       "  }\n",
       "</style><div class='table-result-container'><table class='table-result'><thead style='background-color: white'><tr><th>SRT</th><th>country</th></tr></thead><tbody><tr><td>IND</td><td>India</td></tr><tr><td>AUS</td><td>Australia</td></tr><tr><td>WI</td><td>WestIndies</td></tr><tr><td>SA</td><td>SouthAfrica</td></tr></tbody></table></div>"
      ]
     },
     "metadata": {
      "application/vnd.databricks.v1+output": {
       "addedWidgets": {},
       "aggData": [],
       "aggError": "",
       "aggOverflow": false,
       "aggSchema": [],
       "aggSeriesLimitReached": false,
       "aggType": "",
       "arguments": {},
       "columnCustomDisplayInfos": {},
       "data": [
        [
         "IND",
         "India"
        ],
        [
         "AUS",
         "Australia"
        ],
        [
         "WI",
         "WestIndies"
        ],
        [
         "SA",
         "SouthAfrica"
        ]
       ],
       "datasetInfos": [],
       "dbfsResultPath": null,
       "isJsonSchema": true,
       "metadata": {},
       "overflow": false,
       "plotOptions": {
        "customPlotOptions": {},
        "displayType": "table",
        "pivotAggregation": null,
        "pivotColumns": null,
        "xColumns": null,
        "yColumns": null
       },
       "removedWidgets": [],
       "schema": [
        {
         "metadata": "{}",
         "name": "SRT",
         "type": "\"string\""
        },
        {
         "metadata": "{}",
         "name": "country",
         "type": "\"string\""
        }
       ],
       "type": "table"
      }
     },
     "output_type": "display_data"
    }
   ],
   "source": [
    "from pyspark.sql import SparkSession\n",
    "from pyspark.sql.types import StructType, StructField, StringType, IntegerType\n",
    "\n",
    "# Initialize Spark session\n",
    "spark = SparkSession.builder.appName(\"CricketData\").getOrCreate()\n",
    "\n",
    "# Define schema for players_df\n",
    "schema = StructType([\n",
    "    StructField(\"player\", StringType(), True),\n",
    "    StructField(\"runs\", IntegerType(), True),\n",
    "    StructField(\"50s/100s\", StringType(), True)\n",
    "])\n",
    "\n",
    "# Create players_df DataFrame\n",
    "data = [\n",
    "    (\"Sachin-IND\", 18694, \"93/49\"),\n",
    "    (\"Ricky-AUS\", 11274, \"66/31\"),\n",
    "    (\"Lara-WI\", 10222, \"45/21\"),\n",
    "    (\"Rahul-IND\", 10355, \"95/11\"),\n",
    "    (\"Jhonty-SA\", 7051, \"43/5\"),\n",
    "    (\"Hayden-AUS\", 8722, \"67/19\")\n",
    "]\n",
    "players_df = spark.createDataFrame(data, schema)\n",
    "\n",
    "# Create countries_df DataFrame\n",
    "data1 = [(\"IND\", \"India\"), (\"AUS\", \"Australia\"), (\"WI\", \"WestIndies\"), (\"SA\", \"SouthAfrica\")]\n",
    "countries_df = spark.createDataFrame(data1, [\"SRT\", \"country\"])\n",
    "\n",
    "# Show the DataFrames\n",
    "players_df.display()\n",
    "countries_df.display()\n"
   ]
  },
  {
   "cell_type": "code",
   "execution_count": 0,
   "metadata": {
    "application/vnd.databricks.v1+cell": {
     "cellMetadata": {
      "byteLimit": 2048000,
      "rowLimit": 10000
     },
     "inputWidgets": {},
     "nuid": "d7a76511-040d-43c9-bb2f-e9cae03c70df",
     "showTitle": false,
     "title": ""
    }
   },
   "outputs": [],
   "source": [
    "players_df.createOrReplaceTempView('players')\n",
    "countries_df.createOrReplaceTempView('country')"
   ]
  },
  {
   "cell_type": "code",
   "execution_count": 0,
   "metadata": {
    "application/vnd.databricks.v1+cell": {
     "cellMetadata": {
      "byteLimit": 2048000,
      "rowLimit": 10000
     },
     "inputWidgets": {},
     "nuid": "1a668993-ed0c-4686-83f7-82d65ecc6291",
     "showTitle": false,
     "title": ""
    }
   },
   "outputs": [
    {
     "output_type": "display_data",
     "data": {
      "text/html": [
       "<style scoped>\n",
       "  .table-result-container {\n",
       "    max-height: 300px;\n",
       "    overflow: auto;\n",
       "  }\n",
       "  table, th, td {\n",
       "    border: 1px solid black;\n",
       "    border-collapse: collapse;\n",
       "  }\n",
       "  th, td {\n",
       "    padding: 5px;\n",
       "  }\n",
       "  th {\n",
       "    text-align: left;\n",
       "  }\n",
       "</style><div class='table-result-container'><table class='table-result'><thead style='background-color: white'><tr><th>playername</th><th>country</th><th>runs</th><th>sum</th></tr></thead><tbody><tr><td>Ricky</td><td>Australia</td><td>11274</td><td>97</td></tr><tr><td>Sachin</td><td>India</td><td>18694</td><td>142</td></tr><tr><td>Rahul</td><td>India</td><td>10355</td><td>106</td></tr></tbody></table></div>"
      ]
     },
     "metadata": {
      "application/vnd.databricks.v1+output": {
       "addedWidgets": {},
       "aggData": [],
       "aggError": "",
       "aggOverflow": false,
       "aggSchema": [],
       "aggSeriesLimitReached": false,
       "aggType": "",
       "arguments": {},
       "columnCustomDisplayInfos": {},
       "data": [
        [
         "Ricky",
         "Australia",
         11274,
         97
        ],
        [
         "Sachin",
         "India",
         18694,
         142
        ],
        [
         "Rahul",
         "India",
         10355,
         106
        ]
       ],
       "datasetInfos": [],
       "dbfsResultPath": null,
       "isJsonSchema": true,
       "metadata": {},
       "overflow": false,
       "plotOptions": {
        "customPlotOptions": {},
        "displayType": "table",
        "pivotAggregation": null,
        "pivotColumns": null,
        "xColumns": null,
        "yColumns": null
       },
       "removedWidgets": [],
       "schema": [
        {
         "metadata": "{}",
         "name": "playername",
         "type": "\"string\""
        },
        {
         "metadata": "{}",
         "name": "country",
         "type": "\"string\""
        },
        {
         "metadata": "{}",
         "name": "runs",
         "type": "\"integer\""
        },
        {
         "metadata": "{}",
         "name": "sum",
         "type": "\"integer\""
        }
       ],
       "type": "table"
      }
     },
     "output_type": "display_data"
    }
   ],
   "source": [
    "# Execute the Spark SQL query\n",
    "result_df = spark.sql(\"\"\"\n",
    "    WITH player AS (\n",
    "        SELECT \n",
    "            player,\n",
    "            runs,\n",
    "            SPLIT(player, '-')[0] AS player_name,\n",
    "            SPLIT(player, '-')[1] AS SRT,\n",
    "            SPLIT(`50s/100s`, '/')[0] AS runs_50s,\n",
    "            SPLIT(`50s/100s`, '/')[1] AS runs_100s\n",
    "        FROM players\n",
    "    )\n",
    "    SELECT \n",
    "        p.player_name AS playername,\n",
    "        c.country,\n",
    "        p.runs,\n",
    "        CAST(p.runs_50s AS INT) + CAST(p.runs_100s AS INT) AS sum\n",
    "    FROM player p\n",
    "    INNER JOIN country c \n",
    "    ON p.SRT = c.SRT\n",
    "    WHERE CAST(p.runs_50s AS INT) + CAST(p.runs_100s AS INT) > 90\n",
    "    ORDER BY c.country\n",
    "\"\"\")\n",
    "\n",
    "# Show the result\n",
    "result_df.display()"
   ]
  },
  {
   "cell_type": "code",
   "execution_count": 0,
   "metadata": {
    "application/vnd.databricks.v1+cell": {
     "cellMetadata": {
      "byteLimit": 2048000,
      "rowLimit": 10000
     },
     "inputWidgets": {},
     "nuid": "fa73e228-f813-4cb5-bb86-2a81e6154538",
     "showTitle": false,
     "title": ""
    }
   },
   "outputs": [
    {
     "output_type": "display_data",
     "data": {
      "text/html": [
       "<style scoped>\n",
       "  .table-result-container {\n",
       "    max-height: 300px;\n",
       "    overflow: auto;\n",
       "  }\n",
       "  table, th, td {\n",
       "    border: 1px solid black;\n",
       "    border-collapse: collapse;\n",
       "  }\n",
       "  th, td {\n",
       "    padding: 5px;\n",
       "  }\n",
       "  th {\n",
       "    text-align: left;\n",
       "  }\n",
       "</style><div class='table-result-container'><table class='table-result'><thead style='background-color: white'><tr><th>playername</th><th>country</th><th>runs</th><th>sum</th></tr></thead><tbody><tr><td>Ricky</td><td>Australia</td><td>11274</td><td>97</td></tr><tr><td>Sachin</td><td>India</td><td>18694</td><td>142</td></tr><tr><td>Rahul</td><td>India</td><td>10355</td><td>106</td></tr></tbody></table></div>"
      ]
     },
     "metadata": {
      "application/vnd.databricks.v1+output": {
       "addedWidgets": {},
       "aggData": [],
       "aggError": "",
       "aggOverflow": false,
       "aggSchema": [],
       "aggSeriesLimitReached": false,
       "aggType": "",
       "arguments": {},
       "columnCustomDisplayInfos": {},
       "data": [
        [
         "Ricky",
         "Australia",
         11274,
         97
        ],
        [
         "Sachin",
         "India",
         18694,
         142
        ],
        [
         "Rahul",
         "India",
         10355,
         106
        ]
       ],
       "datasetInfos": [],
       "dbfsResultPath": null,
       "isJsonSchema": true,
       "metadata": {},
       "overflow": false,
       "plotOptions": {
        "customPlotOptions": {},
        "displayType": "table",
        "pivotAggregation": null,
        "pivotColumns": null,
        "xColumns": null,
        "yColumns": null
       },
       "removedWidgets": [],
       "schema": [
        {
         "metadata": "{}",
         "name": "playername",
         "type": "\"string\""
        },
        {
         "metadata": "{}",
         "name": "country",
         "type": "\"string\""
        },
        {
         "metadata": "{}",
         "name": "runs",
         "type": "\"integer\""
        },
        {
         "metadata": "{}",
         "name": "sum",
         "type": "\"integer\""
        }
       ],
       "type": "table"
      }
     },
     "output_type": "display_data"
    }
   ],
   "source": [
    "from pyspark.sql.functions import col, expr, split\n",
    "\n",
    "# Split the player column into player_name and SRT using the '-' delimiter\n",
    "players_transformed_df = players_df.withColumn(\n",
    "    \"player_name\", split(col(\"player\"), \"-\").getItem(0)\n",
    ").withColumn(\"SRT\", split(col(\"player\"), \"-\").getItem(1))\n",
    "\n",
    "# Split the 50s/100s column into runs_50s and runs_100s using the '/' delimiter\n",
    "players_transformed_df = (\n",
    "    players_transformed_df.withColumn(\n",
    "        \"runs_50s\", split(col(\"50s/100s\"), \"/\").getItem(0).cast(\"int\")\n",
    "    )\n",
    "    .withColumn(\"runs_100s\", split(col(\"50s/100s\"), \"/\").getItem(1).cast(\"int\"))\n",
    "    .withColumn(\"total_50s_100s\", col(\"runs_50s\") + col(\"runs_100s\"))\n",
    ")\n",
    "\n",
    "# Join with countries_df on SRT\n",
    "result_df = (\n",
    "    players_transformed_df.join(\n",
    "        countries_df, players_transformed_df[\"SRT\"] == countries_df[\"SRT\"]\n",
    "    )\n",
    "    .select(\n",
    "        col(\"player_name\").alias(\"playername\"),\n",
    "        col(\"country\"),\n",
    "        col(\"runs\"),\n",
    "        col(\"total_50s_100s\").alias(\"sum\"),\n",
    "    )\n",
    "    .where(col(\"total_50s_100s\") > 90)\n",
    "    .orderBy(\"country\")\n",
    ")\n",
    "\n",
    "# Show the result\n",
    "result_df.display()"
   ]
  },
  {
   "cell_type": "markdown",
   "metadata": {
    "application/vnd.databricks.v1+cell": {
     "cellMetadata": {},
     "inputWidgets": {},
     "nuid": "e53c45ea-4465-4f08-b32e-72fdf9bf64bd",
     "showTitle": false,
     "title": ""
    }
   },
   "source": [
    "Explanation of Changes:\n",
    "\n",
    "Splitting Columns: Instead of trying to use substring, we use the split() function in PySpark to split the player and 50s/100s columns into separate parts.\n",
    "\n",
    "split(col(\"player\"), \"-\").getItem(0): Extracts the part of the string before the hyphen (player name).\n",
    "split(col(\"player\"), \"-\").getItem(1): Extracts the part of the string after the hyphen (country code).\n",
    "Similarly, split(col(\"50s/100s\"), \"/\").getItem(0) and split(col(\"50s/100s\"), \"/\").getItem(1) are used to extract the number of 50s and 100s, and they are cast to int.\n",
    "Column Operations: Operations like adding columns are done using the standard PySpark column functions, which are designed to work on DataFrame columns.\n",
    "\n",
    "This approach avoids the \"Column is not iterable\" error and produces the correct output."
   ]
  }
 ],
 "metadata": {
  "application/vnd.databricks.v1+notebook": {
   "dashboards": [],
   "environmentMetadata": null,
   "language": "python",
   "notebookMetadata": {
    "mostRecentlyExecutedCommandWithImplicitDF": {
     "commandId": 2081748710083825,
     "dataframes": [
      "_sqldf"
     ]
    },
    "pythonIndentUnit": 4
   },
   "notebookName": "ITC Pyspark Interview Question",
   "widgets": {}
  }
 },
 "nbformat": 4,
 "nbformat_minor": 0
}
