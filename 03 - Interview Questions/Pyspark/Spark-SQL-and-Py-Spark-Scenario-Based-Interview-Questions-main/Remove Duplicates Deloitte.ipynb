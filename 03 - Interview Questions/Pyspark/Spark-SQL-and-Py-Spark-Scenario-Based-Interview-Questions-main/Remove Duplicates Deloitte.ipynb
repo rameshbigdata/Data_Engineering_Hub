{
 "cells": [
  {
   "cell_type": "code",
   "execution_count": 0,
   "metadata": {
    "application/vnd.databricks.v1+cell": {
     "cellMetadata": {
      "byteLimit": 2048000,
      "rowLimit": 10000
     },
     "inputWidgets": {},
     "nuid": "b98b0418-50d0-4dc0-8b27-1acc4b301a83",
     "showTitle": false,
     "title": ""
    }
   },
   "outputs": [
    {
     "output_type": "display_data",
     "data": {
      "text/html": [
       "<style scoped>\n",
       "  .table-result-container {\n",
       "    max-height: 300px;\n",
       "    overflow: auto;\n",
       "  }\n",
       "  table, th, td {\n",
       "    border: 1px solid black;\n",
       "    border-collapse: collapse;\n",
       "  }\n",
       "  th, td {\n",
       "    padding: 5px;\n",
       "  }\n",
       "  th {\n",
       "    text-align: left;\n",
       "  }\n",
       "</style><div class='table-result-container'><table class='table-result'><thead style='background-color: white'><tr><th>id</th><th>name</th><th>color</th><th>brand</th></tr></thead><tbody><tr><td>1</td><td>leaf</td><td>black</td><td>nissan</td></tr><tr><td>2</td><td>leaf</td><td>black</td><td>nissan</td></tr><tr><td>3</td><td>model S</td><td>black</td><td>tesla</td></tr><tr><td>4</td><td>model X</td><td>white</td><td>tesla</td></tr><tr><td>5</td><td>ioniq 5</td><td>black</td><td>hyundai</td></tr><tr><td>6</td><td>ioniq 5</td><td>black</td><td>hyundai</td></tr><tr><td>7</td><td>ioniq 6</td><td>white</td><td>hyundai</td></tr></tbody></table></div>"
      ]
     },
     "metadata": {
      "application/vnd.databricks.v1+output": {
       "addedWidgets": {},
       "aggData": [],
       "aggError": "",
       "aggOverflow": false,
       "aggSchema": [],
       "aggSeriesLimitReached": false,
       "aggType": "",
       "arguments": {},
       "columnCustomDisplayInfos": {},
       "data": [
        [
         1,
         "leaf",
         "black",
         "nissan"
        ],
        [
         2,
         "leaf",
         "black",
         "nissan"
        ],
        [
         3,
         "model S",
         "black",
         "tesla"
        ],
        [
         4,
         "model X",
         "white",
         "tesla"
        ],
        [
         5,
         "ioniq 5",
         "black",
         "hyundai"
        ],
        [
         6,
         "ioniq 5",
         "black",
         "hyundai"
        ],
        [
         7,
         "ioniq 6",
         "white",
         "hyundai"
        ]
       ],
       "datasetInfos": [],
       "dbfsResultPath": null,
       "isJsonSchema": true,
       "metadata": {},
       "overflow": false,
       "plotOptions": {
        "customPlotOptions": {},
        "displayType": "table",
        "pivotAggregation": null,
        "pivotColumns": null,
        "xColumns": null,
        "yColumns": null
       },
       "removedWidgets": [],
       "schema": [
        {
         "metadata": "{}",
         "name": "id",
         "type": "\"long\""
        },
        {
         "metadata": "{}",
         "name": "name",
         "type": "\"string\""
        },
        {
         "metadata": "{}",
         "name": "color",
         "type": "\"string\""
        },
        {
         "metadata": "{}",
         "name": "brand",
         "type": "\"string\""
        }
       ],
       "type": "table"
      }
     },
     "output_type": "display_data"
    }
   ],
   "source": [
    "from pyspark.sql import SparkSession\n",
    "\n",
    "# Initialize Spark session\n",
    "spark = SparkSession.builder.appName(\"RemoveDuplicates\").getOrCreate()\n",
    "\n",
    "# Sample data\n",
    "data = [\n",
    "    (1, 'leaf', 'black', 'nissan'),\n",
    "    (2, 'leaf', 'black', 'nissan'),\n",
    "    (3, 'model S', 'black', 'tesla'),\n",
    "    (4, 'model X', 'white', 'tesla'),\n",
    "    (5, 'ioniq 5', 'black', 'hyundai'),\n",
    "    (6, 'ioniq 5', 'black', 'hyundai'),\n",
    "    (7, 'ioniq 6', 'white', 'hyundai')\n",
    "]\n",
    "\n",
    "# Define schema\n",
    "columns = [\"id\", \"name\", \"color\", \"brand\"]\n",
    "\n",
    "# Create DataFrame\n",
    "df = spark.createDataFrame(data, columns)\n",
    "df.display()\n"
   ]
  },
  {
   "cell_type": "code",
   "execution_count": 0,
   "metadata": {
    "application/vnd.databricks.v1+cell": {
     "cellMetadata": {
      "byteLimit": 2048000,
      "rowLimit": 10000
     },
     "inputWidgets": {},
     "nuid": "f414e13b-54d9-43d5-a0f1-6a014ff76f29",
     "showTitle": false,
     "title": ""
    }
   },
   "outputs": [
    {
     "output_type": "display_data",
     "data": {
      "text/html": [
       "<style scoped>\n",
       "  .table-result-container {\n",
       "    max-height: 300px;\n",
       "    overflow: auto;\n",
       "  }\n",
       "  table, th, td {\n",
       "    border: 1px solid black;\n",
       "    border-collapse: collapse;\n",
       "  }\n",
       "  th, td {\n",
       "    padding: 5px;\n",
       "  }\n",
       "  th {\n",
       "    text-align: left;\n",
       "  }\n",
       "</style><div class='table-result-container'><table class='table-result'><thead style='background-color: white'><tr><th>id</th><th>name</th><th>color</th><th>brand</th></tr></thead><tbody><tr><td>1</td><td>leaf</td><td>black</td><td>nissan</td></tr><tr><td>3</td><td>model S</td><td>black</td><td>tesla</td></tr><tr><td>4</td><td>model X</td><td>white</td><td>tesla</td></tr><tr><td>5</td><td>ioniq 5</td><td>black</td><td>hyundai</td></tr><tr><td>7</td><td>ioniq 6</td><td>white</td><td>hyundai</td></tr></tbody></table></div>"
      ]
     },
     "metadata": {
      "application/vnd.databricks.v1+output": {
       "addedWidgets": {},
       "aggData": [],
       "aggError": "",
       "aggOverflow": false,
       "aggSchema": [],
       "aggSeriesLimitReached": false,
       "aggType": "",
       "arguments": {},
       "columnCustomDisplayInfos": {},
       "data": [
        [
         1,
         "leaf",
         "black",
         "nissan"
        ],
        [
         3,
         "model S",
         "black",
         "tesla"
        ],
        [
         4,
         "model X",
         "white",
         "tesla"
        ],
        [
         5,
         "ioniq 5",
         "black",
         "hyundai"
        ],
        [
         7,
         "ioniq 6",
         "white",
         "hyundai"
        ]
       ],
       "datasetInfos": [],
       "dbfsResultPath": null,
       "isJsonSchema": true,
       "metadata": {},
       "overflow": false,
       "plotOptions": {
        "customPlotOptions": {},
        "displayType": "table",
        "pivotAggregation": null,
        "pivotColumns": null,
        "xColumns": null,
        "yColumns": null
       },
       "removedWidgets": [],
       "schema": [
        {
         "metadata": "{}",
         "name": "id",
         "type": "\"long\""
        },
        {
         "metadata": "{}",
         "name": "name",
         "type": "\"string\""
        },
        {
         "metadata": "{}",
         "name": "color",
         "type": "\"string\""
        },
        {
         "metadata": "{}",
         "name": "brand",
         "type": "\"string\""
        }
       ],
       "type": "table"
      }
     },
     "output_type": "display_data"
    }
   ],
   "source": [
    "# Remove duplicates based on specific columns\n",
    "df_unique = df.dropDuplicates([\"name\", \"color\", \"brand\"])\n",
    "df_unique.display()\n"
   ]
  },
  {
   "cell_type": "code",
   "execution_count": 0,
   "metadata": {
    "application/vnd.databricks.v1+cell": {
     "cellMetadata": {
      "byteLimit": 2048000,
      "rowLimit": 10000
     },
     "inputWidgets": {},
     "nuid": "597d49e6-afd1-45d8-914a-ef24039e4ce5",
     "showTitle": false,
     "title": ""
    }
   },
   "outputs": [],
   "source": [
    "df.createOrReplaceTempView('cars')"
   ]
  },
  {
   "cell_type": "code",
   "execution_count": 0,
   "metadata": {
    "application/vnd.databricks.v1+cell": {
     "cellMetadata": {
      "byteLimit": 2048000,
      "implicitDf": true,
      "rowLimit": 10000
     },
     "inputWidgets": {},
     "nuid": "1ee6f961-3d5d-40fe-bb45-d1daa7658124",
     "showTitle": false,
     "title": ""
    }
   },
   "outputs": [
    {
     "output_type": "display_data",
     "data": {
      "text/html": [
       "<style scoped>\n",
       "  .table-result-container {\n",
       "    max-height: 300px;\n",
       "    overflow: auto;\n",
       "  }\n",
       "  table, th, td {\n",
       "    border: 1px solid black;\n",
       "    border-collapse: collapse;\n",
       "  }\n",
       "  th, td {\n",
       "    padding: 5px;\n",
       "  }\n",
       "  th {\n",
       "    text-align: left;\n",
       "  }\n",
       "</style><div class='table-result-container'><table class='table-result'><thead style='background-color: white'><tr><th>id</th><th>name</th><th>color</th><th>brand</th></tr></thead><tbody><tr><td>5</td><td>ioniq 5</td><td>black</td><td>hyundai</td></tr><tr><td>7</td><td>ioniq 6</td><td>white</td><td>hyundai</td></tr><tr><td>1</td><td>leaf</td><td>black</td><td>nissan</td></tr><tr><td>3</td><td>model S</td><td>black</td><td>tesla</td></tr><tr><td>4</td><td>model X</td><td>white</td><td>tesla</td></tr></tbody></table></div>"
      ]
     },
     "metadata": {
      "application/vnd.databricks.v1+output": {
       "addedWidgets": {},
       "aggData": [],
       "aggError": "",
       "aggOverflow": false,
       "aggSchema": [],
       "aggSeriesLimitReached": false,
       "aggType": "",
       "arguments": {},
       "columnCustomDisplayInfos": {},
       "data": [
        [
         5,
         "ioniq 5",
         "black",
         "hyundai"
        ],
        [
         7,
         "ioniq 6",
         "white",
         "hyundai"
        ],
        [
         1,
         "leaf",
         "black",
         "nissan"
        ],
        [
         3,
         "model S",
         "black",
         "tesla"
        ],
        [
         4,
         "model X",
         "white",
         "tesla"
        ]
       ],
       "datasetInfos": [],
       "dbfsResultPath": null,
       "isJsonSchema": true,
       "metadata": {},
       "overflow": false,
       "plotOptions": {
        "customPlotOptions": {},
        "displayType": "table",
        "pivotAggregation": null,
        "pivotColumns": null,
        "xColumns": null,
        "yColumns": null
       },
       "removedWidgets": [],
       "schema": [
        {
         "metadata": "{}",
         "name": "id",
         "type": "\"long\""
        },
        {
         "metadata": "{}",
         "name": "name",
         "type": "\"string\""
        },
        {
         "metadata": "{}",
         "name": "color",
         "type": "\"string\""
        },
        {
         "metadata": "{}",
         "name": "brand",
         "type": "\"string\""
        }
       ],
       "type": "table"
      }
     },
     "output_type": "display_data"
    }
   ],
   "source": [
    "# SQL query to remove duplicates\n",
    "query = \"\"\"\n",
    "WITH CTE_Duplicates AS (\n",
    "    SELECT \n",
    "        id, \n",
    "        name, \n",
    "        color, \n",
    "        brand,\n",
    "        ROW_NUMBER() OVER (PARTITION BY name, color, brand ORDER BY id) AS rn\n",
    "    FROM cars\n",
    ")\n",
    "SELECT id, name, color, brand\n",
    "FROM CTE_Duplicates\n",
    "WHERE rn = 1\n",
    "\"\"\"\n",
    "\n",
    "# Execute the query and get the result as a DataFrame\n",
    "df_unique = spark.sql(query)\n",
    "df_unique.display()\n",
    "\n"
   ]
  }
 ],
 "metadata": {
  "application/vnd.databricks.v1+notebook": {
   "dashboards": [],
   "environmentMetadata": null,
   "language": "python",
   "notebookMetadata": {
    "mostRecentlyExecutedCommandWithImplicitDF": {
     "commandId": -1,
     "dataframes": [
      "_sqldf"
     ]
    },
    "pythonIndentUnit": 4
   },
   "notebookName": "Remove Duplicates Deloitte",
   "widgets": {}
  }
 },
 "nbformat": 4,
 "nbformat_minor": 0
}
