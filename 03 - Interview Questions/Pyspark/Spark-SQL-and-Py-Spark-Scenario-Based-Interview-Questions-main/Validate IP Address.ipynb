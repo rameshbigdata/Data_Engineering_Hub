{
 "cells": [
  {
   "cell_type": "markdown",
   "metadata": {
    "application/vnd.databricks.v1+cell": {
     "cellMetadata": {},
     "inputWidgets": {},
     "nuid": "f9db5068-4659-449d-b95b-35d765c72116",
     "showTitle": false,
     "title": ""
    }
   },
   "source": [
    "#Problem Statement\n",
    "Given a string queryIP, return \"IPv4\" if IP is a valid IPv4 address, \"IPv6\" if IP is a valid IPv6 address or \"Neither\" if IP is not a correct IP of any type."
   ]
  },
  {
   "cell_type": "markdown",
   "metadata": {
    "application/vnd.databricks.v1+cell": {
     "cellMetadata": {},
     "inputWidgets": {},
     "nuid": "e7e13275-0054-4b38-9ebb-c71f29b0d2db",
     "showTitle": false,
     "title": ""
    }
   },
   "source": [
    "Hello, Connections ✨Here's an SQL interview question that was recently solved asked in Product based company with Ankit Bansal LeetCode Python Problem | Practice Python Queries DATA Engineer INTERVIEW real time SQL interview problem...\n",
    "\n",
    "\n",
    "\n",
    "𝗟𝗲𝘃𝗲𝗹: Medium\n",
    "\n",
    "\n",
    "\n",
    "#DAY20\n",
    "\n",
    " \n",
    "\n",
    "👇 Here is the my solution with Pyspark, SPARK_SQL Learning Challenge.\n",
    "\n",
    " \n",
    "\n",
    "𝐒𝐜𝐞𝐧𝐞𝐫𝐢𝐨:\n",
    "\n",
    "𝙋𝙧𝙤𝙗𝙡𝙚𝙢 𝙨𝙩𝙖𝙩𝙚𝙢𝙚𝙣𝙩--\n",
    "\n",
    "Given a string queryIP, return \"IPv4\" if IP is a valid IPv4 address, \"IPv6\" if IP is a valid IPv6 address or \"Neither\" if IP is not a correct IP of any type.\n",
    "\n",
    "\n",
    "\n",
    "𝘾𝙧𝙚𝙖𝙩𝙚 𝙩𝙝𝙚 𝘿𝙖𝙩𝙖𝙁𝙧𝙖𝙢𝙚\n",
    "\n",
    "data = [\n",
    "\n",
    "                 (\"192.168.1.1\",), \n",
    "\n",
    "                 (\"255.255.255.255\",), \n",
    "\n",
    "                 (\"999.999.999.999\",), \n",
    "\n",
    "                 (\"abcd\",)\n",
    "\n",
    "            ]\n",
    "\n",
    "𝘿𝙚𝙛𝙞𝙣𝙚 𝙩𝙝𝙚 𝙨𝙘𝙝𝙚𝙢𝙖\n",
    "\n",
    "schema = StructType(\n",
    "\n",
    " [\n",
    "\n",
    " StructField(\"ip_address\", StringType(), True)\n",
    "\n",
    " ]\n",
    "\n",
    ")\n",
    "\n",
    "\n",
    "\n",
    "𝙀𝙭𝙥𝙚𝙘𝙩𝙚𝙙 𝙊𝙪𝙩𝙥𝙪𝙩:\n",
    "\n",
    "+---------------+--------+\n",
    "\n",
    "|   ip_address      |is_valid|\n",
    "\n",
    "+---------------+--------+\n",
    "\n",
    "|  192.168.1.1      |  Valid|\n",
    "\n",
    "|255.255.255.255|  Valid|\n",
    "\n",
    "|999.999.999.999| Invalid|\n",
    "\n",
    "|      abcd            | Invalid|\n",
    "\n",
    "+---------------+--------+\n",
    "\n",
    "\n",
    "\n",
    "\n",
    "\n",
    "Try coming up with a new approach; I've included one in the post. Please double-check it.\n",
    "\n",
    " \n",
    "\n",
    "Regards! \n",
    "\n",
    "Together, we can grow and learn. \n",
    "\n",
    "Please share this again with your network.\n",
    "\n",
    " \n",
    "\n",
    "Please do follow my LinkedIn profile: R GANESH for more update…\n",
    "\n",
    " \n",
    "\n",
    "Please check out Medium account for my blogs: \n",
    "\n",
    "https://lnkd.in/gDhRarfE \n",
    "\n",
    "\n",
    "\n",
    "Please check out my Instagram account for our latest Post: https://lnkd.in/gizfkVcy\n",
    "\n",
    "\n",
    "\n",
    "Please check out any assistance topmate.io book slot: https://lnkd.in/gJaF9Dx5\n",
    "\n",
    "\n",
    "\n",
    "Please check out my GitHub project link: https://lnkd.in/gxjKWsXj\n",
    "\n",
    "\n",
    "\n",
    "🅳🅰🆃🅰🅴🅽🅶🅸🅽🅴🅴🆁🅸🅽🅶\n",
    "\n",
    "🅳🅰🆃🅰🆂🅲🅸🅴🅽🅲🅴 \n",
    "\n",
    "🅳🅰🆃🅰🅰🅽🅰🅻🆈🆂🅸🆂 \n",
    "\n",
    "🅳🅴🅴🅿🅻🅴🅰🆁🅽🅸🅽🅶\n",
    "\n",
    "🅰🅸 "
   ]
  },
  {
   "cell_type": "markdown",
   "metadata": {
    "application/vnd.databricks.v1+cell": {
     "cellMetadata": {},
     "inputWidgets": {},
     "nuid": "98d6bdb9-acb7-4e38-8e93-596ecb6ca176",
     "showTitle": false,
     "title": ""
    }
   },
   "source": [
    "#pyspark"
   ]
  },
  {
   "cell_type": "code",
   "execution_count": 0,
   "metadata": {
    "application/vnd.databricks.v1+cell": {
     "cellMetadata": {
      "byteLimit": 2048000,
      "rowLimit": 10000
     },
     "inputWidgets": {},
     "nuid": "88540e45-395d-4f7f-94a6-a546c50c3170",
     "showTitle": false,
     "title": ""
    }
   },
   "outputs": [
    {
     "output_type": "stream",
     "name": "stdout",
     "output_type": "stream",
     "text": [
      "+---------------+--------+\n|     ip_address|is_valid|\n+---------------+--------+\n|    192.168.1.1|   Valid|\n|255.255.255.255|   Valid|\n|999.999.999.999| Invalid|\n|           abcd| Invalid|\n+---------------+--------+\n\n"
     ]
    }
   ],
   "source": [
    "from pyspark.sql import SparkSession\n",
    "from pyspark.sql.functions import udf\n",
    "from pyspark.sql.types import StringType\n",
    "\n",
    "# Initialize Spark session\n",
    "spark = SparkSession.builder.appName(\"IPValidation\").getOrCreate()\n",
    "\n",
    "# Sample data\n",
    "data = [(\"192.168.1.1\",), (\"255.255.255.255\",), (\"999.999.999.999\",), (\"abcd\",)]\n",
    "columns = [\"ip_address\"]\n",
    "\n",
    "# Create DataFrame\n",
    "df = spark.createDataFrame(data, columns)\n",
    "\n",
    "# Function to validate IP address\n",
    "def is_valid_ip(ip):\n",
    "    parts = ip.split(\".\")\n",
    "    if len(parts) != 4:\n",
    "        return \"Invalid\"\n",
    "    for part in parts:\n",
    "        if not part.isdigit():\n",
    "            return \"Invalid\"\n",
    "        num = int(part)\n",
    "        if num < 0 or num > 255:\n",
    "            return \"Invalid\"\n",
    "    return \"Valid\"\n",
    "\n",
    "\n",
    "# Register UDF\n",
    "is_valid_ip_udf = udf(is_valid_ip, StringType())\n",
    "\n",
    "# Apply UDF\n",
    "df = df.withColumn(\"is_valid\", is_valid_ip_udf(df[\"ip_address\"]))\n",
    "\n",
    "# Show result\n",
    "df.display()"
   ]
  },
  {
   "cell_type": "markdown",
   "metadata": {
    "application/vnd.databricks.v1+cell": {
     "cellMetadata": {},
     "inputWidgets": {},
     "nuid": "b7ea302b-f05e-4700-9f4f-988588e35fd0",
     "showTitle": false,
     "title": ""
    }
   },
   "source": [
    "#Spark SQL"
   ]
  },
  {
   "cell_type": "markdown",
   "metadata": {
    "application/vnd.databricks.v1+cell": {
     "cellMetadata": {},
     "inputWidgets": {},
     "nuid": "0e1ed1ec-9eaf-4c0c-8e0b-567112b79aca",
     "showTitle": false,
     "title": ""
    }
   },
   "source": [
    "#Create temp view"
   ]
  },
  {
   "cell_type": "code",
   "execution_count": 0,
   "metadata": {
    "application/vnd.databricks.v1+cell": {
     "cellMetadata": {
      "byteLimit": 2048000,
      "rowLimit": 10000
     },
     "inputWidgets": {},
     "nuid": "9b9a10cb-7ead-40c7-9a91-71f2d951fd2a",
     "showTitle": false,
     "title": ""
    }
   },
   "outputs": [],
   "source": [
    "df.createOrReplaceTempView(\"ips\")"
   ]
  },
  {
   "cell_type": "code",
   "execution_count": 0,
   "metadata": {
    "application/vnd.databricks.v1+cell": {
     "cellMetadata": {
      "byteLimit": 2048000,
      "implicitDf": true,
      "rowLimit": 10000
     },
     "inputWidgets": {},
     "nuid": "091d5042-ac66-4ce3-bfc2-17182d7bc0e7",
     "showTitle": false,
     "title": ""
    }
   },
   "outputs": [
    {
     "output_type": "display_data",
     "data": {
      "text/html": [
       "<style scoped>\n",
       "  .table-result-container {\n",
       "    max-height: 300px;\n",
       "    overflow: auto;\n",
       "  }\n",
       "  table, th, td {\n",
       "    border: 1px solid black;\n",
       "    border-collapse: collapse;\n",
       "  }\n",
       "  th, td {\n",
       "    padding: 5px;\n",
       "  }\n",
       "  th {\n",
       "    text-align: left;\n",
       "  }\n",
       "</style><div class='table-result-container'><table class='table-result'><thead style='background-color: white'><tr><th>ip_address</th><th>is_valid</th></tr></thead><tbody><tr><td>192.168.1.1</td><td>true</td></tr><tr><td>255.255.255.255</td><td>true</td></tr><tr><td>999.999.999.999</td><td>false</td></tr><tr><td>abcd</td><td>false</td></tr></tbody></table></div>"
      ]
     },
     "metadata": {
      "application/vnd.databricks.v1+output": {
       "addedWidgets": {},
       "aggData": [],
       "aggError": "",
       "aggOverflow": false,
       "aggSchema": [],
       "aggSeriesLimitReached": false,
       "aggType": "",
       "arguments": {},
       "columnCustomDisplayInfos": {},
       "data": [
        [
         "192.168.1.1",
         true
        ],
        [
         "255.255.255.255",
         true
        ],
        [
         "999.999.999.999",
         false
        ],
        [
         "abcd",
         false
        ]
       ],
       "datasetInfos": [],
       "dbfsResultPath": null,
       "isJsonSchema": true,
       "metadata": {},
       "overflow": false,
       "plotOptions": {
        "customPlotOptions": {},
        "displayType": "table",
        "pivotAggregation": null,
        "pivotColumns": null,
        "xColumns": null,
        "yColumns": null
       },
       "removedWidgets": [],
       "schema": [
        {
         "metadata": "{}",
         "name": "ip_address",
         "type": "\"string\""
        },
        {
         "metadata": "{}",
         "name": "is_valid",
         "type": "\"boolean\""
        }
       ],
       "type": "table"
      }
     },
     "output_type": "display_data"
    }
   ],
   "source": [
    "%sql\n",
    "-- Query to validate IP addresses\n",
    "SELECT\n",
    "  ip_address,\n",
    "  CASE\n",
    "    WHEN size(split(ip_address, '\\\\.')) = 4\n",
    "    AND CAST(split(ip_address, '\\\\.') [0] AS INT) BETWEEN 0\n",
    "    AND 255\n",
    "    AND CAST(split(ip_address, '\\\\.') [1] AS INT) BETWEEN 0\n",
    "    AND 255\n",
    "    AND CAST(split(ip_address, '\\\\.') [2] AS INT) BETWEEN 0\n",
    "    AND 255\n",
    "    AND CAST(split(ip_address, '\\\\.') [3] AS INT) BETWEEN 0\n",
    "    AND 255 THEN true\n",
    "    ELSE false\n",
    "  END AS is_valid\n",
    "FROM\n",
    "  ips;"
   ]
  }
 ],
 "metadata": {
  "application/vnd.databricks.v1+notebook": {
   "dashboards": [],
   "environmentMetadata": null,
   "language": "python",
   "notebookMetadata": {
    "mostRecentlyExecutedCommandWithImplicitDF": {
     "commandId": 1332146549731000,
     "dataframes": [
      "_sqldf"
     ]
    },
    "pythonIndentUnit": 4
   },
   "notebookName": "Validate IP Address",
   "widgets": {}
  }
 },
 "nbformat": 4,
 "nbformat_minor": 0
}
