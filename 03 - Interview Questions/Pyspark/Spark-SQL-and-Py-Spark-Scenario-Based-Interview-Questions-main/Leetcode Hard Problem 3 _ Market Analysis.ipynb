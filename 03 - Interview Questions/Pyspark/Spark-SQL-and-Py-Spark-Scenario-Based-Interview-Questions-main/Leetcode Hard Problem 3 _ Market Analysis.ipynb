{
 "cells": [
  {
   "cell_type": "markdown",
   "metadata": {
    "application/vnd.databricks.v1+cell": {
     "cellMetadata": {},
     "inputWidgets": {},
     "nuid": "7a0ece42-98cd-459e-86d7-7b3a169a7f1a",
     "showTitle": false,
     "title": ""
    }
   },
   "source": [
    "#Problem Statement\n",
    "-- Question: Write an SQL query to find for each seller, whether the brand of the second item (by date)\n",
    "-- they sold is their favorite brand.\n",
    "-- If a seller sold less than two items, report the answer for that seller NO."
   ]
  },
  {
   "cell_type": "markdown",
   "metadata": {
    "application/vnd.databricks.v1+cell": {
     "cellMetadata": {},
     "inputWidgets": {},
     "nuid": "1920b990-04b7-4af3-a1b6-72e6cf2ca28a",
     "showTitle": false,
     "title": ""
    }
   },
   "source": [
    "###PySpark"
   ]
  },
  {
   "cell_type": "code",
   "execution_count": 0,
   "metadata": {
    "application/vnd.databricks.v1+cell": {
     "cellMetadata": {
      "byteLimit": 2048000,
      "rowLimit": 10000
     },
     "inputWidgets": {},
     "nuid": "5eb7a7d7-95d7-4c01-a3ec-553bc8a2a609",
     "showTitle": false,
     "title": ""
    }
   },
   "outputs": [],
   "source": [
    "from pyspark.sql import SparkSession\n",
    "from pyspark.sql.functions import col\n",
    "\n",
    "spark = SparkSession.builder \\\n",
    "    .appName(\"example\") \\\n",
    "    .getOrCreate()\n"
   ]
  },
  {
   "cell_type": "code",
   "execution_count": 0,
   "metadata": {
    "application/vnd.databricks.v1+cell": {
     "cellMetadata": {
      "byteLimit": 2048000,
      "rowLimit": 10000
     },
     "inputWidgets": {},
     "nuid": "8d27cd9e-f7dd-43c7-bce8-1071cfd1d53a",
     "showTitle": false,
     "title": ""
    }
   },
   "outputs": [],
   "source": [
    "from datetime import datetime\n",
    "from pyspark.sql.types import StructType, StructField, IntegerType, StringType, DateType\n",
    "\n",
    "\n",
    "def parse_date(date_str):\n",
    "    return datetime.strptime(date_str, \"%Y-%m-%d\").date()"
   ]
  },
  {
   "cell_type": "code",
   "execution_count": 0,
   "metadata": {
    "application/vnd.databricks.v1+cell": {
     "cellMetadata": {
      "byteLimit": 2048000,
      "rowLimit": 10000
     },
     "inputWidgets": {},
     "nuid": "6a08fca5-06f0-4f0b-97e7-a5c28b950eca",
     "showTitle": false,
     "title": ""
    }
   },
   "outputs": [
    {
     "output_type": "display_data",
     "data": {
      "text/html": [
       "<style scoped>\n",
       "  .table-result-container {\n",
       "    max-height: 300px;\n",
       "    overflow: auto;\n",
       "  }\n",
       "  table, th, td {\n",
       "    border: 1px solid black;\n",
       "    border-collapse: collapse;\n",
       "  }\n",
       "  th, td {\n",
       "    padding: 5px;\n",
       "  }\n",
       "  th {\n",
       "    text-align: left;\n",
       "  }\n",
       "</style><div class='table-result-container'><table class='table-result'><thead style='background-color: white'><tr><th>user_id</th><th>join_date</th><th>favorite_brand</th></tr></thead><tbody><tr><td>1</td><td>2019-01-01</td><td>Lenovo</td></tr><tr><td>2</td><td>2019-02-09</td><td>Samsung</td></tr><tr><td>3</td><td>2019-01-19</td><td>LG</td></tr><tr><td>4</td><td>2019-05-21</td><td>HP</td></tr></tbody></table></div>"
      ]
     },
     "metadata": {
      "application/vnd.databricks.v1+output": {
       "addedWidgets": {},
       "aggData": [],
       "aggError": "",
       "aggOverflow": false,
       "aggSchema": [],
       "aggSeriesLimitReached": false,
       "aggType": "",
       "arguments": {},
       "columnCustomDisplayInfos": {},
       "data": [
        [
         1,
         "2019-01-01",
         "Lenovo"
        ],
        [
         2,
         "2019-02-09",
         "Samsung"
        ],
        [
         3,
         "2019-01-19",
         "LG"
        ],
        [
         4,
         "2019-05-21",
         "HP"
        ]
       ],
       "datasetInfos": [],
       "dbfsResultPath": null,
       "isJsonSchema": true,
       "metadata": {},
       "overflow": false,
       "plotOptions": {
        "customPlotOptions": {},
        "displayType": "table",
        "pivotAggregation": null,
        "pivotColumns": null,
        "xColumns": null,
        "yColumns": null
       },
       "removedWidgets": [],
       "schema": [
        {
         "metadata": "{}",
         "name": "user_id",
         "type": "\"integer\""
        },
        {
         "metadata": "{}",
         "name": "join_date",
         "type": "\"date\""
        },
        {
         "metadata": "{}",
         "name": "favorite_brand",
         "type": "\"string\""
        }
       ],
       "type": "table"
      }
     },
     "output_type": "display_data"
    },
    {
     "output_type": "display_data",
     "data": {
      "text/html": [
       "<style scoped>\n",
       "  .table-result-container {\n",
       "    max-height: 300px;\n",
       "    overflow: auto;\n",
       "  }\n",
       "  table, th, td {\n",
       "    border: 1px solid black;\n",
       "    border-collapse: collapse;\n",
       "  }\n",
       "  th, td {\n",
       "    padding: 5px;\n",
       "  }\n",
       "  th {\n",
       "    text-align: left;\n",
       "  }\n",
       "</style><div class='table-result-container'><table class='table-result'><thead style='background-color: white'><tr><th>order_id</th><th>order_date</th><th>item_id</th><th>buyer_id</th><th>seller_id</th></tr></thead><tbody><tr><td>1</td><td>2019-08-01</td><td>4</td><td>1</td><td>2</td></tr><tr><td>2</td><td>2019-08-02</td><td>2</td><td>1</td><td>3</td></tr><tr><td>3</td><td>2019-08-03</td><td>3</td><td>2</td><td>3</td></tr><tr><td>4</td><td>2019-08-04</td><td>1</td><td>4</td><td>2</td></tr><tr><td>5</td><td>2019-08-04</td><td>1</td><td>3</td><td>4</td></tr><tr><td>6</td><td>2019-08-05</td><td>2</td><td>2</td><td>4</td></tr></tbody></table></div>"
      ]
     },
     "metadata": {
      "application/vnd.databricks.v1+output": {
       "addedWidgets": {},
       "aggData": [],
       "aggError": "",
       "aggOverflow": false,
       "aggSchema": [],
       "aggSeriesLimitReached": false,
       "aggType": "",
       "arguments": {},
       "columnCustomDisplayInfos": {},
       "data": [
        [
         1,
         "2019-08-01",
         4,
         1,
         2
        ],
        [
         2,
         "2019-08-02",
         2,
         1,
         3
        ],
        [
         3,
         "2019-08-03",
         3,
         2,
         3
        ],
        [
         4,
         "2019-08-04",
         1,
         4,
         2
        ],
        [
         5,
         "2019-08-04",
         1,
         3,
         4
        ],
        [
         6,
         "2019-08-05",
         2,
         2,
         4
        ]
       ],
       "datasetInfos": [],
       "dbfsResultPath": null,
       "isJsonSchema": true,
       "metadata": {},
       "overflow": false,
       "plotOptions": {
        "customPlotOptions": {},
        "displayType": "table",
        "pivotAggregation": null,
        "pivotColumns": null,
        "xColumns": null,
        "yColumns": null
       },
       "removedWidgets": [],
       "schema": [
        {
         "metadata": "{}",
         "name": "order_id",
         "type": "\"integer\""
        },
        {
         "metadata": "{}",
         "name": "order_date",
         "type": "\"date\""
        },
        {
         "metadata": "{}",
         "name": "item_id",
         "type": "\"integer\""
        },
        {
         "metadata": "{}",
         "name": "buyer_id",
         "type": "\"integer\""
        },
        {
         "metadata": "{}",
         "name": "seller_id",
         "type": "\"integer\""
        }
       ],
       "type": "table"
      }
     },
     "output_type": "display_data"
    },
    {
     "output_type": "display_data",
     "data": {
      "text/html": [
       "<style scoped>\n",
       "  .table-result-container {\n",
       "    max-height: 300px;\n",
       "    overflow: auto;\n",
       "  }\n",
       "  table, th, td {\n",
       "    border: 1px solid black;\n",
       "    border-collapse: collapse;\n",
       "  }\n",
       "  th, td {\n",
       "    padding: 5px;\n",
       "  }\n",
       "  th {\n",
       "    text-align: left;\n",
       "  }\n",
       "</style><div class='table-result-container'><table class='table-result'><thead style='background-color: white'><tr><th>item_id</th><th>item_brand</th></tr></thead><tbody><tr><td>1</td><td>Samsung</td></tr><tr><td>2</td><td>Lenovo</td></tr><tr><td>3</td><td>LG</td></tr><tr><td>4</td><td>HP</td></tr></tbody></table></div>"
      ]
     },
     "metadata": {
      "application/vnd.databricks.v1+output": {
       "addedWidgets": {},
       "aggData": [],
       "aggError": "",
       "aggOverflow": false,
       "aggSchema": [],
       "aggSeriesLimitReached": false,
       "aggType": "",
       "arguments": {},
       "columnCustomDisplayInfos": {},
       "data": [
        [
         1,
         "Samsung"
        ],
        [
         2,
         "Lenovo"
        ],
        [
         3,
         "LG"
        ],
        [
         4,
         "HP"
        ]
       ],
       "datasetInfos": [],
       "dbfsResultPath": null,
       "isJsonSchema": true,
       "metadata": {},
       "overflow": false,
       "plotOptions": {
        "customPlotOptions": {},
        "displayType": "table",
        "pivotAggregation": null,
        "pivotColumns": null,
        "xColumns": null,
        "yColumns": null
       },
       "removedWidgets": [],
       "schema": [
        {
         "metadata": "{}",
         "name": "item_id",
         "type": "\"integer\""
        },
        {
         "metadata": "{}",
         "name": "item_brand",
         "type": "\"string\""
        }
       ],
       "type": "table"
      }
     },
     "output_type": "display_data"
    }
   ],
   "source": [
    "# Define schema for users table\n",
    "users_schema = StructType(\n",
    "    [\n",
    "        StructField(\"user_id\", IntegerType(), True),\n",
    "        StructField(\"join_date\", DateType(), True),\n",
    "        StructField(\"favorite_brand\", StringType(), True),\n",
    "    ]\n",
    ")\n",
    "\n",
    "users_data = [\n",
    "    (1, parse_date(\"2019-01-01\"), \"Lenovo\"),\n",
    "    (2, parse_date(\"2019-02-09\"), \"Samsung\"),\n",
    "    (3, parse_date(\"2019-01-19\"), \"LG\"),\n",
    "    (4, parse_date(\"2019-05-21\"), \"HP\"),\n",
    "]\n",
    "\n",
    "users_df = spark.createDataFrame(users_data, schema=users_schema)\n",
    "users_df.display()\n",
    "\n",
    "# Define schema for orders table\n",
    "orders_schema = StructType(\n",
    "    [\n",
    "        StructField(\"order_id\", IntegerType(), True),\n",
    "        StructField(\"order_date\", DateType(), True),\n",
    "        StructField(\"item_id\", IntegerType(), True),\n",
    "        StructField(\"buyer_id\", IntegerType(), True),\n",
    "        StructField(\"seller_id\", IntegerType(), True),\n",
    "    ]\n",
    ")\n",
    "\n",
    "orders_data = [\n",
    "    (1, parse_date(\"2019-08-01\"), 4, 1, 2),\n",
    "    (2, parse_date(\"2019-08-02\"), 2, 1, 3),\n",
    "    (3, parse_date(\"2019-08-03\"), 3, 2, 3),\n",
    "    (4, parse_date(\"2019-08-04\"), 1, 4, 2),\n",
    "    (5, parse_date(\"2019-08-04\"), 1, 3, 4),\n",
    "    (6, parse_date(\"2019-08-05\"), 2, 2, 4),\n",
    "]\n",
    "\n",
    "orders_df = spark.createDataFrame(orders_data, schema=orders_schema)\n",
    "orders_df.display()\n",
    "\n",
    "# Define schema for items table\n",
    "items_schema = StructType(\n",
    "    [\n",
    "        StructField(\"item_id\", IntegerType(), True),\n",
    "        StructField(\"item_brand\", StringType(), True),\n",
    "    ]\n",
    ")\n",
    "\n",
    "items_data = [(1, \"Samsung\"), (2, \"Lenovo\"), (3, \"LG\"), (4, \"HP\")]\n",
    "\n",
    "items_df = spark.createDataFrame(items_data, schema=items_schema)\n",
    "items_df.display()"
   ]
  },
  {
   "cell_type": "code",
   "execution_count": 0,
   "metadata": {
    "application/vnd.databricks.v1+cell": {
     "cellMetadata": {
      "byteLimit": 2048000,
      "rowLimit": 10000
     },
     "inputWidgets": {},
     "nuid": "0d191c2a-0f66-4233-9670-596ae6348789",
     "showTitle": false,
     "title": ""
    }
   },
   "outputs": [
    {
     "output_type": "display_data",
     "data": {
      "text/html": [
       "<style scoped>\n",
       "  .table-result-container {\n",
       "    max-height: 300px;\n",
       "    overflow: auto;\n",
       "  }\n",
       "  table, th, td {\n",
       "    border: 1px solid black;\n",
       "    border-collapse: collapse;\n",
       "  }\n",
       "  th, td {\n",
       "    padding: 5px;\n",
       "  }\n",
       "  th {\n",
       "    text-align: left;\n",
       "  }\n",
       "</style><div class='table-result-container'><table class='table-result'><thead style='background-color: white'><tr><th>user_id</th><th>status</th></tr></thead><tbody><tr><td>1</td><td>No</td></tr><tr><td>2</td><td>Yes</td></tr><tr><td>3</td><td>Yes</td></tr><tr><td>4</td><td>No</td></tr></tbody></table></div>"
      ]
     },
     "metadata": {
      "application/vnd.databricks.v1+output": {
       "addedWidgets": {},
       "aggData": [],
       "aggError": "",
       "aggOverflow": false,
       "aggSchema": [],
       "aggSeriesLimitReached": false,
       "aggType": "",
       "arguments": {},
       "columnCustomDisplayInfos": {},
       "data": [
        [
         1,
         "No"
        ],
        [
         2,
         "Yes"
        ],
        [
         3,
         "Yes"
        ],
        [
         4,
         "No"
        ]
       ],
       "datasetInfos": [],
       "dbfsResultPath": null,
       "isJsonSchema": true,
       "metadata": {},
       "overflow": false,
       "plotOptions": {
        "customPlotOptions": {},
        "displayType": "table",
        "pivotAggregation": null,
        "pivotColumns": null,
        "xColumns": null,
        "yColumns": null
       },
       "removedWidgets": [],
       "schema": [
        {
         "metadata": "{}",
         "name": "user_id",
         "type": "\"integer\""
        },
        {
         "metadata": "{}",
         "name": "status",
         "type": "\"string\""
        }
       ],
       "type": "table"
      }
     },
     "output_type": "display_data"
    }
   ],
   "source": [
    "# Join the DataFrames\n",
    "from pyspark.sql.functions import col, row_number, count, when\n",
    "from pyspark.sql.window import Window\n",
    "\n",
    "joined_df = (\n",
    "    users_df.alias(\"u\")\n",
    "    .join(orders_df.alias(\"o\"), col(\"o.seller_id\") == col(\"u.user_id\"), \"left\")\n",
    "    .join(items_df.alias(\"i\"), col(\"i.item_id\") == col(\"o.item_id\"), \"left\")\n",
    ")\n",
    "\n",
    "# Define the window specifications\n",
    "window_spec_user = Window.partitionBy(\"u.user_id\").orderBy(\"o.order_date\")\n",
    "window_spec_seller = Window.partitionBy(\"o.seller_id\")\n",
    "\n",
    "# Add row number and total items sales columns\n",
    "cte_df = joined_df.select(\n",
    "    col(\"u.user_id\"),\n",
    "    col(\"u.favorite_brand\"),\n",
    "    row_number().over(window_spec_user).alias(\"rn\"),\n",
    "    col(\"i.item_brand\"),\n",
    "    count(\"o.item_id\").over(window_spec_seller).alias(\"total_items_sales\"),\n",
    ")\n",
    "\n",
    "# Filter and add status column\n",
    "result_df = cte_df.filter((col(\"rn\") == 2) | (col(\"total_items_sales\") < 2)).select(\n",
    "    col(\"user_id\"),\n",
    "    when(col(\"favorite_brand\") == col(\"item_brand\"), \"Yes\")\n",
    "    .otherwise(\"No\")\n",
    "    .alias(\"status\"),\n",
    ")\n",
    "\n",
    "result_df.display()"
   ]
  },
  {
   "cell_type": "markdown",
   "metadata": {
    "application/vnd.databricks.v1+cell": {
     "cellMetadata": {},
     "inputWidgets": {},
     "nuid": "e5586179-b05b-4674-8a4c-8f410f702480",
     "showTitle": false,
     "title": ""
    }
   },
   "source": [
    "###Spark SQL"
   ]
  },
  {
   "cell_type": "code",
   "execution_count": 0,
   "metadata": {
    "application/vnd.databricks.v1+cell": {
     "cellMetadata": {
      "byteLimit": 2048000,
      "rowLimit": 10000
     },
     "inputWidgets": {},
     "nuid": "04a4f6a5-d63a-4dc7-93c3-1a80672acd11",
     "showTitle": false,
     "title": ""
    }
   },
   "outputs": [],
   "source": [
    "users_df.createOrReplaceTempView(\"users\")\n",
    "orders_df.createOrReplaceTempView(\"orders\")\n",
    "items_df.createOrReplaceTempView(\"items\")"
   ]
  },
  {
   "cell_type": "code",
   "execution_count": 0,
   "metadata": {
    "application/vnd.databricks.v1+cell": {
     "cellMetadata": {
      "byteLimit": 2048000,
      "implicitDf": true,
      "rowLimit": 10000
     },
     "inputWidgets": {},
     "nuid": "8fe3b427-9f36-498e-8a84-e6110a89b605",
     "showTitle": false,
     "title": ""
    }
   },
   "outputs": [
    {
     "output_type": "display_data",
     "data": {
      "text/html": [
       "<style scoped>\n",
       "  .table-result-container {\n",
       "    max-height: 300px;\n",
       "    overflow: auto;\n",
       "  }\n",
       "  table, th, td {\n",
       "    border: 1px solid black;\n",
       "    border-collapse: collapse;\n",
       "  }\n",
       "  th, td {\n",
       "    padding: 5px;\n",
       "  }\n",
       "  th {\n",
       "    text-align: left;\n",
       "  }\n",
       "</style><div class='table-result-container'><table class='table-result'><thead style='background-color: white'><tr><th>user_id</th><th>status</th></tr></thead><tbody><tr><td>1</td><td>No</td></tr><tr><td>2</td><td>Yes</td></tr><tr><td>3</td><td>Yes</td></tr><tr><td>4</td><td>No</td></tr></tbody></table></div>"
      ]
     },
     "metadata": {
      "application/vnd.databricks.v1+output": {
       "addedWidgets": {},
       "aggData": [],
       "aggError": "",
       "aggOverflow": false,
       "aggSchema": [],
       "aggSeriesLimitReached": false,
       "aggType": "",
       "arguments": {},
       "columnCustomDisplayInfos": {},
       "data": [
        [
         1,
         "No"
        ],
        [
         2,
         "Yes"
        ],
        [
         3,
         "Yes"
        ],
        [
         4,
         "No"
        ]
       ],
       "datasetInfos": [],
       "dbfsResultPath": null,
       "isJsonSchema": true,
       "metadata": {},
       "overflow": false,
       "plotOptions": {
        "customPlotOptions": {},
        "displayType": "table",
        "pivotAggregation": null,
        "pivotColumns": null,
        "xColumns": null,
        "yColumns": null
       },
       "removedWidgets": [],
       "schema": [
        {
         "metadata": "{}",
         "name": "user_id",
         "type": "\"integer\""
        },
        {
         "metadata": "{}",
         "name": "status",
         "type": "\"string\""
        }
       ],
       "type": "table"
      }
     },
     "output_type": "display_data"
    }
   ],
   "source": [
    "%sql\n",
    "with cte as (\n",
    "  SELECT\n",
    "    u.user_id,\n",
    "    u.favorite_brand,\n",
    "    row_number() over(\n",
    "      partition by user_id\n",
    "      order by\n",
    "        order_date asc\n",
    "    ) as rn,\n",
    "    i.item_brand,\n",
    "    count(o.item_id) over(partition by o.seller_id) as total_items_sales\n",
    "  FROM\n",
    "    users u\n",
    "    LEFT JOIN orders o ON o.seller_id = u.user_id\n",
    "    LEFT JOIN items i ON i.item_id = o.item_id\n",
    ")\n",
    "SELECT\n",
    "  user_id,\n",
    "  CASE\n",
    "    WHEN favorite_brand = item_brand THEN 'Yes'\n",
    "    ELSE 'No'\n",
    "  END AS status\n",
    "FROM\n",
    "  cte\n",
    "WHERE\n",
    "  rn = 2\n",
    "  or total_items_sales < 2;"
   ]
  }
 ],
 "metadata": {
  "application/vnd.databricks.v1+notebook": {
   "dashboards": [],
   "environmentMetadata": null,
   "language": "python",
   "notebookMetadata": {
    "mostRecentlyExecutedCommandWithImplicitDF": {
     "commandId": 3674777383078349,
     "dataframes": [
      "_sqldf"
     ]
    },
    "pythonIndentUnit": 4
   },
   "notebookName": "Leetcode Hard Problem 3 | Market Analysis",
   "widgets": {}
  }
 },
 "nbformat": 4,
 "nbformat_minor": 0
}
