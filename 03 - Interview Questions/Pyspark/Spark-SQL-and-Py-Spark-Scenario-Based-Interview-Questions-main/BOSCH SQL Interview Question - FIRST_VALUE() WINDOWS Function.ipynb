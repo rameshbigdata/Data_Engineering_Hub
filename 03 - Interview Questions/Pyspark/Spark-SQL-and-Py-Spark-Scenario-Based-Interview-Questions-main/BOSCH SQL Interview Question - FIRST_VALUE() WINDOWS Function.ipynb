{
 "cells": [
  {
   "cell_type": "code",
   "execution_count": 0,
   "metadata": {
    "application/vnd.databricks.v1+cell": {
     "cellMetadata": {
      "byteLimit": 2048000,
      "rowLimit": 10000
     },
     "inputWidgets": {},
     "nuid": "35d8f53d-7ed0-4d37-a68c-d4c3cc79bdd9",
     "showTitle": false,
     "title": ""
    }
   },
   "outputs": [
    {
     "output_type": "display_data",
     "data": {
      "text/html": [
       "<style scoped>\n",
       "  .table-result-container {\n",
       "    max-height: 300px;\n",
       "    overflow: auto;\n",
       "  }\n",
       "  table, th, td {\n",
       "    border: 1px solid black;\n",
       "    border-collapse: collapse;\n",
       "  }\n",
       "  th, td {\n",
       "    padding: 5px;\n",
       "  }\n",
       "  th {\n",
       "    text-align: left;\n",
       "  }\n",
       "</style><div class='table-result-container'><table class='table-result'><thead style='background-color: white'><tr><th>category</th><th>brand_name</th></tr></thead><tbody><tr><td>chocolates</td><td>5-star</td></tr><tr><td>null</td><td>dairy milk</td></tr><tr><td>null</td><td>perk</td></tr><tr><td>null</td><td>eclair</td></tr><tr><td>Biscuits</td><td>Britania</td></tr><tr><td>null</td><td>good day</td></tr><tr><td>null</td><td>boost</td></tr></tbody></table></div>"
      ]
     },
     "metadata": {
      "application/vnd.databricks.v1+output": {
       "addedWidgets": {},
       "aggData": [],
       "aggError": "",
       "aggOverflow": false,
       "aggSchema": [],
       "aggSeriesLimitReached": false,
       "aggType": "",
       "arguments": {},
       "columnCustomDisplayInfos": {},
       "data": [
        [
         "chocolates",
         "5-star"
        ],
        [
         null,
         "dairy milk"
        ],
        [
         null,
         "perk"
        ],
        [
         null,
         "eclair"
        ],
        [
         "Biscuits",
         "Britania"
        ],
        [
         null,
         "good day"
        ],
        [
         null,
         "boost"
        ]
       ],
       "datasetInfos": [],
       "dbfsResultPath": null,
       "isJsonSchema": true,
       "metadata": {},
       "overflow": false,
       "plotOptions": {
        "customPlotOptions": {},
        "displayType": "table",
        "pivotAggregation": null,
        "pivotColumns": null,
        "xColumns": null,
        "yColumns": null
       },
       "removedWidgets": [],
       "schema": [
        {
         "metadata": "{}",
         "name": "category",
         "type": "\"string\""
        },
        {
         "metadata": "{}",
         "name": "brand_name",
         "type": "\"string\""
        }
       ],
       "type": "table"
      }
     },
     "output_type": "display_data"
    }
   ],
   "source": [
    "from pyspark.sql import SparkSession\n",
    "from pyspark.sql.types import StructType, StructField, StringType\n",
    "from pyspark.sql.window import Window\n",
    "from pyspark.sql.functions import row_number, first, sum as _sum, col, when\n",
    "\n",
    "# Initialize Spark session\n",
    "spark = SparkSession.builder \\\n",
    "    .appName(\"Insert into brands table\") \\\n",
    "    .getOrCreate()\n",
    "\n",
    "# Define the schema for the brands table\n",
    "schema = StructType([\n",
    "    StructField(\"category\", StringType(), True),\n",
    "    StructField(\"brand_name\", StringType(), True)\n",
    "])\n",
    "\n",
    "# Sample data for the brands table\n",
    "data = [\n",
    "    ('chocolates', '5-star'),\n",
    "    (None, 'dairy milk'),\n",
    "    (None, 'perk'),\n",
    "    (None, 'eclair'),\n",
    "    ('Biscuits', 'Britania'),\n",
    "    (None, 'good day'),\n",
    "    (None, 'boost')\n",
    "]\n",
    "\n",
    "# Create a DataFrame from the data and schema\n",
    "df = spark.createDataFrame(data, schema)\n",
    "\n",
    "# Create the brands table in Spark SQL\n",
    "df.createOrReplaceTempView(\"brands\")\n",
    "\n",
    "# Display the contents of the brands table\n",
    "df.display()\n"
   ]
  },
  {
   "cell_type": "code",
   "execution_count": 0,
   "metadata": {
    "application/vnd.databricks.v1+cell": {
     "cellMetadata": {
      "byteLimit": 2048000,
      "implicitDf": true,
      "rowLimit": 10000
     },
     "inputWidgets": {},
     "nuid": "83b9e22d-9894-4bf2-b6a8-dfe5f0000882",
     "showTitle": false,
     "title": ""
    }
   },
   "outputs": [
    {
     "output_type": "display_data",
     "data": {
      "text/html": [
       "<style scoped>\n",
       "  .table-result-container {\n",
       "    max-height: 300px;\n",
       "    overflow: auto;\n",
       "  }\n",
       "  table, th, td {\n",
       "    border: 1px solid black;\n",
       "    border-collapse: collapse;\n",
       "  }\n",
       "  th, td {\n",
       "    padding: 5px;\n",
       "  }\n",
       "  th {\n",
       "    text-align: left;\n",
       "  }\n",
       "</style><div class='table-result-container'><table class='table-result'><thead style='background-color: white'><tr><th>rn</th><th>category</th><th>Brand_name</th></tr></thead><tbody><tr><td>1</td><td>chocolates</td><td>5-star</td></tr><tr><td>2</td><td>chocolates</td><td>dairy milk</td></tr><tr><td>3</td><td>chocolates</td><td>perk</td></tr><tr><td>4</td><td>chocolates</td><td>eclair</td></tr><tr><td>5</td><td>Biscuits</td><td>Britania</td></tr><tr><td>6</td><td>Biscuits</td><td>good day</td></tr><tr><td>7</td><td>Biscuits</td><td>boost</td></tr></tbody></table></div>"
      ]
     },
     "metadata": {
      "application/vnd.databricks.v1+output": {
       "addedWidgets": {},
       "aggData": [],
       "aggError": "",
       "aggOverflow": false,
       "aggSchema": [],
       "aggSeriesLimitReached": false,
       "aggType": "",
       "arguments": {},
       "columnCustomDisplayInfos": {},
       "data": [
        [
         1,
         "chocolates",
         "5-star"
        ],
        [
         2,
         "chocolates",
         "dairy milk"
        ],
        [
         3,
         "chocolates",
         "perk"
        ],
        [
         4,
         "chocolates",
         "eclair"
        ],
        [
         5,
         "Biscuits",
         "Britania"
        ],
        [
         6,
         "Biscuits",
         "good day"
        ],
        [
         7,
         "Biscuits",
         "boost"
        ]
       ],
       "datasetInfos": [],
       "dbfsResultPath": null,
       "isJsonSchema": true,
       "metadata": {},
       "overflow": false,
       "plotOptions": {
        "customPlotOptions": {},
        "displayType": "table",
        "pivotAggregation": null,
        "pivotColumns": null,
        "xColumns": null,
        "yColumns": null
       },
       "removedWidgets": [],
       "schema": [
        {
         "metadata": "{}",
         "name": "rn",
         "type": "\"integer\""
        },
        {
         "metadata": "{}",
         "name": "category",
         "type": "\"string\""
        },
        {
         "metadata": "{}",
         "name": "Brand_name",
         "type": "\"string\""
        }
       ],
       "type": "table"
      }
     },
     "output_type": "display_data"
    }
   ],
   "source": [
    "%sql\n",
    "with CTE as \n",
    "(\n",
    "Select \n",
    "row_number() over (order by (select null))as rn,\n",
    "category,Brand_name,\n",
    "(case when category is null then 0 else 1 end) as m\n",
    "from brands\n",
    "), cte2 as \n",
    "(Select rn,category,Brand_name,sum(m) over (order by rn)as n from cte)\n",
    "\n",
    "select rn,first_value(category)over(partition by n order by rn ) as category,Brand_name  from cte2"
   ]
  },
  {
   "cell_type": "code",
   "execution_count": 0,
   "metadata": {
    "application/vnd.databricks.v1+cell": {
     "cellMetadata": {
      "byteLimit": 2048000,
      "rowLimit": 10000
     },
     "inputWidgets": {},
     "nuid": "ff003bbe-484f-4e2a-9651-3dbe5878786b",
     "showTitle": false,
     "title": ""
    }
   },
   "outputs": [
    {
     "output_type": "display_data",
     "data": {
      "text/html": [
       "<style scoped>\n",
       "  .table-result-container {\n",
       "    max-height: 300px;\n",
       "    overflow: auto;\n",
       "  }\n",
       "  table, th, td {\n",
       "    border: 1px solid black;\n",
       "    border-collapse: collapse;\n",
       "  }\n",
       "  th, td {\n",
       "    padding: 5px;\n",
       "  }\n",
       "  th {\n",
       "    text-align: left;\n",
       "  }\n",
       "</style><div class='table-result-container'><table class='table-result'><thead style='background-color: white'><tr><th>category</th><th>brand_name</th><th>rn</th><th>m</th><th>n</th></tr></thead><tbody><tr><td>chocolates</td><td>5-star</td><td>1</td><td>1</td><td>1</td></tr><tr><td>Biscuits</td><td>Britania</td><td>2</td><td>1</td><td>2</td></tr><tr><td>Biscuits</td><td>boost</td><td>3</td><td>0</td><td>2</td></tr><tr><td>Biscuits</td><td>dairy milk</td><td>4</td><td>0</td><td>2</td></tr><tr><td>Biscuits</td><td>eclair</td><td>5</td><td>0</td><td>2</td></tr><tr><td>Biscuits</td><td>good day</td><td>6</td><td>0</td><td>2</td></tr><tr><td>Biscuits</td><td>perk</td><td>7</td><td>0</td><td>2</td></tr></tbody></table></div>"
      ]
     },
     "metadata": {
      "application/vnd.databricks.v1+output": {
       "addedWidgets": {},
       "aggData": [],
       "aggError": "",
       "aggOverflow": false,
       "aggSchema": [],
       "aggSeriesLimitReached": false,
       "aggType": "",
       "arguments": {},
       "columnCustomDisplayInfos": {},
       "data": [
        [
         "chocolates",
         "5-star",
         1,
         1,
         1
        ],
        [
         "Biscuits",
         "Britania",
         2,
         1,
         2
        ],
        [
         "Biscuits",
         "boost",
         3,
         0,
         2
        ],
        [
         "Biscuits",
         "dairy milk",
         4,
         0,
         2
        ],
        [
         "Biscuits",
         "eclair",
         5,
         0,
         2
        ],
        [
         "Biscuits",
         "good day",
         6,
         0,
         2
        ],
        [
         "Biscuits",
         "perk",
         7,
         0,
         2
        ]
       ],
       "datasetInfos": [],
       "dbfsResultPath": null,
       "isJsonSchema": true,
       "metadata": {},
       "overflow": false,
       "plotOptions": {
        "customPlotOptions": {},
        "displayType": "table",
        "pivotAggregation": null,
        "pivotColumns": null,
        "xColumns": null,
        "yColumns": null
       },
       "removedWidgets": [],
       "schema": [
        {
         "metadata": "{}",
         "name": "category",
         "type": "\"string\""
        },
        {
         "metadata": "{}",
         "name": "brand_name",
         "type": "\"string\""
        },
        {
         "metadata": "{}",
         "name": "rn",
         "type": "\"integer\""
        },
        {
         "metadata": "{}",
         "name": "m",
         "type": "\"integer\""
        },
        {
         "metadata": "{}",
         "name": "n",
         "type": "\"long\""
        }
       ],
       "type": "table"
      }
     },
     "output_type": "display_data"
    }
   ],
   "source": [
    "# Add row_number and m columns\n",
    "window_spec_row = Window.orderBy(col(\"brand_name\"))\n",
    "df_with_rn = df.withColumn(\"rn\", row_number().over(window_spec_row)) \\\n",
    "               .withColumn(\"m\", when(col(\"category\").isNull(), 0).otherwise(1))\n",
    "\n",
    "# CTE equivalent: Step 2\n",
    "# Add n column using the sum of m over window\n",
    "window_spec_n = Window.orderBy(\"rn\")\n",
    "df_with_n = df_with_rn.withColumn(\"n\", _sum(\"m\").over(window_spec_n))\n",
    "\n",
    "# Final query: select rn, first_value(category) over (partition by n order by rn), and brand_name\n",
    "window_spec_final = Window.partitionBy(\"n\").orderBy(\"rn\")\n",
    "df_final = df_with_n.withColumn(\"category\", first(\"category\").over(window_spec_final))\n",
    "df_final.display()\n"
   ]
  }
 ],
 "metadata": {
  "application/vnd.databricks.v1+notebook": {
   "dashboards": [],
   "environmentMetadata": null,
   "language": "python",
   "notebookMetadata": {
    "mostRecentlyExecutedCommandWithImplicitDF": {
     "commandId": 1037221166651531,
     "dataframes": [
      "_sqldf"
     ]
    },
    "pythonIndentUnit": 4
   },
   "notebookName": "BOSCH SQL Interview Question - FIRST_VALUE() WINDOWS Function",
   "widgets": {}
  }
 },
 "nbformat": 4,
 "nbformat_minor": 0
}
