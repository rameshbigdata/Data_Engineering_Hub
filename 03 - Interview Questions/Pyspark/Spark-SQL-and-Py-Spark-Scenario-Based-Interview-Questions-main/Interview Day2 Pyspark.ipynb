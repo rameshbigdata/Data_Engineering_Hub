{
 "cells": [
  {
   "cell_type": "markdown",
   "metadata": {
    "application/vnd.databricks.v1+cell": {
     "cellMetadata": {},
     "inputWidgets": {},
     "nuid": "10804ee2-fb45-4cbe-bc7a-d5a4ae240e4b",
     "showTitle": false,
     "title": ""
    }
   },
   "source": [
    "#Problem1:"
   ]
  },
  {
   "cell_type": "code",
   "execution_count": 0,
   "metadata": {
    "application/vnd.databricks.v1+cell": {
     "cellMetadata": {
      "byteLimit": 2048000,
      "rowLimit": 10000
     },
     "inputWidgets": {},
     "nuid": "97a66c9e-9511-4960-86d6-f122450c99e7",
     "showTitle": false,
     "title": ""
    }
   },
   "outputs": [
    {
     "output_type": "stream",
     "name": "stdout",
     "output_type": "stream",
     "text": [
      "+------+------------------+\n|name  |Habbies           |\n+------+------------------+\n|alice |[Cricket, Tennis] |\n|bob   |[Tennis, Cricket] |\n|ganesh|[Cricket, Carroms]|\n+------+------------------+\n\n"
     ]
    }
   ],
   "source": [
    "data1 = [(\"alice\",[\"Cricket\",\"Tennis\"]),(\"bob\",[\"Tennis\",\"Cricket\"]),\n",
    "(\"ganesh\",[\"Cricket\", \"Carroms\"])]\n",
    "df = spark.createDataFrame(data1, [\"name\", \"Habbies\"])\n",
    "df.show(truncate=False)"
   ]
  },
  {
   "cell_type": "code",
   "execution_count": 0,
   "metadata": {
    "application/vnd.databricks.v1+cell": {
     "cellMetadata": {
      "byteLimit": 2048000,
      "rowLimit": 10000
     },
     "inputWidgets": {},
     "nuid": "719bd2ac-37df-4100-8df8-57b52236daa9",
     "showTitle": false,
     "title": ""
    }
   },
   "outputs": [
    {
     "output_type": "stream",
     "name": "stdout",
     "output_type": "stream",
     "text": [
      "+------+-------+\n|  name|    col|\n+------+-------+\n| alice|Cricket|\n| alice| Tennis|\n|   bob| Tennis|\n|   bob|Cricket|\n|ganesh|Cricket|\n|ganesh|Carroms|\n+------+-------+\n\n"
     ]
    }
   ],
   "source": [
    "from pyspark.sql.functions import col,explode\n",
    "df2=df.select(df.name,explode(df.Habbies))\n",
    "df2.show()"
   ]
  },
  {
   "cell_type": "markdown",
   "metadata": {
    "application/vnd.databricks.v1+cell": {
     "cellMetadata": {},
     "inputWidgets": {},
     "nuid": "3f262811-1a7c-4378-bb42-f39f8b1bc83c",
     "showTitle": false,
     "title": ""
    }
   },
   "source": [
    "#Problem2:"
   ]
  },
  {
   "cell_type": "code",
   "execution_count": 0,
   "metadata": {
    "application/vnd.databricks.v1+cell": {
     "cellMetadata": {
      "byteLimit": 2048000,
      "rowLimit": 10000
     },
     "inputWidgets": {},
     "nuid": "36b87f39-6f16-4da3-8f21-b3239a684c7a",
     "showTitle": false,
     "title": ""
    }
   },
   "outputs": [
    {
     "output_type": "display_data",
     "data": {
      "text/html": [
       "<style scoped>\n",
       "  .table-result-container {\n",
       "    max-height: 300px;\n",
       "    overflow: auto;\n",
       "  }\n",
       "  table, th, td {\n",
       "    border: 1px solid black;\n",
       "    border-collapse: collapse;\n",
       "  }\n",
       "  th, td {\n",
       "    padding: 5px;\n",
       "  }\n",
       "  th {\n",
       "    text-align: left;\n",
       "  }\n",
       "</style><div class='table-result-container'><table class='table-result'><thead style='background-color: white'><tr><th>City1</th><th>City2</th><th>City3</th></tr></thead><tbody><tr><td>GOA</td><td></td><td>AP</td></tr><tr><td></td><td>AP</td><td>null</td></tr><tr><td>null</td><td></td><td>Blr</td></tr></tbody></table></div>"
      ]
     },
     "metadata": {
      "application/vnd.databricks.v1+output": {
       "addedWidgets": {},
       "aggData": [],
       "aggError": "",
       "aggOverflow": false,
       "aggSchema": [],
       "aggSeriesLimitReached": false,
       "aggType": "",
       "arguments": {},
       "columnCustomDisplayInfos": {},
       "data": [
        [
         "GOA",
         "",
         "AP"
        ],
        [
         "",
         "AP",
         null
        ],
        [
         null,
         "",
         "Blr"
        ]
       ],
       "datasetInfos": [],
       "dbfsResultPath": null,
       "isJsonSchema": true,
       "metadata": {},
       "overflow": false,
       "plotOptions": {
        "customPlotOptions": {},
        "displayType": "table",
        "pivotAggregation": null,
        "pivotColumns": null,
        "xColumns": null,
        "yColumns": null
       },
       "removedWidgets": [],
       "schema": [
        {
         "metadata": "{}",
         "name": "City1",
         "type": "\"string\""
        },
        {
         "metadata": "{}",
         "name": "City2",
         "type": "\"string\""
        },
        {
         "metadata": "{}",
         "name": "City3",
         "type": "\"string\""
        }
       ],
       "type": "table"
      }
     },
     "output_type": "display_data"
    }
   ],
   "source": [
    "data=[(\"GOA\",\"\",\"AP\"), ('', 'AP' ,None), (None,'',\"Blr\")]\n",
    "schema=\"City1 string, City2 string, City3 string\"\n",
    "df3=spark.createDataFrame(data,schema)\n",
    "display(df3)"
   ]
  },
  {
   "cell_type": "code",
   "execution_count": 0,
   "metadata": {
    "application/vnd.databricks.v1+cell": {
     "cellMetadata": {
      "byteLimit": 2048000,
      "rowLimit": 10000
     },
     "inputWidgets": {},
     "nuid": "80a3a472-1357-41c1-b18a-07b1d45c9490",
     "showTitle": false,
     "title": ""
    }
   },
   "outputs": [
    {
     "output_type": "display_data",
     "data": {
      "text/html": [
       "<style scoped>\n",
       "  .table-result-container {\n",
       "    max-height: 300px;\n",
       "    overflow: auto;\n",
       "  }\n",
       "  table, th, td {\n",
       "    border: 1px solid black;\n",
       "    border-collapse: collapse;\n",
       "  }\n",
       "  th, td {\n",
       "    padding: 5px;\n",
       "  }\n",
       "  th {\n",
       "    text-align: left;\n",
       "  }\n",
       "</style><div class='table-result-container'><table class='table-result'><thead style='background-color: white'><tr><th>City1</th><th>City2</th><th>City3</th></tr></thead><tbody><tr><td>GOA</td><td>null</td><td>AP</td></tr><tr><td>null</td><td>AP</td><td>null</td></tr><tr><td>null</td><td>null</td><td>Blr</td></tr></tbody></table></div>"
      ]
     },
     "metadata": {
      "application/vnd.databricks.v1+output": {
       "addedWidgets": {},
       "aggData": [],
       "aggError": "",
       "aggOverflow": false,
       "aggSchema": [],
       "aggSeriesLimitReached": false,
       "aggType": "",
       "arguments": {},
       "columnCustomDisplayInfos": {},
       "data": [
        [
         "GOA",
         null,
         "AP"
        ],
        [
         null,
         "AP",
         null
        ],
        [
         null,
         null,
         "Blr"
        ]
       ],
       "datasetInfos": [],
       "dbfsResultPath": null,
       "isJsonSchema": true,
       "metadata": {},
       "overflow": false,
       "plotOptions": {
        "customPlotOptions": {},
        "displayType": "table",
        "pivotAggregation": null,
        "pivotColumns": null,
        "xColumns": null,
        "yColumns": null
       },
       "removedWidgets": [],
       "schema": [
        {
         "metadata": "{}",
         "name": "City1",
         "type": "\"string\""
        },
        {
         "metadata": "{}",
         "name": "City2",
         "type": "\"string\""
        },
        {
         "metadata": "{}",
         "name": "City3",
         "type": "\"string\""
        }
       ],
       "type": "table"
      }
     },
     "output_type": "display_data"
    }
   ],
   "source": [
    "from pyspark.sql.functions import when,coalesce\n",
    "df4=df3.withColumn(\"City1\", when(df3.City1 == \"\",None).otherwise(df3.City1)).withColumn(\"City2\", when(df3.City2 == \"\",None).otherwise(df3.City2)).withColumn(\"City3\", when(df3.City3 == \"\",None).otherwise(df3.City3))\n",
    "\n",
    "display(df4)"
   ]
  },
  {
   "cell_type": "code",
   "execution_count": 0,
   "metadata": {
    "application/vnd.databricks.v1+cell": {
     "cellMetadata": {
      "byteLimit": 2048000,
      "rowLimit": 10000
     },
     "inputWidgets": {},
     "nuid": "de650884-b116-41d9-bb09-9fe0011fb383",
     "showTitle": false,
     "title": ""
    }
   },
   "outputs": [
    {
     "output_type": "stream",
     "name": "stdout",
     "output_type": "stream",
     "text": [
      "+------+\n|Result|\n+------+\n|   GOA|\n|    AP|\n|   Blr|\n+------+\n\n"
     ]
    }
   ],
   "source": [
    "df5=df4.withColumn(\"Result\",coalesce(df4.City1,df4.City2,df4.City3)).select(\"Result\")\n",
    "df5.show()"
   ]
  }
 ],
 "metadata": {
  "application/vnd.databricks.v1+notebook": {
   "dashboards": [],
   "environmentMetadata": null,
   "language": "python",
   "notebookMetadata": {
    "pythonIndentUnit": 4
   },
   "notebookName": "Interview Day2 Pyspark",
   "widgets": {}
  }
 },
 "nbformat": 4,
 "nbformat_minor": 0
}
