{
 "cells": [
  {
   "cell_type": "markdown",
   "metadata": {
    "application/vnd.databricks.v1+cell": {
     "cellMetadata": {},
     "inputWidgets": {},
     "nuid": "6cefd298-bde3-4051-8e4a-1049dcd73481",
     "showTitle": false,
     "title": ""
    }
   },
   "source": [
    "#Problem Statement\n",
    "The winner in each group is the player who scored the maximum total points within the group. In the case of a tie, the lowest player_id wins.\n",
    "\n",
    "Write a solution to find the winner in each group.\n",
    "\n",
    "Return the result table in any order."
   ]
  },
  {
   "cell_type": "code",
   "execution_count": 0,
   "metadata": {
    "application/vnd.databricks.v1+cell": {
     "cellMetadata": {
      "byteLimit": 2048000,
      "rowLimit": 10000
     },
     "inputWidgets": {},
     "nuid": "ec044ba2-fd79-4872-8694-7e1039d4e94a",
     "showTitle": false,
     "title": ""
    }
   },
   "outputs": [
    {
     "output_type": "display_data",
     "data": {
      "text/html": [
       "<style scoped>\n",
       "  .table-result-container {\n",
       "    max-height: 300px;\n",
       "    overflow: auto;\n",
       "  }\n",
       "  table, th, td {\n",
       "    border: 1px solid black;\n",
       "    border-collapse: collapse;\n",
       "  }\n",
       "  th, td {\n",
       "    padding: 5px;\n",
       "  }\n",
       "  th {\n",
       "    text-align: left;\n",
       "  }\n",
       "</style><div class='table-result-container'><table class='table-result'><thead style='background-color: white'><tr><th>player_id</th><th>group_id</th></tr></thead><tbody><tr><td>15</td><td>1</td></tr><tr><td>25</td><td>1</td></tr><tr><td>30</td><td>1</td></tr><tr><td>45</td><td>1</td></tr><tr><td>10</td><td>2</td></tr><tr><td>35</td><td>2</td></tr><tr><td>50</td><td>2</td></tr><tr><td>20</td><td>3</td></tr><tr><td>40</td><td>3</td></tr></tbody></table></div>"
      ]
     },
     "metadata": {
      "application/vnd.databricks.v1+output": {
       "addedWidgets": {},
       "aggData": [],
       "aggError": "",
       "aggOverflow": false,
       "aggSchema": [],
       "aggSeriesLimitReached": false,
       "aggType": "",
       "arguments": {},
       "columnCustomDisplayInfos": {},
       "data": [
        [
         15,
         1
        ],
        [
         25,
         1
        ],
        [
         30,
         1
        ],
        [
         45,
         1
        ],
        [
         10,
         2
        ],
        [
         35,
         2
        ],
        [
         50,
         2
        ],
        [
         20,
         3
        ],
        [
         40,
         3
        ]
       ],
       "datasetInfos": [],
       "dbfsResultPath": null,
       "isJsonSchema": true,
       "metadata": {},
       "overflow": false,
       "plotOptions": {
        "customPlotOptions": {},
        "displayType": "table",
        "pivotAggregation": null,
        "pivotColumns": null,
        "xColumns": null,
        "yColumns": null
       },
       "removedWidgets": [],
       "schema": [
        {
         "metadata": "{}",
         "name": "player_id",
         "type": "\"long\""
        },
        {
         "metadata": "{}",
         "name": "group_id",
         "type": "\"long\""
        }
       ],
       "type": "table"
      }
     },
     "output_type": "display_data"
    },
    {
     "output_type": "display_data",
     "data": {
      "text/html": [
       "<style scoped>\n",
       "  .table-result-container {\n",
       "    max-height: 300px;\n",
       "    overflow: auto;\n",
       "  }\n",
       "  table, th, td {\n",
       "    border: 1px solid black;\n",
       "    border-collapse: collapse;\n",
       "  }\n",
       "  th, td {\n",
       "    padding: 5px;\n",
       "  }\n",
       "  th {\n",
       "    text-align: left;\n",
       "  }\n",
       "</style><div class='table-result-container'><table class='table-result'><thead style='background-color: white'><tr><th>match_id</th><th>first_player</th><th>second_player</th><th>first_score</th><th>second_score</th></tr></thead><tbody><tr><td>1</td><td>15</td><td>45</td><td>3</td><td>0</td></tr><tr><td>2</td><td>30</td><td>25</td><td>1</td><td>2</td></tr><tr><td>3</td><td>30</td><td>15</td><td>2</td><td>0</td></tr><tr><td>4</td><td>40</td><td>20</td><td>5</td><td>2</td></tr><tr><td>5</td><td>35</td><td>50</td><td>1</td><td>1</td></tr></tbody></table></div>"
      ]
     },
     "metadata": {
      "application/vnd.databricks.v1+output": {
       "addedWidgets": {},
       "aggData": [],
       "aggError": "",
       "aggOverflow": false,
       "aggSchema": [],
       "aggSeriesLimitReached": false,
       "aggType": "",
       "arguments": {},
       "columnCustomDisplayInfos": {},
       "data": [
        [
         1,
         15,
         45,
         3,
         0
        ],
        [
         2,
         30,
         25,
         1,
         2
        ],
        [
         3,
         30,
         15,
         2,
         0
        ],
        [
         4,
         40,
         20,
         5,
         2
        ],
        [
         5,
         35,
         50,
         1,
         1
        ]
       ],
       "datasetInfos": [],
       "dbfsResultPath": null,
       "isJsonSchema": true,
       "metadata": {},
       "overflow": false,
       "plotOptions": {
        "customPlotOptions": {},
        "displayType": "table",
        "pivotAggregation": null,
        "pivotColumns": null,
        "xColumns": null,
        "yColumns": null
       },
       "removedWidgets": [],
       "schema": [
        {
         "metadata": "{}",
         "name": "match_id",
         "type": "\"long\""
        },
        {
         "metadata": "{}",
         "name": "first_player",
         "type": "\"long\""
        },
        {
         "metadata": "{}",
         "name": "second_player",
         "type": "\"long\""
        },
        {
         "metadata": "{}",
         "name": "first_score",
         "type": "\"long\""
        },
        {
         "metadata": "{}",
         "name": "second_score",
         "type": "\"long\""
        }
       ],
       "type": "table"
      }
     },
     "output_type": "display_data"
    }
   ],
   "source": [
    "from pyspark.sql import SparkSession\n",
    "\n",
    "# Initialize SparkSession\n",
    "spark = SparkSession.builder \\\n",
    "    .appName(\"PlayersMatches\") \\\n",
    "    .getOrCreate()\n",
    "from pyspark.sql import Row\n",
    "\n",
    "# Create players DataFrame\n",
    "players_data = [\n",
    "    Row(player_id=15, group_id=1),\n",
    "    Row(player_id=25, group_id=1),\n",
    "    Row(player_id=30, group_id=1),\n",
    "    Row(player_id=45, group_id=1),\n",
    "    Row(player_id=10, group_id=2),\n",
    "    Row(player_id=35, group_id=2),\n",
    "    Row(player_id=50, group_id=2),\n",
    "    Row(player_id=20, group_id=3),\n",
    "    Row(player_id=40, group_id=3)\n",
    "]\n",
    "\n",
    "players_df = spark.createDataFrame(players_data)\n",
    "\n",
    "# Create matches DataFrame\n",
    "matches_data = [\n",
    "    Row(match_id=1, first_player=15, second_player=45, first_score=3, second_score=0),\n",
    "    Row(match_id=2, first_player=30, second_player=25, first_score=1, second_score=2),\n",
    "    Row(match_id=3, first_player=30, second_player=15, first_score=2, second_score=0),\n",
    "    Row(match_id=4, first_player=40, second_player=20, first_score=5, second_score=2),\n",
    "    Row(match_id=5, first_player=35, second_player=50, first_score=1, second_score=1)\n",
    "]\n",
    "\n",
    "matches_df = spark.createDataFrame(matches_data)\n",
    "\n",
    "# Show the DataFrames\n",
    "players_df.display()\n",
    "matches_df.display()"
   ]
  },
  {
   "cell_type": "markdown",
   "metadata": {
    "application/vnd.databricks.v1+cell": {
     "cellMetadata": {},
     "inputWidgets": {},
     "nuid": "aa3a33e6-8159-43be-a139-d12688088e87",
     "showTitle": false,
     "title": ""
    }
   },
   "source": [
    "###Pyspark"
   ]
  },
  {
   "cell_type": "code",
   "execution_count": 0,
   "metadata": {
    "application/vnd.databricks.v1+cell": {
     "cellMetadata": {
      "byteLimit": 2048000,
      "rowLimit": 10000
     },
     "inputWidgets": {},
     "nuid": "fd55271c-2ad1-47c4-8003-5c85a5ee6703",
     "showTitle": false,
     "title": ""
    }
   },
   "outputs": [
    {
     "output_type": "display_data",
     "data": {
      "text/html": [
       "<style scoped>\n",
       "  .table-result-container {\n",
       "    max-height: 300px;\n",
       "    overflow: auto;\n",
       "  }\n",
       "  table, th, td {\n",
       "    border: 1px solid black;\n",
       "    border-collapse: collapse;\n",
       "  }\n",
       "  th, td {\n",
       "    padding: 5px;\n",
       "  }\n",
       "  th {\n",
       "    text-align: left;\n",
       "  }\n",
       "</style><div class='table-result-container'><table class='table-result'><thead style='background-color: white'><tr><th>group_id</th><th>player_id</th><th>score</th><th>rn</th></tr></thead><tbody><tr><td>1</td><td>15</td><td>3</td><td>1</td></tr><tr><td>2</td><td>35</td><td>1</td><td>1</td></tr><tr><td>3</td><td>40</td><td>5</td><td>1</td></tr></tbody></table></div>"
      ]
     },
     "metadata": {
      "application/vnd.databricks.v1+output": {
       "addedWidgets": {},
       "aggData": [],
       "aggError": "",
       "aggOverflow": false,
       "aggSchema": [],
       "aggSeriesLimitReached": false,
       "aggType": "",
       "arguments": {},
       "columnCustomDisplayInfos": {},
       "data": [
        [
         1,
         15,
         3,
         1
        ],
        [
         2,
         35,
         1,
         1
        ],
        [
         3,
         40,
         5,
         1
        ]
       ],
       "datasetInfos": [],
       "dbfsResultPath": null,
       "isJsonSchema": true,
       "metadata": {},
       "overflow": false,
       "plotOptions": {
        "customPlotOptions": {},
        "displayType": "table",
        "pivotAggregation": null,
        "pivotColumns": null,
        "xColumns": null,
        "yColumns": null
       },
       "removedWidgets": [],
       "schema": [
        {
         "metadata": "{}",
         "name": "group_id",
         "type": "\"long\""
        },
        {
         "metadata": "{}",
         "name": "player_id",
         "type": "\"long\""
        },
        {
         "metadata": "{}",
         "name": "score",
         "type": "\"long\""
        },
        {
         "metadata": "{}",
         "name": "rn",
         "type": "\"integer\""
        }
       ],
       "type": "table"
      }
     },
     "output_type": "display_data"
    }
   ],
   "source": [
    "from pyspark.sql.functions import col, sum as _sum, rank\n",
    "from pyspark.sql.window import Window\n",
    "first_player_scores = matches_df.groupBy(\"first_player\").agg(_sum(\"first_score\").alias(\"score\")).withColumnRenamed(\"first_player\", \"player_id\")\n",
    "second_player_scores = matches_df.groupBy(\"second_player\").agg(_sum(\"second_score\").alias(\"score\")).withColumnRenamed(\"second_player\", \"player_id\")\n",
    "\n",
    "# Union the two results\n",
    "player_score_df = first_player_scores.unionByName(second_player_scores)\n",
    "\n",
    "# Step 2: Create final_score DataFrame\n",
    "final_score_df = player_score_df.join(players_df, \"player_id\", \"inner\") \\\n",
    "    .groupBy(\"group_id\", \"player_id\") \\\n",
    "    .agg(_sum(\"score\").alias(\"score\"))\n",
    "\n",
    "\n",
    "# Step 3: Create final_ranking DataFrame\n",
    "window_spec = Window.partitionBy(\"group_id\").orderBy(col(\"score\").desc(), col(\"player_id\").asc())\n",
    "final_ranking_df = final_score_df.withColumn(\"rn\", rank().over(window_spec))\n",
    "\n",
    "# Step 4: Select top-ranked players from each group\n",
    "top_ranked_players_df = final_ranking_df.filter(col(\"rn\") == 1)\n",
    "top_ranked_players_df.display()"
   ]
  },
  {
   "cell_type": "markdown",
   "metadata": {
    "application/vnd.databricks.v1+cell": {
     "cellMetadata": {},
     "inputWidgets": {},
     "nuid": "5c938b91-df53-4fe4-9053-b7eb4a08d458",
     "showTitle": false,
     "title": ""
    }
   },
   "source": [
    "###Spark SQL"
   ]
  },
  {
   "cell_type": "code",
   "execution_count": 0,
   "metadata": {
    "application/vnd.databricks.v1+cell": {
     "cellMetadata": {
      "byteLimit": 2048000,
      "rowLimit": 10000
     },
     "inputWidgets": {},
     "nuid": "e78cc5bb-8ac4-452f-8128-b446a5e5f6c8",
     "showTitle": false,
     "title": ""
    }
   },
   "outputs": [],
   "source": [
    "players_df.createOrReplaceTempView(\"players\")\n",
    "matches_df.createOrReplaceTempView(\"matches\")"
   ]
  },
  {
   "cell_type": "code",
   "execution_count": 0,
   "metadata": {
    "application/vnd.databricks.v1+cell": {
     "cellMetadata": {
      "byteLimit": 2048000,
      "implicitDf": true,
      "rowLimit": 10000
     },
     "inputWidgets": {},
     "nuid": "0b3f3dab-d9d5-4640-afe0-cbd1b53af688",
     "showTitle": false,
     "title": ""
    }
   },
   "outputs": [
    {
     "output_type": "display_data",
     "data": {
      "text/html": [
       "<style scoped>\n",
       "  .table-result-container {\n",
       "    max-height: 300px;\n",
       "    overflow: auto;\n",
       "  }\n",
       "  table, th, td {\n",
       "    border: 1px solid black;\n",
       "    border-collapse: collapse;\n",
       "  }\n",
       "  th, td {\n",
       "    padding: 5px;\n",
       "  }\n",
       "  th {\n",
       "    text-align: left;\n",
       "  }\n",
       "</style><div class='table-result-container'><table class='table-result'><thead style='background-color: white'><tr><th>group_id</th><th>player_id</th><th>score</th><th>rn</th></tr></thead><tbody><tr><td>1</td><td>15</td><td>3</td><td>1</td></tr><tr><td>2</td><td>35</td><td>1</td><td>1</td></tr><tr><td>3</td><td>40</td><td>5</td><td>1</td></tr></tbody></table></div>"
      ]
     },
     "metadata": {
      "application/vnd.databricks.v1+output": {
       "addedWidgets": {},
       "aggData": [],
       "aggError": "",
       "aggOverflow": false,
       "aggSchema": [],
       "aggSeriesLimitReached": false,
       "aggType": "",
       "arguments": {},
       "columnCustomDisplayInfos": {},
       "data": [
        [
         1,
         15,
         3,
         1
        ],
        [
         2,
         35,
         1,
         1
        ],
        [
         3,
         40,
         5,
         1
        ]
       ],
       "datasetInfos": [],
       "dbfsResultPath": null,
       "isJsonSchema": true,
       "metadata": {},
       "overflow": false,
       "plotOptions": {
        "customPlotOptions": {},
        "displayType": "table",
        "pivotAggregation": null,
        "pivotColumns": null,
        "xColumns": null,
        "yColumns": null
       },
       "removedWidgets": [],
       "schema": [
        {
         "metadata": "{}",
         "name": "group_id",
         "type": "\"long\""
        },
        {
         "metadata": "{}",
         "name": "player_id",
         "type": "\"long\""
        },
        {
         "metadata": "{}",
         "name": "score",
         "type": "\"long\""
        },
        {
         "metadata": "{}",
         "name": "rn",
         "type": "\"integer\""
        }
       ],
       "type": "table"
      }
     },
     "output_type": "display_data"
    }
   ],
   "source": [
    "%sql\n",
    "with player_score as (\n",
    "select first_player as player_id, sum(first_score) as score from matches group by first_player\n",
    "union all\n",
    "select second_player as player_id, sum(second_score) as score from matches group by second_player)\n",
    ",final_score as(\n",
    "select pl.group_id,ps.player_id,sum(score) as score from player_score ps inner join players pl \n",
    "on ps.player_id = pl.player_id \n",
    "group by pl.group_id,ps.player_id\n",
    ")\n",
    ",final_ranking as(\n",
    "select *, rank() over(partition by group_id order by score desc, player_id asc) as rn\n",
    "from final_score\n",
    ")\n",
    "select * from final_ranking where rn = 1\n",
    ";"
   ]
  }
 ],
 "metadata": {
  "application/vnd.databricks.v1+notebook": {
   "dashboards": [],
   "environmentMetadata": null,
   "language": "python",
   "notebookMetadata": {
    "mostRecentlyExecutedCommandWithImplicitDF": {
     "commandId": 3296474159316013,
     "dataframes": [
      "_sqldf"
     ]
    },
    "pythonIndentUnit": 4
   },
   "notebookName": "Leetcode Hard problem 2| Tournament Winners",
   "widgets": {}
  }
 },
 "nbformat": 4,
 "nbformat_minor": 0
}
