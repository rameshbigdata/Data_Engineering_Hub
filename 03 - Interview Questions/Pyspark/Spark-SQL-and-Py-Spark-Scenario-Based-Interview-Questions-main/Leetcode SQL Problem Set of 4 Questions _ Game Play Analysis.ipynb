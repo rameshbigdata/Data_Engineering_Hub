{
 "cells": [
  {
   "cell_type": "markdown",
   "metadata": {
    "application/vnd.databricks.v1+cell": {
     "cellMetadata": {},
     "inputWidgets": {},
     "nuid": "86d52721-f736-48ab-92ee-f37cab406849",
     "showTitle": false,
     "title": ""
    }
   },
   "source": [
    "#Problem Statement\n",
    "questions:\n",
    "--Game Play Analysis \n",
    "\n",
    "--q1: Write an SQL query that reports the first login date for each player\n",
    "\n",
    "--q2: Write a SQL query that reports the device that is first logged in for each player\n",
    "\n",
    "--q3: Write an SQL query that reports for each player and date, how many games played so far by the player. \n",
    "--That is, the total number of games played by the player until that date.\n",
    "\n",
    "--q4: Write an SQL query that reports the fraction of players that logged in again \n",
    " on the day after the day they first logged in, rounded to 2 decimal places"
   ]
  },
  {
   "cell_type": "code",
   "execution_count": 0,
   "metadata": {
    "application/vnd.databricks.v1+cell": {
     "cellMetadata": {
      "byteLimit": 2048000,
      "rowLimit": 10000
     },
     "inputWidgets": {},
     "nuid": "6a36f22e-9af6-42b9-bdf7-50c042033452",
     "showTitle": false,
     "title": ""
    }
   },
   "outputs": [
    {
     "output_type": "stream",
     "name": "stdout",
     "output_type": "stream",
     "text": [
      "root\n |-- player_id: long (nullable = true)\n |-- device_id: long (nullable = true)\n |-- event_date: date (nullable = true)\n |-- games_played: long (nullable = true)\n\n"
     ]
    },
    {
     "output_type": "display_data",
     "data": {
      "text/html": [
       "<style scoped>\n",
       "  .table-result-container {\n",
       "    max-height: 300px;\n",
       "    overflow: auto;\n",
       "  }\n",
       "  table, th, td {\n",
       "    border: 1px solid black;\n",
       "    border-collapse: collapse;\n",
       "  }\n",
       "  th, td {\n",
       "    padding: 5px;\n",
       "  }\n",
       "  th {\n",
       "    text-align: left;\n",
       "  }\n",
       "</style><div class='table-result-container'><table class='table-result'><thead style='background-color: white'><tr><th>player_id</th><th>device_id</th><th>event_date</th><th>games_played</th></tr></thead><tbody><tr><td>1</td><td>2</td><td>2016-03-01</td><td>5</td></tr><tr><td>1</td><td>2</td><td>2016-03-02</td><td>6</td></tr><tr><td>2</td><td>3</td><td>2017-06-25</td><td>1</td></tr><tr><td>3</td><td>1</td><td>2016-03-02</td><td>0</td></tr><tr><td>3</td><td>4</td><td>2018-07-03</td><td>5</td></tr></tbody></table></div>"
      ]
     },
     "metadata": {
      "application/vnd.databricks.v1+output": {
       "addedWidgets": {},
       "aggData": [],
       "aggError": "",
       "aggOverflow": false,
       "aggSchema": [],
       "aggSeriesLimitReached": false,
       "aggType": "",
       "arguments": {},
       "columnCustomDisplayInfos": {},
       "data": [
        [
         1,
         2,
         "2016-03-01",
         5
        ],
        [
         1,
         2,
         "2016-03-02",
         6
        ],
        [
         2,
         3,
         "2017-06-25",
         1
        ],
        [
         3,
         1,
         "2016-03-02",
         0
        ],
        [
         3,
         4,
         "2018-07-03",
         5
        ]
       ],
       "datasetInfos": [],
       "dbfsResultPath": null,
       "isJsonSchema": true,
       "metadata": {},
       "overflow": false,
       "plotOptions": {
        "customPlotOptions": {},
        "displayType": "table",
        "pivotAggregation": null,
        "pivotColumns": null,
        "xColumns": null,
        "yColumns": null
       },
       "removedWidgets": [],
       "schema": [
        {
         "metadata": "{}",
         "name": "player_id",
         "type": "\"long\""
        },
        {
         "metadata": "{}",
         "name": "device_id",
         "type": "\"long\""
        },
        {
         "metadata": "{}",
         "name": "event_date",
         "type": "\"date\""
        },
        {
         "metadata": "{}",
         "name": "games_played",
         "type": "\"long\""
        }
       ],
       "type": "table"
      }
     },
     "output_type": "display_data"
    }
   ],
   "source": [
    "from pyspark.sql import SparkSession\n",
    "from pyspark.sql import Row\n",
    "from datetime import date\n",
    "\n",
    "# Initialize Spark session\n",
    "spark = SparkSession.builder.appName(\"Create Activity Table\").getOrCreate()\n",
    "\n",
    "# Create a list of rows\n",
    "data = [\n",
    "    Row(player_id=1, device_id=2, event_date=date(2016, 3, 1), games_played=5),\n",
    "    Row(player_id=1, device_id=2, event_date=date(2016, 3, 2), games_played=6),\n",
    "    Row(player_id=2, device_id=3, event_date=date(2017, 6, 25), games_played=1),\n",
    "    Row(player_id=3, device_id=1, event_date=date(2016, 3, 2), games_played=0),\n",
    "    Row(player_id=3, device_id=4, event_date=date(2018, 7, 3), games_played=5),\n",
    "]\n",
    "\n",
    "# Create DataFrame from list of rows\n",
    "df = spark.createDataFrame(data)\n",
    "\n",
    "# Show DataFrame schema\n",
    "df.printSchema()\n",
    "\n",
    "# Show DataFrame contents\n",
    "df.display()"
   ]
  },
  {
   "cell_type": "code",
   "execution_count": 0,
   "metadata": {
    "application/vnd.databricks.v1+cell": {
     "cellMetadata": {
      "byteLimit": 2048000,
      "rowLimit": 10000
     },
     "inputWidgets": {},
     "nuid": "8c29c93c-253e-4e37-89c5-3c081d410186",
     "showTitle": false,
     "title": ""
    }
   },
   "outputs": [],
   "source": [
    "df.createOrReplaceTempView(\"activity\")"
   ]
  },
  {
   "cell_type": "markdown",
   "metadata": {
    "application/vnd.databricks.v1+cell": {
     "cellMetadata": {},
     "inputWidgets": {},
     "nuid": "d167c84b-2401-415b-bb9e-aa5e2d7b3d9b",
     "showTitle": false,
     "title": ""
    }
   },
   "source": [
    "--q1: Write an SQL query that reports the first login date for each player"
   ]
  },
  {
   "cell_type": "code",
   "execution_count": 0,
   "metadata": {
    "application/vnd.databricks.v1+cell": {
     "cellMetadata": {
      "byteLimit": 2048000,
      "rowLimit": 10000
     },
     "inputWidgets": {},
     "nuid": "0924e617-75ee-4050-b9c4-0872c931b45a",
     "showTitle": false,
     "title": ""
    }
   },
   "outputs": [
    {
     "output_type": "display_data",
     "data": {
      "text/html": [
       "<style scoped>\n",
       "  .table-result-container {\n",
       "    max-height: 300px;\n",
       "    overflow: auto;\n",
       "  }\n",
       "  table, th, td {\n",
       "    border: 1px solid black;\n",
       "    border-collapse: collapse;\n",
       "  }\n",
       "  th, td {\n",
       "    padding: 5px;\n",
       "  }\n",
       "  th {\n",
       "    text-align: left;\n",
       "  }\n",
       "</style><div class='table-result-container'><table class='table-result'><thead style='background-color: white'><tr><th>player_id</th><th>first_login_date</th></tr></thead><tbody><tr><td>1</td><td>2016-03-01</td></tr><tr><td>2</td><td>2017-06-25</td></tr><tr><td>3</td><td>2016-03-02</td></tr></tbody></table></div>"
      ]
     },
     "metadata": {
      "application/vnd.databricks.v1+output": {
       "addedWidgets": {},
       "aggData": [],
       "aggError": "",
       "aggOverflow": false,
       "aggSchema": [],
       "aggSeriesLimitReached": false,
       "aggType": "",
       "arguments": {},
       "columnCustomDisplayInfos": {},
       "data": [
        [
         1,
         "2016-03-01"
        ],
        [
         2,
         "2017-06-25"
        ],
        [
         3,
         "2016-03-02"
        ]
       ],
       "datasetInfos": [],
       "dbfsResultPath": null,
       "isJsonSchema": true,
       "metadata": {},
       "overflow": false,
       "plotOptions": {
        "customPlotOptions": {},
        "displayType": "table",
        "pivotAggregation": null,
        "pivotColumns": null,
        "xColumns": null,
        "yColumns": null
       },
       "removedWidgets": [],
       "schema": [
        {
         "metadata": "{}",
         "name": "player_id",
         "type": "\"long\""
        },
        {
         "metadata": "{}",
         "name": "first_login_date",
         "type": "\"date\""
        }
       ],
       "type": "table"
      }
     },
     "output_type": "display_data"
    }
   ],
   "source": [
    "from pyspark.sql.functions import min\n",
    "\n",
    "# Group by player_id and calculate the minimum event_date\n",
    "first_login_df = df.groupBy(\"player_id\").agg(\n",
    "    min(\"event_date\").alias(\"first_login_date\")\n",
    ")\n",
    "\n",
    "# Show the result\n",
    "first_login_df.display()"
   ]
  },
  {
   "cell_type": "code",
   "execution_count": 0,
   "metadata": {
    "application/vnd.databricks.v1+cell": {
     "cellMetadata": {
      "byteLimit": 2048000,
      "implicitDf": true,
      "rowLimit": 10000
     },
     "inputWidgets": {},
     "nuid": "984d72aa-f378-4dd0-96db-dd97a859eae7",
     "showTitle": false,
     "title": ""
    }
   },
   "outputs": [
    {
     "output_type": "display_data",
     "data": {
      "text/html": [
       "<style scoped>\n",
       "  .table-result-container {\n",
       "    max-height: 300px;\n",
       "    overflow: auto;\n",
       "  }\n",
       "  table, th, td {\n",
       "    border: 1px solid black;\n",
       "    border-collapse: collapse;\n",
       "  }\n",
       "  th, td {\n",
       "    padding: 5px;\n",
       "  }\n",
       "  th {\n",
       "    text-align: left;\n",
       "  }\n",
       "</style><div class='table-result-container'><table class='table-result'><thead style='background-color: white'><tr><th>player_id</th><th>first_login_date</th></tr></thead><tbody><tr><td>1</td><td>2016-03-01</td></tr><tr><td>2</td><td>2017-06-25</td></tr><tr><td>3</td><td>2016-03-02</td></tr></tbody></table></div>"
      ]
     },
     "metadata": {
      "application/vnd.databricks.v1+output": {
       "addedWidgets": {},
       "aggData": [],
       "aggError": "",
       "aggOverflow": false,
       "aggSchema": [],
       "aggSeriesLimitReached": false,
       "aggType": "",
       "arguments": {},
       "columnCustomDisplayInfos": {},
       "data": [
        [
         1,
         "2016-03-01"
        ],
        [
         2,
         "2017-06-25"
        ],
        [
         3,
         "2016-03-02"
        ]
       ],
       "datasetInfos": [],
       "dbfsResultPath": null,
       "isJsonSchema": true,
       "metadata": {},
       "overflow": false,
       "plotOptions": {
        "customPlotOptions": {},
        "displayType": "table",
        "pivotAggregation": null,
        "pivotColumns": null,
        "xColumns": null,
        "yColumns": null
       },
       "removedWidgets": [],
       "schema": [
        {
         "metadata": "{}",
         "name": "player_id",
         "type": "\"long\""
        },
        {
         "metadata": "{}",
         "name": "first_login_date",
         "type": "\"date\""
        }
       ],
       "type": "table"
      }
     },
     "output_type": "display_data"
    }
   ],
   "source": [
    "%sql\n",
    "SELECT\n",
    "  player_id,\n",
    "  MIN(event_date) AS first_login_date\n",
    "FROM\n",
    "  activity\n",
    "GROUP BY\n",
    "  player_id;"
   ]
  },
  {
   "cell_type": "markdown",
   "metadata": {
    "application/vnd.databricks.v1+cell": {
     "cellMetadata": {},
     "inputWidgets": {},
     "nuid": "0204b3b0-5847-44a3-9ef7-caa36ee1796a",
     "showTitle": false,
     "title": ""
    }
   },
   "source": [
    "--q2: Write a SQL query that reports the device that is first logged in for each player"
   ]
  },
  {
   "cell_type": "code",
   "execution_count": 0,
   "metadata": {
    "application/vnd.databricks.v1+cell": {
     "cellMetadata": {
      "byteLimit": 2048000,
      "implicitDf": true,
      "rowLimit": 10000
     },
     "inputWidgets": {},
     "nuid": "6b9a4c21-287f-44ac-a481-b755952fa211",
     "showTitle": false,
     "title": ""
    }
   },
   "outputs": [
    {
     "output_type": "display_data",
     "data": {
      "text/html": [
       "<style scoped>\n",
       "  .table-result-container {\n",
       "    max-height: 300px;\n",
       "    overflow: auto;\n",
       "  }\n",
       "  table, th, td {\n",
       "    border: 1px solid black;\n",
       "    border-collapse: collapse;\n",
       "  }\n",
       "  th, td {\n",
       "    padding: 5px;\n",
       "  }\n",
       "  th {\n",
       "    text-align: left;\n",
       "  }\n",
       "</style><div class='table-result-container'><table class='table-result'><thead style='background-color: white'><tr><th>player_id</th><th>device_id</th><th>event_date</th><th>games_played</th></tr></thead><tbody><tr><td>1</td><td>2</td><td>2016-03-01</td><td>5</td></tr><tr><td>2</td><td>3</td><td>2017-06-25</td><td>1</td></tr><tr><td>3</td><td>1</td><td>2016-03-02</td><td>0</td></tr></tbody></table></div>"
      ]
     },
     "metadata": {
      "application/vnd.databricks.v1+output": {
       "addedWidgets": {},
       "aggData": [],
       "aggError": "",
       "aggOverflow": false,
       "aggSchema": [],
       "aggSeriesLimitReached": false,
       "aggType": "",
       "arguments": {},
       "columnCustomDisplayInfos": {},
       "data": [
        [
         1,
         2,
         "2016-03-01",
         5
        ],
        [
         2,
         3,
         "2017-06-25",
         1
        ],
        [
         3,
         1,
         "2016-03-02",
         0
        ]
       ],
       "datasetInfos": [],
       "dbfsResultPath": null,
       "isJsonSchema": true,
       "metadata": {},
       "overflow": false,
       "plotOptions": {
        "customPlotOptions": {},
        "displayType": "table",
        "pivotAggregation": null,
        "pivotColumns": null,
        "xColumns": null,
        "yColumns": null
       },
       "removedWidgets": [],
       "schema": [
        {
         "metadata": "{}",
         "name": "player_id",
         "type": "\"long\""
        },
        {
         "metadata": "{}",
         "name": "device_id",
         "type": "\"long\""
        },
        {
         "metadata": "{}",
         "name": "event_date",
         "type": "\"date\""
        },
        {
         "metadata": "{}",
         "name": "games_played",
         "type": "\"long\""
        }
       ],
       "type": "table"
      }
     },
     "output_type": "display_data"
    }
   ],
   "source": [
    "%sql\n",
    "with temp as (\n",
    "  select\n",
    "    player_id,\n",
    "    min(event_date) First_Login_Date\n",
    "  from\n",
    "    activity\n",
    "  group by\n",
    "    player_id\n",
    ")\n",
    "select\n",
    "  a.*\n",
    "from\n",
    "  temp t\n",
    "  inner join activity a on t.player_id = a.player_id\n",
    "  and First_Login_Date = event_date"
   ]
  },
  {
   "cell_type": "code",
   "execution_count": 0,
   "metadata": {
    "application/vnd.databricks.v1+cell": {
     "cellMetadata": {
      "byteLimit": 2048000,
      "rowLimit": 10000
     },
     "inputWidgets": {},
     "nuid": "81151252-1143-48bc-9382-04495afe9c8b",
     "showTitle": false,
     "title": ""
    }
   },
   "outputs": [
    {
     "output_type": "display_data",
     "data": {
      "text/html": [
       "<style scoped>\n",
       "  .table-result-container {\n",
       "    max-height: 300px;\n",
       "    overflow: auto;\n",
       "  }\n",
       "  table, th, td {\n",
       "    border: 1px solid black;\n",
       "    border-collapse: collapse;\n",
       "  }\n",
       "  th, td {\n",
       "    padding: 5px;\n",
       "  }\n",
       "  th {\n",
       "    text-align: left;\n",
       "  }\n",
       "</style><div class='table-result-container'><table class='table-result'><thead style='background-color: white'><tr><th>player_id</th><th>device_id</th><th>event_date</th><th>games_played</th></tr></thead><tbody><tr><td>1</td><td>2</td><td>2016-03-01</td><td>5</td></tr><tr><td>2</td><td>3</td><td>2017-06-25</td><td>1</td></tr><tr><td>3</td><td>1</td><td>2016-03-02</td><td>0</td></tr></tbody></table></div>"
      ]
     },
     "metadata": {
      "application/vnd.databricks.v1+output": {
       "addedWidgets": {},
       "aggData": [],
       "aggError": "",
       "aggOverflow": false,
       "aggSchema": [],
       "aggSeriesLimitReached": false,
       "aggType": "",
       "arguments": {},
       "columnCustomDisplayInfos": {},
       "data": [
        [
         1,
         2,
         "2016-03-01",
         5
        ],
        [
         2,
         3,
         "2017-06-25",
         1
        ],
        [
         3,
         1,
         "2016-03-02",
         0
        ]
       ],
       "datasetInfos": [],
       "dbfsResultPath": null,
       "isJsonSchema": true,
       "metadata": {},
       "overflow": false,
       "plotOptions": {
        "customPlotOptions": {},
        "displayType": "table",
        "pivotAggregation": null,
        "pivotColumns": null,
        "xColumns": null,
        "yColumns": null
       },
       "removedWidgets": [],
       "schema": [
        {
         "metadata": "{}",
         "name": "player_id",
         "type": "\"long\""
        },
        {
         "metadata": "{}",
         "name": "device_id",
         "type": "\"long\""
        },
        {
         "metadata": "{}",
         "name": "event_date",
         "type": "\"date\""
        },
        {
         "metadata": "{}",
         "name": "games_played",
         "type": "\"long\""
        }
       ],
       "type": "table"
      }
     },
     "output_type": "display_data"
    }
   ],
   "source": [
    "from pyspark.sql import Row\n",
    "from pyspark.sql.functions import col, min\n",
    "from datetime import date\n",
    "\n",
    "first_login_df = df.groupBy(\"player_id\").agg(\n",
    "    min(\"event_date\").alias(\"First_Login_Date\")\n",
    ")\n",
    "\n",
    "# Join the original DataFrame with the first login DataFrame to get the corresponding rows\n",
    "result_df = df.join(\n",
    "    first_login_df,\n",
    "    (df.player_id == first_login_df.player_id)\n",
    "    & (df.event_date == first_login_df.First_Login_Date),\n",
    ").select(df[\"*\"])\n",
    "\n",
    "\n",
    "result_df.display()"
   ]
  },
  {
   "cell_type": "code",
   "execution_count": 0,
   "metadata": {
    "application/vnd.databricks.v1+cell": {
     "cellMetadata": {
      "byteLimit": 2048000,
      "implicitDf": true,
      "rowLimit": 10000
     },
     "inputWidgets": {},
     "nuid": "6e8a6b73-74a9-496e-8588-680c175112b8",
     "showTitle": false,
     "title": ""
    }
   },
   "outputs": [
    {
     "output_type": "display_data",
     "data": {
      "text/html": [
       "<style scoped>\n",
       "  .table-result-container {\n",
       "    max-height: 300px;\n",
       "    overflow: auto;\n",
       "  }\n",
       "  table, th, td {\n",
       "    border: 1px solid black;\n",
       "    border-collapse: collapse;\n",
       "  }\n",
       "  th, td {\n",
       "    padding: 5px;\n",
       "  }\n",
       "  th {\n",
       "    text-align: left;\n",
       "  }\n",
       "</style><div class='table-result-container'><table class='table-result'><thead style='background-color: white'><tr><th>player_id</th><th>device_id</th><th>event_date</th><th>games_played</th></tr></thead><tbody><tr><td>1</td><td>2</td><td>2016-03-01</td><td>5</td></tr><tr><td>2</td><td>3</td><td>2017-06-25</td><td>1</td></tr><tr><td>3</td><td>1</td><td>2016-03-02</td><td>0</td></tr></tbody></table></div>"
      ]
     },
     "metadata": {
      "application/vnd.databricks.v1+output": {
       "addedWidgets": {},
       "aggData": [],
       "aggError": "",
       "aggOverflow": false,
       "aggSchema": [],
       "aggSeriesLimitReached": false,
       "aggType": "",
       "arguments": {},
       "columnCustomDisplayInfos": {},
       "data": [
        [
         1,
         2,
         "2016-03-01",
         5
        ],
        [
         2,
         3,
         "2017-06-25",
         1
        ],
        [
         3,
         1,
         "2016-03-02",
         0
        ]
       ],
       "datasetInfos": [],
       "dbfsResultPath": null,
       "isJsonSchema": true,
       "metadata": {},
       "overflow": false,
       "plotOptions": {
        "customPlotOptions": {},
        "displayType": "table",
        "pivotAggregation": null,
        "pivotColumns": null,
        "xColumns": null,
        "yColumns": null
       },
       "removedWidgets": [],
       "schema": [
        {
         "metadata": "{}",
         "name": "player_id",
         "type": "\"long\""
        },
        {
         "metadata": "{}",
         "name": "device_id",
         "type": "\"long\""
        },
        {
         "metadata": "{}",
         "name": "event_date",
         "type": "\"date\""
        },
        {
         "metadata": "{}",
         "name": "games_played",
         "type": "\"long\""
        }
       ],
       "type": "table"
      }
     },
     "output_type": "display_data"
    }
   ],
   "source": [
    "%sql\n",
    "with temp as (\n",
    "  select\n",
    "    player_id,\n",
    "    min(event_date) First_Login_Date\n",
    "  from\n",
    "    activity\n",
    "  group by\n",
    "    player_id\n",
    ")\n",
    "select\n",
    "  a.*\n",
    "from\n",
    "  temp t\n",
    "  inner join activity a on t.player_id = a.player_id\n",
    "  and First_Login_Date = event_date"
   ]
  },
  {
   "cell_type": "markdown",
   "metadata": {
    "application/vnd.databricks.v1+cell": {
     "cellMetadata": {},
     "inputWidgets": {},
     "nuid": "450ae780-840d-4bb0-8fac-abd9e5b34d47",
     "showTitle": false,
     "title": ""
    }
   },
   "source": [
    "--q3: Write an SQL query that reports for each player and date, how many games played so far by the player. --That is, the total number of games played by the player until that date."
   ]
  },
  {
   "cell_type": "code",
   "execution_count": 0,
   "metadata": {
    "application/vnd.databricks.v1+cell": {
     "cellMetadata": {
      "byteLimit": 2048000,
      "rowLimit": 10000
     },
     "inputWidgets": {},
     "nuid": "0cf55026-4d7c-4af1-9cf9-3d942682b52b",
     "showTitle": false,
     "title": ""
    }
   },
   "outputs": [
    {
     "output_type": "display_data",
     "data": {
      "text/html": [
       "<style scoped>\n",
       "  .table-result-container {\n",
       "    max-height: 300px;\n",
       "    overflow: auto;\n",
       "  }\n",
       "  table, th, td {\n",
       "    border: 1px solid black;\n",
       "    border-collapse: collapse;\n",
       "  }\n",
       "  th, td {\n",
       "    padding: 5px;\n",
       "  }\n",
       "  th {\n",
       "    text-align: left;\n",
       "  }\n",
       "</style><div class='table-result-container'><table class='table-result'><thead style='background-color: white'><tr><th>player_id</th><th>device_id</th><th>event_date</th><th>games_played</th><th>total_number_of_games</th></tr></thead><tbody><tr><td>1</td><td>2</td><td>2016-03-01</td><td>5</td><td>5</td></tr><tr><td>1</td><td>2</td><td>2016-03-02</td><td>6</td><td>11</td></tr><tr><td>2</td><td>3</td><td>2017-06-25</td><td>1</td><td>1</td></tr><tr><td>3</td><td>1</td><td>2016-03-02</td><td>0</td><td>0</td></tr><tr><td>3</td><td>4</td><td>2018-07-03</td><td>5</td><td>5</td></tr></tbody></table></div>"
      ]
     },
     "metadata": {
      "application/vnd.databricks.v1+output": {
       "addedWidgets": {},
       "aggData": [],
       "aggError": "",
       "aggOverflow": false,
       "aggSchema": [],
       "aggSeriesLimitReached": false,
       "aggType": "",
       "arguments": {},
       "columnCustomDisplayInfos": {},
       "data": [
        [
         1,
         2,
         "2016-03-01",
         5,
         5
        ],
        [
         1,
         2,
         "2016-03-02",
         6,
         11
        ],
        [
         2,
         3,
         "2017-06-25",
         1,
         1
        ],
        [
         3,
         1,
         "2016-03-02",
         0,
         0
        ],
        [
         3,
         4,
         "2018-07-03",
         5,
         5
        ]
       ],
       "datasetInfos": [],
       "dbfsResultPath": null,
       "isJsonSchema": true,
       "metadata": {},
       "overflow": false,
       "plotOptions": {
        "customPlotOptions": {},
        "displayType": "table",
        "pivotAggregation": null,
        "pivotColumns": null,
        "xColumns": null,
        "yColumns": null
       },
       "removedWidgets": [],
       "schema": [
        {
         "metadata": "{}",
         "name": "player_id",
         "type": "\"long\""
        },
        {
         "metadata": "{}",
         "name": "device_id",
         "type": "\"long\""
        },
        {
         "metadata": "{}",
         "name": "event_date",
         "type": "\"date\""
        },
        {
         "metadata": "{}",
         "name": "games_played",
         "type": "\"long\""
        },
        {
         "metadata": "{}",
         "name": "total_number_of_games",
         "type": "\"long\""
        }
       ],
       "type": "table"
      }
     },
     "output_type": "display_data"
    }
   ],
   "source": [
    "from pyspark.sql import Row\n",
    "from pyspark.sql.functions import sum as _sum\n",
    "from pyspark.sql.window import Window\n",
    "from datetime import date\n",
    "\n",
    "window_spec = Window.partitionBy(\"player_id\").orderBy(\"event_date\")\n",
    "\n",
    "# Apply the sum function over the window\n",
    "df_with_total = df.withColumn(\n",
    "    \"total_number_of_games\", _sum(\"games_played\").over(window_spec)\n",
    ")\n",
    "\n",
    "# Show the result\n",
    "df_with_total.display()"
   ]
  },
  {
   "cell_type": "code",
   "execution_count": 0,
   "metadata": {
    "application/vnd.databricks.v1+cell": {
     "cellMetadata": {
      "byteLimit": 2048000,
      "implicitDf": true,
      "rowLimit": 10000
     },
     "inputWidgets": {},
     "nuid": "5646c0f7-8652-4859-8e22-9c34aa626bd6",
     "showTitle": false,
     "title": ""
    }
   },
   "outputs": [
    {
     "output_type": "display_data",
     "data": {
      "text/html": [
       "<style scoped>\n",
       "  .table-result-container {\n",
       "    max-height: 300px;\n",
       "    overflow: auto;\n",
       "  }\n",
       "  table, th, td {\n",
       "    border: 1px solid black;\n",
       "    border-collapse: collapse;\n",
       "  }\n",
       "  th, td {\n",
       "    padding: 5px;\n",
       "  }\n",
       "  th {\n",
       "    text-align: left;\n",
       "  }\n",
       "</style><div class='table-result-container'><table class='table-result'><thead style='background-color: white'><tr><th>player_id</th><th>device_id</th><th>event_date</th><th>games_played</th><th>total_number_of_games</th></tr></thead><tbody><tr><td>1</td><td>2</td><td>2016-03-01</td><td>5</td><td>5</td></tr><tr><td>1</td><td>2</td><td>2016-03-02</td><td>6</td><td>11</td></tr><tr><td>2</td><td>3</td><td>2017-06-25</td><td>1</td><td>1</td></tr><tr><td>3</td><td>1</td><td>2016-03-02</td><td>0</td><td>0</td></tr><tr><td>3</td><td>4</td><td>2018-07-03</td><td>5</td><td>5</td></tr></tbody></table></div>"
      ]
     },
     "metadata": {
      "application/vnd.databricks.v1+output": {
       "addedWidgets": {},
       "aggData": [],
       "aggError": "",
       "aggOverflow": false,
       "aggSchema": [],
       "aggSeriesLimitReached": false,
       "aggType": "",
       "arguments": {},
       "columnCustomDisplayInfos": {},
       "data": [
        [
         1,
         2,
         "2016-03-01",
         5,
         5
        ],
        [
         1,
         2,
         "2016-03-02",
         6,
         11
        ],
        [
         2,
         3,
         "2017-06-25",
         1,
         1
        ],
        [
         3,
         1,
         "2016-03-02",
         0,
         0
        ],
        [
         3,
         4,
         "2018-07-03",
         5,
         5
        ]
       ],
       "datasetInfos": [],
       "dbfsResultPath": null,
       "isJsonSchema": true,
       "metadata": {},
       "overflow": false,
       "plotOptions": {
        "customPlotOptions": {},
        "displayType": "table",
        "pivotAggregation": null,
        "pivotColumns": null,
        "xColumns": null,
        "yColumns": null
       },
       "removedWidgets": [],
       "schema": [
        {
         "metadata": "{}",
         "name": "player_id",
         "type": "\"long\""
        },
        {
         "metadata": "{}",
         "name": "device_id",
         "type": "\"long\""
        },
        {
         "metadata": "{}",
         "name": "event_date",
         "type": "\"date\""
        },
        {
         "metadata": "{}",
         "name": "games_played",
         "type": "\"long\""
        },
        {
         "metadata": "{}",
         "name": "total_number_of_games",
         "type": "\"long\""
        }
       ],
       "type": "table"
      }
     },
     "output_type": "display_data"
    }
   ],
   "source": [
    "%sql\n",
    "select\n",
    "  *,\n",
    "  sum(games_played) over(\n",
    "    partition by player_id\n",
    "    order by\n",
    "      event_date\n",
    "  ) total_number_of_games\n",
    "from\n",
    "  activity"
   ]
  },
  {
   "cell_type": "markdown",
   "metadata": {
    "application/vnd.databricks.v1+cell": {
     "cellMetadata": {},
     "inputWidgets": {},
     "nuid": "22568f02-4e39-453e-9c9e-70032bfefc98",
     "showTitle": false,
     "title": ""
    }
   },
   "source": [
    "--q4: Write an SQL query that reports the fraction of players that logged in again on the day after the day they first logged in, rounded to 2 decimal places"
   ]
  },
  {
   "cell_type": "code",
   "execution_count": 0,
   "metadata": {
    "application/vnd.databricks.v1+cell": {
     "cellMetadata": {
      "byteLimit": 2048000,
      "rowLimit": 10000
     },
     "inputWidgets": {},
     "nuid": "98b81bc3-a321-4ebb-8091-3cb263cb436c",
     "showTitle": false,
     "title": ""
    }
   },
   "outputs": [
    {
     "output_type": "stream",
     "name": "stdout",
     "output_type": "stream",
     "text": [
      "+----------+\n|percentage|\n+----------+\n|     33.33|\n+----------+\n\n"
     ]
    }
   ],
   "source": [
    "from pyspark.sql import Row\n",
    "from pyspark.sql.functions import col, countDistinct, lag, round, expr, lit\n",
    "from pyspark.sql.window import Window\n",
    "from datetime import date\n",
    "\n",
    "# Define the window specification\n",
    "window_spec = Window.partitionBy(\"player_id\").orderBy(\"event_date\")\n",
    "\n",
    "# Calculate the previous event date for each player\n",
    "df_with_prev_date = df.withColumn(\"prev_date\", lag(\"event_date\", 1).over(window_spec))\n",
    "\n",
    "# Filter for logins that occurred the day after the previous login\n",
    "df_day_after = df_with_prev_date.filter(\n",
    "    col(\"prev_date\").isNotNull() & \n",
    "    (expr(\"datediff(event_date, prev_date)\") == 1)\n",
    ")\n",
    "\n",
    "# Count distinct players who logged in the day after their first login\n",
    "day_after_count = df_day_after.select(countDistinct(\"player_id\").alias(\"cnt\")).collect()[0][\"cnt\"]\n",
    "\n",
    "# Count total distinct players\n",
    "total_players_count = df.select(countDistinct(\"player_id\")).collect()[0][0]\n",
    "\n",
    "# Calculate the percentage\n",
    "percentage = (day_after_count / total_players_count) * 100\n",
    "\n",
    "# Round to 2 decimal places using lit\n",
    "percentage_rounded = df.withColumn(\"percentage\", round(lit(percentage), 2))\n",
    "\n",
    "# Show the result\n",
    "percentage_rounded.select(\"percentage\").distinct().show()\n"
   ]
  },
  {
   "cell_type": "code",
   "execution_count": 0,
   "metadata": {
    "application/vnd.databricks.v1+cell": {
     "cellMetadata": {
      "byteLimit": 2048000,
      "implicitDf": true,
      "rowLimit": 10000
     },
     "inputWidgets": {},
     "nuid": "39e09d03-e045-4db1-a46e-0ef9f1cf02ce",
     "showTitle": false,
     "title": ""
    }
   },
   "outputs": [
    {
     "output_type": "display_data",
     "data": {
      "text/html": [
       "<style scoped>\n",
       "  .table-result-container {\n",
       "    max-height: 300px;\n",
       "    overflow: auto;\n",
       "  }\n",
       "  table, th, td {\n",
       "    border: 1px solid black;\n",
       "    border-collapse: collapse;\n",
       "  }\n",
       "  th, td {\n",
       "    padding: 5px;\n",
       "  }\n",
       "  th {\n",
       "    text-align: left;\n",
       "  }\n",
       "</style><div class='table-result-container'><table class='table-result'><thead style='background-color: white'><tr><th>percentage</th></tr></thead><tbody><tr><td>33.33</td></tr></tbody></table></div>"
      ]
     },
     "metadata": {
      "application/vnd.databricks.v1+output": {
       "addedWidgets": {},
       "aggData": [],
       "aggError": "",
       "aggOverflow": false,
       "aggSchema": [],
       "aggSeriesLimitReached": false,
       "aggType": "",
       "arguments": {},
       "columnCustomDisplayInfos": {},
       "data": [
        [
         33.33
        ]
       ],
       "datasetInfos": [],
       "dbfsResultPath": null,
       "isJsonSchema": true,
       "metadata": {},
       "overflow": false,
       "plotOptions": {
        "customPlotOptions": {},
        "displayType": "table",
        "pivotAggregation": null,
        "pivotColumns": null,
        "xColumns": null,
        "yColumns": null
       },
       "removedWidgets": [],
       "schema": [
        {
         "metadata": "{}",
         "name": "percentage",
         "type": "\"double\""
        }
       ],
       "type": "table"
      }
     },
     "output_type": "display_data"
    }
   ],
   "source": [
    "%sql\n",
    "with cte as(\n",
    "  select\n",
    "    count(\n",
    "      distinct case\n",
    "        when extract(\n",
    "          day\n",
    "          from\n",
    "            prev_date\n",
    "        ) - extract(\n",
    "          day\n",
    "          from\n",
    "            event_date\n",
    "        ) = -1 then 1\n",
    "      end\n",
    "    ) as cnt\n",
    "  from(\n",
    "      select\n",
    "        player_id,\n",
    "        device_id,\n",
    "        event_date,\n",
    "        games_played,\n",
    "        lag(event_date, 1) over(\n",
    "          partition by player_id\n",
    "          order by\n",
    "            event_date\n",
    "        ) as prev_date\n",
    "      from\n",
    "        activity\n",
    "    ) A\n",
    ")\n",
    "select\n",
    "  round(\n",
    "    cnt /(\n",
    "      select\n",
    "        count(distinct player_id)\n",
    "      from\n",
    "        activity\n",
    "    ) * 100.0,\n",
    "    2\n",
    "  ) as percentage\n",
    "from\n",
    "  cte"
   ]
  }
 ],
 "metadata": {
  "application/vnd.databricks.v1+notebook": {
   "dashboards": [],
   "environmentMetadata": null,
   "language": "python",
   "notebookMetadata": {
    "mostRecentlyExecutedCommandWithImplicitDF": {
     "commandId": 2449866010299107,
     "dataframes": [
      "_sqldf"
     ]
    },
    "pythonIndentUnit": 4
   },
   "notebookName": "Leetcode SQL Problem Set of 4 Questions | Game Play Analysis",
   "widgets": {}
  }
 },
 "nbformat": 4,
 "nbformat_minor": 0
}
