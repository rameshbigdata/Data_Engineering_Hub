{
 "cells": [
  {
   "cell_type": "markdown",
   "metadata": {
    "application/vnd.databricks.v1+cell": {
     "cellMetadata": {},
     "inputWidgets": {},
     "nuid": "cba469e0-6051-435c-9575-a717a5399339",
     "showTitle": false,
     "title": ""
    }
   },
   "source": [
    "Problem statement:\n",
    "\n",
    "Given a travel route dataset containing information about origin and destination cities, you need to identify the travel routes that occur only once in the dataset. Specifically:\n",
    "\n",
    "Input: A dataset with two columns:\n",
    "\n",
    "origin: The city from which the travel originates.\n",
    "destination: The city to which the travel is headed.\n",
    "Task:\n",
    "\n",
    "Perform a self-join on the dataset to find matching routes where the origin of one route matches the destination of another.\n",
    "For each origin and destination pair, calculate the count of how many times that pair appears in the dataset.\n",
    "Filter out the pairs that appear more than once, leaving only those that appear once or not at all.\n",
    "Return the list of routes (origin-destination pairs) that appear at most once in the dataset, ordered by the destination city."
   ]
  },
  {
   "cell_type": "code",
   "execution_count": 0,
   "metadata": {
    "application/vnd.databricks.v1+cell": {
     "cellMetadata": {
      "byteLimit": 2048000,
      "rowLimit": 10000
     },
     "inputWidgets": {},
     "nuid": "7a39d919-8ffd-4917-a7c2-e7caea8c656b",
     "showTitle": false,
     "title": ""
    }
   },
   "outputs": [
    {
     "output_type": "display_data",
     "data": {
      "text/html": [
       "<style scoped>\n",
       "  .table-result-container {\n",
       "    max-height: 300px;\n",
       "    overflow: auto;\n",
       "  }\n",
       "  table, th, td {\n",
       "    border: 1px solid black;\n",
       "    border-collapse: collapse;\n",
       "  }\n",
       "  th, td {\n",
       "    padding: 5px;\n",
       "  }\n",
       "  th {\n",
       "    text-align: left;\n",
       "  }\n",
       "</style><div class='table-result-container'><table class='table-result'><thead style='background-color: white'><tr><th>Origin</th><th>Destination</th></tr></thead><tbody><tr><td>Bangalore</td><td>Chennai</td></tr><tr><td>Chennai</td><td>Bangalore</td></tr><tr><td>Pune</td><td>Chennai</td></tr><tr><td>Delhi</td><td>Pune</td></tr></tbody></table></div>"
      ]
     },
     "metadata": {
      "application/vnd.databricks.v1+output": {
       "addedWidgets": {},
       "aggData": [],
       "aggError": "",
       "aggOverflow": false,
       "aggSchema": [],
       "aggSeriesLimitReached": false,
       "aggType": "",
       "arguments": {},
       "columnCustomDisplayInfos": {},
       "data": [
        [
         "Bangalore",
         "Chennai"
        ],
        [
         "Chennai",
         "Bangalore"
        ],
        [
         "Pune",
         "Chennai"
        ],
        [
         "Delhi",
         "Pune"
        ]
       ],
       "datasetInfos": [],
       "dbfsResultPath": null,
       "isJsonSchema": true,
       "metadata": {},
       "overflow": false,
       "plotOptions": {
        "customPlotOptions": {},
        "displayType": "table",
        "pivotAggregation": null,
        "pivotColumns": null,
        "xColumns": null,
        "yColumns": null
       },
       "removedWidgets": [],
       "schema": [
        {
         "metadata": "{}",
         "name": "Origin",
         "type": "\"string\""
        },
        {
         "metadata": "{}",
         "name": "Destination",
         "type": "\"string\""
        }
       ],
       "type": "table"
      }
     },
     "output_type": "display_data"
    }
   ],
   "source": [
    "from pyspark.sql import SparkSession\n",
    "from pyspark.sql.types import StructType, StructField, StringType\n",
    "from pyspark.sql import functions as F\n",
    "\n",
    "# Create a Spark session\n",
    "spark = SparkSession.builder.appName(\"RoutesDataFrame\").getOrCreate()\n",
    "\n",
    "# Define the schema for the DataFrame\n",
    "schema = StructType([\n",
    "    StructField(\"Origin\", StringType(), True),\n",
    "    StructField(\"Destination\", StringType(), True)\n",
    "])\n",
    "\n",
    "# Define the data\n",
    "data = [\n",
    "    (\"Bangalore\", \"Chennai\"),\n",
    "    (\"Chennai\", \"Bangalore\"),\n",
    "    (\"Pune\", \"Chennai\"),\n",
    "    (\"Delhi\", \"Pune\")\n",
    "]\n",
    "\n",
    "# Create a DataFrame\n",
    "routes_df = spark.createDataFrame(data, schema)\n",
    "\n",
    "# Show the DataFrame\n",
    "routes_df.display()\n"
   ]
  },
  {
   "cell_type": "code",
   "execution_count": 0,
   "metadata": {
    "application/vnd.databricks.v1+cell": {
     "cellMetadata": {
      "byteLimit": 2048000,
      "rowLimit": 10000
     },
     "inputWidgets": {},
     "nuid": "fdaf98be-35f0-4c32-887c-4f421f321ce4",
     "showTitle": false,
     "title": ""
    }
   },
   "outputs": [],
   "source": [
    "routes_df.createOrReplaceTempView('travel')"
   ]
  },
  {
   "cell_type": "code",
   "execution_count": 0,
   "metadata": {
    "application/vnd.databricks.v1+cell": {
     "cellMetadata": {
      "byteLimit": 2048000,
      "rowLimit": 10000
     },
     "inputWidgets": {},
     "nuid": "bcd1298e-4970-4013-84ca-8974b9953942",
     "showTitle": false,
     "title": ""
    }
   },
   "outputs": [
    {
     "output_type": "display_data",
     "data": {
      "text/html": [
       "<style scoped>\n",
       "  .table-result-container {\n",
       "    max-height: 300px;\n",
       "    overflow: auto;\n",
       "  }\n",
       "  table, th, td {\n",
       "    border: 1px solid black;\n",
       "    border-collapse: collapse;\n",
       "  }\n",
       "  th, td {\n",
       "    padding: 5px;\n",
       "  }\n",
       "  th {\n",
       "    text-align: left;\n",
       "  }\n",
       "</style><div class='table-result-container'><table class='table-result'><thead style='background-color: white'><tr><th>origin</th><th>destination</th></tr></thead><tbody><tr><td>Bangalore</td><td>Chennai</td></tr><tr><td>Pune</td><td>Chennai</td></tr><tr><td>Delhi</td><td>Pune</td></tr></tbody></table></div>"
      ]
     },
     "metadata": {
      "application/vnd.databricks.v1+output": {
       "addedWidgets": {},
       "aggData": [],
       "aggError": "",
       "aggOverflow": false,
       "aggSchema": [],
       "aggSeriesLimitReached": false,
       "aggType": "",
       "arguments": {},
       "columnCustomDisplayInfos": {},
       "data": [
        [
         "Bangalore",
         "Chennai"
        ],
        [
         "Pune",
         "Chennai"
        ],
        [
         "Delhi",
         "Pune"
        ]
       ],
       "datasetInfos": [],
       "dbfsResultPath": null,
       "isJsonSchema": true,
       "metadata": {},
       "overflow": false,
       "plotOptions": {
        "customPlotOptions": {},
        "displayType": "table",
        "pivotAggregation": null,
        "pivotColumns": null,
        "xColumns": null,
        "yColumns": null
       },
       "removedWidgets": [],
       "schema": [
        {
         "metadata": "{}",
         "name": "origin",
         "type": "\"string\""
        },
        {
         "metadata": "{}",
         "name": "destination",
         "type": "\"string\""
        }
       ],
       "type": "table"
      }
     },
     "output_type": "display_data"
    }
   ],
   "source": [
    "# Perform a self join to match t1.origin with t2.destination\n",
    "joined_df = routes_df.alias(\"t1\").join(\n",
    "    routes_df.alias(\"t2\"),\n",
    "    F.col(\"t1.origin\") == F.col(\"t2.destination\"),\n",
    "    how=\"left\"\n",
    ")\n",
    "\n",
    "# Group by t1.origin and t1.destination and calculate the count\n",
    "cte_df = joined_df.groupBy(\"t1.origin\", \"t1.destination\").agg(F.count(\"*\").alias(\"cnt\"))\n",
    "\n",
    "# Filter rows where cnt <= 1 and order by destination\n",
    "result_df = cte_df.filter(F.col(\"cnt\") <= 1).orderBy(\"t1.destination\")\n",
    "\n",
    "# Show the result\n",
    "result_df.select(\"origin\", \"destination\").display()\n"
   ]
  },
  {
   "cell_type": "markdown",
   "metadata": {
    "application/vnd.databricks.v1+cell": {
     "cellMetadata": {},
     "inputWidgets": {},
     "nuid": "c49dbe38-a217-40e5-9c0a-c4ebb0c3a1b0",
     "showTitle": false,
     "title": ""
    }
   },
   "source": [
    "Explanation:\n",
    "\n",
    "Sample Data: We create a sample dataset that simulates your travel table.\n",
    "\n",
    "Self Left Join: The travel_df DataFrame is joined to itself, using a left join on the condition t1.origin = t2.destination.\n",
    "\n",
    "Group By and Aggregate: We group the results by t1.origin and t1.destination, and compute the count of rows.\n",
    "\n",
    "Filter and Order: We filter the DataFrame to only include rows where the count (cnt) is less than or equal to 1, and then sort the results by the destination column.\n",
    "\n",
    "Select and Display: Finally, we select the origin and destination columns and display the result."
   ]
  },
  {
   "cell_type": "code",
   "execution_count": 0,
   "metadata": {
    "application/vnd.databricks.v1+cell": {
     "cellMetadata": {
      "byteLimit": 2048000,
      "implicitDf": true,
      "rowLimit": 10000
     },
     "inputWidgets": {},
     "nuid": "faf0b3eb-ed93-4ade-9018-8c887c349d05",
     "showTitle": false,
     "title": ""
    }
   },
   "outputs": [
    {
     "output_type": "display_data",
     "data": {
      "text/html": [
       "<style scoped>\n",
       "  .table-result-container {\n",
       "    max-height: 300px;\n",
       "    overflow: auto;\n",
       "  }\n",
       "  table, th, td {\n",
       "    border: 1px solid black;\n",
       "    border-collapse: collapse;\n",
       "  }\n",
       "  th, td {\n",
       "    padding: 5px;\n",
       "  }\n",
       "  th {\n",
       "    text-align: left;\n",
       "  }\n",
       "</style><div class='table-result-container'><table class='table-result'><thead style='background-color: white'><tr><th>origin</th><th>destination</th></tr></thead><tbody><tr><td>Bangalore</td><td>Chennai</td></tr><tr><td>Pune</td><td>Chennai</td></tr><tr><td>Delhi</td><td>Pune</td></tr></tbody></table></div>"
      ]
     },
     "metadata": {
      "application/vnd.databricks.v1+output": {
       "addedWidgets": {},
       "aggData": [],
       "aggError": "",
       "aggOverflow": false,
       "aggSchema": [],
       "aggSeriesLimitReached": false,
       "aggType": "",
       "arguments": {},
       "columnCustomDisplayInfos": {},
       "data": [
        [
         "Bangalore",
         "Chennai"
        ],
        [
         "Pune",
         "Chennai"
        ],
        [
         "Delhi",
         "Pune"
        ]
       ],
       "datasetInfos": [],
       "dbfsResultPath": null,
       "isJsonSchema": true,
       "metadata": {},
       "overflow": false,
       "plotOptions": {
        "customPlotOptions": {},
        "displayType": "table",
        "pivotAggregation": null,
        "pivotColumns": null,
        "xColumns": null,
        "yColumns": null
       },
       "removedWidgets": [],
       "schema": [
        {
         "metadata": "{}",
         "name": "origin",
         "type": "\"string\""
        },
        {
         "metadata": "{}",
         "name": "destination",
         "type": "\"string\""
        }
       ],
       "type": "table"
      }
     },
     "output_type": "display_data"
    }
   ],
   "source": [
    "%sql\n",
    "with cte as(\n",
    "  select\n",
    "    t1.origin,\n",
    "    t1.destination,\n",
    "    count(*) as cnt\n",
    "  from\n",
    "    travel t1\n",
    "    left join travel t2 on t1.origin = t2.destination\n",
    "  group by\n",
    "    t1.origin,\n",
    "    t1.destination\n",
    ")\n",
    "select\n",
    "  origin,\n",
    "  destination\n",
    "from\n",
    "  cte\n",
    "where\n",
    "  cnt <= 1\n",
    "order by\n",
    "  destination"
   ]
  },
  {
   "cell_type": "markdown",
   "metadata": {
    "application/vnd.databricks.v1+cell": {
     "cellMetadata": {},
     "inputWidgets": {},
     "nuid": "038832f9-3f6d-4c27-9767-ab0d7f357f19",
     "showTitle": false,
     "title": ""
    }
   },
   "source": [
    "Explanation:\n",
    "\n",
    "Sample Data: This simulates your travel table.\n",
    "Self Join: The DataFrame travel_df is joined to itself based on the condition t1.origin = t2.destination.\n",
    "\n",
    "Group By: We group by t1.origin and t1.destination and compute the count of occurrences.\n",
    "\n",
    "Filter and Order: We filter the DataFrame to include only rows where the count (cnt) is less than or equal to 1, then order the result by destination.\n",
    "\n",
    "This PySpark code replicates the behavior of your SQL CTE query using DataFrame operations. Let me know if you need any adjustments!"
   ]
  }
 ],
 "metadata": {
  "application/vnd.databricks.v1+notebook": {
   "dashboards": [],
   "environmentMetadata": null,
   "language": "python",
   "notebookMetadata": {
    "mostRecentlyExecutedCommandWithImplicitDF": {
     "commandId": 3614502919616659,
     "dataframes": [
      "_sqldf"
     ]
    },
    "pythonIndentUnit": 4
   },
   "notebookName": "Persistent Systems SQL Interview Question",
   "widgets": {}
  }
 },
 "nbformat": 4,
 "nbformat_minor": 0
}
