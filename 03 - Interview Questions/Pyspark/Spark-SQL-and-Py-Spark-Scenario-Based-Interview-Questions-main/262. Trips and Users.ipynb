{
 "cells": [
  {
   "cell_type": "markdown",
   "metadata": {
    "application/vnd.databricks.v1+cell": {
     "cellMetadata": {},
     "inputWidgets": {},
     "nuid": "77eb8bfc-0c67-44d8-8a18-250bd000f170",
     "showTitle": false,
     "title": ""
    }
   },
   "source": [
    "able: Trips\n",
    "\n",
    "\n",
    "+-------------+----------+\n",
    "\n",
    "| Column Name | Type     |\n",
    "\n",
    "+-------------+----------+\n",
    "\n",
    "| id          | int      |\n",
    "| client_id   | int      |\n",
    "| driver_id   | int      |\n",
    "| city_id     | int      |\n",
    "| status      | enum     |\n",
    "| request_at  | varchar  |     \n",
    "+-------------+----------+\n",
    "id is the primary key (column with unique values) for this table.\n",
    "The table holds all taxi trips. Each trip has a unique id, while client_id and driver_id are foreign keys to the users_id at the Users table.\n",
    "Status is an ENUM (category) type of ('completed', 'cancelled_by_driver', 'cancelled_by_client').\n",
    " \n",
    "\n",
    "Table: Users\n",
    "\n",
    "+-------------+----------+\n",
    "\n",
    "| Column Name | Type     |\n",
    "\n",
    "+-------------+----------+\n",
    "\n",
    "| users_id    | int      |\n",
    "| banned      | enum     |\n",
    "| role        | enum     |\n",
    "+-------------+----------+\n",
    "users_id is the primary key (column with unique values) for this table.\n",
    "The table holds all users. Each user has a unique users_id, and role is an ENUM type of ('client', 'driver', 'partner').\n",
    "banned is an ENUM (category) type of ('Yes', 'No').\n",
    " \n",
    "\n",
    "The cancellation rate is computed by dividing the number of canceled (by client or driver) requests with unbanned users by the total number of requests with unbanned users on that day.\n",
    "\n",
    "Write a solution to find the cancellation rate of requests with unbanned users (both client and driver must not be banned) each day between \"2013-10-01\" and \"2013-10-03\". Round Cancellation Rate to two decimal points.\n",
    "\n",
    "Return the result table in any order.\n",
    "\n",
    "The result format is in the following example.\n",
    "\n",
    " \n",
    "\n",
    "Example 1:\n",
    "\n",
    "Input: \n",
    "Trips table:\n",
    "\n",
    "+----+-----------+-----------+---------+---------------------+------------+\n",
    "\n",
    "| id | client_id | driver_id | city_id | status              | request_at |\n",
    "\n",
    "+----+-----------+-----------+---------+---------------------+------------+\n",
    "| 1  | 1         | 10        | 1       | completed           | 2013-10-01 |\n",
    "| 2  | 2         | 11        | 1       | cancelled_by_driver | 2013-10-01 |\n",
    "| 3  | 3         | 12        | 6       | completed           | 2013-10-01 |\n",
    "| 4  | 4         | 13        | 6       | cancelled_by_client | 2013-10-01 |\n",
    "| 5  | 1         | 10        | 1       | completed           | 2013-10-02 |\n",
    "| 6  | 2         | 11        | 6       | completed           | 2013-10-02 |\n",
    "| 7  | 3         | 12        | 6       | completed           | 2013-10-02 |\n",
    "| 8  | 2         | 12        | 12      | completed           | 2013-10-03 |\n",
    "| 9  | 3         | 10        | 12      | completed           | 2013-10-03 |\n",
    "| 10 | 4         | 13        | 12      | cancelled_by_driver | 2013-10-03 |\n",
    "+----+-----------+-----------+---------+---------------------+------------+\n",
    "Users table:\n",
    "\n",
    "+----------+--------+--------+\n",
    "\n",
    "| users_id | banned | role   |\n",
    "\n",
    "+----------+--------+--------+\n",
    "| 1        | No     | client |\n",
    "| 2        | Yes    | client |\n",
    "| 3        | No     | client |\n",
    "| 4        | No     | client |\n",
    "| 10       | No     | driver |\n",
    "| 11       | No     | driver |\n",
    "| 12       | No     | driver |\n",
    "| 13       | No     | driver |\n",
    "+----------+--------+--------+\n",
    "\n",
    "Output: \n",
    "\n",
    "+------------+-------------------+\n",
    "\n",
    "| Day        | Cancellation Rate |\n",
    "\n",
    "+------------+-------------------+\n",
    "| 2013-10-01 | 0.33              |\n",
    "| 2013-10-02 | 0.00              |\n",
    "| 2013-10-03 | 0.50              |\n",
    "+------------+-------------------+"
   ]
  },
  {
   "cell_type": "code",
   "execution_count": 0,
   "metadata": {
    "application/vnd.databricks.v1+cell": {
     "cellMetadata": {
      "byteLimit": 2048000,
      "rowLimit": 10000
     },
     "inputWidgets": {},
     "nuid": "97c7515d-94c9-4e0f-9f77-c9aa54ce6115",
     "showTitle": false,
     "title": ""
    }
   },
   "outputs": [],
   "source": [
    "from pyspark.sql import SparkSession\n",
    "from pyspark.sql.functions import col, when, sum as spark_sum, count, round as spark_round, floor\n",
    "\n",
    "# Initialize SparkSession\n",
    "spark = SparkSession.builder.appName(\"CancellationRate\").getOrCreate()\n",
    "\n",
    "# Sample data for Trips table\n",
    "trips_data = [\n",
    "    (1, 1, 10, 1, \"completed\", \"2013-10-01\"),\n",
    "    (2, 2, 11, 1, \"cancelled_by_driver\", \"2013-10-01\"),\n",
    "    (3, 3, 12, 6, \"completed\", \"2013-10-01\"),\n",
    "    (4, 4, 13, 6, \"cancelled_by_client\", \"2013-10-01\"),\n",
    "    (5, 1, 10, 1, \"completed\", \"2013-10-02\"),\n",
    "    (6, 2, 11, 6, \"completed\", \"2013-10-02\"),\n",
    "    (7, 3, 12, 6, \"completed\", \"2013-10-02\"),\n",
    "    (8, 2, 12, 12, \"completed\", \"2013-10-03\"),\n",
    "    (9, 3, 10, 12, \"completed\", \"2013-10-03\"),\n",
    "    (10, 4, 13, 12, \"cancelled_by_driver\", \"2013-10-03\")\n",
    "]\n",
    "\n",
    "# Sample data for Users table\n",
    "users_data = [\n",
    "    (1, \"No\", \"client\"),\n",
    "    (2, \"Yes\", \"client\"),\n",
    "    (3, \"No\", \"client\"),\n",
    "    (4, \"No\", \"client\"),\n",
    "    (10, \"No\", \"driver\"),\n",
    "    (11, \"No\", \"driver\"),\n",
    "    (12, \"No\", \"driver\"),\n",
    "    (13, \"No\", \"driver\")\n",
    "]\n",
    "\n",
    "# Create DataFrames\n",
    "trips_df = spark.createDataFrame(trips_data, [\"id\", \"client_id\", \"driver_id\", \"city_id\", \"status\", \"request_at\"])\n",
    "users_df = spark.createDataFrame(users_data, [\"users_id\", \"banned\", \"role\"])"
   ]
  },
  {
   "cell_type": "code",
   "execution_count": 0,
   "metadata": {
    "application/vnd.databricks.v1+cell": {
     "cellMetadata": {
      "byteLimit": 2048000,
      "rowLimit": 10000
     },
     "inputWidgets": {},
     "nuid": "947d6c14-8647-4074-bf59-51fead4912c1",
     "showTitle": false,
     "title": ""
    }
   },
   "outputs": [
    {
     "output_type": "display_data",
     "data": {
      "text/html": [
       "<style scoped>\n",
       "  .table-result-container {\n",
       "    max-height: 300px;\n",
       "    overflow: auto;\n",
       "  }\n",
       "  table, th, td {\n",
       "    border: 1px solid black;\n",
       "    border-collapse: collapse;\n",
       "  }\n",
       "  th, td {\n",
       "    padding: 5px;\n",
       "  }\n",
       "  th {\n",
       "    text-align: left;\n",
       "  }\n",
       "</style><div class='table-result-container'><table class='table-result'><thead style='background-color: white'><tr><th>Day</th><th>Cancellation Rate</th></tr></thead><tbody><tr><td>2013-10-03</td><td>0.5</td></tr><tr><td>2013-10-01</td><td>0.33</td></tr><tr><td>2013-10-02</td><td>0.0</td></tr></tbody></table></div>"
      ]
     },
     "metadata": {
      "application/vnd.databricks.v1+output": {
       "addedWidgets": {},
       "aggData": [],
       "aggError": "",
       "aggOverflow": false,
       "aggSchema": [],
       "aggSeriesLimitReached": false,
       "aggType": "",
       "arguments": {},
       "columnCustomDisplayInfos": {},
       "data": [
        [
         "2013-10-03",
         0.5
        ],
        [
         "2013-10-01",
         0.33
        ],
        [
         "2013-10-02",
         0.0
        ]
       ],
       "datasetInfos": [],
       "dbfsResultPath": null,
       "isJsonSchema": true,
       "metadata": {},
       "overflow": false,
       "plotOptions": {
        "customPlotOptions": {},
        "displayType": "table",
        "pivotAggregation": null,
        "pivotColumns": null,
        "xColumns": null,
        "yColumns": null
       },
       "removedWidgets": [],
       "schema": [
        {
         "metadata": "{}",
         "name": "Day",
         "type": "\"string\""
        },
        {
         "metadata": "{}",
         "name": "Cancellation Rate",
         "type": "\"double\""
        }
       ],
       "type": "table"
      }
     },
     "output_type": "display_data"
    }
   ],
   "source": [
    "\n",
    "# Join the Trips table with the Users table twice: once for clients and once for drivers\n",
    "client_df = users_df.filter(col(\"role\") == \"client\").alias(\"c\")\n",
    "driver_df = users_df.filter(col(\"role\") == \"driver\").alias(\"d\")\n",
    "\n",
    "# Filter out banned users and join\n",
    "joined_df = trips_df.join(client_df, trips_df.client_id == col(\"c.users_id\")) \\\n",
    "                    .join(driver_df, trips_df.driver_id == col(\"d.users_id\")) \\\n",
    "                    .filter((col(\"c.banned\") == \"No\") & (col(\"d.banned\") == \"No\"))\n",
    "\n",
    "# Calculate the cancellation rate for each day\n",
    "result_df = joined_df.groupBy(\"request_at\").agg(\n",
    "    spark_round(\n",
    "        spark_sum(when(col(\"status\").isin(\"cancelled_by_driver\", \"cancelled_by_client\"), 1).otherwise(0)) / \n",
    "        count(\"*\"), 2\n",
    "    ).alias(\"Cancellation Rate\")\n",
    ")\n",
    "\n",
    "# Format the result by removing trailing zeros for whole numbers\n",
    "formatted_result_df = result_df.select(\n",
    "    col(\"request_at\").alias(\"Day\"),\n",
    "    when(\n",
    "        floor(col(\"Cancellation Rate\")) == col(\"Cancellation Rate\"),\n",
    "        col(\"Cancellation Rate\").cast(\"int\")\n",
    "    ).otherwise(col(\"Cancellation Rate\")).alias(\"Cancellation Rate\")\n",
    ")\n",
    "\n",
    "# Show the result\n",
    "formatted_result_df.display()"
   ]
  },
  {
   "cell_type": "code",
   "execution_count": 0,
   "metadata": {
    "application/vnd.databricks.v1+cell": {
     "cellMetadata": {
      "byteLimit": 2048000,
      "rowLimit": 10000
     },
     "inputWidgets": {},
     "nuid": "06b80877-2118-47f5-9f66-600614f954e3",
     "showTitle": false,
     "title": ""
    }
   },
   "outputs": [],
   "source": [
    "trips_df.createOrReplaceTempView('tips')\n",
    "users_df.createOrReplaceTempView('Users')"
   ]
  },
  {
   "cell_type": "code",
   "execution_count": 0,
   "metadata": {
    "application/vnd.databricks.v1+cell": {
     "cellMetadata": {},
     "inputWidgets": {},
     "nuid": "494517ef-a462-4d19-a0a7-c5c540641cbe",
     "showTitle": false,
     "title": ""
    }
   },
   "outputs": [],
   "source": [
    "# Write the SQL query\n",
    "query = \"\"\"\n",
    "SELECT \n",
    "    t.request_at AS Day,\n",
    "    CASE \n",
    "        WHEN ROUND(SUM(CASE \n",
    "                         WHEN t.status IN ('cancelled_by_driver', 'cancelled_by_client') THEN 1 \n",
    "                         ELSE 0 \n",
    "                      END) / COUNT(*), 2) = FLOOR(SUM(CASE \n",
    "                                                        WHEN t.status IN ('cancelled_by_driver', 'cancelled_by_client') THEN 1 \n",
    "                                                        ELSE 0 \n",
    "                                                     END) / COUNT(*)) \n",
    "        THEN CAST(FLOOR(SUM(CASE \n",
    "                             WHEN t.status IN ('cancelled_by_driver', 'cancelled_by_client') THEN 1 \n",
    "                             ELSE 0 \n",
    "                          END) / COUNT(*)) AS int)\n",
    "        ELSE ROUND(SUM(CASE \n",
    "                         WHEN t.status IN ('cancelled_by_driver', 'cancelled_by_client') THEN 1 \n",
    "                         ELSE 0 \n",
    "                      END) / COUNT(*), 2)\n",
    "    END AS \"Cancellation Rate\"\n",
    "FROM \n",
    "    Trips t\n",
    "JOIN \n",
    "    Users c ON t.client_id = c.users_id AND c.banned = 'No' AND c.role = 'client'\n",
    "JOIN \n",
    "    Users d ON t.driver_id = d.users_id AND d.banned = 'No' AND d.role = 'driver'\n",
    "WHERE \n",
    "    t.request_at BETWEEN '2013-10-01' AND '2013-10-03'\n",
    "GROUP BY \n",
    "    t.request_at\n",
    "\"\"\"\n",
    "\n",
    "# Execute the query using Spark SQL\n",
    "result_df = spark.sql(query)\n",
    "\n",
    "# Show the result\n",
    "result_df.display()"
   ]
  }
 ],
 "metadata": {
  "application/vnd.databricks.v1+notebook": {
   "dashboards": [],
   "environmentMetadata": null,
   "language": "python",
   "notebookMetadata": {
    "mostRecentlyExecutedCommandWithImplicitDF": {
     "commandId": -1,
     "dataframes": [
      "_sqldf"
     ]
    },
    "pythonIndentUnit": 4
   },
   "notebookName": "Untitled Notebook 2024-08-15 07:44:17",
   "widgets": {}
  }
 },
 "nbformat": 4,
 "nbformat_minor": 0
}
