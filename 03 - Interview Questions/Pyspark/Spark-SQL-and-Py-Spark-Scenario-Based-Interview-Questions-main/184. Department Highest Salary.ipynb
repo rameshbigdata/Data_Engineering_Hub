{
 "cells": [
  {
   "cell_type": "code",
   "execution_count": 0,
   "metadata": {
    "application/vnd.databricks.v1+cell": {
     "cellMetadata": {
      "byteLimit": 2048000,
      "rowLimit": 10000
     },
     "inputWidgets": {},
     "nuid": "a07bb189-a503-4e58-bb5d-78d21adb8a37",
     "showTitle": false,
     "title": ""
    }
   },
   "outputs": [],
   "source": [
    "from pyspark.sql import SparkSession\n",
    "from pyspark.sql import functions as F\n",
    "from pyspark.sql.window import Window\n",
    "\n",
    "# Initialize SparkSession\n",
    "spark = SparkSession.builder.appName(\"HighestSalaryInDepartment\").getOrCreate()\n",
    "\n",
    "# Sample data for Employee table\n",
    "employee_data = [\n",
    "    (1, \"Joe\", 70000, 1),\n",
    "    (2, \"Jim\", 90000, 1),\n",
    "    (3, \"Henry\", 80000, 2),\n",
    "    (4, \"Sam\", 60000, 2),\n",
    "    (5, \"Max\", 90000, 1)\n",
    "]\n",
    "\n",
    "# Sample data for Department table\n",
    "department_data = [\n",
    "    (1, \"IT\"),\n",
    "    (2, \"Sales\")\n",
    "]\n",
    "\n",
    "# Create DataFrames\n",
    "employee_df = spark.createDataFrame(employee_data, [\"id\", \"name\", \"salary\", \"departmentId\"])\n",
    "department_df = spark.createDataFrame(department_data, [\"id\", \"name\"])\n",
    "\n",
    "# Register DataFrames as temporary SQL tables\n",
    "employee_df.createOrReplaceTempView(\"Employee\")\n",
    "department_df.createOrReplaceTempView(\"Department\")\n",
    "\n",
    "\n"
   ]
  },
  {
   "cell_type": "code",
   "execution_count": 0,
   "metadata": {
    "application/vnd.databricks.v1+cell": {
     "cellMetadata": {
      "byteLimit": 2048000,
      "rowLimit": 10000
     },
     "inputWidgets": {},
     "nuid": "cf42b274-b5a2-4844-8d9f-300ab72232b0",
     "showTitle": false,
     "title": ""
    }
   },
   "outputs": [
    {
     "output_type": "display_data",
     "data": {
      "text/html": [
       "<style scoped>\n",
       "  .table-result-container {\n",
       "    max-height: 300px;\n",
       "    overflow: auto;\n",
       "  }\n",
       "  table, th, td {\n",
       "    border: 1px solid black;\n",
       "    border-collapse: collapse;\n",
       "  }\n",
       "  th, td {\n",
       "    padding: 5px;\n",
       "  }\n",
       "  th {\n",
       "    text-align: left;\n",
       "  }\n",
       "</style><div class='table-result-container'><table class='table-result'><thead style='background-color: white'><tr><th>Department</th><th>Employee</th><th>Salary</th></tr></thead><tbody><tr><td>IT</td><td>Jim</td><td>90000</td></tr><tr><td>IT</td><td>Max</td><td>90000</td></tr><tr><td>Sales</td><td>Henry</td><td>80000</td></tr></tbody></table></div>"
      ]
     },
     "metadata": {
      "application/vnd.databricks.v1+output": {
       "addedWidgets": {},
       "aggData": [],
       "aggError": "",
       "aggOverflow": false,
       "aggSchema": [],
       "aggSeriesLimitReached": false,
       "aggType": "",
       "arguments": {},
       "columnCustomDisplayInfos": {},
       "data": [
        [
         "IT",
         "Jim",
         90000
        ],
        [
         "IT",
         "Max",
         90000
        ],
        [
         "Sales",
         "Henry",
         80000
        ]
       ],
       "datasetInfos": [],
       "dbfsResultPath": null,
       "isJsonSchema": true,
       "metadata": {},
       "overflow": false,
       "plotOptions": {
        "customPlotOptions": {},
        "displayType": "table",
        "pivotAggregation": null,
        "pivotColumns": null,
        "xColumns": null,
        "yColumns": null
       },
       "removedWidgets": [],
       "schema": [
        {
         "metadata": "{}",
         "name": "Department",
         "type": "\"string\""
        },
        {
         "metadata": "{}",
         "name": "Employee",
         "type": "\"string\""
        },
        {
         "metadata": "{}",
         "name": "Salary",
         "type": "\"long\""
        }
       ],
       "type": "table"
      }
     },
     "output_type": "display_data"
    }
   ],
   "source": [
    "# Join Employee and Department DataFrames\n",
    "emp_dept_df = employee_df.join(department_df, employee_df.departmentId == department_df.id)\n",
    "\n",
    "# Define a window partitioned by departmentId and ordered by salary in descending order\n",
    "window_spec = Window.partitionBy(\"departmentId\").orderBy(F.desc(\"salary\"))\n",
    "\n",
    "# Add a rank column to identify the highest salary in each department\n",
    "emp_dept_df = emp_dept_df.withColumn(\"rank\", F.rank().over(window_spec))\n",
    "\n",
    "# Filter to keep only the top-ranked (highest salary) employees\n",
    "result_df = emp_dept_df.filter(emp_dept_df.rank == 1)\n",
    "\n",
    "# Select the required columns and rename them accordingly\n",
    "result_df = result_df.select(department_df[\"name\"].alias(\"Department\"), \n",
    "                             employee_df[\"name\"].alias(\"Employee\"), \n",
    "                             employee_df[\"salary\"].alias(\"Salary\"))\n",
    "\n",
    "result_df.display()"
   ]
  },
  {
   "cell_type": "code",
   "execution_count": 0,
   "metadata": {
    "application/vnd.databricks.v1+cell": {
     "cellMetadata": {
      "byteLimit": 2048000,
      "rowLimit": 10000
     },
     "inputWidgets": {},
     "nuid": "91134bf3-5729-4dcc-8aec-34b6529de95c",
     "showTitle": false,
     "title": ""
    }
   },
   "outputs": [
    {
     "output_type": "display_data",
     "data": {
      "text/html": [
       "<style scoped>\n",
       "  .table-result-container {\n",
       "    max-height: 300px;\n",
       "    overflow: auto;\n",
       "  }\n",
       "  table, th, td {\n",
       "    border: 1px solid black;\n",
       "    border-collapse: collapse;\n",
       "  }\n",
       "  th, td {\n",
       "    padding: 5px;\n",
       "  }\n",
       "  th {\n",
       "    text-align: left;\n",
       "  }\n",
       "</style><div class='table-result-container'><table class='table-result'><thead style='background-color: white'><tr><th>Department</th><th>Employee</th><th>Salary</th></tr></thead><tbody><tr><td>IT</td><td>Max</td><td>90000</td></tr><tr><td>IT</td><td>Jim</td><td>90000</td></tr><tr><td>Sales</td><td>Henry</td><td>80000</td></tr></tbody></table></div>"
      ]
     },
     "metadata": {
      "application/vnd.databricks.v1+output": {
       "addedWidgets": {},
       "aggData": [],
       "aggError": "",
       "aggOverflow": false,
       "aggSchema": [],
       "aggSeriesLimitReached": false,
       "aggType": "",
       "arguments": {},
       "columnCustomDisplayInfos": {},
       "data": [
        [
         "IT",
         "Max",
         90000
        ],
        [
         "IT",
         "Jim",
         90000
        ],
        [
         "Sales",
         "Henry",
         80000
        ]
       ],
       "datasetInfos": [],
       "dbfsResultPath": null,
       "isJsonSchema": true,
       "metadata": {},
       "overflow": false,
       "plotOptions": {
        "customPlotOptions": {},
        "displayType": "table",
        "pivotAggregation": null,
        "pivotColumns": null,
        "xColumns": null,
        "yColumns": null
       },
       "removedWidgets": [],
       "schema": [
        {
         "metadata": "{}",
         "name": "Department",
         "type": "\"string\""
        },
        {
         "metadata": "{}",
         "name": "Employee",
         "type": "\"string\""
        },
        {
         "metadata": "{}",
         "name": "Salary",
         "type": "\"long\""
        }
       ],
       "type": "table"
      }
     },
     "output_type": "display_data"
    }
   ],
   "source": [
    "# Write the SQL query to find employees with the highest salary in each department\n",
    "query = \"\"\"\n",
    "SELECT \n",
    "    d.name AS Department, \n",
    "    e.name AS Employee, \n",
    "    e.salary AS Salary\n",
    "FROM \n",
    "    Employee e\n",
    "JOIN \n",
    "    Department d ON e.departmentId = d.id\n",
    "WHERE \n",
    "    e.salary = (SELECT MAX(salary) \n",
    "                FROM Employee \n",
    "                WHERE departmentId = e.departmentId)\n",
    "\"\"\"\n",
    "\n",
    "# Execute the query using Spark SQL\n",
    "result_df = spark.sql(query)\n",
    "\n",
    "# Show the result\n",
    "result_df.display()"
   ]
  }
 ],
 "metadata": {
  "application/vnd.databricks.v1+notebook": {
   "dashboards": [],
   "environmentMetadata": null,
   "language": "python",
   "notebookMetadata": {
    "pythonIndentUnit": 4
   },
   "notebookName": "184. Department Highest Salary",
   "widgets": {}
  }
 },
 "nbformat": 4,
 "nbformat_minor": 0
}
