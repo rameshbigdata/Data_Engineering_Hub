{
 "cells": [
  {
   "cell_type": "code",
   "execution_count": 0,
   "metadata": {
    "application/vnd.databricks.v1+cell": {
     "cellMetadata": {
      "byteLimit": 2048000,
      "rowLimit": 10000
     },
     "inputWidgets": {},
     "nuid": "09f899a6-8318-4309-a567-91b89246df1b",
     "showTitle": false,
     "title": ""
    }
   },
   "outputs": [
    {
     "output_type": "display_data",
     "data": {
      "text/html": [
       "<style scoped>\n",
       "  .table-result-container {\n",
       "    max-height: 300px;\n",
       "    overflow: auto;\n",
       "  }\n",
       "  table, th, td {\n",
       "    border: 1px solid black;\n",
       "    border-collapse: collapse;\n",
       "  }\n",
       "  th, td {\n",
       "    padding: 5px;\n",
       "  }\n",
       "  th {\n",
       "    text-align: left;\n",
       "  }\n",
       "</style><div class='table-result-container'><table class='table-result'><thead style='background-color: white'><tr><th>Id</th><th>Name</th><th>Physics</th><th>Chemistry</th><th>Maths</th></tr></thead><tbody><tr><td>1</td><td>Sagar</td><td>20</td><td>30</td><td>40</td></tr><tr><td>2</td><td>Alex</td><td>34</td><td>32</td><td>12</td></tr><tr><td>3</td><td>David</td><td>45</td><td>67</td><td>54</td></tr><tr><td>4</td><td>John</td><td>10</td><td>34</td><td>60</td></tr></tbody></table></div>"
      ]
     },
     "metadata": {
      "application/vnd.databricks.v1+output": {
       "addedWidgets": {},
       "aggData": [],
       "aggError": "",
       "aggOverflow": false,
       "aggSchema": [],
       "aggSeriesLimitReached": false,
       "aggType": "",
       "arguments": {},
       "columnCustomDisplayInfos": {},
       "data": [
        [
         "1",
         "Sagar",
         "20",
         "30",
         "40"
        ],
        [
         "2",
         "Alex",
         "34",
         "32",
         "12"
        ],
        [
         "3",
         "David",
         "45",
         "67",
         "54"
        ],
        [
         "4",
         "John",
         "10",
         "34",
         "60"
        ]
       ],
       "datasetInfos": [],
       "dbfsResultPath": null,
       "isJsonSchema": true,
       "metadata": {},
       "overflow": false,
       "plotOptions": {
        "customPlotOptions": {},
        "displayType": "table",
        "pivotAggregation": null,
        "pivotColumns": null,
        "xColumns": null,
        "yColumns": null
       },
       "removedWidgets": [],
       "schema": [
        {
         "metadata": "{}",
         "name": "Id",
         "type": "\"string\""
        },
        {
         "metadata": "{}",
         "name": "Name",
         "type": "\"string\""
        },
        {
         "metadata": "{}",
         "name": "Physics",
         "type": "\"string\""
        },
        {
         "metadata": "{}",
         "name": "Chemistry",
         "type": "\"string\""
        },
        {
         "metadata": "{}",
         "name": "Maths",
         "type": "\"string\""
        }
       ],
       "type": "table"
      }
     },
     "output_type": "display_data"
    }
   ],
   "source": [
    "from pyspark.sql.functions import col,split\n",
    "df=spark.read.format('csv').option('header',True).option('sep','|').load('dbfs:/FileStore/new_3.txt')\n",
    "df_output=df.withColumn(\"Physics\",split(col(\"Marks\"),',')[0]).withColumn(\"Chemistry\",split(col(\"Marks\"),',')[1]).withColumn(\"Maths\",split(col(\"Marks\"),',')[2]).drop(col(\"Marks\"))\n",
    "display(df_output)"
   ]
  }
 ],
 "metadata": {
  "application/vnd.databricks.v1+notebook": {
   "dashboards": [],
   "environmentMetadata": null,
   "language": "python",
   "notebookMetadata": {
    "pythonIndentUnit": 4
   },
   "notebookName": "2. PWC PySpark Interview Question",
   "widgets": {}
  }
 },
 "nbformat": 4,
 "nbformat_minor": 0
}
