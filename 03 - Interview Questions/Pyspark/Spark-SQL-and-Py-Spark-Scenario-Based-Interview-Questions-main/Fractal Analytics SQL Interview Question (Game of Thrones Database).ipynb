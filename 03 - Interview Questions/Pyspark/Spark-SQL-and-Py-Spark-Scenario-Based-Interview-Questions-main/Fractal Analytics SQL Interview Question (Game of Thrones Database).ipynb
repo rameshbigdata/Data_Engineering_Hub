{
 "cells": [
  {
   "cell_type": "code",
   "execution_count": 0,
   "metadata": {
    "application/vnd.databricks.v1+cell": {
     "cellMetadata": {
      "byteLimit": 2048000,
      "rowLimit": 10000
     },
     "inputWidgets": {},
     "nuid": "6de4de60-051a-4586-a525-ab4d24280cf7",
     "showTitle": false,
     "title": ""
    }
   },
   "outputs": [
    {
     "output_type": "stream",
     "name": "stdout",
     "output_type": "stream",
     "text": [
      "King DataFrame:\n"
     ]
    },
    {
     "output_type": "display_data",
     "data": {
      "text/html": [
       "<style scoped>\n",
       "  .table-result-container {\n",
       "    max-height: 300px;\n",
       "    overflow: auto;\n",
       "  }\n",
       "  table, th, td {\n",
       "    border: 1px solid black;\n",
       "    border-collapse: collapse;\n",
       "  }\n",
       "  th, td {\n",
       "    padding: 5px;\n",
       "  }\n",
       "  th {\n",
       "    text-align: left;\n",
       "  }\n",
       "</style><div class='table-result-container'><table class='table-result'><thead style='background-color: white'><tr><th>k_no</th><th>king</th><th>house</th></tr></thead><tbody><tr><td>1</td><td>Robb Stark</td><td>House Stark</td></tr><tr><td>2</td><td>Joffrey Baratheon</td><td>House Lannister</td></tr><tr><td>3</td><td>Stannis Baratheon</td><td>House Baratheon</td></tr><tr><td>4</td><td>Balon Greyjoy</td><td>House Greyjoy</td></tr><tr><td>5</td><td>Mace Tyrell</td><td>House Tyrell</td></tr><tr><td>6</td><td>Doran Martell</td><td>House Martell</td></tr></tbody></table></div>"
      ]
     },
     "metadata": {
      "application/vnd.databricks.v1+output": {
       "addedWidgets": {},
       "aggData": [],
       "aggError": "",
       "aggOverflow": false,
       "aggSchema": [],
       "aggSeriesLimitReached": false,
       "aggType": "",
       "arguments": {},
       "columnCustomDisplayInfos": {},
       "data": [
        [
         1,
         "Robb Stark",
         "House Stark"
        ],
        [
         2,
         "Joffrey Baratheon",
         "House Lannister"
        ],
        [
         3,
         "Stannis Baratheon",
         "House Baratheon"
        ],
        [
         4,
         "Balon Greyjoy",
         "House Greyjoy"
        ],
        [
         5,
         "Mace Tyrell",
         "House Tyrell"
        ],
        [
         6,
         "Doran Martell",
         "House Martell"
        ]
       ],
       "datasetInfos": [],
       "dbfsResultPath": null,
       "isJsonSchema": true,
       "metadata": {},
       "overflow": false,
       "plotOptions": {
        "customPlotOptions": {},
        "displayType": "table",
        "pivotAggregation": null,
        "pivotColumns": null,
        "xColumns": null,
        "yColumns": null
       },
       "removedWidgets": [],
       "schema": [
        {
         "metadata": "{}",
         "name": "k_no",
         "type": "\"long\""
        },
        {
         "metadata": "{}",
         "name": "king",
         "type": "\"string\""
        },
        {
         "metadata": "{}",
         "name": "house",
         "type": "\"string\""
        }
       ],
       "type": "table"
      }
     },
     "output_type": "display_data"
    },
    {
     "output_type": "stream",
     "name": "stdout",
     "output_type": "stream",
     "text": [
      "Battle DataFrame:\n"
     ]
    },
    {
     "output_type": "display_data",
     "data": {
      "text/html": [
       "<style scoped>\n",
       "  .table-result-container {\n",
       "    max-height: 300px;\n",
       "    overflow: auto;\n",
       "  }\n",
       "  table, th, td {\n",
       "    border: 1px solid black;\n",
       "    border-collapse: collapse;\n",
       "  }\n",
       "  th, td {\n",
       "    padding: 5px;\n",
       "  }\n",
       "  th {\n",
       "    text-align: left;\n",
       "  }\n",
       "</style><div class='table-result-container'><table class='table-result'><thead style='background-color: white'><tr><th>battle_number</th><th>name</th><th>attacker_king</th><th>defender_king</th><th>attacker_outcome</th><th>region</th></tr></thead><tbody><tr><td>1</td><td>Battle of Oxcross</td><td>1</td><td>2</td><td>1</td><td>The North</td></tr><tr><td>2</td><td>Battle of Blackwater</td><td>3</td><td>4</td><td>0</td><td>The North</td></tr><tr><td>3</td><td>Battle of the Fords</td><td>1</td><td>5</td><td>1</td><td>The Reach</td></tr><tr><td>4</td><td>Battle of the Green Fork</td><td>2</td><td>6</td><td>0</td><td>The Reach</td></tr><tr><td>5</td><td>Battle of the Ruby Ford</td><td>1</td><td>3</td><td>1</td><td>The Riverlands</td></tr><tr><td>6</td><td>Battle of the Golden Tooth</td><td>2</td><td>1</td><td>0</td><td>The North</td></tr><tr><td>7</td><td>Battle of Riverrun</td><td>3</td><td>4</td><td>1</td><td>The Riverlands</td></tr><tr><td>8</td><td>Battle of Riverrun</td><td>1</td><td>3</td><td>0</td><td>The Riverlands</td></tr></tbody></table></div>"
      ]
     },
     "metadata": {
      "application/vnd.databricks.v1+output": {
       "addedWidgets": {},
       "aggData": [],
       "aggError": "",
       "aggOverflow": false,
       "aggSchema": [],
       "aggSeriesLimitReached": false,
       "aggType": "",
       "arguments": {},
       "columnCustomDisplayInfos": {},
       "data": [
        [
         1,
         "Battle of Oxcross",
         1,
         2,
         1,
         "The North"
        ],
        [
         2,
         "Battle of Blackwater",
         3,
         4,
         0,
         "The North"
        ],
        [
         3,
         "Battle of the Fords",
         1,
         5,
         1,
         "The Reach"
        ],
        [
         4,
         "Battle of the Green Fork",
         2,
         6,
         0,
         "The Reach"
        ],
        [
         5,
         "Battle of the Ruby Ford",
         1,
         3,
         1,
         "The Riverlands"
        ],
        [
         6,
         "Battle of the Golden Tooth",
         2,
         1,
         0,
         "The North"
        ],
        [
         7,
         "Battle of Riverrun",
         3,
         4,
         1,
         "The Riverlands"
        ],
        [
         8,
         "Battle of Riverrun",
         1,
         3,
         0,
         "The Riverlands"
        ]
       ],
       "datasetInfos": [],
       "dbfsResultPath": null,
       "isJsonSchema": true,
       "metadata": {},
       "overflow": false,
       "plotOptions": {
        "customPlotOptions": {},
        "displayType": "table",
        "pivotAggregation": null,
        "pivotColumns": null,
        "xColumns": null,
        "yColumns": null
       },
       "removedWidgets": [],
       "schema": [
        {
         "metadata": "{}",
         "name": "battle_number",
         "type": "\"long\""
        },
        {
         "metadata": "{}",
         "name": "name",
         "type": "\"string\""
        },
        {
         "metadata": "{}",
         "name": "attacker_king",
         "type": "\"long\""
        },
        {
         "metadata": "{}",
         "name": "defender_king",
         "type": "\"long\""
        },
        {
         "metadata": "{}",
         "name": "attacker_outcome",
         "type": "\"long\""
        },
        {
         "metadata": "{}",
         "name": "region",
         "type": "\"string\""
        }
       ],
       "type": "table"
      }
     },
     "output_type": "display_data"
    }
   ],
   "source": [
    "from pyspark.sql import SparkSession\n",
    "from pyspark.sql.functions import col, when, count\n",
    "from pyspark.sql.window import Window\n",
    "from pyspark.sql.functions import rank\n",
    "\n",
    "# Create a Spark session\n",
    "spark = SparkSession.builder.appName(\"GameOfThronesBattles\").getOrCreate()\n",
    "\n",
    "# Create the king DataFrame\n",
    "king_data = [\n",
    "    (1, 'Robb Stark', 'House Stark'),\n",
    "    (2, 'Joffrey Baratheon', 'House Lannister'),\n",
    "    (3, 'Stannis Baratheon', 'House Baratheon'),\n",
    "    (4, 'Balon Greyjoy', 'House Greyjoy'),\n",
    "    (5, 'Mace Tyrell', 'House Tyrell'),\n",
    "    (6, 'Doran Martell', 'House Martell')\n",
    "]\n",
    "\n",
    "king_columns = [\"k_no\", \"king\", \"house\"]\n",
    "king_df = spark.createDataFrame(king_data, king_columns)\n",
    "\n",
    "# Create the battle DataFrame\n",
    "battle_data = [\n",
    "    (1, 'Battle of Oxcross', 1, 2, 1, 'The North'),\n",
    "    (2, 'Battle of Blackwater', 3, 4, 0, 'The North'),\n",
    "    (3, 'Battle of the Fords', 1, 5, 1, 'The Reach'),\n",
    "    (4, 'Battle of the Green Fork', 2, 6, 0, 'The Reach'),\n",
    "    (5, 'Battle of the Ruby Ford', 1, 3, 1, 'The Riverlands'),\n",
    "    (6, 'Battle of the Golden Tooth', 2, 1, 0, 'The North'),\n",
    "    (7, 'Battle of Riverrun', 3, 4, 1, 'The Riverlands'),\n",
    "    (8, 'Battle of Riverrun', 1, 3, 0, 'The Riverlands')\n",
    "]\n",
    "\n",
    "battle_columns = [\"battle_number\", \"name\", \"attacker_king\", \"defender_king\", \"attacker_outcome\", \"region\"]\n",
    "battle_df = spark.createDataFrame(battle_data, battle_columns)\n",
    "\n",
    "# Show the data in the king DataFrame\n",
    "print(\"King DataFrame:\")\n",
    "king_df.display()\n",
    "\n",
    "# Show the data in the battle DataFrame\n",
    "print(\"Battle DataFrame:\")\n",
    "battle_df.display()\n"
   ]
  },
  {
   "cell_type": "markdown",
   "metadata": {
    "application/vnd.databricks.v1+cell": {
     "cellMetadata": {},
     "inputWidgets": {},
     "nuid": "6d1ba711-b540-459c-8201-b3f806ad8c41",
     "showTitle": false,
     "title": ""
    }
   },
   "source": [
    "#Pyspark"
   ]
  },
  {
   "cell_type": "code",
   "execution_count": 0,
   "metadata": {
    "application/vnd.databricks.v1+cell": {
     "cellMetadata": {
      "byteLimit": 2048000,
      "rowLimit": 10000
     },
     "inputWidgets": {},
     "nuid": "d02413fe-04fe-4d60-ab8d-250a6ed335b4",
     "showTitle": false,
     "title": ""
    }
   },
   "outputs": [
    {
     "output_type": "display_data",
     "data": {
      "text/html": [
       "<style scoped>\n",
       "  .table-result-container {\n",
       "    max-height: 300px;\n",
       "    overflow: auto;\n",
       "  }\n",
       "  table, th, td {\n",
       "    border: 1px solid black;\n",
       "    border-collapse: collapse;\n",
       "  }\n",
       "  th, td {\n",
       "    padding: 5px;\n",
       "  }\n",
       "  th {\n",
       "    text-align: left;\n",
       "  }\n",
       "</style><div class='table-result-container'><table class='table-result'><thead style='background-color: white'><tr><th>region</th><th>house</th><th>no_of_wins</th></tr></thead><tbody><tr><td>The North</td><td>House Stark</td><td>2</td></tr><tr><td>The Reach</td><td>House Stark</td><td>1</td></tr><tr><td>The Reach</td><td>House Martell</td><td>1</td></tr><tr><td>The Riverlands</td><td>House Baratheon</td><td>2</td></tr></tbody></table></div>"
      ]
     },
     "metadata": {
      "application/vnd.databricks.v1+output": {
       "addedWidgets": {},
       "aggData": [],
       "aggError": "",
       "aggOverflow": false,
       "aggSchema": [],
       "aggSeriesLimitReached": false,
       "aggType": "",
       "arguments": {},
       "columnCustomDisplayInfos": {},
       "data": [
        [
         "The North",
         "House Stark",
         2
        ],
        [
         "The Reach",
         "House Stark",
         1
        ],
        [
         "The Reach",
         "House Martell",
         1
        ],
        [
         "The Riverlands",
         "House Baratheon",
         2
        ]
       ],
       "datasetInfos": [],
       "dbfsResultPath": null,
       "isJsonSchema": true,
       "metadata": {},
       "overflow": false,
       "plotOptions": {
        "customPlotOptions": {},
        "displayType": "table",
        "pivotAggregation": null,
        "pivotColumns": null,
        "xColumns": null,
        "yColumns": null
       },
       "removedWidgets": [],
       "schema": [
        {
         "metadata": "{}",
         "name": "region",
         "type": "\"string\""
        },
        {
         "metadata": "{}",
         "name": "house",
         "type": "\"string\""
        },
        {
         "metadata": "{}",
         "name": "no_of_wins",
         "type": "\"long\""
        }
       ],
       "type": "table"
      }
     },
     "output_type": "display_data"
    }
   ],
   "source": [
    "\n",
    "# Join battle with king to get attacker and defender king names and houses\n",
    "joined_df = battle_df.alias(\"b\") \\\n",
    "    .join(king_df.alias(\"a\"), col(\"b.attacker_king\") == col(\"a.k_no\"), \"inner\") \\\n",
    "    .join(king_df.alias(\"d\"), col(\"b.defender_king\") == col(\"d.k_no\"), \"inner\") \\\n",
    "    .select(\n",
    "        col(\"b.*\"),\n",
    "        col(\"a.king\").alias(\"attacker_king_name\"),\n",
    "        col(\"d.king\").alias(\"defender_king_name\"),\n",
    "        when(col(\"attacker_outcome\") == 1, col(\"a.house\")).otherwise(col(\"d.house\")).alias(\"winner\")\n",
    "    )\n",
    "\n",
    "# Perform the grouping and ranking\n",
    "grouped_df = joined_df.groupBy(\"region\", \"winner\") \\\n",
    "    .agg(count(\"winner\").alias(\"totalwins\"))\n",
    "\n",
    "window_spec = Window.partitionBy(\"region\").orderBy(col(\"totalwins\").desc())\n",
    "\n",
    "ranked_df = grouped_df.withColumn(\"rn\", rank().over(window_spec))\n",
    "\n",
    "# Filter to get the top winner for each region\n",
    "result_df = ranked_df.filter(col(\"rn\") == 1).select(\"region\", col(\"winner\").alias(\"house\"), col(\"totalwins\").alias(\"no_of_wins\"))\n",
    "\n",
    "# Show the result\n",
    "result_df.display()"
   ]
  },
  {
   "cell_type": "code",
   "execution_count": 0,
   "metadata": {
    "application/vnd.databricks.v1+cell": {
     "cellMetadata": {
      "byteLimit": 2048000,
      "rowLimit": 10000
     },
     "inputWidgets": {},
     "nuid": "b9b9e21d-6349-47c9-b316-736c2dcdf5d1",
     "showTitle": false,
     "title": ""
    }
   },
   "outputs": [],
   "source": [
    "king_df.createOrReplaceTempView(\"king\")\n",
    "battle_df.createOrReplaceTempView(\"battle\")"
   ]
  },
  {
   "cell_type": "markdown",
   "metadata": {
    "application/vnd.databricks.v1+cell": {
     "cellMetadata": {},
     "inputWidgets": {},
     "nuid": "239af597-2168-4c14-ac72-880335af18a8",
     "showTitle": false,
     "title": ""
    }
   },
   "source": [
    "#Spark SQL"
   ]
  },
  {
   "cell_type": "code",
   "execution_count": 0,
   "metadata": {
    "application/vnd.databricks.v1+cell": {
     "cellMetadata": {
      "byteLimit": 2048000,
      "implicitDf": true,
      "rowLimit": 10000
     },
     "inputWidgets": {},
     "nuid": "4e920223-d465-424e-934e-90b764aedac7",
     "showTitle": false,
     "title": ""
    }
   },
   "outputs": [
    {
     "output_type": "display_data",
     "data": {
      "text/html": [
       "<style scoped>\n",
       "  .table-result-container {\n",
       "    max-height: 300px;\n",
       "    overflow: auto;\n",
       "  }\n",
       "  table, th, td {\n",
       "    border: 1px solid black;\n",
       "    border-collapse: collapse;\n",
       "  }\n",
       "  th, td {\n",
       "    padding: 5px;\n",
       "  }\n",
       "  th {\n",
       "    text-align: left;\n",
       "  }\n",
       "</style><div class='table-result-container'><table class='table-result'><thead style='background-color: white'><tr><th>region</th><th>house</th><th>no_of_wins</th></tr></thead><tbody><tr><td>The North</td><td>House Stark</td><td>2</td></tr><tr><td>The Reach</td><td>House Stark</td><td>1</td></tr><tr><td>The Reach</td><td>House Martell</td><td>1</td></tr><tr><td>The Riverlands</td><td>House Baratheon</td><td>2</td></tr></tbody></table></div>"
      ]
     },
     "metadata": {
      "application/vnd.databricks.v1+output": {
       "addedWidgets": {},
       "aggData": [],
       "aggError": "",
       "aggOverflow": false,
       "aggSchema": [],
       "aggSeriesLimitReached": false,
       "aggType": "",
       "arguments": {},
       "columnCustomDisplayInfos": {},
       "data": [
        [
         "The North",
         "House Stark",
         2
        ],
        [
         "The Reach",
         "House Stark",
         1
        ],
        [
         "The Reach",
         "House Martell",
         1
        ],
        [
         "The Riverlands",
         "House Baratheon",
         2
        ]
       ],
       "datasetInfos": [],
       "dbfsResultPath": null,
       "isJsonSchema": true,
       "metadata": {},
       "overflow": false,
       "plotOptions": {
        "customPlotOptions": {},
        "displayType": "table",
        "pivotAggregation": null,
        "pivotColumns": null,
        "xColumns": null,
        "yColumns": null
       },
       "removedWidgets": [],
       "schema": [
        {
         "metadata": "{}",
         "name": "region",
         "type": "\"string\""
        },
        {
         "metadata": "{}",
         "name": "house",
         "type": "\"string\""
        },
        {
         "metadata": "{}",
         "name": "no_of_wins",
         "type": "\"long\""
        }
       ],
       "type": "table"
      }
     },
     "output_type": "display_data"
    }
   ],
   "source": [
    "%sql\n",
    "with mycte as\n",
    "(\n",
    "\tselect b.*, a.king as attacker_king_name, d.king as defender_king_name,\n",
    "\tcase when attacker_outcome = 1 then a.house else d.house end as winner\n",
    "\tfrom battle as b\n",
    "\tjoin king as a\n",
    "\ton b.attacker_king = a.k_no\n",
    "\tjoin king as d\n",
    "\ton b.defender_king = d.k_no\n",
    "),\n",
    "cte2 as\n",
    "(\n",
    "\tselect region, winner, count(winner) as totalwins,\n",
    "\trank() over(partition by region order by count(winner) desc) as rn\n",
    "\tfrom mycte\n",
    "\tgroup by region, winner\t\t\n",
    ")\n",
    "\n",
    "select region, winner as house, totalwins as no_of_wins\n",
    "from cte2\n",
    "where rn = 1"
   ]
  }
 ],
 "metadata": {
  "application/vnd.databricks.v1+notebook": {
   "dashboards": [],
   "environmentMetadata": null,
   "language": "python",
   "notebookMetadata": {
    "mostRecentlyExecutedCommandWithImplicitDF": {
     "commandId": 4381162375727346,
     "dataframes": [
      "_sqldf"
     ]
    },
    "pythonIndentUnit": 4
   },
   "notebookName": "Fractal Analytics SQL Interview Question (Game of Thrones Database)",
   "widgets": {}
  }
 },
 "nbformat": 4,
 "nbformat_minor": 0
}
