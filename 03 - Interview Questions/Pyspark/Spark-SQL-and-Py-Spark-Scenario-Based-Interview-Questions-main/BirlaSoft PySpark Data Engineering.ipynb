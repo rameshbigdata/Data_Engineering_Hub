{
 "cells": [
  {
   "cell_type": "markdown",
   "metadata": {
    "application/vnd.databricks.v1+cell": {
     "cellMetadata": {},
     "inputWidgets": {},
     "nuid": "de4107ed-5833-4b2c-a4ff-0a3c7d183629",
     "showTitle": false,
     "title": ""
    }
   },
   "source": [
    "###Problem Statement: \n",
    "Department-Wise Minimum and Maximum Salary Calculation Using Spark SQL\n",
    "dataframe containing employee information with the following columns:\n",
    "\n",
    "Dept (Department name)\n",
    "\n",
    "Employee (Employee name)\n",
    "\n",
    "Salary (Employee's salary)\n",
    "\n",
    "The dataset contains records for multiple employees across different departments. The objective is to calculate the minimum and maximum salaries for each department using Spark SQL. Additionally, you need to sort the result by the maximum salary in descending order."
   ]
  },
  {
   "cell_type": "code",
   "execution_count": 0,
   "metadata": {
    "application/vnd.databricks.v1+cell": {
     "cellMetadata": {
      "byteLimit": 2048000,
      "rowLimit": 10000
     },
     "inputWidgets": {},
     "nuid": "c5977ac3-150e-43cd-914f-188013afa153",
     "showTitle": false,
     "title": ""
    }
   },
   "outputs": [],
   "source": [
    "# Data as a list of tuples\n",
    "data =\"\"\"Dept, Employee,Salary\n",
    "    HR, Alice, 50000,\n",
    "    HR, Bob, 55000\n",
    "    HR, Charlie, 52000\n",
    "    Finance, David, 75000\n",
    "    Finance, Eve, 70000\n",
    "    Finance, Frank, 78000\n",
    "    IT, Grace, 60000\n",
    "    IT, Hank, 62000\n",
    "    IT, Ivy, 61000\n",
    "    \"\"\"\n"
   ]
  },
  {
   "cell_type": "code",
   "execution_count": 0,
   "metadata": {
    "application/vnd.databricks.v1+cell": {
     "cellMetadata": {
      "byteLimit": 2048000,
      "rowLimit": 10000
     },
     "inputWidgets": {},
     "nuid": "beaa462b-b16e-4723-8c38-bff6774e024b",
     "showTitle": false,
     "title": ""
    }
   },
   "outputs": [
    {
     "output_type": "stream",
     "name": "stdout",
     "output_type": "stream",
     "text": [
      "Wrote 226 bytes.\nOut[23]: True"
     ]
    }
   ],
   "source": [
    "dbutils.fs.put('/Filestore/tables/data.csv',data,True)"
   ]
  },
  {
   "cell_type": "code",
   "execution_count": 0,
   "metadata": {
    "application/vnd.databricks.v1+cell": {
     "cellMetadata": {
      "byteLimit": 2048000,
      "rowLimit": 10000
     },
     "inputWidgets": {},
     "nuid": "b67fb5a5-84f9-42a4-a8d0-4ece9b468485",
     "showTitle": false,
     "title": ""
    }
   },
   "outputs": [],
   "source": [
    "# Create a DataFrame\n",
    "df = spark.read.format('csv').option('header',True).option('inferschema',True).load('/Filestore/tables/data.csv')"
   ]
  },
  {
   "cell_type": "code",
   "execution_count": 0,
   "metadata": {
    "application/vnd.databricks.v1+cell": {
     "cellMetadata": {
      "byteLimit": 2048000,
      "rowLimit": 10000
     },
     "inputWidgets": {},
     "nuid": "da8c9fcf-27b7-490d-a46b-694a1f61a9f7",
     "showTitle": false,
     "title": ""
    }
   },
   "outputs": [
    {
     "output_type": "display_data",
     "data": {
      "text/html": [
       "<style scoped>\n",
       "  .table-result-container {\n",
       "    max-height: 300px;\n",
       "    overflow: auto;\n",
       "  }\n",
       "  table, th, td {\n",
       "    border: 1px solid black;\n",
       "    border-collapse: collapse;\n",
       "  }\n",
       "  th, td {\n",
       "    padding: 5px;\n",
       "  }\n",
       "  th {\n",
       "    text-align: left;\n",
       "  }\n",
       "</style><div class='table-result-container'><table class='table-result'><thead style='background-color: white'><tr><th>Dept</th><th> Employee</th><th>Salary</th></tr></thead><tbody><tr><td>    HR</td><td> Alice</td><td>50000.0</td></tr><tr><td>    HR</td><td> Bob</td><td>55000.0</td></tr><tr><td>    HR</td><td> Charlie</td><td>52000.0</td></tr><tr><td>    Finance</td><td> David</td><td>75000.0</td></tr><tr><td>    Finance</td><td> Eve</td><td>70000.0</td></tr><tr><td>    Finance</td><td> Frank</td><td>78000.0</td></tr><tr><td>    IT</td><td> Grace</td><td>60000.0</td></tr><tr><td>    IT</td><td> Hank</td><td>62000.0</td></tr><tr><td>    IT</td><td> Ivy</td><td>61000.0</td></tr></tbody></table></div>"
      ]
     },
     "metadata": {
      "application/vnd.databricks.v1+output": {
       "addedWidgets": {},
       "aggData": [],
       "aggError": "",
       "aggOverflow": false,
       "aggSchema": [],
       "aggSeriesLimitReached": false,
       "aggType": "",
       "arguments": {},
       "columnCustomDisplayInfos": {},
       "data": [
        [
         "    HR",
         " Alice",
         50000.0
        ],
        [
         "    HR",
         " Bob",
         55000.0
        ],
        [
         "    HR",
         " Charlie",
         52000.0
        ],
        [
         "    Finance",
         " David",
         75000.0
        ],
        [
         "    Finance",
         " Eve",
         70000.0
        ],
        [
         "    Finance",
         " Frank",
         78000.0
        ],
        [
         "    IT",
         " Grace",
         60000.0
        ],
        [
         "    IT",
         " Hank",
         62000.0
        ],
        [
         "    IT",
         " Ivy",
         61000.0
        ]
       ],
       "datasetInfos": [],
       "dbfsResultPath": null,
       "isJsonSchema": true,
       "metadata": {},
       "overflow": false,
       "plotOptions": {
        "customPlotOptions": {},
        "displayType": "table",
        "pivotAggregation": null,
        "pivotColumns": null,
        "xColumns": null,
        "yColumns": null
       },
       "removedWidgets": [],
       "schema": [
        {
         "metadata": "{}",
         "name": "Dept",
         "type": "\"string\""
        },
        {
         "metadata": "{}",
         "name": " Employee",
         "type": "\"string\""
        },
        {
         "metadata": "{}",
         "name": "Salary",
         "type": "\"double\""
        }
       ],
       "type": "table"
      }
     },
     "output_type": "display_data"
    }
   ],
   "source": [
    "df.display()"
   ]
  },
  {
   "cell_type": "code",
   "execution_count": 0,
   "metadata": {
    "application/vnd.databricks.v1+cell": {
     "cellMetadata": {
      "byteLimit": 2048000,
      "rowLimit": 10000
     },
     "inputWidgets": {},
     "nuid": "038cbf63-c289-481d-ad4c-4d91cd038e54",
     "showTitle": false,
     "title": ""
    }
   },
   "outputs": [
    {
     "output_type": "stream",
     "name": "stdout",
     "output_type": "stream",
     "text": [
      "root\n |-- Dept: string (nullable = true)\n |--  Employee: string (nullable = true)\n |-- Salary: double (nullable = true)\n\n"
     ]
    }
   ],
   "source": [
    "df.printSchema()"
   ]
  },
  {
   "cell_type": "code",
   "execution_count": 0,
   "metadata": {
    "application/vnd.databricks.v1+cell": {
     "cellMetadata": {
      "byteLimit": 2048000,
      "rowLimit": 10000
     },
     "inputWidgets": {},
     "nuid": "d7c5d528-73d8-4f27-8c2b-8412248465b8",
     "showTitle": false,
     "title": ""
    }
   },
   "outputs": [
    {
     "output_type": "display_data",
     "data": {
      "text/html": [
       "<style scoped>\n",
       "  .table-result-container {\n",
       "    max-height: 300px;\n",
       "    overflow: auto;\n",
       "  }\n",
       "  table, th, td {\n",
       "    border: 1px solid black;\n",
       "    border-collapse: collapse;\n",
       "  }\n",
       "  th, td {\n",
       "    padding: 5px;\n",
       "  }\n",
       "  th {\n",
       "    text-align: left;\n",
       "  }\n",
       "</style><div class='table-result-container'><table class='table-result'><thead style='background-color: white'><tr><th>Dept</th><th>Min_Salary</th><th>Max_Salary</th></tr></thead><tbody><tr><td>    HR</td><td>50000.0</td><td>55000.0</td></tr><tr><td>    Finance</td><td>70000.0</td><td>78000.0</td></tr><tr><td>    IT</td><td>60000.0</td><td>62000.0</td></tr></tbody></table></div>"
      ]
     },
     "metadata": {
      "application/vnd.databricks.v1+output": {
       "addedWidgets": {},
       "aggData": [],
       "aggError": "",
       "aggOverflow": false,
       "aggSchema": [],
       "aggSeriesLimitReached": false,
       "aggType": "",
       "arguments": {},
       "columnCustomDisplayInfos": {},
       "data": [
        [
         "    HR",
         50000.0,
         55000.0
        ],
        [
         "    Finance",
         70000.0,
         78000.0
        ],
        [
         "    IT",
         60000.0,
         62000.0
        ]
       ],
       "datasetInfos": [],
       "dbfsResultPath": null,
       "isJsonSchema": true,
       "metadata": {},
       "overflow": false,
       "plotOptions": {
        "customPlotOptions": {},
        "displayType": "table",
        "pivotAggregation": null,
        "pivotColumns": null,
        "xColumns": null,
        "yColumns": null
       },
       "removedWidgets": [],
       "schema": [
        {
         "metadata": "{}",
         "name": "Dept",
         "type": "\"string\""
        },
        {
         "metadata": "{}",
         "name": "Min_Salary",
         "type": "\"double\""
        },
        {
         "metadata": "{}",
         "name": "Max_Salary",
         "type": "\"double\""
        }
       ],
       "type": "table"
      }
     },
     "output_type": "display_data"
    }
   ],
   "source": [
    "from pyspark.sql.functions import max, min\n",
    "\n",
    "# Calculate department-wise minimum and maximum salary and order by Max_Salary\n",
    "df_min_max_salary = df.groupBy(df['Dept']).agg(min(df['Salary']).alias(\"Min_Salary\"),max(df['Salary']).alias(\"Max_Salary\"))\n",
    "\n",
    "df_min_max_salary.display()\n"
   ]
  },
  {
   "cell_type": "markdown",
   "metadata": {
    "application/vnd.databricks.v1+cell": {
     "cellMetadata": {},
     "inputWidgets": {},
     "nuid": "a5fcb713-eb52-4308-a607-728540aadbc8",
     "showTitle": false,
     "title": ""
    }
   },
   "source": [
    "#Saprk SQL"
   ]
  },
  {
   "cell_type": "code",
   "execution_count": 0,
   "metadata": {
    "application/vnd.databricks.v1+cell": {
     "cellMetadata": {
      "byteLimit": 2048000,
      "rowLimit": 10000
     },
     "inputWidgets": {},
     "nuid": "2f668c56-1eac-40dc-b37f-d79cb703bcaf",
     "showTitle": false,
     "title": ""
    }
   },
   "outputs": [],
   "source": [
    "df.createOrReplaceTempView(\"MinMaxSalaryView\")"
   ]
  },
  {
   "cell_type": "code",
   "execution_count": 0,
   "metadata": {
    "application/vnd.databricks.v1+cell": {
     "cellMetadata": {
      "byteLimit": 2048000,
      "rowLimit": 10000
     },
     "inputWidgets": {},
     "nuid": "f4c4eb55-5cde-4b01-89f2-74d01e4226bb",
     "showTitle": false,
     "title": ""
    }
   },
   "outputs": [
    {
     "output_type": "display_data",
     "data": {
      "text/html": [
       "<style scoped>\n",
       "  .table-result-container {\n",
       "    max-height: 300px;\n",
       "    overflow: auto;\n",
       "  }\n",
       "  table, th, td {\n",
       "    border: 1px solid black;\n",
       "    border-collapse: collapse;\n",
       "  }\n",
       "  th, td {\n",
       "    padding: 5px;\n",
       "  }\n",
       "  th {\n",
       "    text-align: left;\n",
       "  }\n",
       "</style><div class='table-result-container'><table class='table-result'><thead style='background-color: white'><tr><th>Dept</th><th>Min_Salary</th><th>Max_Salary</th></tr></thead><tbody><tr><td>    Finance</td><td>70000.0</td><td>78000.0</td></tr><tr><td>    IT</td><td>60000.0</td><td>62000.0</td></tr><tr><td>    HR</td><td>50000.0</td><td>55000.0</td></tr></tbody></table></div>"
      ]
     },
     "metadata": {
      "application/vnd.databricks.v1+output": {
       "addedWidgets": {},
       "aggData": [],
       "aggError": "",
       "aggOverflow": false,
       "aggSchema": [],
       "aggSeriesLimitReached": false,
       "aggType": "",
       "arguments": {},
       "columnCustomDisplayInfos": {},
       "data": [
        [
         "    Finance",
         70000.0,
         78000.0
        ],
        [
         "    IT",
         60000.0,
         62000.0
        ],
        [
         "    HR",
         50000.0,
         55000.0
        ]
       ],
       "datasetInfos": [],
       "dbfsResultPath": null,
       "isJsonSchema": true,
       "metadata": {},
       "overflow": false,
       "plotOptions": {
        "customPlotOptions": {},
        "displayType": "table",
        "pivotAggregation": null,
        "pivotColumns": null,
        "xColumns": null,
        "yColumns": null
       },
       "removedWidgets": [],
       "schema": [
        {
         "metadata": "{}",
         "name": "Dept",
         "type": "\"string\""
        },
        {
         "metadata": "{}",
         "name": "Min_Salary",
         "type": "\"double\""
        },
        {
         "metadata": "{}",
         "name": "Max_Salary",
         "type": "\"double\""
        }
       ],
       "type": "table"
      }
     },
     "output_type": "display_data"
    }
   ],
   "source": [
    "result = spark.sql(\"\"\"\n",
    "    SELECT Dept, MIN(Salary) AS Min_Salary, MAX(Salary) AS Max_Salary\n",
    "    FROM MinMaxSalaryView\n",
    "    GROUP BY Dept\n",
    "    ORDER BY Max_Salary DESC\n",
    "\"\"\")\n",
    "result.display()"
   ]
  }
 ],
 "metadata": {
  "application/vnd.databricks.v1+notebook": {
   "dashboards": [],
   "environmentMetadata": null,
   "language": "python",
   "notebookMetadata": {
    "pythonIndentUnit": 4
   },
   "notebookName": "BirlaSoft PySpark Data Engineering",
   "widgets": {}
  }
 },
 "nbformat": 4,
 "nbformat_minor": 0
}
