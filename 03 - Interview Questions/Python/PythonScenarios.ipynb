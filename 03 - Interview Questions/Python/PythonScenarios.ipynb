{
  "nbformat": 4,
  "nbformat_minor": 0,
  "metadata": {
    "colab": {
      "provenance": [],
      "authorship_tag": "ABX9TyNWMwqr+TsH5bQ5boArLGxv",
      "include_colab_link": true
    },
    "kernelspec": {
      "name": "python3",
      "display_name": "Python 3"
    },
    "language_info": {
      "name": "python"
    }
  },
  "cells": [
    {
      "cell_type": "markdown",
      "metadata": {
        "id": "view-in-github",
        "colab_type": "text"
      },
      "source": [
        "<a href=\"https://colab.research.google.com/github/rameshbigdata/Data_Engineering_Hub/blob/main/PythonScenarios.ipynb\" target=\"_parent\"><img src=\"https://colab.research.google.com/assets/colab-badge.svg\" alt=\"Open In Colab\"/></a>"
      ]
    },
    {
      "cell_type": "code",
      "execution_count": null,
      "metadata": {
        "colab": {
          "base_uri": "https://localhost:8080/"
        },
        "id": "PSIZvV-LKTg1",
        "outputId": "6d7f61ea-83b6-4b74-da61-820ee9bb0ba7"
      },
      "outputs": [
        {
          "output_type": "stream",
          "name": "stdout",
          "text": [
            "* \n",
            "* * \n",
            "* * * \n",
            "* * * * \n",
            "* * * * * \n"
          ]
        }
      ],
      "source": [
        "#1.'*' in Right Angle Triangle Shape\n",
        "#Description: Print * in right Angle Triangle\n",
        "def right_angle_triangle():\n",
        "  for i in range(5):\n",
        "    for j in range(i+1):\n",
        "      print('*',end=' ')\n",
        "    print()\n",
        "\n",
        "right_angle_triangle()"
      ]
    },
    {
      "cell_type": "code",
      "source": [
        "#2.Armstrong number\n",
        "#Description: A number is called Armstrong number if sum of its digits raised to the power of the number of digits. For example:\n",
        "#153 =1^3+5^3+3^3 (Armstrong number)\n",
        "\n",
        "def is_armstrong(num):\n",
        "  org=num\n",
        "  if num > 0:\n",
        "    size=len(str(num))\n",
        "    armstrong=0\n",
        "    while(num>0):\n",
        "      print(num%10)\n",
        "      armstrong=armstrong+pow(num%10,size)\n",
        "      print(armstrong)\n",
        "      num=num//10\n",
        "      print(num)\n",
        "    print(\"armstrong is\",armstrong)\n",
        "    if org==armstrong:\n",
        "      print(\"given number is armstrong\")\n",
        "    else:\n",
        "      print(\"give number is not armstrong\")\n",
        "  else:\n",
        "    print(\"give number not greater than zero\")\n",
        "is_armstrong(153)"
      ],
      "metadata": {
        "colab": {
          "base_uri": "https://localhost:8080/"
        },
        "id": "F5XxVjDOveis",
        "outputId": "8dc69842-0108-48b7-ea97-c1cd3a14561a"
      },
      "execution_count": null,
      "outputs": [
        {
          "output_type": "stream",
          "name": "stdout",
          "text": [
            "3\n",
            "27\n",
            "15\n",
            "5\n",
            "152\n",
            "1\n",
            "1\n",
            "153\n",
            "0\n",
            "armstrong is 153\n",
            "given number is armstrong\n"
          ]
        }
      ]
    },
    {
      "cell_type": "code",
      "source": [
        "def is_armstrong(num):\n",
        "  num_str=str(num)\n",
        "  num_len=len(num_str)\n",
        "  return num == sum(int(char) ** num_len for char in num_str)\n",
        "print(is_armstrong(153))"
      ],
      "metadata": {
        "colab": {
          "base_uri": "https://localhost:8080/"
        },
        "id": "7pmLg5q7gACb",
        "outputId": "98eba718-7cb4-484f-8d7b-34f7c9063f21"
      },
      "execution_count": null,
      "outputs": [
        {
          "output_type": "stream",
          "name": "stdout",
          "text": [
            "True\n"
          ]
        }
      ]
    },
    {
      "cell_type": "code",
      "source": [
        "#3.find the armstrong numbers with in the range of values\n",
        "def armstrong_num(start,end):\n",
        "  armstrong_list=[]\n",
        "  for num in range(start,end+1):\n",
        "    if is_armstrong(num):\n",
        "      armstrong_list.append(num)\n",
        "  return armstrong_list\n",
        "\n",
        "print(armstrong_num(100,1000))"
      ],
      "metadata": {
        "colab": {
          "base_uri": "https://localhost:8080/"
        },
        "id": "DT5qg8QkhXTD",
        "outputId": "09472b7c-af98-4246-eadb-4566ee9792cd"
      },
      "execution_count": null,
      "outputs": [
        {
          "output_type": "stream",
          "name": "stdout",
          "text": [
            "[153, 370, 371, 407]\n"
          ]
        }
      ]
    },
    {
      "cell_type": "code",
      "source": [
        "#4.lst=[1,2,[1,2],[3,4],[5,6,7]]\n",
        "lst=[1,2,[1,2],[3,4],[5,6,7]]\n",
        "newList=[]\n",
        "for i in lst:\n",
        "  if isinstance(i,int):\n",
        "    newList.append(i)\n",
        "  else:\n",
        "    for j in i:\n",
        "      newList.append(j)\n",
        "print(newList)"
      ],
      "metadata": {
        "colab": {
          "base_uri": "https://localhost:8080/"
        },
        "id": "ogj8L8gBivy7",
        "outputId": "469d8fc8-3139-40a0-f4f1-cb454791223e"
      },
      "execution_count": null,
      "outputs": [
        {
          "output_type": "stream",
          "name": "stdout",
          "text": [
            "[1, 2, 1, 2, 3, 4, 5, 6, 7]\n"
          ]
        }
      ]
    },
    {
      "cell_type": "code",
      "source": [
        "#4.lst=[1,2,[1,2],[3,4],[5,6,7]]\n",
        "lst=[1,2,[1,2],[3,4],[5,6,7]]\n",
        "def flatten_lst(lst):\n",
        "  newList=[]\n",
        "  for i in lst:\n",
        "    if isinstance(i,int):\n",
        "      newList.append(i)\n",
        "  else:\n",
        "      newList.extend(flatten_lst(i))\n",
        "print(newList)"
      ],
      "metadata": {
        "id": "ncA85Y7fowIZ"
      },
      "execution_count": null,
      "outputs": []
    },
    {
      "cell_type": "code",
      "source": [
        "# Example usage:\n",
        "arr = [1, 2, 3, 4, 5]\n",
        "k = 2\n",
        "new_arr=arr[2:]+arr[:2]\n",
        "print(\"original array value is \",arr)\n",
        "print(\"new array is \",new_arr)"
      ],
      "metadata": {
        "colab": {
          "base_uri": "https://localhost:8080/"
        },
        "id": "KgNCXohtBAsj",
        "outputId": "21733542-bd6f-4128-8344-729691fc1be7"
      },
      "execution_count": null,
      "outputs": [
        {
          "output_type": "stream",
          "name": "stdout",
          "text": [
            "original array value is  [1, 2, 3, 4, 5]\n",
            "new array is  [3, 4, 5, 1, 2]\n"
          ]
        }
      ]
    },
    {
      "cell_type": "code",
      "source": [
        "# Example usage:\n",
        "arr = [1, 2, 3, 4, 5]\n",
        "k = 2\n",
        "new_arr=arr[-2:]+arr[:-2]\n",
        "print(\"original array value is \",arr)\n",
        "print(\"new array is \",new_arr)"
      ],
      "metadata": {
        "colab": {
          "base_uri": "https://localhost:8080/"
        },
        "id": "S1yCD38gBcSa",
        "outputId": "ed53f1b6-5c96-4766-bba8-881de4aaf8be"
      },
      "execution_count": null,
      "outputs": [
        {
          "output_type": "stream",
          "name": "stdout",
          "text": [
            "original array value is  [1, 2, 3, 4, 5]\n",
            "new array is  [4, 5, 1, 2, 3]\n"
          ]
        }
      ]
    },
    {
      "cell_type": "code",
      "source": [
        "def analyze_string(input_string):\n",
        "    # Remove spaces from the input string\n",
        "    modified_string = input_string.replace(\" \", \"\")\n",
        "\n",
        "    # Calculate the length of the modified string\n",
        "    length_of_string = len(modified_string)\n",
        "\n",
        "    # Create a dictionary to count occurrences of each character\n",
        "    char_count = {}\n",
        "    for char in modified_string:\n",
        "        if char in char_count:\n",
        "            char_count[char] += 1\n",
        "        else:\n",
        "            char_count[char] = 1\n",
        "\n",
        "    # Print the results\n",
        "    print(f\"Length of the string (excluding spaces): {length_of_string}\")\n",
        "    print(\"Character occurrences (excluding spaces):\")\n",
        "    for char, count in char_count.items():\n",
        "        print(f\"{char}: {count}\")\n",
        "\n",
        "# Example usage:\n",
        "input_string = input(\"Enter a string: \")\n",
        "analyze_string(input_string)"
      ],
      "metadata": {
        "colab": {
          "base_uri": "https://localhost:8080/"
        },
        "id": "AL7zgTSbCyfd",
        "outputId": "d2dc063e-b09a-4894-b55a-540b254bf33d"
      },
      "execution_count": null,
      "outputs": [
        {
          "output_type": "stream",
          "name": "stdout",
          "text": [
            "Enter a string: ramesh borukati\n",
            "Length of the string (excluding spaces): 14\n",
            "Character occurrences (excluding spaces):\n",
            "r: 2\n",
            "a: 2\n",
            "m: 1\n",
            "e: 1\n",
            "s: 1\n",
            "h: 1\n",
            "b: 1\n",
            "o: 1\n",
            "u: 1\n",
            "k: 1\n",
            "t: 1\n",
            "i: 1\n"
          ]
        }
      ]
    },
    {
      "cell_type": "code",
      "source": [
        "def delete_second_occurrence(l):\n",
        "  occurance={}\n",
        "  i=0\n",
        "  while i < len(l):\n",
        "    item=l[i]\n",
        "    if item in occurance:\n",
        "      occurance[item]+=1\n",
        "    else:\n",
        "      occurance[item]=1\n",
        "    if occurance[item]==2:\n",
        "      l.pop(i)\n",
        "    else:\n",
        "      i += 1\n",
        "  return l\n",
        "\n",
        "\n",
        "# Example usage:\n",
        "l = [3, 1, 6, 2, 7, 2, 5, 4, 9, 16, 14, 2]\n",
        "result = delete_second_occurrence(l)\n",
        "print(\"List after removing second occurrence:\", result)"
      ],
      "metadata": {
        "id": "IiFmR5mjDobR",
        "colab": {
          "base_uri": "https://localhost:8080/"
        },
        "outputId": "d385e781-2f49-47af-a915-47c238022cf9"
      },
      "execution_count": 5,
      "outputs": [
        {
          "output_type": "stream",
          "name": "stdout",
          "text": [
            "List after removing second occurrence: [3, 1, 6, 2, 7, 5, 4, 9, 16, 14, 2]\n"
          ]
        }
      ]
    },
    {
      "cell_type": "code",
      "source": [
        "def exchange_first_last_ele(lst):\n",
        "  lst[-1],lst[0]=lst[0],lst[-1]\n",
        "  return lst\n",
        "\n",
        "print(exchange_first_last_ele([1,2,3,4,5,6]))"
      ],
      "metadata": {
        "colab": {
          "base_uri": "https://localhost:8080/"
        },
        "id": "tpHck8NNs4x1",
        "outputId": "feb97e77-c312-4e2c-98f5-69f510deb6c8"
      },
      "execution_count": 8,
      "outputs": [
        {
          "output_type": "stream",
          "name": "stdout",
          "text": [
            "[6, 2, 3, 4, 5, 1]\n"
          ]
        }
      ]
    },
    {
      "cell_type": "code",
      "source": [
        "def exchange_first_last_ele(lst):\n",
        "  if len(lst) > 1:\n",
        "    temp=lst[0]\n",
        "    lst[0]=lst[-1]\n",
        "    lst[-1]=temp\n",
        "  return lst\n",
        "\n",
        "print(exchange_first_last_ele([1,2,3,4,5,6]))"
      ],
      "metadata": {
        "colab": {
          "base_uri": "https://localhost:8080/"
        },
        "id": "NEtBeXF4tQ0E",
        "outputId": "65c58244-16c1-4d10-81ac-6b07bb86f072"
      },
      "execution_count": 9,
      "outputs": [
        {
          "output_type": "stream",
          "name": "stdout",
          "text": [
            "[6, 2, 3, 4, 5, 1]\n"
          ]
        }
      ]
    },
    {
      "cell_type": "code",
      "source": [
        "def exchange_first_last_ele(lst):\n",
        "  return [lst[-1]]+lst[1:-1]+[lst[0]]if len(lst) > 1 else lst\n",
        "\n",
        "print(exchange_first_last_ele([1,2,3,4,5,6]))"
      ],
      "metadata": {
        "colab": {
          "base_uri": "https://localhost:8080/"
        },
        "id": "PJn0-VZHtl9z",
        "outputId": "6df706a5-1251-4fa5-f3f7-e9387f2d645f"
      },
      "execution_count": 11,
      "outputs": [
        {
          "output_type": "stream",
          "name": "stdout",
          "text": [
            "[6, 2, 3, 4, 5, 1]\n"
          ]
        }
      ]
    },
    {
      "cell_type": "code",
      "source": [
        "def intersect(lst1,lst2):\n",
        "  intersect=[]\n",
        "  for i in lst1:\n",
        "    if i in lst2 and i not in intersect:\n",
        "      intersect.append(i)\n",
        "  return intersect\n",
        "print(intersect([1,2,3,4,5,6],[1,4,6,7,8,9]))"
      ],
      "metadata": {
        "colab": {
          "base_uri": "https://localhost:8080/"
        },
        "id": "FsajMcKfuMIk",
        "outputId": "5c876f0d-16e9-496e-9609-243feec6751c"
      },
      "execution_count": 13,
      "outputs": [
        {
          "output_type": "stream",
          "name": "stdout",
          "text": [
            "[1, 4, 6]\n"
          ]
        }
      ]
    },
    {
      "cell_type": "code",
      "source": [
        "def remove_duplicates(lst):\n",
        "  uniq_lst=[]\n",
        "  for i in lst:\n",
        "    if i not in uniq_lst:\n",
        "      uniq_lst.append(i)\n",
        "  return uniq_lst\n",
        "\n",
        "print(\"uniq_list\",remove_duplicates([1,2,2,3,4,4,5,4,5,6]))"
      ],
      "metadata": {
        "colab": {
          "base_uri": "https://localhost:8080/"
        },
        "id": "b7qkPO2TvooC",
        "outputId": "4a21cc1e-9105-4eb0-9498-28bc8441afd3"
      },
      "execution_count": 14,
      "outputs": [
        {
          "output_type": "stream",
          "name": "stdout",
          "text": [
            "uniq_list [1, 2, 3, 4, 5, 6]\n"
          ]
        }
      ]
    },
    {
      "cell_type": "code",
      "source": [
        "\n",
        "def is_palindrome(string):\n",
        "    # Convert the string to lowercase to make it case-insensitive\n",
        "    string = string.lower()\n",
        "\n",
        "    # Reverse the string and compare it with the original string\n",
        "    if string == string[::-1]:\n",
        "        return True\n",
        "    else:\n",
        "        return False\n",
        "# Example usage:\n",
        "input_string = \"Madam\"\n",
        "if is_palindrome(input_string):\n",
        "    print(f'\"{input_string}\" is a palindrome.')\n",
        "else:\n",
        "    print(f'\"{input_string}\" is not a palindrome.')"
      ],
      "metadata": {
        "colab": {
          "base_uri": "https://localhost:8080/"
        },
        "id": "uqqNoYcdwij4",
        "outputId": "374f9623-229a-4490-af0c-b39da973ea4a"
      },
      "execution_count": 20,
      "outputs": [
        {
          "output_type": "stream",
          "name": "stdout",
          "text": [
            "\"Madam\" is a palindrome.\n"
          ]
        }
      ]
    },
    {
      "cell_type": "code",
      "source": [
        "def is_palindrome(string):\n",
        "    # Convert the string to lowercase to make it case-insensitive\n",
        "    string = string.lower()\n",
        "\n",
        "    # Initialize two pointers: one at the start and one at the end of the string\n",
        "    left = 0\n",
        "    right = len(string) - 1\n",
        "\n",
        "    # Iterate while the left pointer is less than the right pointer\n",
        "    while left < right:\n",
        "        # Compare characters at the left and right pointers\n",
        "        if string[left] != string[right]:\n",
        "            return False  # If characters don't match, it's not a palindrome\n",
        "        # Move the pointers towards the center\n",
        "        left += 1\n",
        "        right -= 1\n",
        "\n",
        "    return True  # If the loop completes, the string is a palindrome\n",
        "\n",
        "# Example usage:\n",
        "input_string = \"Madam\"\n",
        "if is_palindrome(input_string):\n",
        "    print(f'\"{input_string}\" is a palindrome.')\n",
        "else:\n",
        "    print(f'\"{input_string}\" is not a palindrome.')"
      ],
      "metadata": {
        "colab": {
          "base_uri": "https://localhost:8080/"
        },
        "id": "wlj4O5X0x4co",
        "outputId": "7d627290-c159-4304-aeee-0183764be3ec"
      },
      "execution_count": 21,
      "outputs": [
        {
          "output_type": "stream",
          "name": "stdout",
          "text": [
            "\"Madam\" is a palindrome.\n"
          ]
        }
      ]
    },
    {
      "cell_type": "code",
      "source": [
        "def print_right_angle_triangle():\n",
        "    n = int(input(\"Enter the number of rows: \"))  # Take user input for number of rows\n",
        "    for i in range(1, n + 1):                     # Outer loop for the rows\n",
        "        for j in range(i):                        # Inner loop for the columns\n",
        "            print('* ', end='')                    # Print '*' without a newline\n",
        "        print()                                   # Move to the next line after each row\n",
        "\n",
        "# Example usage:\n",
        "print_right_angle_triangle()"
      ],
      "metadata": {
        "colab": {
          "base_uri": "https://localhost:8080/"
        },
        "id": "SAvL1ITR6YrQ",
        "outputId": "ee6ae990-16f3-4f44-ea76-201142c24375"
      },
      "execution_count": 22,
      "outputs": [
        {
          "output_type": "stream",
          "name": "stdout",
          "text": [
            "Enter the number of rows: 12\n",
            "* \n",
            "* * \n",
            "* * * \n",
            "* * * * \n",
            "* * * * * \n",
            "* * * * * * \n",
            "* * * * * * * \n",
            "* * * * * * * * \n",
            "* * * * * * * * * \n",
            "* * * * * * * * * * \n",
            "* * * * * * * * * * * \n",
            "* * * * * * * * * * * * \n"
          ]
        }
      ]
    },
    {
      "cell_type": "code",
      "source": [
        "def print_diamond(n):\n",
        "    # Top half of the diamond (including the middle row)\n",
        "    for i in range(1, n + 1):\n",
        "        # Print spaces\n",
        "        for j in range(n - i):\n",
        "            print(' ', end='')\n",
        "        # Print stars\n",
        "        for k in range(2 * i - 1):\n",
        "            print('*', end='')\n",
        "        # Move to the next line\n",
        "        print()\n",
        "\n",
        "    # Bottom half of the diamond\n",
        "    for i in range(n - 1, 0, -1):\n",
        "        # Print spaces\n",
        "        for j in range(n - i):\n",
        "            print(' ', end='')\n",
        "        # Print stars\n",
        "        for k in range(2 * i - 1):\n",
        "            print('*', end='')\n",
        "        # Move to the next line\n",
        "        print()\n",
        "\n",
        "# Get user input\n",
        "n = int(input(\"Enter the number of rows for the top half of the diamond: \"))\n",
        "\n",
        "# Call the function with the user's input\n",
        "print_diamond(n)"
      ],
      "metadata": {
        "colab": {
          "base_uri": "https://localhost:8080/"
        },
        "id": "8Yq13jOl7Q0V",
        "outputId": "3624f13c-f80c-4115-c55c-d32b64ce4ad3"
      },
      "execution_count": 23,
      "outputs": [
        {
          "output_type": "stream",
          "name": "stdout",
          "text": [
            "Enter the number of rows for the top half of the diamond: 4\n",
            "   *\n",
            "  ***\n",
            " *****\n",
            "*******\n",
            " *****\n",
            "  ***\n",
            "   *\n"
          ]
        }
      ]
    },
    {
      "cell_type": "code",
      "source": [
        "def print_reverse_pyramid(n):\n",
        "    # Loop for each row\n",
        "    for i in range(n, 0, -1):\n",
        "        # Print spaces for alignment\n",
        "        print(' ' * (n - i), end='')\n",
        "        # Print stars\n",
        "        print('* ' * i)\n",
        "\n",
        "# Get user input\n",
        "n = int(input(\"Enter the number of rows for the reverse pyramid: \"))\n",
        "\n",
        "# Call the function with the user's input\n",
        "print_reverse_pyramid(n)"
      ],
      "metadata": {
        "colab": {
          "base_uri": "https://localhost:8080/"
        },
        "id": "RwsErlGM7TQu",
        "outputId": "b539d18c-35a5-41d9-8275-a9caea4273cd"
      },
      "execution_count": 24,
      "outputs": [
        {
          "output_type": "stream",
          "name": "stdout",
          "text": [
            "Enter the number of rows for the reverse pyramid: 3\n",
            "* * * \n",
            " * * \n",
            "  * \n"
          ]
        }
      ]
    },
    {
      "cell_type": "code",
      "source": [
        "def print_right_angle_triangle(n):\n",
        "    for i in range(1, n + 1):        # Outer loop for the rows\n",
        "        for j in range(i):           # Inner loop for the columns\n",
        "            print('* ', end='')       # Print '*' without a newline\n",
        "        print()                      # Move to the next line after each row\n",
        "\n",
        "# Example usage:\n",
        "print_right_angle_triangle(5)"
      ],
      "metadata": {
        "colab": {
          "base_uri": "https://localhost:8080/"
        },
        "id": "Jjyw-0mp7pP3",
        "outputId": "62a64dfb-f5e3-48cd-e407-359c196385f7"
      },
      "execution_count": 25,
      "outputs": [
        {
          "output_type": "stream",
          "name": "stdout",
          "text": [
            "* \n",
            "* * \n",
            "* * * \n",
            "* * * * \n",
            "* * * * * \n"
          ]
        }
      ]
    },
    {
      "cell_type": "code",
      "source": [
        "def centered_pyramid(rows):\n",
        "    for i in range(1, rows + 1):\n",
        "        print(' ' * (rows - i) + '* ' * i)\n",
        "\n",
        "# Example usage:\n",
        "centered_pyramid(5)"
      ],
      "metadata": {
        "id": "XW_BC7Jc7vu9"
      },
      "execution_count": null,
      "outputs": []
    },
    {
      "cell_type": "code",
      "source": [
        "def centered_pyramid_recursive(rows, current=1):\n",
        "    if current > rows:\n",
        "        return\n",
        "    # Print leading spaces\n",
        "    print(' ' * (rows - current), end='')\n",
        "    # Print stars\n",
        "    print('* ' * current)\n",
        "    centered_pyramid_recursive(rows, current + 1)\n",
        "\n",
        "# Example usage\n",
        "rows = int(input(\"Enter the number of rows: \"))\n",
        "centered_pyramid_recursive(rows)"
      ],
      "metadata": {
        "id": "QZ5_rw9-7ze3"
      },
      "execution_count": null,
      "outputs": []
    },
    {
      "cell_type": "code",
      "source": [
        "def centered_pyramid_string(rows):\n",
        "    for i in range(1, rows + 1):\n",
        "        stars = '* ' * i\n",
        "        print(stars.rstrip().rjust(rows + i - 1))\n",
        "\n",
        "# Example usage\n",
        "rows = int(input(\"Enter the number of rows: \"))\n",
        "centered_pyramid_string(rows)\n"
      ],
      "metadata": {
        "id": "nfXYXsTQ70C1"
      },
      "execution_count": null,
      "outputs": []
    },
    {
      "cell_type": "code",
      "source": [
        "def febinocci(n):\n",
        "  if n <= 1:\n",
        "    return n\n",
        "  return febinocci(n-1)+febinocci(n-2)\n",
        "\n",
        "print([febinocci(i) for i in range(10)])\n"
      ],
      "metadata": {
        "colab": {
          "base_uri": "https://localhost:8080/"
        },
        "id": "Q_g8G6ie71q8",
        "outputId": "f5f518cf-675b-497a-c55e-e7350a01c4d7"
      },
      "execution_count": 32,
      "outputs": [
        {
          "output_type": "stream",
          "name": "stdout",
          "text": [
            "[0, 1, 1, 2, 3, 5, 8, 13, 21, 34]\n"
          ]
        }
      ]
    },
    {
      "cell_type": "code",
      "source": [
        "def Fibonacci(n):\n",
        "\n",
        "    # Check if input is 0 then it will\n",
        "    # print incorrect input\n",
        "    if n < 0:\n",
        "        print(\"Incorrect input\")\n",
        "\n",
        "    # Check if n is 0\n",
        "    # then it will return 0\n",
        "    elif n == 0:\n",
        "        return 0\n",
        "\n",
        "    # Check if n is 1,2\n",
        "    # it will return 1\n",
        "    elif n == 1 or n == 2:\n",
        "        return 1\n",
        "    else:\n",
        "        return Fibonacci(n-1) + Fibonacci(n-2)\n",
        "print([Fibonacci(i) for i in range(6)])"
      ],
      "metadata": {
        "colab": {
          "base_uri": "https://localhost:8080/"
        },
        "id": "8oKBc65QFv1U",
        "outputId": "5185230d-f85b-40af-8dd5-cc45fa238161"
      },
      "execution_count": 34,
      "outputs": [
        {
          "output_type": "stream",
          "name": "stdout",
          "text": [
            "[0, 1, 1, 2, 3, 5]\n"
          ]
        }
      ]
    },
    {
      "cell_type": "code",
      "source": [
        "def febinocci(n):\n",
        "    if n <= 1:\n",
        "        return n\n",
        "    return febinocci(n - 1) + febinocci(n - 2)\n",
        "\n",
        "# Example usage:\n",
        "print([febinocci(i) for i in range(10)])"
      ],
      "metadata": {
        "colab": {
          "base_uri": "https://localhost:8080/"
        },
        "id": "00fcKE4v9Xul",
        "outputId": "c0c2619c-7c56-4fc1-afb7-04df0c06470d"
      },
      "execution_count": 31,
      "outputs": [
        {
          "output_type": "stream",
          "name": "stdout",
          "text": [
            "[0, 1, 1, 2, 3, 5, 8, 13, 21, 34]\n"
          ]
        }
      ]
    },
    {
      "cell_type": "code",
      "source": [
        "\n",
        "arr = [1, 2, 3, 4, 5]\n",
        "total = sum(arr)\n",
        "print(f\"The sum of the array is: {total}\")"
      ],
      "metadata": {
        "id": "pimcuePNGgNd"
      },
      "execution_count": null,
      "outputs": []
    },
    {
      "cell_type": "code",
      "source": [
        "arr = [1, 2, 3, 4, 5]\n",
        "total = 0\n",
        "for num in arr:\n",
        "    total += num\n",
        "print(f\"The sum of the array is: {total}\")"
      ],
      "metadata": {
        "id": "7bLdQZnzGnvy"
      },
      "execution_count": null,
      "outputs": []
    },
    {
      "cell_type": "code",
      "source": [
        "from functools import reduce\n",
        "\n",
        "arr = [1, 2, 3, 4, 5]\n",
        "total = reduce(lambda x, y: x + y, arr)\n",
        "print(f\"The sum of the array is: {total}\")"
      ],
      "metadata": {
        "id": "1Ww2SBRCGsNx"
      },
      "execution_count": null,
      "outputs": []
    },
    {
      "cell_type": "code",
      "source": [
        "arr = [1, 2, 3, 4, 5]\n",
        "total = sum([num for num in arr])\n",
        "print(f\"The sum of the array is: {total}\")"
      ],
      "metadata": {
        "id": "WAtGivoLGxx0"
      },
      "execution_count": null,
      "outputs": []
    },
    {
      "cell_type": "code",
      "source": [
        "str=\"this is ramesh\"\n",
        "print(str.split(\" \"))"
      ],
      "metadata": {
        "colab": {
          "base_uri": "https://localhost:8080/"
        },
        "id": "Jqa0bqjnKmyQ",
        "outputId": "b54cfa20-841c-4072-caa4-5c313e4a752d"
      },
      "execution_count": 35,
      "outputs": [
        {
          "output_type": "stream",
          "name": "stdout",
          "text": [
            "['this', 'is', 'ramesh']\n"
          ]
        }
      ]
    },
    {
      "cell_type": "code",
      "source": [
        "def string_list(s, delim):\n",
        "    empty = []  # List to store split strings\n",
        "    a = \"\"  # Temporary string accumulator\n",
        "    for i in s:  # Loop through each character in the string\n",
        "        if i == delim:  # Check if the character matches the delimiter\n",
        "            empty.append(a)  # Append the accumulated string to the list\n",
        "            a = \"\"  # Reset the accumulator\n",
        "        else:\n",
        "            a += i  # Add character to the accumulator\n",
        "    empty.append(a)  # Append the last accumulated string\n",
        "    return empty  # Return the resulting list\n",
        "\n",
        "# Input string and delimiter\n",
        "str1 = 'john is a software engineer'\n",
        "delim = \" \"  # Delimiter is a space\n",
        "result = string_list(str1, delim)  # Call the function\n",
        "\n",
        "# Output the result\n",
        "print(result)"
      ],
      "metadata": {
        "colab": {
          "base_uri": "https://localhost:8080/"
        },
        "id": "ZBz1hnOcKxfd",
        "outputId": "0adca95e-110a-4754-cae1-596ff06c4df5"
      },
      "execution_count": 37,
      "outputs": [
        {
          "output_type": "stream",
          "name": "stdout",
          "text": [
            "['john', 'is', 'a', 'software', 'engineer']\n"
          ]
        }
      ]
    },
    {
      "cell_type": "code",
      "source": [
        "def group_by_value(my_dict):\n",
        "  grp_dict={}\n",
        "  for key,value in my_dict.items():\n",
        "    if value in grp_dict:\n",
        "      grp_dict[value].append(key)\n",
        "    else:\n",
        "      grp_dict[value]=[key]\n",
        "  return grp_dict\n",
        "\n",
        "# Example\n",
        "my_dict = {'a': 10, 'b': 20, 'c': 10, 'd': 30, 'e': 20}\n",
        "print(group_by_value(my_dict))\n",
        "# Output: {10: ['a', 'c'], 20: ['b', 'e'], 30: ['d']}\n"
      ],
      "metadata": {
        "colab": {
          "base_uri": "https://localhost:8080/"
        },
        "id": "4Ux_lNoMVjpt",
        "outputId": "7562d4ad-995f-4d68-9137-e66ac5d0cc09"
      },
      "execution_count": 38,
      "outputs": [
        {
          "output_type": "stream",
          "name": "stdout",
          "text": [
            "{10: ['a', 'c'], 20: ['b', 'e'], 30: ['d']}\n"
          ]
        }
      ]
    },
    {
      "cell_type": "code",
      "source": [
        "def group_by_value(dictionary):\n",
        "    result = {}\n",
        "    for key, value in dictionary.items():\n",
        "        result.setdefault(value, []).append(key)\n",
        "    return result\n",
        "\n",
        "# Example\n",
        "my_dict = {'a': 10, 'b': 20, 'c': 10, 'd': 30, 'e': 20}\n",
        "print(group_by_value(my_dict))\n",
        "# Output: {10: ['a', 'c'], 20: ['b', 'e'], 30: ['d']}"
      ],
      "metadata": {
        "colab": {
          "base_uri": "https://localhost:8080/"
        },
        "id": "nB6Gg8h-WwdL",
        "outputId": "0ab30e6d-94ea-4163-f903-91115112dd69"
      },
      "execution_count": 1,
      "outputs": [
        {
          "output_type": "stream",
          "name": "stdout",
          "text": [
            "{10: ['a', 'c'], 20: ['b', 'e'], 30: ['d']}\n"
          ]
        }
      ]
    },
    {
      "cell_type": "code",
      "source": [
        "my_dict = {'a': 10, 'b': 20, 'c': 30}\n",
        "def sum_dict_values(dictionary):\n",
        "  sum=0\n",
        "  for val in my_dict.values():\n",
        "    sum+=val\n",
        "  return sum\n",
        "print(sum_dict_values(my_dict))"
      ],
      "metadata": {
        "colab": {
          "base_uri": "https://localhost:8080/"
        },
        "id": "r07YT-bKt9a6",
        "outputId": "17fbf15a-8b9b-468d-e4cf-6f118c9b14db"
      },
      "execution_count": 8,
      "outputs": [
        {
          "output_type": "stream",
          "name": "stdout",
          "text": [
            "60\n"
          ]
        }
      ]
    },
    {
      "cell_type": "code",
      "source": [
        "my_dict = {'a': 10, 'b': 20, 'c': 30}\n",
        "\n",
        "print(my_dict.popitem())"
      ],
      "metadata": {
        "colab": {
          "base_uri": "https://localhost:8080/"
        },
        "id": "yS5CkGMzu2mz",
        "outputId": "ef1ebb0e-953a-446c-83c5-cbb8836c17b8"
      },
      "execution_count": 21,
      "outputs": [
        {
          "output_type": "stream",
          "name": "stdout",
          "text": [
            "('c', 30)\n"
          ]
        }
      ]
    },
    {
      "cell_type": "code",
      "source": [
        "\n",
        "arr = [3, 1, 4, 1, 5, 9, 2]\n",
        "largest = max(arr)\n",
        "print(f\"The largest value in the array is: {largest}\")"
      ],
      "metadata": {
        "colab": {
          "base_uri": "https://localhost:8080/"
        },
        "id": "fU1zfiJ3x12h",
        "outputId": "d578b142-6745-471d-ad49-7dfa925644db"
      },
      "execution_count": 27,
      "outputs": [
        {
          "output_type": "stream",
          "name": "stdout",
          "text": [
            "The largest value in the array is: 9\n"
          ]
        }
      ]
    },
    {
      "cell_type": "code",
      "source": [
        "arr = [3, 1, 4, 1, 5, 9, 2]\n",
        "largest = arr[0]\n",
        "for num in arr:\n",
        "    if num > largest:\n",
        "        largest = num\n",
        "print(f\"The largest value in the array is: {largest}\")"
      ],
      "metadata": {
        "colab": {
          "base_uri": "https://localhost:8080/"
        },
        "id": "wSCK-C-kyDsU",
        "outputId": "ccca0ab9-1ea1-425f-a149-60604c5f3ef7"
      },
      "execution_count": 28,
      "outputs": [
        {
          "output_type": "stream",
          "name": "stdout",
          "text": [
            "The largest value in the array is: 9\n"
          ]
        }
      ]
    },
    {
      "cell_type": "code",
      "source": [
        "from functools import reduce\n",
        "def largest(arr):\n",
        "  lar=reduce(lambda x,y: x if x>y else y,arr)\n",
        "  return lar\n",
        "\n",
        "arr = [3, 1, 4, 1, 5, 9, 2]\n",
        "print(largest(arr))"
      ],
      "metadata": {
        "colab": {
          "base_uri": "https://localhost:8080/"
        },
        "id": "a_6p2mtTyQN1",
        "outputId": "89d84cc2-2146-4fe8-878b-3a93365bbb89"
      },
      "execution_count": 30,
      "outputs": [
        {
          "output_type": "stream",
          "name": "stdout",
          "text": [
            "9\n"
          ]
        }
      ]
    },
    {
      "cell_type": "code",
      "source": [
        "from functools import reduce\n",
        "def largest(arr):\n",
        "  arr.sort()\n",
        "  return arr[-1]\n",
        "arr = [3, 1, 4, 1, 5, 9, 2]\n",
        "print(largest(arr))"
      ],
      "metadata": {
        "colab": {
          "base_uri": "https://localhost:8080/"
        },
        "id": "ZT9UTaaBzZW2",
        "outputId": "22cec710-8426-4351-98af-87017bf232b1"
      },
      "execution_count": 32,
      "outputs": [
        {
          "output_type": "stream",
          "name": "stdout",
          "text": [
            "9\n"
          ]
        }
      ]
    },
    {
      "cell_type": "code",
      "source": [
        "\n",
        "def remove_value(string, value):\n",
        "    return string.replace(value, \"\")\n",
        "\n",
        "# Example\n",
        "print(remove_value(\"Hello World\", \"World\"))  # Output: \"Hello \""
      ],
      "metadata": {
        "colab": {
          "base_uri": "https://localhost:8080/"
        },
        "id": "uSq5STSw0vve",
        "outputId": "7556364f-cf5c-4fb0-b613-46c8e7f16f29"
      },
      "execution_count": 33,
      "outputs": [
        {
          "output_type": "stream",
          "name": "stdout",
          "text": [
            "Hello \n"
          ]
        }
      ]
    },
    {
      "cell_type": "code",
      "source": [
        "\n",
        "import re\n",
        "\n",
        "def remove_value(string, value):\n",
        "    return re.sub(value, \"\", string, flags=re.IGNORECASE)\n",
        "\n",
        "# Example\n",
        "print(remove_value(\"Hello World\", \"world\"))  # Output: \"Hello \""
      ],
      "metadata": {
        "colab": {
          "base_uri": "https://localhost:8080/"
        },
        "id": "sYPNaXII0_7y",
        "outputId": "99919f65-28fa-42c4-923b-71cfe291de2c"
      },
      "execution_count": 34,
      "outputs": [
        {
          "output_type": "stream",
          "name": "stdout",
          "text": [
            "Hello \n"
          ]
        }
      ]
    },
    {
      "cell_type": "code",
      "source": [
        "def remove_value(string, value):\n",
        " return ''.join(word for word in string.split(\" \") if word.lower()!=value.lower())\n",
        " # Example\n",
        "print(remove_value(\"Hello World\", \"world\"))  # Output: \"Hello \""
      ],
      "metadata": {
        "colab": {
          "base_uri": "https://localhost:8080/"
        },
        "id": "4KDjJAIz1Qa8",
        "outputId": "b2d92e68-9ff7-466a-83bc-10e1dde5b340"
      },
      "execution_count": 43,
      "outputs": [
        {
          "output_type": "stream",
          "name": "stdout",
          "text": [
            "Hello\n"
          ]
        }
      ]
    },
    {
      "cell_type": "code",
      "source": [
        "def remove_multiple_values(string, values):\n",
        "    for value in values:\n",
        "        string = string.replace(value, \"\")\n",
        "    return string\n",
        "\n",
        "# Example\n",
        "print(remove_multiple_values(\"Hello World Python!\", [\"World\", \"Python\"]))  # Output: \"Hello !\""
      ],
      "metadata": {
        "colab": {
          "base_uri": "https://localhost:8080/"
        },
        "id": "3EhCALK536zP",
        "outputId": "c00d7445-8bc7-49ab-daed-55e58bca003a"
      },
      "execution_count": 44,
      "outputs": [
        {
          "output_type": "stream",
          "name": "stdout",
          "text": [
            "Hello  !\n"
          ]
        }
      ]
    },
    {
      "cell_type": "code",
      "source": [
        "def remove_by_index(string, index):\n",
        "    return string[:index] + string[index + 1:]\n",
        "\n",
        "# Example\n",
        "print(remove_by_index(\"Hello World\", 6))  # Output: \"Hello orld\""
      ],
      "metadata": {
        "colab": {
          "base_uri": "https://localhost:8080/"
        },
        "id": "AqlMjJMCVCwb",
        "outputId": "3726d631-2058-4d45-91c9-aaa897752891"
      },
      "execution_count": 45,
      "outputs": [
        {
          "output_type": "stream",
          "name": "stdout",
          "text": [
            "Hello orld\n"
          ]
        }
      ]
    },
    {
      "cell_type": "code",
      "source": [
        "# Remove only the first occurrence\n",
        "def remove_first_occurrence(string, value):\n",
        "    return string.replace(value, \"\", 1)\n",
        "\n",
        "# Remove only the last occurrence\n",
        "def remove_last_occurrence(string, value):\n",
        "    return string[::-1].replace(value[::-1], \"\", 1)[::-1]\n",
        "\n",
        "# Example\n",
        "print(remove_first_occurrence(\"Hello World World\", \"World\"))  # Output: \"Hello World\"\n",
        "print(remove_last_occurrence(\"Hello World World\", \"World\"))  # Output: \"Hello World\"\n"
      ],
      "metadata": {
        "id": "S2vUsPQAVNcS"
      },
      "execution_count": null,
      "outputs": []
    },
    {
      "cell_type": "code",
      "source": [
        "def find_missing_numbers(lst):\n",
        "    # Find the minimum and maximum values in the list\n",
        "    min_val = min(lst)\n",
        "    max_val = max(lst)\n",
        "\n",
        "    # Create a set of all numbers in the range from min_val to max_val\n",
        "    full_set = set(range(min_val, max_val + 1))\n",
        "    print(full_set)\n",
        "    # Create a set from the list\n",
        "    list_set = set(lst)\n",
        "    print(list_set)\n",
        "    # Find the missing numbers by subtracting list_set from full_set\n",
        "    missing_numbers = full_set - list_set\n",
        "    print(sorted(missing_numbers))\n",
        "    return sorted(missing_numbers)\n",
        "\n",
        "# Example usage:\n",
        "l = [3, 1, 6, 2, 7, 5, 4, 9, 16, 14]\n",
        "missing_numbers = find_missing_numbers(l)\n",
        "print(\"The missing numbers are:\", missing_numbers)"
      ],
      "metadata": {
        "colab": {
          "base_uri": "https://localhost:8080/"
        },
        "id": "4v7TnnELVicD",
        "outputId": "3194f4d4-9763-4fb6-d701-d76edb88c63a"
      },
      "execution_count": 49,
      "outputs": [
        {
          "output_type": "stream",
          "name": "stdout",
          "text": [
            "{1, 2, 3, 4, 5, 6, 7, 8, 9, 10, 11, 12, 13, 14, 15, 16}\n",
            "{1, 2, 3, 4, 5, 6, 7, 9, 14, 16}\n",
            "[8, 10, 11, 12, 13, 15]\n",
            "The missing numbers are: [8, 10, 11, 12, 13, 15]\n"
          ]
        }
      ]
    },
    {
      "cell_type": "code",
      "source": [
        "def move_zeros_to_end(input_list):\n",
        "    non_zero_list = []  # List to store non-zero elements\n",
        "    zero_count = 0      # Counter for zeros\n",
        "\n",
        "    # Iterate through the input list\n",
        "    for i in input_list:\n",
        "        if i != 0:\n",
        "            non_zero_list.append(i)  # Append non-zero elements\n",
        "        else:\n",
        "            zero_count += 1  # Count zeros\n",
        "\n",
        "    # Append the zeros at the end\n",
        "    for j in range(zero_count):\n",
        "        non_zero_list.append(0)\n",
        "\n",
        "    return non_zero_list\n",
        "\n",
        "# Example usage:\n",
        "input_list = [0, 5, 9, 0, 20, 12, 0]\n",
        "reordered_list = move_zeros_to_end(input_list)\n",
        "print(reordered_list)"
      ],
      "metadata": {
        "colab": {
          "base_uri": "https://localhost:8080/"
        },
        "id": "nB6aSE35W3h8",
        "outputId": "4c2eba05-2cf4-4545-c2a6-2e99c6e0cd95"
      },
      "execution_count": 50,
      "outputs": [
        {
          "output_type": "stream",
          "name": "stdout",
          "text": [
            "[5, 9, 20, 12, 0, 0, 0]\n"
          ]
        }
      ]
    },
    {
      "cell_type": "code",
      "source": [
        "def remove_duplicates(string):\n",
        "    # Step 1: Count occurrences of each character\n",
        "    freq = {}\n",
        "    for char in string:\n",
        "        if char in freq:\n",
        "            freq[char] += 1\n",
        "        else:\n",
        "            freq[char] = 1\n",
        "\n",
        "    # Step 2: Keep only characters that appear once\n",
        "    result = \"\"\n",
        "    for char in string:\n",
        "        if freq[char] == 1:\n",
        "            result += char\n",
        "\n",
        "    return result"
      ],
      "metadata": {
        "id": "0zkoDwpxYYav"
      },
      "execution_count": null,
      "outputs": []
    },
    {
      "cell_type": "code",
      "source": [
        "def reverse_words(sentence):\n",
        "    return ' '.join(sentence.split()[::-1])\n",
        "\n",
        "# Example\n",
        "print(reverse_words(\"Hello World\"))  # Output: \"World Hello\"\n",
        "\n",
        ""
      ],
      "metadata": {
        "id": "hRAmCcC_YoTR"
      },
      "execution_count": null,
      "outputs": []
    },
    {
      "cell_type": "code",
      "source": [
        "\n",
        "def sum_of_squares_iterative(n):\n",
        "    total = 0\n",
        "    for i in range(1, n + 1):\n",
        "        total += i**2\n",
        "    return total\n",
        "\n",
        "# Example usage:\n",
        "print(sum_of_squares_iterative(5))  # Output: 55"
      ],
      "metadata": {
        "id": "kNvgDCjQYt9a"
      },
      "execution_count": null,
      "outputs": []
    },
    {
      "cell_type": "code",
      "source": [
        "\n",
        "def swap_elements(arr, index1, index2):\n",
        "    arr[index1], arr[index2] = arr[index2], arr[index1]\n",
        "    return arr\n",
        "\n",
        "# Example usage:\n",
        "arr = [1, 2, 3, 4, 5]\n",
        "index1 = 1  # Second element\n",
        "index2 = 3  # Fourth element\n",
        "print(f\"Original array: {arr}\")\n",
        "print(f\"Array after swapping: {swap_elements(arr, index1, index2)}\")"
      ],
      "metadata": {
        "id": "PrAhPdxxY1jr"
      },
      "execution_count": null,
      "outputs": []
    },
    {
      "cell_type": "code",
      "source": [
        "def words_to_number(word):\n",
        "    word = word.lower()\n",
        "    num_dict = {\n",
        "        \"one\": 1, \"two\": 2, \"three\": 3, \"four\": 4, \"five\": 5,\n",
        "        \"six\": 6, \"seven\": 7, \"eight\": 8, \"nine\": 9, \"ten\": 10,\n",
        "        \"hundred\": 100, \"thousand\": 1_000, \"million\": 1_000_000\n",
        "    }\n",
        "\n",
        "    parts = word.split()\n",
        "    number = 0\n",
        "    temp = 0\n",
        "\n",
        "    for part in parts:\n",
        "        if part in num_dict:\n",
        "            if part == \"hundred\":\n",
        "                temp *= num_dict[part]\n",
        "            elif part == \"thousand\" or part == \"million\":\n",
        "                temp *= num_dict[part]\n",
        "                number += temp\n",
        "                temp = 0\n",
        "            else:\n",
        "                temp += num_dict[part]\n",
        "\n",
        "    return number + temp\n",
        "\n",
        "input_text = \"five hundred million\"\n",
        "output_number = words_to_number(input_text)\n",
        "\n",
        "# Format the number with commas\n",
        "formatted_output = f\"{output_number:,}\"\n",
        "\n",
        "print(formatted_output)\n",
        ""
      ],
      "metadata": {
        "id": "3NkeJ4anY2BV"
      },
      "execution_count": null,
      "outputs": []
    },
    {
      "cell_type": "code",
      "source": [
        "help('modules')"
      ],
      "metadata": {
        "colab": {
          "base_uri": "https://localhost:8080/",
          "height": 1000
        },
        "id": "eAVathePp-zy",
        "outputId": "cc043b6c-9157-492b-c66f-175dbb740d22"
      },
      "execution_count": 3,
      "outputs": [
        {
          "output_type": "stream",
          "name": "stderr",
          "text": [
            "ERROR:root:Internal Python error in the inspect module.\n",
            "Below is the traceback from this internal error.\n",
            "\n"
          ]
        },
        {
          "output_type": "stream",
          "name": "stdout",
          "text": [
            "\n",
            "Please wait a moment while I gather a list of all available modules...\n",
            "\n",
            "\u001b[31mUnable to import `black` from betterproto plugin! Please ensure that you've installed betterproto as `pip install \"betterproto[compiler]\"` so that compiler dependencies are included.\u001b[0m\n",
            "Traceback (most recent call last):\n",
            "  File \"/usr/local/lib/python3.11/dist-packages/betterproto/plugin/compiler.py\", line 6, in <module>\n",
            "    import black\n",
            "ModuleNotFoundError: No module named 'black'\n",
            "\n",
            "During handling of the above exception, another exception occurred:\n",
            "\n",
            "Traceback (most recent call last):\n",
            "  File \"/usr/local/lib/python3.11/dist-packages/IPython/core/interactiveshell.py\", line 3553, in run_code\n",
            "    exec(code_obj, self.user_global_ns, self.user_ns)\n",
            "  File \"<ipython-input-3-d709e63e2cb7>\", line 1, in <cell line: 0>\n",
            "    help('modules')\n",
            "  File \"<frozen _sitebuiltins>\", line 103, in __call__\n",
            "  File \"/usr/lib/python3.11/pydoc.py\", line 2101, in __call__\n",
            "    self.help(request)\n",
            "  File \"/usr/lib/python3.11/pydoc.py\", line 2150, in help\n",
            "    elif request == 'modules': self.listmodules()\n",
            "                               ^^^^^^^^^^^^^^^^^^\n",
            "  File \"/usr/lib/python3.11/pydoc.py\", line 2304, in listmodules\n",
            "    ModuleScanner().run(callback, onerror=onerror)\n",
            "  File \"/usr/lib/python3.11/pydoc.py\", line 2333, in run\n",
            "    for importer, modname, ispkg in pkgutil.walk_packages(onerror=onerror):\n",
            "  File \"/usr/lib/python3.11/pkgutil.py\", line 107, in walk_packages\n",
            "    yield from walk_packages(path, info.name+'.', onerror)\n",
            "  File \"/usr/lib/python3.11/pkgutil.py\", line 92, in walk_packages\n",
            "    __import__(info.name)\n",
            "  File \"/usr/local/lib/python3.11/dist-packages/betterproto/plugin/__init__.py\", line 1, in <module>\n",
            "    from .main import main\n",
            "  File \"/usr/local/lib/python3.11/dist-packages/betterproto/plugin/main.py\", line 11, in <module>\n",
            "    from betterproto.plugin.parser import generate_code\n",
            "  File \"/usr/local/lib/python3.11/dist-packages/betterproto/plugin/parser.py\", line 25, in <module>\n",
            "    from .compiler import outputfile_compiler\n",
            "  File \"/usr/local/lib/python3.11/dist-packages/betterproto/plugin/compiler.py\", line 18, in <module>\n",
            "    raise SystemExit(1)\n",
            "SystemExit: 1\n",
            "\n",
            "During handling of the above exception, another exception occurred:\n",
            "\n",
            "Traceback (most recent call last):\n",
            "  File \"/usr/local/lib/python3.11/dist-packages/IPython/core/ultratb.py\", line 1101, in get_records\n",
            "    return _fixed_getinnerframes(etb, number_of_lines_of_context, tb_offset)\n",
            "           ^^^^^^^^^^^^^^^^^^^^^^^^^^^^^^^^^^^^^^^^^^^^^^^^^^^^^^^^^^^^^^^^^\n",
            "  File \"/usr/local/lib/python3.11/dist-packages/IPython/core/ultratb.py\", line 248, in wrapped\n",
            "    return f(*args, **kwargs)\n",
            "           ^^^^^^^^^^^^^^^^^^\n",
            "  File \"/usr/local/lib/python3.11/dist-packages/IPython/core/ultratb.py\", line 281, in _fixed_getinnerframes\n",
            "    records = fix_frame_records_filenames(inspect.getinnerframes(etb, context))\n",
            "                                          ^^^^^^^^^^^^^^^^^^^^^^^^^^^^^^^^^^^^\n",
            "  File \"/usr/lib/python3.11/inspect.py\", line 1739, in getinnerframes\n",
            "    traceback_info = getframeinfo(tb, context)\n",
            "                     ^^^^^^^^^^^^^^^^^^^^^^^^^\n",
            "  File \"/usr/lib/python3.11/inspect.py\", line 1671, in getframeinfo\n",
            "    lineno = frame.f_lineno\n",
            "             ^^^^^^^^^^^^^^\n",
            "AttributeError: 'tuple' object has no attribute 'f_lineno'\n"
          ]
        },
        {
          "output_type": "error",
          "ename": "TypeError",
          "evalue": "object of type 'NoneType' has no len()",
          "traceback": [
            "\u001b[0;31m---------------------------------------------------------------------------\u001b[0m",
            "\u001b[0;31mModuleNotFoundError\u001b[0m                       Traceback (most recent call last)",
            "\u001b[0;32m/usr/local/lib/python3.11/dist-packages/betterproto/plugin/compiler.py\u001b[0m in \u001b[0;36m<module>\u001b[0;34m\u001b[0m\n\u001b[1;32m      5\u001b[0m     \u001b[0;31m# betterproto[compiler] specific dependencies\u001b[0m\u001b[0;34m\u001b[0m\u001b[0;34m\u001b[0m\u001b[0m\n\u001b[0;32m----> 6\u001b[0;31m     \u001b[0;32mimport\u001b[0m \u001b[0mblack\u001b[0m\u001b[0;34m\u001b[0m\u001b[0;34m\u001b[0m\u001b[0m\n\u001b[0m\u001b[1;32m      7\u001b[0m     \u001b[0;32mimport\u001b[0m \u001b[0misort\u001b[0m\u001b[0;34m.\u001b[0m\u001b[0mapi\u001b[0m\u001b[0;34m\u001b[0m\u001b[0;34m\u001b[0m\u001b[0m\n",
            "\u001b[0;31mModuleNotFoundError\u001b[0m: No module named 'black'",
            "\nDuring handling of the above exception, another exception occurred:\n",
            "\u001b[0;31mSystemExit\u001b[0m                                Traceback (most recent call last)",
            "    \u001b[0;31m[... skipping hidden 1 frame]\u001b[0m\n",
            "\u001b[0;32m<ipython-input-3-d709e63e2cb7>\u001b[0m in \u001b[0;36m<cell line: 0>\u001b[0;34m()\u001b[0m\n\u001b[0;32m----> 1\u001b[0;31m \u001b[0mhelp\u001b[0m\u001b[0;34m(\u001b[0m\u001b[0;34m'modules'\u001b[0m\u001b[0;34m)\u001b[0m\u001b[0;34m\u001b[0m\u001b[0;34m\u001b[0m\u001b[0m\n\u001b[0m",
            "\u001b[0;32m/usr/lib/python3.11/_sitebuiltins.py\u001b[0m in \u001b[0;36m__call__\u001b[0;34m(self, *args, **kwds)\u001b[0m\n",
            "\u001b[0;32m/usr/lib/python3.11/pydoc.py\u001b[0m in \u001b[0;36m__call__\u001b[0;34m(self, request)\u001b[0m\n\u001b[1;32m   2100\u001b[0m             \u001b[0;32mtry\u001b[0m\u001b[0;34m:\u001b[0m\u001b[0;34m\u001b[0m\u001b[0;34m\u001b[0m\u001b[0m\n\u001b[0;32m-> 2101\u001b[0;31m                 \u001b[0mself\u001b[0m\u001b[0;34m.\u001b[0m\u001b[0mhelp\u001b[0m\u001b[0;34m(\u001b[0m\u001b[0mrequest\u001b[0m\u001b[0;34m)\u001b[0m\u001b[0;34m\u001b[0m\u001b[0;34m\u001b[0m\u001b[0m\n\u001b[0m\u001b[1;32m   2102\u001b[0m             \u001b[0;32mexcept\u001b[0m \u001b[0mImportError\u001b[0m \u001b[0;32mas\u001b[0m \u001b[0me\u001b[0m\u001b[0;34m:\u001b[0m\u001b[0;34m\u001b[0m\u001b[0;34m\u001b[0m\u001b[0m\n",
            "\u001b[0;32m/usr/lib/python3.11/pydoc.py\u001b[0m in \u001b[0;36mhelp\u001b[0;34m(self, request, is_cli)\u001b[0m\n\u001b[1;32m   2149\u001b[0m             \u001b[0;32melif\u001b[0m \u001b[0mrequest\u001b[0m \u001b[0;34m==\u001b[0m \u001b[0;34m'topics'\u001b[0m\u001b[0;34m:\u001b[0m \u001b[0mself\u001b[0m\u001b[0;34m.\u001b[0m\u001b[0mlisttopics\u001b[0m\u001b[0;34m(\u001b[0m\u001b[0;34m)\u001b[0m\u001b[0;34m\u001b[0m\u001b[0;34m\u001b[0m\u001b[0m\n\u001b[0;32m-> 2150\u001b[0;31m             \u001b[0;32melif\u001b[0m \u001b[0mrequest\u001b[0m \u001b[0;34m==\u001b[0m \u001b[0;34m'modules'\u001b[0m\u001b[0;34m:\u001b[0m \u001b[0mself\u001b[0m\u001b[0;34m.\u001b[0m\u001b[0mlistmodules\u001b[0m\u001b[0;34m(\u001b[0m\u001b[0;34m)\u001b[0m\u001b[0;34m\u001b[0m\u001b[0;34m\u001b[0m\u001b[0m\n\u001b[0m\u001b[1;32m   2151\u001b[0m             \u001b[0;32melif\u001b[0m \u001b[0mrequest\u001b[0m\u001b[0;34m[\u001b[0m\u001b[0;34m:\u001b[0m\u001b[0;36m8\u001b[0m\u001b[0;34m]\u001b[0m \u001b[0;34m==\u001b[0m \u001b[0;34m'modules '\u001b[0m\u001b[0;34m:\u001b[0m\u001b[0;34m\u001b[0m\u001b[0;34m\u001b[0m\u001b[0m\n",
            "\u001b[0;32m/usr/lib/python3.11/pydoc.py\u001b[0m in \u001b[0;36mlistmodules\u001b[0;34m(self, key)\u001b[0m\n\u001b[1;32m   2303\u001b[0m                 \u001b[0mcallback\u001b[0m\u001b[0;34m(\u001b[0m\u001b[0;32mNone\u001b[0m\u001b[0;34m,\u001b[0m \u001b[0mmodname\u001b[0m\u001b[0;34m,\u001b[0m \u001b[0;32mNone\u001b[0m\u001b[0;34m)\u001b[0m\u001b[0;34m\u001b[0m\u001b[0;34m\u001b[0m\u001b[0m\n\u001b[0;32m-> 2304\u001b[0;31m             \u001b[0mModuleScanner\u001b[0m\u001b[0;34m(\u001b[0m\u001b[0;34m)\u001b[0m\u001b[0;34m.\u001b[0m\u001b[0mrun\u001b[0m\u001b[0;34m(\u001b[0m\u001b[0mcallback\u001b[0m\u001b[0;34m,\u001b[0m \u001b[0monerror\u001b[0m\u001b[0;34m=\u001b[0m\u001b[0monerror\u001b[0m\u001b[0;34m)\u001b[0m\u001b[0;34m\u001b[0m\u001b[0;34m\u001b[0m\u001b[0m\n\u001b[0m\u001b[1;32m   2305\u001b[0m             \u001b[0mself\u001b[0m\u001b[0;34m.\u001b[0m\u001b[0mlist\u001b[0m\u001b[0;34m(\u001b[0m\u001b[0mmodules\u001b[0m\u001b[0;34m.\u001b[0m\u001b[0mkeys\u001b[0m\u001b[0;34m(\u001b[0m\u001b[0;34m)\u001b[0m\u001b[0;34m)\u001b[0m\u001b[0;34m\u001b[0m\u001b[0;34m\u001b[0m\u001b[0m\n",
            "\u001b[0;32m/usr/lib/python3.11/pydoc.py\u001b[0m in \u001b[0;36mrun\u001b[0;34m(self, callback, key, completer, onerror)\u001b[0m\n\u001b[1;32m   2332\u001b[0m \u001b[0;34m\u001b[0m\u001b[0m\n\u001b[0;32m-> 2333\u001b[0;31m         \u001b[0;32mfor\u001b[0m \u001b[0mimporter\u001b[0m\u001b[0;34m,\u001b[0m \u001b[0mmodname\u001b[0m\u001b[0;34m,\u001b[0m \u001b[0mispkg\u001b[0m \u001b[0;32min\u001b[0m \u001b[0mpkgutil\u001b[0m\u001b[0;34m.\u001b[0m\u001b[0mwalk_packages\u001b[0m\u001b[0;34m(\u001b[0m\u001b[0monerror\u001b[0m\u001b[0;34m=\u001b[0m\u001b[0monerror\u001b[0m\u001b[0;34m)\u001b[0m\u001b[0;34m:\u001b[0m\u001b[0;34m\u001b[0m\u001b[0;34m\u001b[0m\u001b[0m\n\u001b[0m\u001b[1;32m   2334\u001b[0m             \u001b[0;32mif\u001b[0m \u001b[0mself\u001b[0m\u001b[0;34m.\u001b[0m\u001b[0mquit\u001b[0m\u001b[0;34m:\u001b[0m\u001b[0;34m\u001b[0m\u001b[0;34m\u001b[0m\u001b[0m\n",
            "\u001b[0;32m/usr/lib/python3.11/pkgutil.py\u001b[0m in \u001b[0;36mwalk_packages\u001b[0;34m(path, prefix, onerror)\u001b[0m\n\u001b[1;32m    106\u001b[0m \u001b[0;34m\u001b[0m\u001b[0m\n\u001b[0;32m--> 107\u001b[0;31m                 \u001b[0;32myield\u001b[0m \u001b[0;32mfrom\u001b[0m \u001b[0mwalk_packages\u001b[0m\u001b[0;34m(\u001b[0m\u001b[0mpath\u001b[0m\u001b[0;34m,\u001b[0m \u001b[0minfo\u001b[0m\u001b[0;34m.\u001b[0m\u001b[0mname\u001b[0m\u001b[0;34m+\u001b[0m\u001b[0;34m'.'\u001b[0m\u001b[0;34m,\u001b[0m \u001b[0monerror\u001b[0m\u001b[0;34m)\u001b[0m\u001b[0;34m\u001b[0m\u001b[0;34m\u001b[0m\u001b[0m\n\u001b[0m\u001b[1;32m    108\u001b[0m \u001b[0;34m\u001b[0m\u001b[0m\n",
            "\u001b[0;32m/usr/lib/python3.11/pkgutil.py\u001b[0m in \u001b[0;36mwalk_packages\u001b[0;34m(path, prefix, onerror)\u001b[0m\n\u001b[1;32m     91\u001b[0m             \u001b[0;32mtry\u001b[0m\u001b[0;34m:\u001b[0m\u001b[0;34m\u001b[0m\u001b[0;34m\u001b[0m\u001b[0m\n\u001b[0;32m---> 92\u001b[0;31m                 \u001b[0m__import__\u001b[0m\u001b[0;34m(\u001b[0m\u001b[0minfo\u001b[0m\u001b[0;34m.\u001b[0m\u001b[0mname\u001b[0m\u001b[0;34m)\u001b[0m\u001b[0;34m\u001b[0m\u001b[0;34m\u001b[0m\u001b[0m\n\u001b[0m\u001b[1;32m     93\u001b[0m             \u001b[0;32mexcept\u001b[0m \u001b[0mImportError\u001b[0m\u001b[0;34m:\u001b[0m\u001b[0;34m\u001b[0m\u001b[0;34m\u001b[0m\u001b[0m\n",
            "\u001b[0;32m/usr/local/lib/python3.11/dist-packages/betterproto/plugin/__init__.py\u001b[0m in \u001b[0;36m<module>\u001b[0;34m\u001b[0m\n\u001b[0;32m----> 1\u001b[0;31m \u001b[0;32mfrom\u001b[0m \u001b[0;34m.\u001b[0m\u001b[0mmain\u001b[0m \u001b[0;32mimport\u001b[0m \u001b[0mmain\u001b[0m\u001b[0;34m\u001b[0m\u001b[0;34m\u001b[0m\u001b[0m\n\u001b[0m",
            "\u001b[0;32m/usr/local/lib/python3.11/dist-packages/betterproto/plugin/main.py\u001b[0m in \u001b[0;36m<module>\u001b[0;34m\u001b[0m\n\u001b[1;32m     10\u001b[0m \u001b[0;32mfrom\u001b[0m \u001b[0mbetterproto\u001b[0m\u001b[0;34m.\u001b[0m\u001b[0mplugin\u001b[0m\u001b[0;34m.\u001b[0m\u001b[0mmodels\u001b[0m \u001b[0;32mimport\u001b[0m \u001b[0mmonkey_patch_oneof_index\u001b[0m\u001b[0;34m\u001b[0m\u001b[0;34m\u001b[0m\u001b[0m\n\u001b[0;32m---> 11\u001b[0;31m \u001b[0;32mfrom\u001b[0m \u001b[0mbetterproto\u001b[0m\u001b[0;34m.\u001b[0m\u001b[0mplugin\u001b[0m\u001b[0;34m.\u001b[0m\u001b[0mparser\u001b[0m \u001b[0;32mimport\u001b[0m \u001b[0mgenerate_code\u001b[0m\u001b[0;34m\u001b[0m\u001b[0;34m\u001b[0m\u001b[0m\n\u001b[0m\u001b[1;32m     12\u001b[0m \u001b[0;34m\u001b[0m\u001b[0m\n",
            "\u001b[0;32m/usr/local/lib/python3.11/dist-packages/betterproto/plugin/parser.py\u001b[0m in \u001b[0;36m<module>\u001b[0;34m\u001b[0m\n\u001b[1;32m     24\u001b[0m \u001b[0;34m\u001b[0m\u001b[0m\n\u001b[0;32m---> 25\u001b[0;31m \u001b[0;32mfrom\u001b[0m \u001b[0;34m.\u001b[0m\u001b[0mcompiler\u001b[0m \u001b[0;32mimport\u001b[0m \u001b[0moutputfile_compiler\u001b[0m\u001b[0;34m\u001b[0m\u001b[0;34m\u001b[0m\u001b[0m\n\u001b[0m\u001b[1;32m     26\u001b[0m from .models import (\n",
            "\u001b[0;32m/usr/local/lib/python3.11/dist-packages/betterproto/plugin/compiler.py\u001b[0m in \u001b[0;36m<module>\u001b[0;34m\u001b[0m\n\u001b[1;32m     17\u001b[0m     )\n\u001b[0;32m---> 18\u001b[0;31m     \u001b[0;32mraise\u001b[0m \u001b[0mSystemExit\u001b[0m\u001b[0;34m(\u001b[0m\u001b[0;36m1\u001b[0m\u001b[0;34m)\u001b[0m\u001b[0;34m\u001b[0m\u001b[0;34m\u001b[0m\u001b[0m\n\u001b[0m\u001b[1;32m     19\u001b[0m \u001b[0;34m\u001b[0m\u001b[0m\n",
            "\u001b[0;31mSystemExit\u001b[0m: 1",
            "\nDuring handling of the above exception, another exception occurred:\n",
            "\u001b[0;31mTypeError\u001b[0m                                 Traceback (most recent call last)",
            "    \u001b[0;31m[... skipping hidden 1 frame]\u001b[0m\n",
            "\u001b[0;32m/usr/local/lib/python3.11/dist-packages/IPython/core/interactiveshell.py\u001b[0m in \u001b[0;36mshowtraceback\u001b[0;34m(self, exc_tuple, filename, tb_offset, exception_only, running_compiled_code)\u001b[0m\n\u001b[1;32m   2090\u001b[0m                     stb = ['An exception has occurred, use %tb to see '\n\u001b[1;32m   2091\u001b[0m                            'the full traceback.\\n']\n\u001b[0;32m-> 2092\u001b[0;31m                     stb.extend(self.InteractiveTB.get_exception_only(etype,\n\u001b[0m\u001b[1;32m   2093\u001b[0m                                                                      value))\n\u001b[1;32m   2094\u001b[0m                 \u001b[0;32melse\u001b[0m\u001b[0;34m:\u001b[0m\u001b[0;34m\u001b[0m\u001b[0;34m\u001b[0m\u001b[0m\n",
            "\u001b[0;32m/usr/local/lib/python3.11/dist-packages/IPython/core/ultratb.py\u001b[0m in \u001b[0;36mget_exception_only\u001b[0;34m(self, etype, value)\u001b[0m\n\u001b[1;32m    752\u001b[0m         \u001b[0mvalue\u001b[0m \u001b[0;34m:\u001b[0m \u001b[0mexception\u001b[0m \u001b[0mvalue\u001b[0m\u001b[0;34m\u001b[0m\u001b[0;34m\u001b[0m\u001b[0m\n\u001b[1;32m    753\u001b[0m         \"\"\"\n\u001b[0;32m--> 754\u001b[0;31m         \u001b[0;32mreturn\u001b[0m \u001b[0mListTB\u001b[0m\u001b[0;34m.\u001b[0m\u001b[0mstructured_traceback\u001b[0m\u001b[0;34m(\u001b[0m\u001b[0mself\u001b[0m\u001b[0;34m,\u001b[0m \u001b[0metype\u001b[0m\u001b[0;34m,\u001b[0m \u001b[0mvalue\u001b[0m\u001b[0;34m)\u001b[0m\u001b[0;34m\u001b[0m\u001b[0;34m\u001b[0m\u001b[0m\n\u001b[0m\u001b[1;32m    755\u001b[0m \u001b[0;34m\u001b[0m\u001b[0m\n\u001b[1;32m    756\u001b[0m     \u001b[0;32mdef\u001b[0m \u001b[0mshow_exception_only\u001b[0m\u001b[0;34m(\u001b[0m\u001b[0mself\u001b[0m\u001b[0;34m,\u001b[0m \u001b[0metype\u001b[0m\u001b[0;34m,\u001b[0m \u001b[0mevalue\u001b[0m\u001b[0;34m)\u001b[0m\u001b[0;34m:\u001b[0m\u001b[0;34m\u001b[0m\u001b[0;34m\u001b[0m\u001b[0m\n",
            "\u001b[0;32m/usr/local/lib/python3.11/dist-packages/IPython/core/ultratb.py\u001b[0m in \u001b[0;36mstructured_traceback\u001b[0;34m(self, etype, evalue, etb, tb_offset, context)\u001b[0m\n\u001b[1;32m    627\u001b[0m             \u001b[0mchained_exceptions_tb_offset\u001b[0m \u001b[0;34m=\u001b[0m \u001b[0;36m0\u001b[0m\u001b[0;34m\u001b[0m\u001b[0;34m\u001b[0m\u001b[0m\n\u001b[1;32m    628\u001b[0m             out_list = (\n\u001b[0;32m--> 629\u001b[0;31m                 self.structured_traceback(\n\u001b[0m\u001b[1;32m    630\u001b[0m                     \u001b[0metype\u001b[0m\u001b[0;34m,\u001b[0m \u001b[0mevalue\u001b[0m\u001b[0;34m,\u001b[0m \u001b[0;34m(\u001b[0m\u001b[0metb\u001b[0m\u001b[0;34m,\u001b[0m \u001b[0mchained_exc_ids\u001b[0m\u001b[0;34m)\u001b[0m\u001b[0;34m,\u001b[0m\u001b[0;34m\u001b[0m\u001b[0;34m\u001b[0m\u001b[0m\n\u001b[1;32m    631\u001b[0m                     chained_exceptions_tb_offset, context)\n",
            "\u001b[0;32m/usr/local/lib/python3.11/dist-packages/IPython/core/ultratb.py\u001b[0m in \u001b[0;36mstructured_traceback\u001b[0;34m(self, etype, value, tb, tb_offset, number_of_lines_of_context)\u001b[0m\n\u001b[1;32m   1365\u001b[0m         \u001b[0;32melse\u001b[0m\u001b[0;34m:\u001b[0m\u001b[0;34m\u001b[0m\u001b[0;34m\u001b[0m\u001b[0m\n\u001b[1;32m   1366\u001b[0m             \u001b[0mself\u001b[0m\u001b[0;34m.\u001b[0m\u001b[0mtb\u001b[0m \u001b[0;34m=\u001b[0m \u001b[0mtb\u001b[0m\u001b[0;34m\u001b[0m\u001b[0;34m\u001b[0m\u001b[0m\n\u001b[0;32m-> 1367\u001b[0;31m         return FormattedTB.structured_traceback(\n\u001b[0m\u001b[1;32m   1368\u001b[0m             self, etype, value, tb, tb_offset, number_of_lines_of_context)\n\u001b[1;32m   1369\u001b[0m \u001b[0;34m\u001b[0m\u001b[0m\n",
            "\u001b[0;32m/usr/local/lib/python3.11/dist-packages/IPython/core/ultratb.py\u001b[0m in \u001b[0;36mstructured_traceback\u001b[0;34m(self, etype, value, tb, tb_offset, number_of_lines_of_context)\u001b[0m\n\u001b[1;32m   1265\u001b[0m         \u001b[0;32mif\u001b[0m \u001b[0mmode\u001b[0m \u001b[0;32min\u001b[0m \u001b[0mself\u001b[0m\u001b[0;34m.\u001b[0m\u001b[0mverbose_modes\u001b[0m\u001b[0;34m:\u001b[0m\u001b[0;34m\u001b[0m\u001b[0;34m\u001b[0m\u001b[0m\n\u001b[1;32m   1266\u001b[0m             \u001b[0;31m# Verbose modes need a full traceback\u001b[0m\u001b[0;34m\u001b[0m\u001b[0;34m\u001b[0m\u001b[0m\n\u001b[0;32m-> 1267\u001b[0;31m             return VerboseTB.structured_traceback(\n\u001b[0m\u001b[1;32m   1268\u001b[0m                 \u001b[0mself\u001b[0m\u001b[0;34m,\u001b[0m \u001b[0metype\u001b[0m\u001b[0;34m,\u001b[0m \u001b[0mvalue\u001b[0m\u001b[0;34m,\u001b[0m \u001b[0mtb\u001b[0m\u001b[0;34m,\u001b[0m \u001b[0mtb_offset\u001b[0m\u001b[0;34m,\u001b[0m \u001b[0mnumber_of_lines_of_context\u001b[0m\u001b[0;34m\u001b[0m\u001b[0;34m\u001b[0m\u001b[0m\n\u001b[1;32m   1269\u001b[0m             )\n",
            "\u001b[0;32m/usr/local/lib/python3.11/dist-packages/IPython/core/ultratb.py\u001b[0m in \u001b[0;36mstructured_traceback\u001b[0;34m(self, etype, evalue, etb, tb_offset, number_of_lines_of_context)\u001b[0m\n\u001b[1;32m   1122\u001b[0m         \u001b[0;34m\"\"\"Return a nice text document describing the traceback.\"\"\"\u001b[0m\u001b[0;34m\u001b[0m\u001b[0;34m\u001b[0m\u001b[0m\n\u001b[1;32m   1123\u001b[0m \u001b[0;34m\u001b[0m\u001b[0m\n\u001b[0;32m-> 1124\u001b[0;31m         formatted_exception = self.format_exception_as_a_whole(etype, evalue, etb, number_of_lines_of_context,\n\u001b[0m\u001b[1;32m   1125\u001b[0m                                                                tb_offset)\n\u001b[1;32m   1126\u001b[0m \u001b[0;34m\u001b[0m\u001b[0m\n",
            "\u001b[0;32m/usr/local/lib/python3.11/dist-packages/IPython/core/ultratb.py\u001b[0m in \u001b[0;36mformat_exception_as_a_whole\u001b[0;34m(self, etype, evalue, etb, number_of_lines_of_context, tb_offset)\u001b[0m\n\u001b[1;32m   1080\u001b[0m \u001b[0;34m\u001b[0m\u001b[0m\n\u001b[1;32m   1081\u001b[0m \u001b[0;34m\u001b[0m\u001b[0m\n\u001b[0;32m-> 1082\u001b[0;31m         \u001b[0mlast_unique\u001b[0m\u001b[0;34m,\u001b[0m \u001b[0mrecursion_repeat\u001b[0m \u001b[0;34m=\u001b[0m \u001b[0mfind_recursion\u001b[0m\u001b[0;34m(\u001b[0m\u001b[0morig_etype\u001b[0m\u001b[0;34m,\u001b[0m \u001b[0mevalue\u001b[0m\u001b[0;34m,\u001b[0m \u001b[0mrecords\u001b[0m\u001b[0;34m)\u001b[0m\u001b[0;34m\u001b[0m\u001b[0;34m\u001b[0m\u001b[0m\n\u001b[0m\u001b[1;32m   1083\u001b[0m \u001b[0;34m\u001b[0m\u001b[0m\n\u001b[1;32m   1084\u001b[0m         \u001b[0mframes\u001b[0m \u001b[0;34m=\u001b[0m \u001b[0mself\u001b[0m\u001b[0;34m.\u001b[0m\u001b[0mformat_records\u001b[0m\u001b[0;34m(\u001b[0m\u001b[0mrecords\u001b[0m\u001b[0;34m,\u001b[0m \u001b[0mlast_unique\u001b[0m\u001b[0;34m,\u001b[0m \u001b[0mrecursion_repeat\u001b[0m\u001b[0;34m)\u001b[0m\u001b[0;34m\u001b[0m\u001b[0;34m\u001b[0m\u001b[0m\n",
            "\u001b[0;32m/usr/local/lib/python3.11/dist-packages/IPython/core/ultratb.py\u001b[0m in \u001b[0;36mfind_recursion\u001b[0;34m(etype, value, records)\u001b[0m\n\u001b[1;32m    380\u001b[0m     \u001b[0;31m# first frame (from in to out) that looks different.\u001b[0m\u001b[0;34m\u001b[0m\u001b[0;34m\u001b[0m\u001b[0m\n\u001b[1;32m    381\u001b[0m     \u001b[0;32mif\u001b[0m \u001b[0;32mnot\u001b[0m \u001b[0mis_recursion_error\u001b[0m\u001b[0;34m(\u001b[0m\u001b[0metype\u001b[0m\u001b[0;34m,\u001b[0m \u001b[0mvalue\u001b[0m\u001b[0;34m,\u001b[0m \u001b[0mrecords\u001b[0m\u001b[0;34m)\u001b[0m\u001b[0;34m:\u001b[0m\u001b[0;34m\u001b[0m\u001b[0;34m\u001b[0m\u001b[0m\n\u001b[0;32m--> 382\u001b[0;31m         \u001b[0;32mreturn\u001b[0m \u001b[0mlen\u001b[0m\u001b[0;34m(\u001b[0m\u001b[0mrecords\u001b[0m\u001b[0;34m)\u001b[0m\u001b[0;34m,\u001b[0m \u001b[0;36m0\u001b[0m\u001b[0;34m\u001b[0m\u001b[0;34m\u001b[0m\u001b[0m\n\u001b[0m\u001b[1;32m    383\u001b[0m \u001b[0;34m\u001b[0m\u001b[0m\n\u001b[1;32m    384\u001b[0m     \u001b[0;31m# Select filename, lineno, func_name to track frames with\u001b[0m\u001b[0;34m\u001b[0m\u001b[0;34m\u001b[0m\u001b[0m\n",
            "\u001b[0;31mTypeError\u001b[0m: object of type 'NoneType' has no len()"
          ]
        }
      ]
    }
  ]
}